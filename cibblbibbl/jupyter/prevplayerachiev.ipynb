{
 "cells": [
  {
   "cell_type": "code",
   "execution_count": 1,
   "metadata": {},
   "outputs": [
    {
     "name": "stdout",
     "output_type": "stream",
     "text": [
      "on change JSONFile('/home/adam/FUMBBL/cibblbibbl-data/cibbl/achievement/pa_superstarplayer/00045174/12636777.json') True\n",
      "on change JSONFile('/home/adam/FUMBBL/cibblbibbl-data/cibbl/achievement/pa_superstarplayer/00046390/RAISED-7392_12122275_12691708.json') True\n",
      "on change JSONFile('/home/adam/FUMBBL/cibblbibbl-data/cibbl/achievement/pa_superstarplayer/00046390/12691708.json') True\n",
      "on change JSONFile('/home/adam/FUMBBL/cibblbibbl-data/cibbl/achievement/pa_superstarplayer/00045241/12702407.json') True\n"
     ]
    }
   ],
   "source": [
    "import collections\n",
    "import copy\n",
    "import datetime\n",
    "import itertools\n",
    "import json\n",
    "import pathlib\n",
    "import re\n",
    "from pprint import pprint\n",
    "\n",
    "import nest_asyncio\n",
    "nest_asyncio.apply()\n",
    "import texttable\n",
    "\n",
    "import pytourney\n",
    "import pyfumbbl\n",
    "import cibblbibbl"
   ]
  },
  {
   "cell_type": "code",
   "execution_count": 3,
   "metadata": {},
   "outputs": [],
   "source": [
    "G = cibblbibbl.CIBBL\n",
    "Achievement = cibblbibbl.achievement.Achievement\n",
    "Team = cibblbibbl.team.Team\n",
    "player = cibblbibbl.player.player\n",
    "Match = cibblbibbl.match.Match\n",
    "Matchup = cibblbibbl.matchup.Matchup\n",
    "Replay = cibblbibbl.replay.Replay"
   ]
  },
  {
   "cell_type": "code",
   "execution_count": 3,
   "metadata": {},
   "outputs": [],
   "source": [
    "agent = cibblbibbl.achievement.agent"
   ]
  },
  {
   "cell_type": "code",
   "execution_count": 5,
   "metadata": {},
   "outputs": [],
   "source": [
    "group_key = \"cibbl\"\n",
    "clsA = Achievement.registry[\"pa_starplayer\"]\n",
    "f = agent.iterprevs"
   ]
  },
  {
   "cell_type": "code",
   "execution_count": 9,
   "metadata": {},
   "outputs": [
    {
     "data": {
      "text/plain": [
       "[PA_StarPlayer('pa_starplayer', Tournament('cibbl', '44751'), NormalPlayer('12636777')),\n",
       " PA_StarPlayer('pa_starplayer', Tournament('cibbl', '45572'), RaisedDeadPlayer('RAISED-7392_12122275_12691708')),\n",
       " PA_StarPlayer('pa_starplayer', Tournament('cibbl', '45572'), NormalPlayer('12691708')),\n",
       " PA_StarPlayer('pa_starplayer', Tournament('cibbl', '44750'), NormalPlayer('12702407'))]"
      ]
     },
     "execution_count": 9,
     "metadata": {},
     "output_type": "execute_result"
    }
   ],
   "source": [
    "list(f(clsA, group_key))"
   ]
  },
  {
   "cell_type": "code",
   "execution_count": 4,
   "metadata": {},
   "outputs": [],
   "source": [
    "P = player(\"12636777\")"
   ]
  },
  {
   "cell_type": "code",
   "execution_count": 6,
   "metadata": {},
   "outputs": [
    {
     "data": {
      "text/plain": [
       "{PA_MegaStarPlayer('pa_megastarplayer', Tournament('cibbl', '46709'), NormalPlayer('12636777')),\n",
       " PA_StarPlayer('pa_starplayer', Tournament('cibbl', '44751'), NormalPlayer('12636777')),\n",
       " PA_SuperStarPlayer('pa_superstarplayer', Tournament('cibbl', '45174'), NormalPlayer('12636777'))}"
      ]
     },
     "execution_count": 6,
     "metadata": {},
     "output_type": "execute_result"
    }
   ],
   "source": [
    "P.achievements"
   ]
  },
  {
   "cell_type": "code",
   "execution_count": 7,
   "metadata": {},
   "outputs": [
    {
     "data": {
      "text/plain": [
       "{PA_StarPlayer('pa_starplayer', Tournament('cibbl', '44751'), NormalPlayer('11942620')),\n",
       " PA_SuperStarPlayer('pa_superstarplayer', Tournament('cibbl', '45174'), NormalPlayer('11942620'))}"
      ]
     },
     "execution_count": 7,
     "metadata": {},
     "output_type": "execute_result"
    }
   ],
   "source": [
    "P.prev.achievements"
   ]
  },
  {
   "cell_type": "code",
   "execution_count": null,
   "metadata": {},
   "outputs": [],
   "source": []
  }
 ],
 "metadata": {
  "kernelspec": {
   "display_name": "Python 3",
   "language": "python",
   "name": "python3"
  },
  "language_info": {
   "codemirror_mode": {
    "name": "ipython",
    "version": 3
   },
   "file_extension": ".py",
   "mimetype": "text/x-python",
   "name": "python",
   "nbconvert_exporter": "python",
   "pygments_lexer": "ipython3",
   "version": "3.7.4"
  }
 },
 "nbformat": 4,
 "nbformat_minor": 2
}
