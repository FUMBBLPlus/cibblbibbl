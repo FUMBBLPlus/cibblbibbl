{
 "cells": [
  {
   "cell_type": "code",
   "execution_count": 1,
   "metadata": {},
   "outputs": [],
   "source": [
    "import collections\n",
    "import copy\n",
    "import datetime\n",
    "import itertools\n",
    "import sys\n",
    "\n",
    "import json\n",
    "import pathlib\n",
    "import re\n",
    "from pprint import pprint\n",
    "\n",
    "import nest_asyncio\n",
    "nest_asyncio.apply()\n",
    "import texttable\n",
    "\n",
    "import pytourney\n",
    "import pyfumbbl\n",
    "import cibblbibbl"
   ]
  },
  {
   "cell_type": "code",
   "execution_count": 2,
   "metadata": {},
   "outputs": [],
   "source": [
    "G = cibblbibbl.CIBBL\n",
    "Achievement = cibblbibbl.achievement.Achievement\n",
    "Team = cibblbibbl.team.Team\n",
    "player = cibblbibbl.player.player\n",
    "Match = cibblbibbl.match.Match\n",
    "Matchup = cibblbibbl.matchup.Matchup\n",
    "Replay = cibblbibbl.replay.Replay"
   ]
  },
  {
   "cell_type": "code",
   "execution_count": 3,
   "metadata": {},
   "outputs": [],
   "source": [
    "tournaments = sorted(G.tournaments.values())"
   ]
  },
  {
   "cell_type": "code",
   "execution_count": 5,
   "metadata": {},
   "outputs": [],
   "source": [
    "i = 21"
   ]
  },
  {
   "cell_type": "code",
   "execution_count": 17,
   "metadata": {},
   "outputs": [],
   "source": [
    "T = tournaments[i]"
   ]
  },
  {
   "cell_type": "code",
   "execution_count": 18,
   "metadata": {},
   "outputs": [
    {
     "name": "stdout",
     "output_type": "stream",
     "text": [
      "23 [42884] Y2, Spring - Cathay and Nippon\n"
     ]
    }
   ],
   "source": [
    "print(f'{i} [{T.Id}] {T.name}')"
   ]
  },
  {
   "cell_type": "code",
   "execution_count": 19,
   "metadata": {},
   "outputs": [
    {
     "name": "stdout",
     "output_type": "stream",
     "text": [
      "4th place: [854690] Secret Cult Of Shiamoto\n",
      "Prestige Points Earned: 10\n",
      "\n",
      "3rd place: [854678] Lords of the Silent Death\n",
      "Prestige Points Earned: 60 (and +20 Achiev.)\n",
      "\n",
      "2nd place: [854257] Grand Celestial Delegate\n",
      "Prestige Points Earned: 110 (and +20 Achiev.)\n",
      "\n",
      "1st place: [855228] Ninja Warriors\n",
      "Prestige Points Earned: 160 (and +20 Achiev.)\n",
      "\n",
      "\n",
      "=== Crushing Victory (10) ===\n",
      "[854678] Lords of the Silent Death in match #3898397\n",
      "\n",
      "=== Oriental Aesthetics (10) ===\n",
      "[11432424] After the Lotus Flowers Have Opened (Grand Celestial Delegate) (SPP, Touchdowns)\n",
      "[11557119] Sam Sin (Ninja Warriors) (Fouls)\n",
      "\n",
      "=== Star Player (10) ===\n",
      "[11432424] After the Lotus Flowers Have Opened (Grand Celestial Delegate)\n",
      "[11448228] Kevin Bull (Ninja Warriors)\n",
      "\n",
      "=== Mean Scoring Machine (10) ===\n",
      "[11696956] Nightmaster Skirshakk (Lords of the Silent Death) in match #3898397 vs. Secret Cult Of Shiamoto\n",
      "\n",
      "=== Fame Killer (10) ===\n",
      "[11557119] Sam Sin (Ninja Warriors) fouled Vinny Valhalla (Star Player) in match #3898992 vs. Grand Celestial Delegate\n",
      "\n",
      "*** Famous and Died ***\n",
      "[STAR-7585] Vinny Valhalla (Star Player), fouled by Sam Sin (Ninja Warriors) in match #3898992\n",
      "\n",
      "*** Famous Retired ***\n",
      "[11448228] Kevin Bull (Ninja Warriors) (-10 Achiev.)\n"
     ]
    }
   ],
   "source": [
    "s = cibblbibbl.tournament.export.awards.plaintext.export(T, show_Ids=True)\n",
    "print(s)"
   ]
  },
  {
   "cell_type": "code",
   "execution_count": 15,
   "metadata": {},
   "outputs": [],
   "source": [
    "for A in T.achievements:\n",
    "    if A[\"status\"] == \"proposed\":\n",
    "        A[\"status\"] = \"awarded\""
   ]
  },
  {
   "cell_type": "code",
   "execution_count": 16,
   "metadata": {},
   "outputs": [],
   "source": [
    "i += 1"
   ]
  },
  {
   "cell_type": "code",
   "execution_count": 20,
   "metadata": {},
   "outputs": [],
   "source": []
  },
  {
   "cell_type": "code",
   "execution_count": null,
   "metadata": {},
   "outputs": [],
   "source": []
  },
  {
   "cell_type": "code",
   "execution_count": null,
   "metadata": {},
   "outputs": [],
   "source": []
  },
  {
   "cell_type": "code",
   "execution_count": null,
   "metadata": {},
   "outputs": [],
   "source": [
    "PO = \"passed over, not awarded\"\n",
    "for A in T.achievements:\n",
    "    if A[\"status\"] == \"proposed\":\n",
    "        print(A)\n",
    "        print(A.subject.name)\n",
    "        sys.stdout.flush()\n",
    "        while True:\n",
    "            answer = input(\"(a)warded/(p)assed over/(r)ejected (default: awarded)?\").lower()\n",
    "            if answer in (\"\", \"a\"):\n",
    "                A[\"status\"] = \"awarded\"\n",
    "                break\n",
    "            elif answer in (\"p\"):\n",
    "                A[\"status\"] = PO\n",
    "                break\n",
    "            elif answer in (\"r\"):\n",
    "                A[\"status\"] = \"rejected\"\n",
    "                break"
   ]
  },
  {
   "cell_type": "code",
   "execution_count": null,
   "metadata": {},
   "outputs": [],
   "source": []
  },
  {
   "cell_type": "code",
   "execution_count": null,
   "metadata": {},
   "outputs": [],
   "source": []
  },
  {
   "cell_type": "code",
   "execution_count": null,
   "metadata": {},
   "outputs": [],
   "source": []
  },
  {
   "cell_type": "code",
   "execution_count": null,
   "metadata": {},
   "outputs": [],
   "source": []
  },
  {
   "cell_type": "code",
   "execution_count": null,
   "metadata": {},
   "outputs": [],
   "source": []
  },
  {
   "cell_type": "code",
   "execution_count": null,
   "metadata": {},
   "outputs": [],
   "source": [
    "T.deadplayers()"
   ]
  },
  {
   "cell_type": "code",
   "execution_count": 22,
   "metadata": {},
   "outputs": [],
   "source": [
    "not_dead = [\n",
    "    [3893188, \"STAR-7551\"],\n",
    "]"
   ]
  },
  {
   "cell_type": "code",
   "execution_count": null,
   "metadata": {},
   "outputs": [],
   "source": [
    "for matchId, playerId in not_dead:\n",
    "    Ma = cibblbibbl.match.Match(matchId)\n",
    "    Mu = Ma.matchup\n",
    "    print(Mu)\n",
    "    C = Mu.config\n",
    "    for d0 in C[\"player\"].values():\n",
    "        for playerId1, d1 in d0.items():\n",
    "            if playerId == playerId1:\n",
    "                del d1[\"dead\"]\n",
    "                break\n",
    "        else:\n",
    "            continue\n",
    "        break"
   ]
  },
  {
   "cell_type": "code",
   "execution_count": null,
   "metadata": {},
   "outputs": [],
   "source": []
  },
  {
   "cell_type": "code",
   "execution_count": null,
   "metadata": {},
   "outputs": [],
   "source": []
  },
  {
   "cell_type": "code",
   "execution_count": null,
   "metadata": {},
   "outputs": [],
   "source": [
    "print(cibblbibbl.tournament.export.standings.plaintext.export(T))"
   ]
  },
  {
   "cell_type": "code",
   "execution_count": null,
   "metadata": {},
   "outputs": [],
   "source": [
    "print(cibblbibbl.tournament.export.prestiges.plaintext.export(T))"
   ]
  },
  {
   "cell_type": "code",
   "execution_count": null,
   "metadata": {},
   "outputs": [],
   "source": []
  },
  {
   "cell_type": "code",
   "execution_count": 10,
   "metadata": {},
   "outputs": [
    {
     "data": {
      "text/plain": [
       "[TP_Admin('tp_admin', Tournament('cibbl', '42428'), Team(854678)),\n",
       " TP_Admin('tp_admin', Tournament('cibbl', '42428'), Team(854600)),\n",
       " TP_Match('tp_match', Tournament('cibbl', '42428'), Team(855228)),\n",
       " TP_Match('tp_match', Tournament('cibbl', '42428'), Team(856697)),\n",
       " TP_Match('tp_match', Tournament('cibbl', '42428'), Team(854600)),\n",
       " TP_Match('tp_match', Tournament('cibbl', '42428'), Team(855120)),\n",
       " TP_Match('tp_match', Tournament('cibbl', '42428'), Team(854678)),\n",
       " TP_Match('tp_match', Tournament('cibbl', '42428'), Team(854257)),\n",
       " TP_Match('tp_match', Tournament('cibbl', '42428'), Team(859097)),\n",
       " TP_Standings('tp_standings', Tournament('cibbl', '42428'), Team(855228)),\n",
       " TP_Standings('tp_standings', Tournament('cibbl', '42428'), Team(856697)),\n",
       " TP_Standings('tp_standings', Tournament('cibbl', '42428'), Team(854600)),\n",
       " TP_Standings('tp_standings', Tournament('cibbl', '42428'), Team(855120)),\n",
       " PA_BPA_Gold('pa_bpa_gold', Tournament('cibbl', '42428'), NormalPlayer('11512476')),\n",
       " PA_BPA_Gold('pa_bpa_gold', Tournament('cibbl', '42428'), NormalPlayer('11448236')),\n",
       " PA_BPA_Gold('pa_bpa_gold', Tournament('cibbl', '42428'), NormalPlayer('11448253')),\n",
       " PA_BPA_Gold('pa_bpa_gold', Tournament('cibbl', '42428'), NormalPlayer('11512469')),\n",
       " PA_MeanScoringMachine('pa_meanscoringmachine', Tournament('cibbl', '42428'), NormalPlayer('11439819'), Match(3887667)),\n",
       " PA_MeanScoringMachine('pa_meanscoringmachine', Tournament('cibbl', '42428'), NormalPlayer('11512478'), Match(3887223)),\n",
       " PA_TripleX('pa_triplex', Tournament('cibbl', '42428'), NormalPlayer('11472250'), Match(3879634)),\n",
       " PA_TripleX('pa_triplex', Tournament('cibbl', '42428'), NormalPlayer('11446516'), Match(3891629)),\n",
       " PA_TripleX('pa_triplex', Tournament('cibbl', '42428'), NormalPlayer('11512469'), Match(3882033)),\n",
       " PA_TripleX('pa_triplex', Tournament('cibbl', '42428'), NormalPlayer('11512469'), Match(3887223)),\n",
       " PA_TargetEliminated('pa_targeteliminated', Tournament('cibbl', '42428'), NormalPlayer('11448236'), Match(3883806), 2, 5, NormalPlayer('11446499')),\n",
       " PA_TargetEliminated('pa_targeteliminated', Tournament('cibbl', '42428'), NormalPlayer('11446521'), Match(3886103), 2, 6, NormalPlayer('11454923'))]"
      ]
     },
     "execution_count": 10,
     "metadata": {},
     "output_type": "execute_result"
    }
   ],
   "source": [
    "L = sorted(T.achievements)\n",
    "L"
   ]
  },
  {
   "cell_type": "code",
   "execution_count": 13,
   "metadata": {},
   "outputs": [
    {
     "data": {
      "text/plain": [
       "-20"
      ]
     },
     "execution_count": 13,
     "metadata": {},
     "output_type": "execute_result"
    }
   ],
   "source": [
    "L[1].prestige(T.season)"
   ]
  },
  {
   "cell_type": "code",
   "execution_count": null,
   "metadata": {},
   "outputs": [],
   "source": []
  }
 ],
 "metadata": {
  "kernelspec": {
   "display_name": "Python 3",
   "language": "python",
   "name": "python3"
  },
  "language_info": {
   "codemirror_mode": {
    "name": "ipython",
    "version": 3
   },
   "file_extension": ".py",
   "mimetype": "text/x-python",
   "name": "python",
   "nbconvert_exporter": "python",
   "pygments_lexer": "ipython3",
   "version": "3.7.4"
  }
 },
 "nbformat": 4,
 "nbformat_minor": 2
}
