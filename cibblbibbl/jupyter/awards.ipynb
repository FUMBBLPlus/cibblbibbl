{
 "cells": [
  {
   "cell_type": "code",
   "execution_count": 1,
   "metadata": {},
   "outputs": [],
   "source": [
    "import collections\n",
    "import copy\n",
    "import datetime\n",
    "import itertools\n",
    "import sys\n",
    "\n",
    "import json\n",
    "import pathlib\n",
    "import re\n",
    "from pprint import pprint\n",
    "\n",
    "import nest_asyncio\n",
    "nest_asyncio.apply()\n",
    "import texttable\n",
    "\n",
    "import pytourney\n",
    "import pyfumbbl\n",
    "import cibblbibbl"
   ]
  },
  {
   "cell_type": "code",
   "execution_count": 2,
   "metadata": {},
   "outputs": [],
   "source": [
    "G = cibblbibbl.CIBBL\n",
    "Achievement = cibblbibbl.achievement.Achievement\n",
    "Team = cibblbibbl.team.Team\n",
    "player = cibblbibbl.player.player\n",
    "Match = cibblbibbl.match.Match\n",
    "Matchup = cibblbibbl.matchup.Matchup\n",
    "Replay = cibblbibbl.replay.Replay"
   ]
  },
  {
   "cell_type": "code",
   "execution_count": 3,
   "metadata": {},
   "outputs": [],
   "source": [
    "G.register_tournaments()"
   ]
  },
  {
   "cell_type": "code",
   "execution_count": 4,
   "metadata": {},
   "outputs": [],
   "source": [
    "G.register_matchups()"
   ]
  },
  {
   "cell_type": "code",
   "execution_count": 5,
   "metadata": {},
   "outputs": [],
   "source": [
    "G.register_achievements()"
   ]
  },
  {
   "cell_type": "code",
   "execution_count": 16,
   "metadata": {},
   "outputs": [],
   "source": [
    "T = G.tournaments[\"42884\"]"
   ]
  },
  {
   "cell_type": "code",
   "execution_count": 6,
   "metadata": {},
   "outputs": [],
   "source": [
    "tournaments = sorted(G.tournaments.values())"
   ]
  },
  {
   "cell_type": "code",
   "execution_count": 8,
   "metadata": {},
   "outputs": [],
   "source": [
    "i = 34"
   ]
  },
  {
   "cell_type": "code",
   "execution_count": 14,
   "metadata": {},
   "outputs": [],
   "source": [
    "T = tournaments[i]"
   ]
  },
  {
   "cell_type": "code",
   "execution_count": 17,
   "metadata": {},
   "outputs": [
    {
     "name": "stdout",
     "output_type": "stream",
     "text": [
      "34 [42884] Y2, Spring - Cathay and Nippon\n"
     ]
    }
   ],
   "source": [
    "print(f'{i} [{T.Id}] {T.name}')"
   ]
  },
  {
   "cell_type": "code",
   "execution_count": null,
   "metadata": {},
   "outputs": [],
   "source": [
    "s = cibblbibbl.tournament.export.awards.plaintext.export(T, show_Ids=True)\n",
    "print(s)"
   ]
  },
  {
   "cell_type": "code",
   "execution_count": 12,
   "metadata": {},
   "outputs": [],
   "source": [
    "for A in T.achievements:\n",
    "    if A[\"status\"] == \"proposed\":\n",
    "        A[\"status\"] = \"awarded\""
   ]
  },
  {
   "cell_type": "code",
   "execution_count": 13,
   "metadata": {},
   "outputs": [],
   "source": [
    "i += 1"
   ]
  },
  {
   "cell_type": "code",
   "execution_count": 20,
   "metadata": {},
   "outputs": [],
   "source": []
  },
  {
   "cell_type": "code",
   "execution_count": null,
   "metadata": {},
   "outputs": [],
   "source": []
  },
  {
   "cell_type": "code",
   "execution_count": null,
   "metadata": {},
   "outputs": [],
   "source": []
  },
  {
   "cell_type": "code",
   "execution_count": 11,
   "metadata": {},
   "outputs": [
    {
     "name": "stdout",
     "output_type": "stream",
     "text": [
      "Child of Winter: Helmut Wulf (Star Player) (Fouls)\n",
      "Helmut Wulf\n",
      "(a)warded/(p)assed over/(r)ejected (default: awarded)?p\n",
      "Child of Winter: Jessie Graff (Ninja Warriors) (Completions)\n",
      "Jessie Graff\n",
      "(a)warded/(p)assed over/(r)ejected (default: awarded)?\n",
      "Child of Winter: Mosstail (Seven Samples of Decay) (SPP)\n",
      "Mosstail\n",
      "(a)warded/(p)assed over/(r)ejected (default: awarded)?\n",
      "Child of Winter: Tutencal the Harvester (Guardians of the Lurking God) (Touchdowns)\n",
      "Tutencal the Harvester\n",
      "(a)warded/(p)assed over/(r)ejected (default: awarded)?\n",
      "Winter's Glory: Ninja Warriors\n",
      "Ninja Warriors\n",
      "(a)warded/(p)assed over/(r)ejected (default: awarded)?\n",
      "Child of Winter: Ronin Lethal Strike (Secret Cult Of Shiamoto) (Blocking Scorer, Casualties)\n",
      "Ronin Lethal Strike\n",
      "(a)warded/(p)assed over/(r)ejected (default: awarded)?\n",
      "Winter's Glory: Lords of the Silent Death\n",
      "Lords of the Silent Death\n",
      "(a)warded/(p)assed over/(r)ejected (default: awarded)?\n",
      "Child of Winter: Hazu (Secret Cult Of Shiamoto) (Blocking Thrower)\n",
      "Hazu\n",
      "(a)warded/(p)assed over/(r)ejected (default: awarded)?\n",
      "Winter's Glory: Secret Cult Of Shiamoto\n",
      "Secret Cult Of Shiamoto\n",
      "(a)warded/(p)assed over/(r)ejected (default: awarded)?\n"
     ]
    }
   ],
   "source": [
    "PO = \"passed over, not awarded\"\n",
    "\n",
    "for A in T.achievements:\n",
    "    if A[\"status\"] == \"proposed\":\n",
    "        print(A)\n",
    "        print(A.subject.name)\n",
    "        sys.stdout.flush()\n",
    "        while True:\n",
    "            answer = input(\"(a)warded/(p)assed over/(r)ejected (default: awarded)?\").lower()\n",
    "            if answer in (\"\", \"a\"):\n",
    "                A[\"status\"] = \"awarded\"\n",
    "                break\n",
    "            elif answer in (\"p\"):\n",
    "                A[\"status\"] = PO\n",
    "                break\n",
    "            elif answer in (\"r\"):\n",
    "                A[\"status\"] = \"rejected\"\n",
    "                break"
   ]
  },
  {
   "cell_type": "code",
   "execution_count": null,
   "metadata": {},
   "outputs": [],
   "source": []
  },
  {
   "cell_type": "code",
   "execution_count": null,
   "metadata": {},
   "outputs": [],
   "source": []
  },
  {
   "cell_type": "code",
   "execution_count": null,
   "metadata": {},
   "outputs": [],
   "source": []
  },
  {
   "cell_type": "code",
   "execution_count": null,
   "metadata": {},
   "outputs": [],
   "source": []
  },
  {
   "cell_type": "code",
   "execution_count": null,
   "metadata": {},
   "outputs": [],
   "source": []
  },
  {
   "cell_type": "code",
   "execution_count": null,
   "metadata": {},
   "outputs": [],
   "source": [
    "T.deadplayers()"
   ]
  },
  {
   "cell_type": "code",
   "execution_count": 27,
   "metadata": {},
   "outputs": [],
   "source": [
    "not_dead = [\n",
    "    [3893188, \"STAR-Helmut Wulf\"],\n",
    "]"
   ]
  },
  {
   "cell_type": "code",
   "execution_count": 28,
   "metadata": {},
   "outputs": [
    {
     "name": "stdout",
     "output_type": "stream",
     "text": [
      "Matchup('cibbl', '42748', 3, 872475, 872524)\n"
     ]
    }
   ],
   "source": [
    "for matchId, playerId in not_dead:\n",
    "    Ma = cibblbibbl.match.Match(matchId)\n",
    "    Mu = Ma.matchup\n",
    "    print(Mu)\n",
    "    C = Mu.config\n",
    "    for d0 in C[\"player\"].values():\n",
    "        for playerId1, d1 in d0.items():\n",
    "            if playerId == playerId1:\n",
    "                del d1[\"dead\"]\n",
    "                break\n",
    "        else:\n",
    "            continue\n",
    "        break"
   ]
  },
  {
   "cell_type": "code",
   "execution_count": null,
   "metadata": {},
   "outputs": [],
   "source": []
  },
  {
   "cell_type": "code",
   "execution_count": 25,
   "metadata": {},
   "outputs": [],
   "source": [
    "admin_forfeits = [\n",
    "    [[\"cibbl\", \"42041\", 4, 855753, 856203], \"856203\"],\n",
    "]"
   ]
  },
  {
   "cell_type": "code",
   "execution_count": 26,
   "metadata": {},
   "outputs": [],
   "source": [
    "for matchup_KEY, teamId in admin_forfeits:\n",
    "    Mu = Matchup(*matchup_KEY)\n",
    "    d = Mu.config[\"team\"][teamId]\n",
    "    d[\"prestige\"] = 0\n",
    "    d[\"pts\"] = 0\n",
    "    d[\"r\"] = \"F\"\n",
    "    d[\"score\"] = 0\n",
    "    d[\"scorediff\"] = -2\n",
    "    d[\"tddiff\"] = 0"
   ]
  },
  {
   "cell_type": "code",
   "execution_count": null,
   "metadata": {},
   "outputs": [],
   "source": []
  },
  {
   "cell_type": "code",
   "execution_count": 28,
   "metadata": {},
   "outputs": [],
   "source": [
    "excluded_matchups = [\n",
    "    [\"cibbl\", \"42239\", 0, 863440, 863441],\n",
    "    [\"cibbl\", \"42239\", 0, 863440, 864291],\n",
    "    [\"cibbl\", \"42239\", 0, 863441, 864291],\n",
    "]"
   ]
  },
  {
   "cell_type": "code",
   "execution_count": 29,
   "metadata": {},
   "outputs": [],
   "source": [
    "for matchup_KEY in excluded_matchups:\n",
    "    Mu = Matchup(*matchup_KEY)\n",
    "    Mu.excluded = \"yes\""
   ]
  },
  {
   "cell_type": "code",
   "execution_count": null,
   "metadata": {},
   "outputs": [],
   "source": []
  },
  {
   "cell_type": "code",
   "execution_count": 31,
   "metadata": {},
   "outputs": [],
   "source": [
    "admin_excludes = [\n",
    "    [[\"cibbl\", \"44380\", 1, 865063, 872475], \"872475\"],\n",
    "    [[\"cibbl\", \"44380\", 2, 865063, 874317], \"874317\"],\n",
    "    [[\"cibbl\", \"44380\", 4, 865063, 867030], \"867030\"],\n",
    "    [[\"cibbl\", \"44380\", 5, 865063, 869156], \"869156\"],\n",
    "]"
   ]
  },
  {
   "cell_type": "code",
   "execution_count": 32,
   "metadata": {},
   "outputs": [],
   "source": [
    "for matchup_KEY, teamId in admin_excludes:\n",
    "    Mu = Matchup(*matchup_KEY)\n",
    "    d = Mu.config[\"team\"][teamId]\n",
    "    d[\"prestige\"] = 0\n",
    "    d[\"pts\"] = 0\n",
    "    d[\"r\"] = \"-\"\n",
    "    d[\"score\"] = 0\n",
    "    d[\"scorediff\"] = 0\n",
    "    d[\"tddiff\"] = 0"
   ]
  },
  {
   "cell_type": "code",
   "execution_count": null,
   "metadata": {},
   "outputs": [],
   "source": []
  },
  {
   "cell_type": "code",
   "execution_count": null,
   "metadata": {},
   "outputs": [],
   "source": []
  },
  {
   "cell_type": "code",
   "execution_count": null,
   "metadata": {},
   "outputs": [],
   "source": []
  },
  {
   "cell_type": "code",
   "execution_count": 19,
   "metadata": {},
   "outputs": [
    {
     "name": "stdout",
     "output_type": "stream",
     "text": [
      " #                Name                      Roster                 Coach           Perf.    PTS   HTH   TDD   CAD   CTO\n",
      "=======================================================================================================================\n",
      " 1   Tower of the Necromancer         Necrarch              badenprinz            WLWDW      10     1     5    -2      \n",
      " 2   Nachthafen Nightlords            Von Carstein          Danish_Dan            LWWDW      10     1     3    -6      \n",
      " 3   Silver Pinnacle Renegades        Lahmian               Crook666              WWLWD      10     1     2     4      \n",
      " 4   Strigos Elită                    Strigoi               Arcayn                LLWWD       7           1     5      \n",
      " 5   Way of the Dragon                Blood Dragon          Nextflux              WWLLL       6          -1     8      \n",
      " 6   Drakenhof Dance Macabre          Vampire               Bullroarer4           LLLLL       0         -10    -9      \n"
     ]
    }
   ],
   "source": [
    "print(cibblbibbl.tournament.export.standings.plaintext.export(T))"
   ]
  },
  {
   "cell_type": "code",
   "execution_count": 13,
   "metadata": {},
   "outputs": [
    {
     "name": "stdout",
     "output_type": "stream",
     "text": [
      " #                Name                      Roster                 Coach           Perf.    GAM   CV   POS    P \n",
      "================================================================================================================\n",
      " 1   Warhird Huscarls                 Norse Dwarf           Garion                DDWW                          \n",
      " 2   Misty Isle Gators                Fimir                 Araznaroth            WDLW                          \n",
      " 3   Albion Manticores                Four Nations          Mr_Fantastic          DDWL                          \n",
      " 4   Slumbering Dragons               Albion                frogboy               DDLB                          \n",
      " 5   Mount Thug Bonegrinders          Giant                 demigod               LDLF                          \n"
     ]
    }
   ],
   "source": [
    "print(cibblbibbl.tournament.export.prestiges.plaintext.export(T))"
   ]
  },
  {
   "cell_type": "code",
   "execution_count": null,
   "metadata": {},
   "outputs": [],
   "source": []
  },
  {
   "cell_type": "code",
   "execution_count": null,
   "metadata": {},
   "outputs": [],
   "source": []
  },
  {
   "cell_type": "code",
   "execution_count": 11,
   "metadata": {},
   "outputs": [
    {
     "data": {
      "text/plain": [
       "{NormalPlayer('11748434'): {'mvp': 0,\n",
       "  'spp': 0,\n",
       "  'blocks': 0,\n",
       "  'rush': 0,\n",
       "  'td': 0,\n",
       "  'turns': 0,\n",
       "  'fouls': 0,\n",
       "  'comp': 0,\n",
       "  'pass': 0,\n",
       "  'int': 0,\n",
       "  'cas': 0,\n",
       "  'perf': [('L', 3898310)],\n",
       "  'team': Team(867030),\n",
       "  'name': 'Ulric Paleorc',\n",
       "  'type': 'J',\n",
       "  'retired': True,\n",
       "  'tournament': Tournament('cibbl', '42892')},\n",
       " NormalPlayer('11748435'): {'mvp': 0,\n",
       "  'spp': 3,\n",
       "  'blocks': 1,\n",
       "  'rush': 0,\n",
       "  'td': 1,\n",
       "  'turns': 16,\n",
       "  'fouls': 0,\n",
       "  'comp': 0,\n",
       "  'pass': 0,\n",
       "  'int': 0,\n",
       "  'cas': 0,\n",
       "  'perf': [('L', 3898310)],\n",
       "  'team': Team(867030),\n",
       "  'name': 'Vincent Goldwing',\n",
       "  'type': 'J',\n",
       "  'retired': True,\n",
       "  'tournament': Tournament('cibbl', '42892')},\n",
       " NormalPlayer('11748436'): {'mvp': 0,\n",
       "  'spp': 3,\n",
       "  'blocks': 1,\n",
       "  'rush': 3,\n",
       "  'td': 0,\n",
       "  'turns': 11,\n",
       "  'fouls': 0,\n",
       "  'comp': 1,\n",
       "  'pass': 5,\n",
       "  'int': 0,\n",
       "  'cas': 1,\n",
       "  'perf': [('L', 3898310)],\n",
       "  'team': Team(867030),\n",
       "  'name': 'Ulric Clumsysnake',\n",
       "  'type': 'J',\n",
       "  'retired': True,\n",
       "  'tournament': Tournament('cibbl', '42892')},\n",
       " NormalPlayer('11767507'): {'mvp': 0,\n",
       "  'spp': 0,\n",
       "  'blocks': 2,\n",
       "  'rush': 0,\n",
       "  'td': 0,\n",
       "  'turns': 16,\n",
       "  'fouls': 0,\n",
       "  'comp': 0,\n",
       "  'pass': 0,\n",
       "  'int': 0,\n",
       "  'cas': 0,\n",
       "  'perf': [('W', 3903843)],\n",
       "  'team': Team(867030),\n",
       "  'name': 'Tristan Blueeagle',\n",
       "  'type': 'J',\n",
       "  'retired': True,\n",
       "  'tournament': Tournament('cibbl', '42892')},\n",
       " NormalPlayer('11767508'): {'mvp': 0,\n",
       "  'spp': 0,\n",
       "  'blocks': 2,\n",
       "  'rush': 4,\n",
       "  'td': 0,\n",
       "  'turns': 7,\n",
       "  'fouls': 0,\n",
       "  'comp': 0,\n",
       "  'pass': 0,\n",
       "  'int': 0,\n",
       "  'cas': 0,\n",
       "  'perf': [('W', 3903843)],\n",
       "  'team': Team(867030),\n",
       "  'name': 'Fredrick Stronghammer',\n",
       "  'type': 'J',\n",
       "  'retired': True,\n",
       "  'tournament': Tournament('cibbl', '42892')},\n",
       " NormalPlayer('11767509'): {'mvp': 0,\n",
       "  'spp': 0,\n",
       "  'blocks': 1,\n",
       "  'rush': 0,\n",
       "  'td': 0,\n",
       "  'turns': 16,\n",
       "  'fouls': 0,\n",
       "  'comp': 0,\n",
       "  'pass': 0,\n",
       "  'int': 0,\n",
       "  'cas': 0,\n",
       "  'perf': [('W', 3903843)],\n",
       "  'team': Team(867030),\n",
       "  'name': 'Sylvester Strongsnake',\n",
       "  'type': 'J',\n",
       "  'retired': True,\n",
       "  'tournament': Tournament('cibbl', '42892')},\n",
       " NormalPlayer('11767510'): {'mvp': 0,\n",
       "  'spp': 0,\n",
       "  'blocks': 2,\n",
       "  'rush': 0,\n",
       "  'td': 0,\n",
       "  'turns': 4,\n",
       "  'fouls': 0,\n",
       "  'comp': 0,\n",
       "  'pass': 0,\n",
       "  'int': 0,\n",
       "  'cas': 0,\n",
       "  'perf': [('W', 3903843)],\n",
       "  'team': Team(867030),\n",
       "  'name': 'Martin Clumsytree',\n",
       "  'type': 'J',\n",
       "  'retired': True,\n",
       "  'tournament': Tournament('cibbl', '42892')},\n",
       " NormalPlayer('11748296'): {'mvp': 0,\n",
       "  'spp': 0,\n",
       "  'blocks': 1,\n",
       "  'rush': 0,\n",
       "  'td': 0,\n",
       "  'turns': 16,\n",
       "  'fouls': 0,\n",
       "  'comp': 0,\n",
       "  'pass': 0,\n",
       "  'int': 0,\n",
       "  'cas': 0,\n",
       "  'perf': [('L', 3894889)],\n",
       "  'team': Team(867030),\n",
       "  'name': 'Trey Strongeagle',\n",
       "  'type': 'J',\n",
       "  'retired': True,\n",
       "  'retiredlast': True,\n",
       "  'tournament': Tournament('cibbl', '42805')},\n",
       " NormalPlayer('11748297'): {'mvp': 0,\n",
       "  'spp': 0,\n",
       "  'blocks': 1,\n",
       "  'rush': 0,\n",
       "  'td': 0,\n",
       "  'turns': 11,\n",
       "  'fouls': 1,\n",
       "  'comp': 0,\n",
       "  'pass': 0,\n",
       "  'int': 0,\n",
       "  'cas': 0,\n",
       "  'perf': [('L', 3894889)],\n",
       "  'team': Team(867030),\n",
       "  'name': 'Vincent Clearfist',\n",
       "  'type': 'J',\n",
       "  'retired': True,\n",
       "  'retiredlast': True,\n",
       "  'tournament': Tournament('cibbl', '42805')},\n",
       " NormalPlayer('11748298'): {'mvp': 0,\n",
       "  'spp': 0,\n",
       "  'blocks': 1,\n",
       "  'rush': 0,\n",
       "  'td': 0,\n",
       "  'turns': 6,\n",
       "  'fouls': 0,\n",
       "  'comp': 0,\n",
       "  'pass': 0,\n",
       "  'int': 0,\n",
       "  'cas': 0,\n",
       "  'perf': [('L', 3894889)],\n",
       "  'team': Team(867030),\n",
       "  'name': 'Albert Clearsnake',\n",
       "  'type': 'J',\n",
       "  'retired': True,\n",
       "  'retiredlast': True,\n",
       "  'tournament': Tournament('cibbl', '42805')}}"
      ]
     },
     "execution_count": 11,
     "metadata": {},
     "output_type": "execute_result"
    }
   ],
   "source": [
    "T.retiredplayers()"
   ]
  },
  {
   "cell_type": "code",
   "execution_count": null,
   "metadata": {},
   "outputs": [],
   "source": []
  }
 ],
 "metadata": {
  "kernelspec": {
   "display_name": "Python 3",
   "language": "python",
   "name": "python3"
  },
  "language_info": {
   "codemirror_mode": {
    "name": "ipython",
    "version": 3
   },
   "file_extension": ".py",
   "mimetype": "text/x-python",
   "name": "python",
   "nbconvert_exporter": "python",
   "pygments_lexer": "ipython3",
   "version": "3.7.4"
  }
 },
 "nbformat": 4,
 "nbformat_minor": 2
}
