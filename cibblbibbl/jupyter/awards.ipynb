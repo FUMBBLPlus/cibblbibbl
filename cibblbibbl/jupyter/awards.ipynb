{
 "cells": [
  {
   "cell_type": "code",
   "execution_count": 9,
   "metadata": {},
   "outputs": [],
   "source": [
    "import collections\n",
    "import copy\n",
    "import datetime\n",
    "import itertools\n",
    "\n",
    "import json\n",
    "import pathlib\n",
    "import re\n",
    "from pprint import pprint\n",
    "\n",
    "import nest_asyncio\n",
    "nest_asyncio.apply()\n",
    "import texttable\n",
    "\n",
    "import pytourney\n",
    "import pyfumbbl\n",
    "import cibblbibbl"
   ]
  },
  {
   "cell_type": "code",
   "execution_count": 10,
   "metadata": {},
   "outputs": [],
   "source": [
    "PO = \"passed over, not awarded\""
   ]
  },
  {
   "cell_type": "code",
   "execution_count": 11,
   "metadata": {},
   "outputs": [],
   "source": [
    "G = cibblbibbl.CIBBL\n",
    "Achievement = cibblbibbl.achievement.Achievement\n",
    "Team = cibblbibbl.team.Team\n",
    "player = cibblbibbl.player.player\n",
    "Match = cibblbibbl.match.Match\n",
    "Matchup = cibblbibbl.matchup.Matchup\n",
    "Replay = cibblbibbl.replay.Replay"
   ]
  },
  {
   "cell_type": "code",
   "execution_count": 12,
   "metadata": {},
   "outputs": [],
   "source": [
    "tournaments = sorted(G.tournaments.values())"
   ]
  },
  {
   "cell_type": "code",
   "execution_count": 13,
   "metadata": {},
   "outputs": [],
   "source": [
    "i = 0"
   ]
  },
  {
   "cell_type": "code",
   "execution_count": 20,
   "metadata": {},
   "outputs": [],
   "source": [
    "T = tournaments[i]"
   ]
  },
  {
   "cell_type": "code",
   "execution_count": 21,
   "metadata": {},
   "outputs": [
    {
     "name": "stdout",
     "output_type": "stream",
     "text": [
      "2 [41739] Y1, Spring - The Chaos Wastelands\n"
     ]
    }
   ],
   "source": [
    "print(f'{i} [{T.Id}] {T.name}')"
   ]
  },
  {
   "cell_type": "code",
   "execution_count": 22,
   "metadata": {
    "scrolled": false
   },
   "outputs": [
    {
     "name": "stdout",
     "output_type": "stream",
     "text": [
      "4th place: [854507] Coven of the Mirrored Hall\n",
      "Prestige Points Earned: 10\n",
      "\n",
      "3rd place: [854500] Seven Samples of Decay\n",
      "Prestige Points Earned: 90\n",
      "\n",
      "2nd place: [854752] Pleasure Principle\n",
      "Prestige Points Earned: 110 (and +20 Achiev.)\n",
      "\n",
      "1st place: [856697] Crimson Skull\n",
      "Prestige Points Earned: 130 (and +10 Achiev.)\n",
      "\n",
      "\n",
      "=== Best of the Best (0) ===\n",
      "[STAR-7564] Max Spleenripper (Star Player) (Fouls)\n",
      "\n",
      "=== Wasteland Warrior (10) ===\n",
      "[11472250] Arkh'gar (Crimson Skull) (SPP)\n",
      "[11440646] Hypex (Pleasure Principle) (Completions)\n",
      "[11440644] Serpentin (Pleasure Principle) (Blocking Thrower, Touchdowns, Triple)\n"
     ]
    }
   ],
   "source": [
    "s = cibblbibbl.tournament.export.awards.plaintext.export(T, show_id=True)\n",
    "print(s)"
   ]
  },
  {
   "cell_type": "code",
   "execution_count": 18,
   "metadata": {},
   "outputs": [],
   "source": [
    "i += 1"
   ]
  },
  {
   "cell_type": "code",
   "execution_count": 19,
   "metadata": {},
   "outputs": [],
   "source": [
    "for A in T.achievements:\n",
    "    if A[\"status\"] == \"proposed\":\n",
    "        A[\"status\"] = \"awarded\""
   ]
  },
  {
   "cell_type": "code",
   "execution_count": null,
   "metadata": {},
   "outputs": [],
   "source": []
  },
  {
   "cell_type": "code",
   "execution_count": null,
   "metadata": {},
   "outputs": [],
   "source": []
  },
  {
   "cell_type": "code",
   "execution_count": null,
   "metadata": {},
   "outputs": [],
   "source": []
  },
  {
   "cell_type": "code",
   "execution_count": null,
   "metadata": {},
   "outputs": [],
   "source": []
  },
  {
   "cell_type": "code",
   "execution_count": 5,
   "metadata": {},
   "outputs": [],
   "source": [
    "award_conversation_url = \"https://fumbbl.com/p/messages?op=view&c=488649\"\n",
    "award_post_header = \"Posted by Calthor on 2016-11-14 12:06:23\""
   ]
  },
  {
   "cell_type": "code",
   "execution_count": 6,
   "metadata": {
    "scrolled": true
   },
   "outputs": [
    {
     "ename": "NameError",
     "evalue": "name 'T' is not defined",
     "output_type": "error",
     "traceback": [
      "\u001b[0;31m---------------------------------------------------------------------------\u001b[0m",
      "\u001b[0;31mNameError\u001b[0m                                 Traceback (most recent call last)",
      "\u001b[0;32m<ipython-input-6-e6d874c3d5ba>\u001b[0m in \u001b[0;36m<module>\u001b[0;34m\u001b[0m\n\u001b[0;32m----> 1\u001b[0;31m \u001b[0mT\u001b[0m\u001b[0;34m.\u001b[0m\u001b[0mconfig\u001b[0m\u001b[0;34m[\u001b[0m\u001b[0;34m\"award_post\"\u001b[0m\u001b[0;34m]\u001b[0m \u001b[0;34m=\u001b[0m \u001b[0;34m[\u001b[0m\u001b[0maward_conversation_url\u001b[0m\u001b[0;34m,\u001b[0m \u001b[0maward_post_header\u001b[0m\u001b[0;34m]\u001b[0m\u001b[0;34m\u001b[0m\u001b[0;34m\u001b[0m\u001b[0m\n\u001b[0m",
      "\u001b[0;31mNameError\u001b[0m: name 'T' is not defined"
     ]
    }
   ],
   "source": [
    "T.config[\"award_post\"] = [award_conversation_url, award_post_header]"
   ]
  },
  {
   "cell_type": "code",
   "execution_count": 23,
   "metadata": {},
   "outputs": [],
   "source": [
    "T.rawplayerperformances()"
   ]
  },
  {
   "cell_type": "code",
   "execution_count": 25,
   "metadata": {},
   "outputs": [
    {
     "data": {
      "text/plain": [
       "[TP_Match('tp_match', Tournament('cibbl', '41739'), Team(854500)),\n",
       " PA_BPR_ChaosWastelands('pa_bpr_chaoswastelands', Tournament('cibbl', '41739'), NormalPlayer('11472250')),\n",
       " PA_BPR_ChaosWastelands('pa_bpr_chaoswastelands', Tournament('cibbl', '41739'), NormalPlayer('11440644')),\n",
       " PA_BPR_StarPlayersGuild('pa_bpr_starplayersguild', Tournament('cibbl', '41739'), StarPlayer('STAR-7564')),\n",
       " TP_Standings('tp_standings', Tournament('cibbl', '41739'), Team(854752)),\n",
       " TP_Match('tp_match', Tournament('cibbl', '41739'), Team(856697)),\n",
       " TP_Standings('tp_standings', Tournament('cibbl', '41739'), Team(854500)),\n",
       " PA_BPR_ChaosWastelands('pa_bpr_chaoswastelands', Tournament('cibbl', '41739'), NormalPlayer('11440646')),\n",
       " PA_BPR_StarPlayersGuild('pa_bpr_starplayersguild', Tournament('cibbl', '41739'), NormalPlayer('11699071')),\n",
       " PA_BPR_StarPlayersGuild('pa_bpr_starplayersguild', Tournament('cibbl', '41739'), RaisedDeadPlayer('RAISED-7154_STAR-7564_11699071')),\n",
       " TP_Standings('tp_standings', Tournament('cibbl', '41739'), Team(856697)),\n",
       " TP_Standings('tp_standings', Tournament('cibbl', '41739'), Team(854507)),\n",
       " TP_Match('tp_match', Tournament('cibbl', '41739'), Team(854752))]"
      ]
     },
     "execution_count": 25,
     "metadata": {},
     "output_type": "execute_result"
    }
   ],
   "source": [
    "L = list(T.achievements)\n",
    "L"
   ]
  },
  {
   "cell_type": "code",
   "execution_count": 26,
   "metadata": {},
   "outputs": [
    {
     "data": {
      "text/plain": [
       "{'Albion and Norsca': 'Albion and Norsca',\n",
       " 'Lustria': 'Lustria',\n",
       " 'The Southlands and Araby': 'The Southlands and Araby',\n",
       " 'Ulthuan and Naggaroth': 'Ulthuan and Naggaroth',\n",
       " 'The Empire': 'The Empire',\n",
       " 'The Great Ocean': 'The Great Ocean',\n",
       " 'The Dark Lands': 'The Dark Lands',\n",
       " 'Sylvania': 'Sylvania',\n",
       " 'The Old World': 'The Old World',\n",
       " 'Cathay and Nippon': 'Cathay and Nippon',\n",
       " 'Eastern Steppes and Mountains of Mourn': 'Eastern Steppes and Mountains of Mourn',\n",
       " 'Skavenblight': 'Skavenblight',\n",
       " 'The Realms of Chaos': 'The Realms of Chaos',\n",
       " 'Athel Loren': 'Athel Loren',\n",
       " 'World Edge Mountains': 'World Edge Mountains',\n",
       " 'The Elemental Planes': 'The Elemental Planes',\n",
       " 'Haunted Hills': 'Haunted Hills',\n",
       " 'The Deep Caverns': 'The Deep Caverns',\n",
       " 'Lands of the Dead': 'Lands of the Dead',\n",
       " 'The Chaos Wastelands': 'The Chaos Wastelands',\n",
       " 'Kingdoms Of Ind, Lumbria & the Hinterlands of Khuresh': 'Kingdoms Of Ind, Lumbria & the Hinterlands of Khuresh'}"
      ]
     },
     "execution_count": 26,
     "metadata": {},
     "output_type": "execute_result"
    }
   ],
   "source": [
    "{name:name for name in G.regions.values()}"
   ]
  },
  {
   "cell_type": "code",
   "execution_count": null,
   "metadata": {},
   "outputs": [],
   "source": []
  }
 ],
 "metadata": {
  "kernelspec": {
   "display_name": "Python 3",
   "language": "python",
   "name": "python3"
  },
  "language_info": {
   "codemirror_mode": {
    "name": "ipython",
    "version": 3
   },
   "file_extension": ".py",
   "mimetype": "text/x-python",
   "name": "python",
   "nbconvert_exporter": "python",
   "pygments_lexer": "ipython3",
   "version": "3.7.4"
  }
 },
 "nbformat": 4,
 "nbformat_minor": 2
}
