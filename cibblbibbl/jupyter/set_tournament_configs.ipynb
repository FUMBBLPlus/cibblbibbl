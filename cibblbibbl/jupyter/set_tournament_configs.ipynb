{
 "cells": [
  {
   "cell_type": "code",
   "execution_count": 1,
   "metadata": {},
   "outputs": [],
   "source": [
    "import collections\n",
    "import copy\n",
    "import datetime\n",
    "import itertools\n",
    "import sys\n",
    "import types\n",
    "\n",
    "import json\n",
    "import pathlib\n",
    "import re\n",
    "from pprint import pprint\n",
    "\n",
    "import nest_asyncio\n",
    "nest_asyncio.apply()\n",
    "import texttable\n",
    "\n",
    "import pytourney\n",
    "import pyfumbbl\n",
    "import cibblbibbl"
   ]
  },
  {
   "cell_type": "code",
   "execution_count": 2,
   "metadata": {},
   "outputs": [],
   "source": [
    "show_Ids = True\n",
    "G = cibblbibbl.CIBBL\n",
    "Achievement = cibblbibbl.achievement.Achievement\n",
    "Team = cibblbibbl.team.Team\n",
    "player = cibblbibbl.player.player\n",
    "Match = cibblbibbl.match.Match\n",
    "Matchup = cibblbibbl.matchup.Matchup\n",
    "Replay = cibblbibbl.replay.Replay\n",
    "Season = cibblbibbl.season.Season\n",
    "Tournament = cibblbibbl.tournament.handler.default.Tournament\n",
    "NormalPlayer = cibblbibbl.player.NormalPlayer\n",
    "StarPlayer = cibblbibbl.player.StarPlayer"
   ]
  },
  {
   "cell_type": "code",
   "execution_count": 3,
   "metadata": {
    "scrolled": true
   },
   "outputs": [],
   "source": [
    "G.init()"
   ]
  },
  {
   "cell_type": "code",
   "execution_count": 4,
   "metadata": {},
   "outputs": [
    {
     "name": "stdout",
     "output_type": "stream",
     "text": [
      "Y7 Winter -- Season('cibbl', 7, 1)\n"
     ]
    }
   ],
   "source": [
    "S1 = max(G.seasons)\n",
    "print(f'Y{S1.year.nr} {S1.name} -- {S1}')"
   ]
  },
  {
   "cell_type": "code",
   "execution_count": 5,
   "metadata": {},
   "outputs": [
    {
     "name": "stdout",
     "output_type": "stream",
     "text": [
      "Y6 Autumn -- Season('cibbl', 6, 4)\n"
     ]
    }
   ],
   "source": [
    "# run if next season was kicked off\n",
    "S1 = S1.prev\n",
    "print(f'Y{S1.year.nr} {S1.name} -- {S1}')"
   ]
  },
  {
   "cell_type": "code",
   "execution_count": 6,
   "metadata": {},
   "outputs": [
    {
     "name": "stdout",
     "output_type": "stream",
     "text": [
      "Target Tournaments:\n",
      "[51681] CIBBL - Y6, Autumn - Iron Division\n",
      "[51682] CIBBL - Y6, Autumn - Tin Division\n",
      "[51683] CIBBL - Y6, Autumn - Copper Division\n",
      "[51684] CIBBL - Y6, Autumn - Bronze Division\n",
      "[51685] CIBBL - Y6, Autumn - Silver Division\n",
      "[51686] CIBBL - Y6, Autumn - Gold Division\n",
      "[51691] CIBBL - Y6, Autumn - Marble Division\n",
      "[51692] CIBBL - Y6, Autumn - Granite Division\n",
      "[51693] CIBBL - Y6, Autumn - Clay Division\n",
      "[51694] CIBBL - Y6, Autumn - Wood Division\n",
      "[51695] CIBBL - Y6, Autumn - Cloth Division\n",
      "[51696] CIBBL - Y6, Autumn - Paper Division\n",
      "[51697] CIBBL - Y6, Autumn - Leather Division\n",
      "[51698] CIBBL - Y6, Autumn - Mud Division\n",
      "[51699] CIBBL - Y6, Autumn - Dust Division\n",
      "[52455] CIBBL - Y6, Autumn - Youngbloods XXV\n",
      "[52456] CIBBL - Y6, Autumn - Youngbloods XXVI\n"
     ]
    }
   ],
   "source": [
    "print(\"Target Tournaments:\")\n",
    "for T in sorted(S1.tournaments.values()):\n",
    "    print(T)"
   ]
  },
  {
   "cell_type": "code",
   "execution_count": 7,
   "metadata": {},
   "outputs": [
    {
     "name": "stdout",
     "output_type": "stream",
     "text": [
      "Y5 Autumn -- Season('cibbl', 5, 4)\n"
     ]
    }
   ],
   "source": [
    "# set manually\n",
    "S0 = Season('cibbl', 5, 4)\n",
    "print(f'Y{S0.year.nr} {S0.name} -- {S0}')"
   ]
  },
  {
   "cell_type": "code",
   "execution_count": 8,
   "metadata": {},
   "outputs": [
    {
     "name": "stdout",
     "output_type": "stream",
     "text": [
      "Target Tournaments:\n",
      "[47496] CIBBL - Y5, Autumn - Cloth Division\n",
      "[47497] CIBBL - Y5, Autumn - Wood Division\n",
      "[47498] CIBBL - Y5, Autumn - Clay Division\n",
      "[47499] CIBBL - Y5, Autumn - Granite Division\n",
      "[47500] CIBBL - Y5, Autumn - Marble Division\n",
      "[47501] CIBBL - Y5, Autumn - Iron Division\n",
      "[47502] CIBBL - Y5, Autumn - Tin Division\n",
      "[47503] CIBBL - Y5, Autumn - Copper Division\n",
      "[47504] CIBBL - Y5, Autumn - Bronze Division\n",
      "[47505] CIBBL - Y5, Autumn - Silver Division\n",
      "[47506] CIBBL - Y5, Autumn - Gold Division\n",
      "[47704] CIBBL - Y5, Autumn - Youngbloods XVIII\n"
     ]
    }
   ],
   "source": [
    "print(\"Target Tournaments:\")\n",
    "for T in sorted(S0.tournaments.values()):\n",
    "    print(T)"
   ]
  },
  {
   "cell_type": "code",
   "execution_count": 9,
   "metadata": {},
   "outputs": [],
   "source": [
    "CHAIN_STRINGS = {\n",
    "    \"Iron Division\", \n",
    "    \"Tin Division\", \n",
    "    \"Copper Division\", \n",
    "    \"Bronze Division\", \n",
    "    \"Silver Division\", \n",
    "    \"Gold Division\", \n",
    "    \"Marble Division\", \n",
    "    \"Granite Division\", \n",
    "    \"Clay Division\", \n",
    "    \"Wood Division\", \n",
    "    \"Cloth Division\", \n",
    "    \"Paper Division\", \n",
    "    \"Leather Division\", \n",
    "    \"Mud Division\", \n",
    "    \"Dust Division\", \n",
    "    \"Youngbloods\", \n",
    "}"
   ]
  },
  {
   "cell_type": "code",
   "execution_count": null,
   "metadata": {},
   "outputs": [
    {
     "name": "stdout",
     "output_type": "stream",
     "text": [
      "Iron Division: 47501 -> 51681\n",
      "Bronze Division: 47504 -> 51684\n",
      "Tin Division: 47502 -> 51682\n",
      "Gold Division: 47506 -> 51686\n",
      "Granite Division: 47499 -> 51692\n",
      "Clay Division: 47498 -> 51693\n",
      "Wood Division: 47497 -> 51694\n",
      "Marble Division: 47500 -> 51691\n",
      "Cloth Division: 47496 -> 51695\n",
      "Copper Division: 47503 -> 51683\n",
      "Silver Division: 47505 -> 51685\n",
      "Youngbloods: 47704 -> 52455, 52456\n"
     ]
    }
   ],
   "source": [
    "pairs = {k: [None, []] for k in CHAIN_STRINGS}\n",
    "for k in CHAIN_STRINGS:\n",
    "    for T0 in sorted(S0.tournaments.values()):\n",
    "        if k in T0.name:\n",
    "            pairs[k][0] = T0\n",
    "            break\n",
    "    for T1 in sorted(S1.tournaments.values()):\n",
    "        if k in T1.name:\n",
    "            pairs[k][1].append(T1)\n",
    "for k, [T0, LT1] in pairs.items():\n",
    "    if not T0 or not LT1:\n",
    "        continue\n",
    "    print(f'{k}: {T0.Id} -> {\", \".join(str(T.Id) for T in LT1)}')"
   ]
  },
  {
   "cell_type": "code",
   "execution_count": 11,
   "metadata": {},
   "outputs": [],
   "source": [
    "# comment to skip from being copied\n",
    "KEYS_TO_BE_COPIED = {\n",
    "    \"bestplayersname\",\n",
    "    \"code\",\n",
    "    \"image744\",\n",
    "    \"image873\",\n",
    "    \"image960\",\n",
    "    \"ppos\",\n",
    "}\n",
    "KEYS_TO_BE_SET = {\n",
    "    \"Youngbloods\": {\"suffix\"},\n",
    "}"
   ]
  },
  {
   "cell_type": "code",
   "execution_count": 12,
   "metadata": {},
   "outputs": [],
   "source": [
    "TYPECASTS = {\n",
    "    cibblbibbl.jsonfile.JSONFileArray: list,\n",
    "}"
   ]
  },
  {
   "cell_type": "code",
   "execution_count": 19,
   "metadata": {},
   "outputs": [
    {
     "name": "stdout",
     "output_type": "stream",
     "text": [
      "[47501] CIBBL - Y5, Autumn - Iron Division -> [51681] CIBBL - Y6, Autumn - Iron Division\n",
      "code='D06'\n",
      "ppos=[50, 40, 20, 10]\n",
      "image960='/i/530115'\n",
      "bestplayersname='Forged Greatness'\n",
      "image744='/i/530115'\n",
      "image873='/i/530115'\n",
      "[47504] CIBBL - Y5, Autumn - Bronze Division -> [51684] CIBBL - Y6, Autumn - Bronze Division\n",
      "code='D03'\n",
      "ppos=[70, 50, 30, 10]\n",
      "image960='/i/519279'\n",
      "bestplayersname='Bronze Excellence'\n",
      "image744='/i/519279'\n",
      "image873='/i/519279'\n",
      "[47502] CIBBL - Y5, Autumn - Tin Division -> [51682] CIBBL - Y6, Autumn - Tin Division\n",
      "code='D05'\n",
      "ppos=[60, 40, 20, 10]\n",
      "image960='/i/530114'\n",
      "bestplayersname='Terrific Might of Tin'\n",
      "image744='/i/530114'\n",
      "image873='/i/530114'\n",
      "[47506] CIBBL - Y5, Autumn - Gold Division -> [51686] CIBBL - Y6, Autumn - Gold Division\n",
      "code='D01'\n",
      "ppos=[100, 70, 50, 30]\n",
      "image960='/i/519221'\n",
      "bestplayersname='Gold Excellence'\n",
      "image744='/i/519221'\n",
      "image873='/i/519221'\n",
      "[47499] CIBBL - Y5, Autumn - Granite Division -> [51692] CIBBL - Y6, Autumn - Granite Division\n",
      "code='D08'\n",
      "ppos=[50, 30, 20, 10]\n",
      "image960='/i/533918'\n",
      "bestplayersname='Solid Foundation'\n",
      "image744='/i/533918'\n",
      "image873='/i/533918'\n",
      "[47498] CIBBL - Y5, Autumn - Clay Division -> [51693] CIBBL - Y6, Autumn - Clay Division\n",
      "code='D09'\n",
      "ppos=[50, 30, 20, 10]\n",
      "image960='/i/530118'\n",
      "bestplayersname='Clay Excellence'\n",
      "image744='/i/530118'\n",
      "image873='/i/530118'\n",
      "[47497] CIBBL - Y5, Autumn - Wood Division -> [51694] CIBBL - Y6, Autumn - Wood Division\n",
      "code='D10'\n",
      "ppos=[50, 30, 20, 10]\n",
      "image960='/i/530116'\n",
      "bestplayersname='Whisperer In The Woods'\n",
      "image744='/i/530116'\n",
      "image873='/i/530116'\n",
      "[47500] CIBBL - Y5, Autumn - Marble Division -> [51691] CIBBL - Y6, Autumn - Marble Division\n",
      "code='D07'\n",
      "ppos=[50, 30, 20, 10]\n",
      "image960='/i/532253'\n",
      "bestplayersname='Refined Excellence'\n",
      "image744='/i/532253'\n",
      "image873='/i/532253'\n",
      "[47496] CIBBL - Y5, Autumn - Cloth Division -> [51695] CIBBL - Y6, Autumn - Cloth Division\n",
      "code='D11'\n",
      "ppos=[50, 30, 20, 10]\n",
      "image960='/i/532255'\n",
      "bestplayersname='Cloth Excellence'\n",
      "image744='/i/532255'\n",
      "image873='/i/532255'\n",
      "[47503] CIBBL - Y5, Autumn - Copper Division -> [51683] CIBBL - Y6, Autumn - Copper Division\n",
      "code='D04'\n",
      "ppos=[60, 40, 20, 10]\n",
      "image960='/i/530113'\n",
      "bestplayersname='Copper Excellence'\n",
      "image744='/i/530113'\n",
      "image873='/i/530113'\n",
      "[47505] CIBBL - Y5, Autumn - Silver Division -> [51685] CIBBL - Y6, Autumn - Silver Division\n",
      "code='D02'\n",
      "ppos=[80, 60, 40, 20]\n",
      "image960='/i/519280'\n",
      "bestplayersname='Silver Excellence'\n",
      "image744='/i/519280'\n",
      "image873='/i/519280'\n",
      "[47704] CIBBL - Y5, Autumn - Youngbloods XVIII -> [52455] CIBBL - Y6, Autumn - Youngbloods XXV\n",
      "code='Y'\n",
      "ppos=[50, 30, 20, 10]\n",
      "image960='/i/538864'\n",
      "bestplayersname='Youthful Vibrance'\n",
      "image744='/i/538864'\n",
      "image873='/i/538864'\n",
      "suffix='XXV'\n",
      "[47704] CIBBL - Y5, Autumn - Youngbloods XVIII -> [52456] CIBBL - Y6, Autumn - Youngbloods XXVI\n",
      "code='Y'\n",
      "ppos=[50, 30, 20, 10]\n",
      "image960='/i/538864'\n",
      "bestplayersname='Youthful Vibrance'\n",
      "image744='/i/538864'\n",
      "image873='/i/538864'\n",
      "suffix='XXVI'\n"
     ]
    }
   ],
   "source": [
    "for k0, t in pairs.items():\n",
    "    if not all(t):\n",
    "        continue\n",
    "    T0, LT1 = t\n",
    "    for T1 in LT1:\n",
    "        print(f'{T0} -> {T1}')\n",
    "        for k1 in KEYS_TO_BE_COPIED:\n",
    "            v = T0.config[k1]\n",
    "            if type(v) in TYPECASTS:\n",
    "                v = TYPECASTS[type(v)](v)\n",
    "            print(f'{k1}={v!r}')\n",
    "            T1.config[k1] = v\n",
    "        for k2, sk3 in KEYS_TO_BE_SET.items():\n",
    "            if k2 != k0:\n",
    "                continue\n",
    "            for k3 in sk3:\n",
    "                if k3 == \"suffix\":\n",
    "                    v = T1.name.split(\"-\")[-1].split()[-1]\n",
    "                    print(f'{k3}={v!r}')\n",
    "                    T1.config[k3] = v"
   ]
  },
  {
   "cell_type": "code",
   "execution_count": null,
   "metadata": {},
   "outputs": [],
   "source": []
  }
 ],
 "metadata": {
  "kernelspec": {
   "display_name": "Python 3",
   "language": "python",
   "name": "python3"
  },
  "language_info": {
   "codemirror_mode": {
    "name": "ipython",
    "version": 3
   },
   "file_extension": ".py",
   "mimetype": "text/x-python",
   "name": "python",
   "nbconvert_exporter": "python",
   "pygments_lexer": "ipython3",
   "version": "3.8.3"
  }
 },
 "nbformat": 4,
 "nbformat_minor": 2
}
