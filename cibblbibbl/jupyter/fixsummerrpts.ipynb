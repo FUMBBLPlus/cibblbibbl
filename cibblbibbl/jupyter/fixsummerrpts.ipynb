{
 "cells": [
  {
   "cell_type": "code",
   "execution_count": 1,
   "metadata": {},
   "outputs": [],
   "source": [
    "import collections\n",
    "import copy\n",
    "import datetime\n",
    "import itertools\n",
    "import sys\n",
    "\n",
    "import json\n",
    "import pathlib\n",
    "import re\n",
    "from pprint import pprint\n",
    "\n",
    "import nest_asyncio\n",
    "nest_asyncio.apply()\n",
    "import texttable\n",
    "\n",
    "import pytourney\n",
    "import pyfumbbl\n",
    "import cibblbibbl\n",
    "\n",
    "from cibblbibbl import bbcode"
   ]
  },
  {
   "cell_type": "code",
   "execution_count": 2,
   "metadata": {},
   "outputs": [],
   "source": [
    "show_Ids = True\n",
    "G = cibblbibbl.CIBBL\n",
    "Achievement = cibblbibbl.achievement.Achievement\n",
    "Team = cibblbibbl.team.Team\n",
    "player = cibblbibbl.player.player\n",
    "Match = cibblbibbl.match.Match\n",
    "Matchup = cibblbibbl.matchup.Matchup\n",
    "Replay = cibblbibbl.replay.Replay\n",
    "Tournament = cibblbibbl.tournament.handler.default.Tournament\n",
    "NormalPlayer = cibblbibbl.player.NormalPlayer\n",
    "StarPlayer = cibblbibbl.player.StarPlayer"
   ]
  },
  {
   "cell_type": "code",
   "execution_count": 3,
   "metadata": {},
   "outputs": [],
   "source": [
    "G.init()"
   ]
  },
  {
   "cell_type": "code",
   "execution_count": null,
   "metadata": {},
   "outputs": [],
   "source": []
  },
  {
   "cell_type": "code",
   "execution_count": 4,
   "metadata": {},
   "outputs": [
    {
     "name": "stdout",
     "output_type": "stream",
     "text": [
      "[42038] CIBBL - Year One, Summer - Heart of Glory\n",
      "[42041] CIBBL - Year One, Summer - Pearl Chalice\n",
      "[42172] CIBBL - Year One, Spring/Summer - The Great Ocean\n",
      "[42239] CIBBL - Year One, Spring/Summer - The Great Ocean\n",
      "[43149] CIBBL - Year Two, Summer - The Little Cup\n",
      "[44379] CIBBL - Y3, Summer - Lesser Dragon Grapple\n",
      "[44380] CIBBL - Y3, Summer - Exotic Creature Challenge (A)\n",
      "[44381] CIBBL - Y3, Summer - Exotic Creature Challenge (B)\n",
      "[44382] CIBBL - Y3, Summer - Exotic Creature Challenge R5\n",
      "[44384] CIBBL - Y3, Summer - Styles Clash (A)\n",
      "[44385] CIBBL - Y3, Summer - Styles Clash (B)\n",
      "[44386] CIBBL - Y3, Summer - Styles Clash R5\n",
      "[44388] CIBBL - Y3, Summer - Cup of Ancient Knowledge\n",
      "[44462] CIBBL - Y3, Summer - Youngbloods XI\n",
      "[44560] CIBBL - Y3, Summer - Youngbloods XII\n",
      "[44910] CIBBL - Y3, Summer - Youngbloods XIII\n",
      "[45662] CIBBL - Y4, Summer - Youngbloods XIV\n",
      "[47062] CIBBL - Y5, Summer - SCRIBBL Climax - Final\n",
      "[49047] CIBBL - Y6, Summer - Youngbloods XX\n",
      "[49171] CIBBL - Y6, Summer - CabalVision Morning Special\n",
      "    Matchup('cibbl', '49171', 1, 949708, 950765)\n",
      "    Matchup('cibbl', '49171', 1, 947541, 950774)\n",
      "    Matchup('cibbl', '49171', 1, 950641, 950921)\n",
      "    Matchup('cibbl', '49171', 2, 950765, 952143)\n",
      "    Matchup('cibbl', '49171', 2, 950641, 950774)\n",
      "    Matchup('cibbl', '49171', 2, 947541, 950921)\n",
      "    Matchup('cibbl', '49171', 3, 950765, 950774)\n",
      "    Matchup('cibbl', '49171', 3, 947541, 949708)\n",
      "    Matchup('cibbl', '49171', 3, 950641, 952143)\n",
      "    Matchup('cibbl', '49171', 4, 949708, 950774)\n",
      "    Matchup('cibbl', '49171', 4, 947541, 950765)\n",
      "    Matchup('cibbl', '49171', 5, 949708, 950641)\n",
      "    Matchup('cibbl', '49171', 4, 950921, 952143)\n",
      "    Matchup('cibbl', '49171', 5, 950765, 950921)\n",
      "    Matchup('cibbl', '49171', 6, 950774, 950921)\n",
      "    Matchup('cibbl', '49171', 5, 947541, 952143)\n",
      "    Matchup('cibbl', '49171', 6, 947541, 950641)\n",
      "    Matchup('cibbl', '49171', 6, 949708, 952143)\n",
      "    Matchup('cibbl', '49171', 7, 949708, 950921)\n",
      "    Matchup('cibbl', '49171', 7, 950641, 950765)\n",
      "    Matchup('cibbl', '49171', 7, 950774, 952143)\n",
      "[49172] CIBBL - Y6, Summer - CabalVision Late Night Special\n",
      "    Matchup('cibbl', '49172', 1, 879131, 942535)\n",
      "    Matchup('cibbl', '49172', 1, 855120, 946354)\n",
      "    Matchup('cibbl', '49172', 1, 900747, 942643)\n",
      "    Matchup('cibbl', '49172', 2, 942535, 942643)\n",
      "    Matchup('cibbl', '49172', 2, 855120, 947133)\n",
      "    Matchup('cibbl', '49172', 3, 942535, 947133)\n",
      "    Matchup('cibbl', '49172', 3, 855120, 942643)\n",
      "    Matchup('cibbl', '49172', 2, 879131, 900747)\n",
      "    Matchup('cibbl', '49172', 4, 879131, 947133)\n",
      "    Matchup('cibbl', '49172', 3, 900747, 946354)\n",
      "    Matchup('cibbl', '49172', 4, 942643, 946354)\n",
      "    Matchup('cibbl', '49172', 5, 942535, 946354)\n",
      "    Matchup('cibbl', '49172', 4, 855120, 900747)\n",
      "    Matchup('cibbl', '49172', 5, 855120, 879131)\n",
      "    Matchup('cibbl', '49172', 5, 900747, 947133)\n",
      "    Matchup('cibbl', '49172', 6, 946354, 947133)\n",
      "    Matchup('cibbl', '49172', 6, 879131, 942643)\n",
      "    Matchup('cibbl', '49172', 6, 900747, 942535)\n",
      "    Matchup('cibbl', '49172', 7, 855120, 942535)\n",
      "    Matchup('cibbl', '49172', 7, 879131, 946354)\n",
      "    Matchup('cibbl', '49172', 7, 942643, 947133)\n",
      "[49173] CIBBL - Y6, Summer - Inevitable City Wanderers Cup\n",
      "    Matchup('cibbl', '49173', 1, 871787, 895929)\n",
      "    Matchup('cibbl', '49173', 1, 874317, 936063)\n",
      "    Matchup('cibbl', '49173', 1, 854507, 906259)\n",
      "    Matchup('cibbl', '49173', 2, 871787, 936063)\n",
      "    Matchup('cibbl', '49173', 2, 854507, 895929)\n",
      "    Matchup('cibbl', '49173', 2, 874317, 906259)\n",
      "    Matchup('cibbl', '49173', 3, 895929, 906259)\n",
      "    Matchup('cibbl', '49173', 3, 871787, 874317)\n",
      "    Matchup('cibbl', '49173', 3, 854507, 936063)\n",
      "    Matchup('cibbl', '49173', 4, 895929, 936063)\n",
      "    Matchup('cibbl', '49173', 4, 871787, 906259)\n",
      "    Matchup('cibbl', '49173', 4, 854507, 874317)\n",
      "    Matchup('cibbl', '49173', 5, 906259, 936063)\n",
      "    Matchup('cibbl', '49173', 5, 874317, 895929)\n",
      "    Matchup('cibbl', '49173', 5, 854507, 871787)\n",
      "[49174] CIBBL - Y6, Summer - Athel Loren Green Thumb Cup\n",
      "    Matchup('cibbl', '49174', 1, 924405, 951012)\n",
      "    Matchup('cibbl', '49174', 1, 874966, 953987)\n",
      "    Matchup('cibbl', '49174', 1, 899682, 927862)\n",
      "    Matchup('cibbl', '49174', 2, 924405, 927862)\n",
      "    Matchup('cibbl', '49174', 2, 874966, 899682)\n",
      "    Matchup('cibbl', '49174', 3, 874966, 927862)\n",
      "    Matchup('cibbl', '49174', 2, 951012, 953987)\n",
      "    Matchup('cibbl', '49174', 3, 924405, 953987)\n",
      "    Matchup('cibbl', '49174', 4, 874966, 924405)\n",
      "    Matchup('cibbl', '49174', 3, 899682, 951012)\n",
      "    Matchup('cibbl', '49174', 4, 927862, 951012)\n",
      "    Matchup('cibbl', '49174', 4, 899682, 953987)\n",
      "    Matchup('cibbl', '49174', 5, 899682, 924405)\n",
      "    Matchup('cibbl', '49174', 5, 927862, 953987)\n",
      "    Matchup('cibbl', '49174', 5, 874966, 951012)\n",
      "[49175] CIBBL - Y6, Summer - Losterikson's Tournament\n",
      "    Matchup('cibbl', '49175', 1, 904411, 942438)\n",
      "    Matchup('cibbl', '49175', 1, 886002, 950292)\n",
      "    Matchup('cibbl', '49175', 1, 891260, 951870)\n",
      "    Matchup('cibbl', '49175', 2, 886002, 951870)\n",
      "    Matchup('cibbl', '49175', 2, 891260, 904411)\n",
      "    Matchup('cibbl', '49175', 2, 942438, 950292)\n",
      "    Matchup('cibbl', '49175', 3, 904411, 951870)\n",
      "    Matchup('cibbl', '49175', 3, 886002, 942438)\n",
      "    Matchup('cibbl', '49175', 3, 891260, 950292)\n",
      "    Matchup('cibbl', '49175', 4, 891260, 942438)\n",
      "    Matchup('cibbl', '49175', 4, 886002, 904411)\n",
      "    Matchup('cibbl', '49175', 4, 950292, 951870)\n",
      "    Matchup('cibbl', '49175', 5, 904411, 950292)\n",
      "    Matchup('cibbl', '49175', 5, 942438, 951870)\n",
      "    Matchup('cibbl', '49175', 5, 886002, 891260)\n",
      "[49176] CIBBL - Y6, Summer - Khemri Liche Bowl Cup\n",
      "    Matchup('cibbl', '49176', 1, 882382, 947232)\n",
      "    Matchup('cibbl', '49176', 1, 874452, 896564)\n",
      "    Matchup('cibbl', '49176', 2, 896564, 947232)\n",
      "    Matchup('cibbl', '49176', 1, 904377, 942428)\n",
      "    Matchup('cibbl', '49176', 2, 874452, 942428)\n",
      "    Matchup('cibbl', '49176', 2, 882382, 904377)\n",
      "    Matchup('cibbl', '49176', 3, 942428, 947232)\n",
      "    Matchup('cibbl', '49176', 3, 882382, 896564)\n",
      "    Matchup('cibbl', '49176', 3, 874452, 904377)\n",
      "    Matchup('cibbl', '49176', 4, 896564, 904377)\n",
      "    Matchup('cibbl', '49176', 4, 882382, 942428)\n",
      "    Matchup('cibbl', '49176', 5, 896564, 942428)\n",
      "    Matchup('cibbl', '49176', 4, 874452, 947232)\n",
      "    Matchup('cibbl', '49176', 5, 874452, 882382)\n",
      "    Matchup('cibbl', '49176', 5, 904377, 947232)\n",
      "[49178] CIBBL - Y6, Summer - City of Spires Beauty Pageant\n",
      "    Matchup('cibbl', '49178', 1, 947272, 950586)\n",
      "    Matchup('cibbl', '49178', 1, 878945, 903654)\n",
      "    Matchup('cibbl', '49178', 2, 878945, 950586)\n",
      "    Matchup('cibbl', '49178', 1, 859097, 886114)\n",
      "    Matchup('cibbl', '49178', 2, 886114, 947272)\n",
      "    Matchup('cibbl', '49178', 2, 859097, 903654)\n",
      "    Matchup('cibbl', '49178', 3, 903654, 950586)\n",
      "    Matchup('cibbl', '49178', 3, 859097, 947272)\n",
      "    Matchup('cibbl', '49178', 4, 859097, 950586)\n",
      "    Matchup('cibbl', '49178', 3, 878945, 886114)\n",
      "    Matchup('cibbl', '49178', 4, 886114, 903654)\n",
      "    Matchup('cibbl', '49178', 4, 878945, 947272)\n",
      "    Matchup('cibbl', '49178', 5, 903654, 947272)\n",
      "    Matchup('cibbl', '49178', 5, 886114, 950586)\n",
      "    Matchup('cibbl', '49178', 5, 859097, 878945)\n",
      "[49179] CIBBL - Y6, Summer - Brass Keep Tournament\n",
      "    Matchup('cibbl', '49179', 1, 916031, 942694)\n",
      "    Matchup('cibbl', '49179', 1, 914538, 950644)\n",
      "    Matchup('cibbl', '49179', 1, 909848, 950330)\n",
      "    Matchup('cibbl', '49179', 2, 909848, 916031)\n",
      "    Matchup('cibbl', '49179', 2, 942694, 950644)\n",
      "    Matchup('cibbl', '49179', 2, 914538, 950330)\n",
      "    Matchup('cibbl', '49179', 3, 916031, 950330)\n",
      "    Matchup('cibbl', '49179', 3, 914538, 942694)\n",
      "    Matchup('cibbl', '49179', 3, 909848, 950644)\n",
      "    Matchup('cibbl', '49179', 4, 916031, 950644)\n",
      "    Matchup('cibbl', '49179', 4, 942694, 950330)\n",
      "    Matchup('cibbl', '49179', 4, 909848, 914538)\n",
      "    Matchup('cibbl', '49179', 5, 914538, 916031)\n",
      "    Matchup('cibbl', '49179', 5, 950330, 950644)\n",
      "    Matchup('cibbl', '49179', 5, 909848, 942694)\n",
      "[49180] CIBBL - Y6, Summer - Eichenschatten Grand Feast\n",
      "    Matchup('cibbl', '49180', 1, 932210, 943859)\n",
      "    Matchup('cibbl', '49180', 1, 905924, 923140)\n",
      "    Matchup('cibbl', '49180', 2, 923140, 943859)\n",
      "    Matchup('cibbl', '49180', 1, 872044, 943332)\n",
      "    Matchup('cibbl', '49180', 2, 872044, 932210)\n",
      "    Matchup('cibbl', '49180', 2, 905924, 943332)\n",
      "    Matchup('cibbl', '49180', 3, 905924, 932210)\n",
      "    Matchup('cibbl', '49180', 3, 923140, 943332)\n",
      "    Matchup('cibbl', '49180', 3, 872044, 943859)\n"
     ]
    },
    {
     "name": "stdout",
     "output_type": "stream",
     "text": [
      "    Matchup('cibbl', '49180', 4, 923140, 932210)\n",
      "    Matchup('cibbl', '49180', 4, 872044, 905924)\n",
      "    Matchup('cibbl', '49180', 4, 943332, 943859)\n",
      "    Matchup('cibbl', '49180', 5, 872044, 923140)\n",
      "    Matchup('cibbl', '49180', 5, 932210, 943332)\n",
      "    Matchup('cibbl', '49180', 5, 905924, 943859)\n",
      "[49181] CIBBL - Y6, Summer - Praag Invasion Tourney\n",
      "    Matchup('cibbl', '49181', 1, 874302, 953456)\n",
      "    Matchup('cibbl', '49181', 1, 896972, 944434)\n",
      "    Matchup('cibbl', '49181', 2, 874302, 896972)\n",
      "    Matchup('cibbl', '49181', 1, 919662, 922869)\n",
      "    Matchup('cibbl', '49181', 2, 922869, 953456)\n",
      "    Matchup('cibbl', '49181', 3, 896972, 953456)\n",
      "    Matchup('cibbl', '49181', 2, 919662, 944434)\n",
      "    Matchup('cibbl', '49181', 3, 922869, 944434)\n",
      "    Matchup('cibbl', '49181', 3, 874302, 919662)\n",
      "    Matchup('cibbl', '49181', 4, 874302, 922869)\n",
      "    Matchup('cibbl', '49181', 4, 944434, 953456)\n",
      "    Matchup('cibbl', '49181', 4, 896972, 919662)\n",
      "    Matchup('cibbl', '49181', 5, 874302, 944434)\n",
      "    Matchup('cibbl', '49181', 5, 919662, 953456)\n",
      "    Matchup('cibbl', '49181', 5, 896972, 922869)\n",
      "[49182] CIBBL - Y6, Summer - Karak Kadrin Clash\n",
      "    Matchup('cibbl', '49182', 1, 873945, 897379)\n",
      "    Matchup('cibbl', '49182', 1, 892248, 905886)\n",
      "    Matchup('cibbl', '49182', 1, 872475, 913702)\n",
      "    Matchup('cibbl', '49182', 2, 892248, 913702)\n",
      "    Matchup('cibbl', '49182', 2, 872475, 873945)\n",
      "    Matchup('cibbl', '49182', 3, 873945, 913702)\n",
      "    Matchup('cibbl', '49182', 2, 897379, 905886)\n",
      "    Matchup('cibbl', '49182', 3, 892248, 897379)\n",
      "    Matchup('cibbl', '49182', 3, 872475, 905886)\n",
      "    Matchup('cibbl', '49182', 4, 873945, 892248)\n",
      "    Matchup('cibbl', '49182', 4, 905886, 913702)\n",
      "    Matchup('cibbl', '49182', 5, 873945, 905886)\n",
      "    Matchup('cibbl', '49182', 4, 872475, 897379)\n",
      "    Matchup('cibbl', '49182', 5, 897379, 913702)\n",
      "    Matchup('cibbl', '49182', 5, 872475, 892248)\n",
      "[49183] CIBBL - Y6, Summer - Messerheim Invitational\n",
      "    Matchup('cibbl', '49183', 1, 867862, 943851)\n",
      "    Matchup('cibbl', '49183', 1, 864291, 925779)\n",
      "    Matchup('cibbl', '49183', 1, 874545, 909966)\n",
      "    Matchup('cibbl', '49183', 2, 864291, 909966)\n",
      "    Matchup('cibbl', '49183', 2, 874545, 943851)\n",
      "    Matchup('cibbl', '49183', 2, 867862, 925779)\n",
      "    Matchup('cibbl', '49183', 3, 867862, 874545)\n",
      "    Matchup('cibbl', '49183', 3, 864291, 943851)\n",
      "    Matchup('cibbl', '49183', 3, 909966, 925779)\n",
      "    Matchup('cibbl', '49183', 4, 864291, 874545)\n",
      "    Matchup('cibbl', '49183', 4, 925779, 943851)\n",
      "    Matchup('cibbl', '49183', 4, 867862, 909966)\n",
      "    Matchup('cibbl', '49183', 5, 874545, 925779)\n",
      "    Matchup('cibbl', '49183', 5, 864291, 867862)\n",
      "    Matchup('cibbl', '49183', 5, 909966, 943851)\n",
      "[49184] CIBBL - Y6, Summer - Skeggi Colonial Cup\n",
      "    Matchup('cibbl', '49184', 1, 944216, 945880)\n",
      "    Matchup('cibbl', '49184', 1, 896228, 944173)\n",
      "    Matchup('cibbl', '49184', 2, 896228, 944216)\n",
      "    Matchup('cibbl', '49184', 1, 907600, 928360)\n",
      "    Matchup('cibbl', '49184', 2, 907600, 944173)\n",
      "    Matchup('cibbl', '49184', 2, 928360, 945880)\n",
      "    Matchup('cibbl', '49184', 3, 896228, 907600)\n",
      "    Matchup('cibbl', '49184', 3, 944173, 945880)\n",
      "    Matchup('cibbl', '49184', 3, 928360, 944216)\n",
      "    Matchup('cibbl', '49184', 4, 896228, 928360)\n",
      "    Matchup('cibbl', '49184', 4, 907600, 945880)\n",
      "    Matchup('cibbl', '49184', 5, 896228, 945880)\n",
      "    Matchup('cibbl', '49184', 4, 944173, 944216)\n",
      "    Matchup('cibbl', '49184', 5, 907600, 944216)\n",
      "    Matchup('cibbl', '49184', 5, 928360, 944173)\n",
      "[49185] CIBBL - Y6, Summer - Weijin Grand Nobility Tourney\n",
      "    Matchup('cibbl', '49185', 1, 943192, 947184)\n",
      "    Matchup('cibbl', '49185', 1, 854257, 910344)\n",
      "    Matchup('cibbl', '49185', 1, 854600, 855753)\n",
      "    Matchup('cibbl', '49185', 2, 854257, 947184)\n",
      "    Matchup('cibbl', '49185', 2, 855753, 910344)\n",
      "    Matchup('cibbl', '49185', 2, 854600, 943192)\n",
      "    Matchup('cibbl', '49185', 3, 855753, 947184)\n",
      "    Matchup('cibbl', '49185', 3, 854257, 943192)\n",
      "    Matchup('cibbl', '49185', 3, 854600, 910344)\n",
      "    Matchup('cibbl', '49185', 4, 910344, 947184)\n",
      "    Matchup('cibbl', '49185', 4, 855753, 943192)\n",
      "    Matchup('cibbl', '49185', 4, 854257, 854600)\n",
      "    Matchup('cibbl', '49185', 5, 854257, 855753)\n",
      "    Matchup('cibbl', '49185', 5, 854600, 947184)\n",
      "    Matchup('cibbl', '49185', 5, 910344, 943192)\n",
      "[49186] CIBBL - Y6, Summer - Nuln Invitational\n",
      "    Matchup('cibbl', '49186', 1, 896134, 914744)\n",
      "    Matchup('cibbl', '49186', 1, 906026, 931222)\n",
      "    Matchup('cibbl', '49186', 1, 924841, 949774)\n",
      "    Matchup('cibbl', '49186', 2, 906026, 914744)\n",
      "    Matchup('cibbl', '49186', 2, 896134, 924841)\n",
      "    Matchup('cibbl', '49186', 3, 906026, 924841)\n",
      "    Matchup('cibbl', '49186', 2, 931222, 949774)\n",
      "    Matchup('cibbl', '49186', 3, 896134, 949774)\n",
      "    Matchup('cibbl', '49186', 4, 896134, 906026)\n",
      "    Matchup('cibbl', '49186', 3, 914744, 931222)\n",
      "    Matchup('cibbl', '49186', 4, 914744, 949774)\n",
      "    Matchup('cibbl', '49186', 4, 924841, 931222)\n",
      "    Matchup('cibbl', '49186', 5, 914744, 924841)\n",
      "    Matchup('cibbl', '49186', 5, 896134, 931222)\n",
      "    Matchup('cibbl', '49186', 5, 906026, 949774)\n",
      "[49187] CIBBL - Y6, Summer - The Gilded Throne\n",
      "    Matchup('cibbl', '49187', 1, 876774, 922608)\n",
      "    Matchup('cibbl', '49187', 1, 854678, 922672)\n",
      "    Matchup('cibbl', '49187', 2, 922608, 922672)\n",
      "    Matchup('cibbl', '49187', 2, 854678, 876774)\n",
      "    Matchup('cibbl', '49187', 1, 897376, 924441)\n",
      "    Matchup('cibbl', '49187', 2, 897353, 924441)\n",
      "    Matchup('cibbl', '49187', 3, 854678, 897376)\n",
      "    Matchup('cibbl', '49187', 3, 922672, 924441)\n",
      "    Matchup('cibbl', '49187', 3, 897353, 922608)\n",
      "    Matchup('cibbl', '49187', 4, 876774, 897353)\n",
      "    Matchup('cibbl', '49187', 4, 854678, 924441)\n",
      "    Matchup('cibbl', '49187', 4, 897376, 922672)\n",
      "    Matchup('cibbl', '49187', 5, 876774, 924441)\n",
      "    Matchup('cibbl', '49187', 6, 876774, 922672)\n",
      "    Matchup('cibbl', '49187', 5, 897376, 922608)\n",
      "    Matchup('cibbl', '49187', 5, 854678, 897353)\n",
      "    Matchup('cibbl', '49187', 6, 854678, 922608)\n",
      "    Matchup('cibbl', '49187', 7, 922608, 924441)\n",
      "    Matchup('cibbl', '49187', 6, 897353, 897376)\n",
      "    Matchup('cibbl', '49187', 7, 897353, 922672)\n",
      "    Matchup('cibbl', '49187', 7, 876774, 897376)\n",
      "[49981] CIBBL - Y6, Summer - Youngbloods XXI\n",
      "    Matchup('cibbl', '49981', 1, 972129, 973318)\n",
      "    Matchup('cibbl', '49981', 1, 969324, 972099)\n",
      "    Matchup('cibbl', '49981', 2, 972099, 973318)\n",
      "    Matchup('cibbl', '49981', 2, 969324, 972129)\n",
      "    Matchup('cibbl', '49981', 3, 969324, 973318)\n",
      "    Matchup('cibbl', '49981', 3, 972099, 972129)\n",
      "[49992] CIBBL - Y6, Summer - Youngbloods XXII\n",
      "    Matchup('cibbl', '49992', 1, 973302, 973554)\n",
      "    Matchup('cibbl', '49992', 1, 970711, 973492)\n",
      "    Matchup('cibbl', '49992', 2, 970711, 973554)\n",
      "    Matchup('cibbl', '49992', 2, 973302, 973492)\n",
      "    Matchup('cibbl', '49992', 3, 970711, 973302)\n",
      "    Matchup('cibbl', '49992', 3, 973492, 973554)\n",
      "[50628] CIBBL - Y6, Summer - Youngbloods XXIII\n",
      "    Matchup('cibbl', '50628', 1, 977611, 979836)\n",
      "    Matchup('cibbl', '50628', 2, 979836, 980455)\n",
      "    Matchup('cibbl', '50628', 3, 977611, 980455)\n",
      "[50629] CIBBL - Y6, Summer - Youngbloods XXIV\n",
      "    Matchup('cibbl', '50629', 1, 979828, 980716)\n",
      "    Matchup('cibbl', '50629', 2, 977637, 979828)\n",
      "    Matchup('cibbl', '50629', 3, 977637, 980716)\n"
     ]
    }
   ],
   "source": [
    "for T in G.tournaments.values():\n",
    "    if T.season.name != \"Summer\":\n",
    "        continue\n",
    "    if not hasattr(T, \"style\") or T.style == \"Swiss\":\n",
    "        continue\n",
    "    T1 = T\n",
    "    print(T)\n",
    "    if int(T1.Id) < 49171:\n",
    "        continue\n",
    "    for M in T1.matchups:\n",
    "        print(f'    {M}')\n",
    "        M.config = M.calculate_config()"
   ]
  },
  {
   "cell_type": "code",
   "execution_count": 4,
   "metadata": {},
   "outputs": [
    {
     "name": "stdout",
     "output_type": "stream",
     "text": [
      "[42038] CIBBL - Year One, Summer - Heart of Glory\n",
      "[42041] CIBBL - Year One, Summer - Pearl Chalice\n",
      "[42172] CIBBL - Year One, Spring/Summer - The Great Ocean\n",
      "[42239] CIBBL - Year One, Spring/Summer - The Great Ocean\n",
      "[43149] CIBBL - Year Two, Summer - The Little Cup\n",
      "[44379] CIBBL - Y3, Summer - Lesser Dragon Grapple\n",
      "[44380] CIBBL - Y3, Summer - Exotic Creature Challenge (A)\n",
      "[44381] CIBBL - Y3, Summer - Exotic Creature Challenge (B)\n",
      "[44382] CIBBL - Y3, Summer - Exotic Creature Challenge R5\n",
      "[44384] CIBBL - Y3, Summer - Styles Clash (A)\n",
      "[44385] CIBBL - Y3, Summer - Styles Clash (B)\n",
      "[44386] CIBBL - Y3, Summer - Styles Clash R5\n",
      "[44388] CIBBL - Y3, Summer - Cup of Ancient Knowledge\n",
      "[44462] CIBBL - Y3, Summer - Youngbloods XI\n",
      "[44560] CIBBL - Y3, Summer - Youngbloods XII\n",
      "[44910] CIBBL - Y3, Summer - Youngbloods XIII\n",
      "[45662] CIBBL - Y4, Summer - Youngbloods XIV\n",
      "[47062] CIBBL - Y5, Summer - SCRIBBL Climax - Final\n",
      "[49047] CIBBL - Y6, Summer - Youngbloods XX\n",
      "[49171] CIBBL - Y6, Summer - CabalVision Morning Special\n",
      "[49172] CIBBL - Y6, Summer - CabalVision Late Night Special\n",
      "[49173] CIBBL - Y6, Summer - Inevitable City Wanderers Cup\n",
      "[49174] CIBBL - Y6, Summer - Athel Loren Green Thumb Cup\n",
      "[49175] CIBBL - Y6, Summer - Losterikson's Tournament\n",
      "[49176] CIBBL - Y6, Summer - Khemri Liche Bowl Cup\n",
      "[49178] CIBBL - Y6, Summer - City of Spires Beauty Pageant\n",
      "[49179] CIBBL - Y6, Summer - Brass Keep Tournament\n",
      "[49180] CIBBL - Y6, Summer - Eichenschatten Grand Feast\n",
      "[49181] CIBBL - Y6, Summer - Praag Invasion Tourney\n",
      "[49182] CIBBL - Y6, Summer - Karak Kadrin Clash\n",
      "[49183] CIBBL - Y6, Summer - Messerheim Invitational\n",
      "[49184] CIBBL - Y6, Summer - Skeggi Colonial Cup\n",
      "[49185] CIBBL - Y6, Summer - Weijin Grand Nobility Tourney\n",
      "[49186] CIBBL - Y6, Summer - Nuln Invitational\n",
      "[49187] CIBBL - Y6, Summer - The Gilded Throne\n",
      "[49981] CIBBL - Y6, Summer - Youngbloods XXI\n",
      "[49992] CIBBL - Y6, Summer - Youngbloods XXII\n",
      "[50628] CIBBL - Y6, Summer - Youngbloods XXIII\n",
      "[50629] CIBBL - Y6, Summer - Youngbloods XXIV\n"
     ]
    }
   ],
   "source": [
    "for T in G.tournaments.values():\n",
    "    if T.season.name != \"Summer\":\n",
    "        continue\n",
    "    if not hasattr(T, \"style\") or T.style == \"Swiss\":\n",
    "        continue\n",
    "    T1 = T\n",
    "    print(T)"
   ]
  },
  {
   "cell_type": "code",
   "execution_count": 5,
   "metadata": {},
   "outputs": [
    {
     "data": {
      "text/plain": [
       "Matchup('cibbl', '50629', 1, 979828, 980716)"
      ]
     },
     "execution_count": 5,
     "metadata": {},
     "output_type": "execute_result"
    }
   ],
   "source": [
    "T1.matchups[0]"
   ]
  },
  {
   "cell_type": "code",
   "execution_count": 6,
   "metadata": {},
   "outputs": [
    {
     "data": {
      "text/plain": [
       "{'!excluded': 'no', 'matchId': '4180703', 'player': {'979828': {'13379218': {'blocks': 3, 'fouls': 1, 'name': 'Griefbringer-Martial', 'turns': 8, 'type': 'R'}, '13379221': {'blocks': 8, 'name': 'Shadowdart-Revered', 'rush': 12, 'spp': 3, 'td': 1, 'turns': 16, 'type': 'R'}, '13379227': {'blocks': 4, 'dead': [2, 3, 'dodgeFail', None], 'name': 'Tempest of Talons-Revered', 'rush': 11, 'turns': 10, 'type': 'R'}, '13379235': {'blocks': 8, 'name': 'Khainemarked-Aristocratic', 'turns': 16, 'type': 'R'}, '13379243': {'blocks': 2, 'fouls': 1, 'name': 'Wyrmscale', 'turns': 8, 'type': 'R'}, '13379249': {'blocks': 2, 'name': 'Spiteheart', 'turns': 14, 'type': 'R'}, '13379254': {'blocks': 6, 'name': 'Soulblaze', 'turns': 14, 'type': 'R'}, '13379258': {'blocks': 5, 'fouls': 1, 'name': 'Serpentheart', 'turns': 16, 'type': 'R'}, '13379262': {'dead': [2, 1, 'fouled', '13392410'], 'name': 'Poisonblade', 'turns': 4, 'type': 'R'}, '13379265': {'blocks': 2, 'name': 'Headreaper', 'turns': 16, 'type': 'R'}, '13379277': {'blocks': 6, 'cas': 1, 'mvp': 1, 'name': 'Granitescence-Revered', 'rush': 11, 'spp': 10, 'td': 1, 'turns': 16, 'type': 'R'}}, '980716': {'13392396': {'blocks': 11, 'name': 'Blebious', 'turns': 16, 'type': 'R'}, '13392398': {'blocks': 9, 'name': 'Ulceruenza', 'turns': 16, 'type': 'R'}, '13392401': {'blocks': 11, 'name': 'Eczemeumon', 'turns': 16, 'type': 'R'}, '13392403': {'blocks': 3, 'name': 'Ebolintu', 'turns': 4, 'type': 'R'}, '13392405': {'blocks': 2, 'dead': [2, 5, 'blocked', '13379277'], 'name': 'Glutrastur', 'turns': 12, 'type': 'R'}, '13392407': {'blocks': 2, 'mvp': 1, 'name': 'Verrucius', 'rush': 1, 'spp': 5, 'turns': 13, 'type': 'R'}, '13392408': {'name': 'Bronkothia', 'turns': 7, 'type': 'R'}, '13392409': {'name': 'Glulgus', 'turns': 8, 'type': 'R'}, '13392410': {'fouls': 1, 'name': 'Festerid', 'turns': 11, 'type': 'R'}, '13392411': {'name': 'Ekscremustra', 'turns': 7, 'type': 'R'}, '13392412': {'blocks': 1, 'fouls': 2, 'name': 'Verrucosa', 'turns': 16, 'type': 'R'}, '13392413': {'blocks': 1, 'name': 'Yigulan', 'turns': 7, 'type': 'R'}, 'RAISED-27729_13379262_13409651': {'name': 'Poisonblade', 'type': 'D'}}}, 'replayId': '1293161', 'team': {'979828': {'blocks': 46, 'cas': 1, 'casdiff': 0, 'comp': 0, 'fouls': 3, 'int': 0, 'mvp': 1, 'name': 'Khainite Dreadlords', 'pass': 0, 'prespp': 0, 'prestige': 30, 'pts': 2, 'r': 'W', 'rush': 34, 'score': 2, 'scorediff': 2, 'td': 2, 'tddiff': 2, 'turns': 138}, '980716': {'blocks': 40, 'cas': 1, 'casdiff': 0, 'comp': 0, 'fouls': 3, 'int': 0, 'mvp': 1, 'name': \"Emperor's True Face\", 'pass': 0, 'prespp': 0, 'prestige': 0, 'pts': 0, 'r': 'L', 'rush': 1, 'score': 0, 'scorediff': -2, 'td': 0, 'tddiff': -2, 'turns': 133}}}"
      ]
     },
     "execution_count": 6,
     "metadata": {},
     "output_type": "execute_result"
    }
   ],
   "source": [
    "T1.matchups[0].config"
   ]
  },
  {
   "cell_type": "code",
   "execution_count": 7,
   "metadata": {},
   "outputs": [],
   "source": [
    "f = T1.matchups[0].calculate_config"
   ]
  },
  {
   "cell_type": "code",
   "execution_count": 14,
   "metadata": {},
   "outputs": [
    {
     "name": "stdout",
     "output_type": "stream",
     "text": [
      " "
     ]
    }
   ],
   "source": [
    "%prun f()"
   ]
  },
  {
   "cell_type": "code",
   "execution_count": 8,
   "metadata": {},
   "outputs": [
    {
     "name": "stdout",
     "output_type": "stream",
     "text": [
      "c:\\Users\\Szieberth\\Documents\\Repos\\cibblbibbl-data\\cache\\api-match\\04180703.json\n",
      "c:\\Users\\Szieberth\\Documents\\Repos\\cibblbibbl-data\\cache\\replay\\01293161.json\n",
      "c:\\Users\\Szieberth\\Documents\\Repos\\cibblbibbl-data\\replay\\01293161.json\n",
      "c:\\Users\\Szieberth\\Documents\\Repos\\cibblbibbl-data\\cache\\replay\\01293161.json\n",
      "c:\\Users\\Szieberth\\Documents\\Repos\\cibblbibbl-data\\cache\\lagacy-api-team\\00980716.json\n",
      "c:\\Users\\Szieberth\\Documents\\Repos\\cibblbibbl-data\\cache\\replay\\01293161.json\n",
      "c:\\Users\\Szieberth\\Documents\\Repos\\cibblbibbl-data\\cache\\api-team-matches\\00979828.json\n",
      "c:\\Users\\Szieberth\\Documents\\Repos\\cibblbibbl-data\\cache\\api-match\\04183970.json\n",
      "c:\\Users\\Szieberth\\Documents\\Repos\\cibblbibbl-data\\cache\\replay\\01296823.json\n",
      "c:\\Users\\Szieberth\\Documents\\Repos\\cibblbibbl-data\\replay\\01296823.json\n",
      "c:\\Users\\Szieberth\\Documents\\Repos\\cibblbibbl-data\\cache\\replay\\01296823.json\n",
      "c:\\Users\\Szieberth\\Documents\\Repos\\cibblbibbl-data\\cache\\replay\\01296823.json\n",
      "c:\\Users\\Szieberth\\Documents\\Repos\\cibblbibbl-data\\cache\\replay\\01296823.json\n",
      "c:\\Users\\Szieberth\\Documents\\Repos\\cibblbibbl-data\\cache\\replay\\01296823.json\n",
      "c:\\Users\\Szieberth\\Documents\\Repos\\cibblbibbl-data\\cache\\replay\\01296823.json\n",
      "c:\\Users\\Szieberth\\Documents\\Repos\\cibblbibbl-data\\cache\\replay\\01296823.json\n",
      "c:\\Users\\Szieberth\\Documents\\Repos\\cibblbibbl-data\\cache\\replay\\01296823.json\n",
      "c:\\Users\\Szieberth\\Documents\\Repos\\cibblbibbl-data\\cache\\replay\\01296823.json\n",
      "c:\\Users\\Szieberth\\Documents\\Repos\\cibblbibbl-data\\cache\\replay\\01296823.json\n",
      "c:\\Users\\Szieberth\\Documents\\Repos\\cibblbibbl-data\\cache\\replay\\01296823.json\n",
      "c:\\Users\\Szieberth\\Documents\\Repos\\cibblbibbl-data\\cache\\replay\\01296823.json\n",
      "c:\\Users\\Szieberth\\Documents\\Repos\\cibblbibbl-data\\cache\\replay\\01296823.json\n",
      "c:\\Users\\Szieberth\\Documents\\Repos\\cibblbibbl-data\\cache\\replay\\01296823.json\n",
      "c:\\Users\\Szieberth\\Documents\\Repos\\cibblbibbl-data\\cache\\replay\\01296823.json\n",
      "c:\\Users\\Szieberth\\Documents\\Repos\\cibblbibbl-data\\cache\\replay\\01296823.json\n",
      "c:\\Users\\Szieberth\\Documents\\Repos\\cibblbibbl-data\\cache\\replay\\01296823.json\n",
      "c:\\Users\\Szieberth\\Documents\\Repos\\cibblbibbl-data\\cache\\replay\\01296823.json\n",
      "c:\\Users\\Szieberth\\Documents\\Repos\\cibblbibbl-data\\cache\\api-team-matches\\00980716.json\n",
      "c:\\Users\\Szieberth\\Documents\\Repos\\cibblbibbl-data\\cache\\api-match\\04189216.json\n",
      "c:\\Users\\Szieberth\\Documents\\Repos\\cibblbibbl-data\\cache\\replay\\01302914.json\n",
      "c:\\Users\\Szieberth\\Documents\\Repos\\cibblbibbl-data\\replay\\01302914.json\n",
      "c:\\Users\\Szieberth\\Documents\\Repos\\cibblbibbl-data\\cache\\replay\\01302914.json\n",
      "c:\\Users\\Szieberth\\Documents\\Repos\\cibblbibbl-data\\cache\\replay\\01302914.json\n",
      "c:\\Users\\Szieberth\\Documents\\Repos\\cibblbibbl-data\\cache\\replay\\01302914.json\n",
      "c:\\Users\\Szieberth\\Documents\\Repos\\cibblbibbl-data\\cache\\replay\\01302914.json\n",
      "c:\\Users\\Szieberth\\Documents\\Repos\\cibblbibbl-data\\cache\\replay\\01302914.json\n",
      "c:\\Users\\Szieberth\\Documents\\Repos\\cibblbibbl-data\\cache\\replay\\01302914.json\n",
      "c:\\Users\\Szieberth\\Documents\\Repos\\cibblbibbl-data\\cache\\replay\\01302914.json\n",
      "c:\\Users\\Szieberth\\Documents\\Repos\\cibblbibbl-data\\cache\\replay\\01302914.json\n",
      "c:\\Users\\Szieberth\\Documents\\Repos\\cibblbibbl-data\\cache\\replay\\01302914.json\n",
      "c:\\Users\\Szieberth\\Documents\\Repos\\cibblbibbl-data\\cache\\replay\\01302914.json\n",
      "c:\\Users\\Szieberth\\Documents\\Repos\\cibblbibbl-data\\cache\\replay\\01302914.json\n",
      "c:\\Users\\Szieberth\\Documents\\Repos\\cibblbibbl-data\\cache\\replay\\01302914.json\n",
      "c:\\Users\\Szieberth\\Documents\\Repos\\cibblbibbl-data\\cache\\replay\\01302914.json\n",
      "c:\\Users\\Szieberth\\Documents\\Repos\\cibblbibbl-data\\cache\\replay\\01302914.json\n",
      "c:\\Users\\Szieberth\\Documents\\Repos\\cibblbibbl-data\\cache\\replay\\01302914.json\n",
      "c:\\Users\\Szieberth\\Documents\\Repos\\cibblbibbl-data\\cache\\replay\\01302914.json\n",
      "c:\\Users\\Szieberth\\Documents\\Repos\\cibblbibbl-data\\cache\\replay\\01302914.json\n",
      "c:\\Users\\Szieberth\\Documents\\Repos\\cibblbibbl-data\\cache\\replay\\01302914.json\n",
      "c:\\Users\\Szieberth\\Documents\\Repos\\cibblbibbl-data\\cache\\replay\\01302914.json\n",
      "c:\\Users\\Szieberth\\Documents\\Repos\\cibblbibbl-data\\cache\\replay\\01302914.json\n",
      "c:\\Users\\Szieberth\\Documents\\Repos\\cibblbibbl-data\\cache\\replay\\01302914.json\n",
      "c:\\Users\\Szieberth\\Documents\\Repos\\cibblbibbl-data\\cache\\replay\\01302914.json\n",
      "c:\\Users\\Szieberth\\Documents\\Repos\\cibblbibbl-data\\cache\\replay\\01302914.json\n"
     ]
    },
    {
     "data": {
      "text/plain": [
       "{'player': {'979828': {'13379218': {'name': 'Griefbringer-Martial',\n",
       "    'type': 'R',\n",
       "    'fouls': 1,\n",
       "    'turns': 8,\n",
       "    'blocks': 3},\n",
       "   '13379221': {'name': 'Shadowdart-Revered',\n",
       "    'type': 'R',\n",
       "    'rush': 12,\n",
       "    'turns': 16,\n",
       "    'td': 1,\n",
       "    'blocks': 8,\n",
       "    'spp': 3},\n",
       "   '13379227': {'name': 'Tempest of Talons-Revered',\n",
       "    'type': 'R',\n",
       "    'rush': 11,\n",
       "    'turns': 10,\n",
       "    'blocks': 4,\n",
       "    'dead': [2, 3, 'dodgeFail', None]},\n",
       "   '13379277': {'name': 'Granitescence-Revered',\n",
       "    'type': 'R',\n",
       "    'mvp': 1,\n",
       "    'rush': 11,\n",
       "    'turns': 16,\n",
       "    'cas': 1,\n",
       "    'td': 1,\n",
       "    'blocks': 6,\n",
       "    'spp': 10},\n",
       "   '13379235': {'name': 'Khainemarked-Aristocratic',\n",
       "    'type': 'R',\n",
       "    'turns': 16,\n",
       "    'blocks': 8},\n",
       "   '13379243': {'name': 'Wyrmscale',\n",
       "    'type': 'R',\n",
       "    'fouls': 1,\n",
       "    'turns': 8,\n",
       "    'blocks': 2},\n",
       "   '13379249': {'name': 'Spiteheart', 'type': 'R', 'turns': 14, 'blocks': 2},\n",
       "   '13379254': {'name': 'Soulblaze', 'type': 'R', 'turns': 14, 'blocks': 6},\n",
       "   '13379258': {'name': 'Serpentheart',\n",
       "    'type': 'R',\n",
       "    'fouls': 1,\n",
       "    'turns': 16,\n",
       "    'blocks': 5},\n",
       "   '13379262': {'name': 'Poisonblade',\n",
       "    'type': 'R',\n",
       "    'turns': 4,\n",
       "    'dead': [2, 1, 'fouled', '13392410']},\n",
       "   '13379265': {'name': 'Headreaper', 'type': 'R', 'turns': 16, 'blocks': 2}},\n",
       "  '980716': {'13392396': {'name': 'Blebious',\n",
       "    'type': 'R',\n",
       "    'turns': 16,\n",
       "    'blocks': 11},\n",
       "   '13392398': {'name': 'Ulceruenza', 'type': 'R', 'turns': 16, 'blocks': 9},\n",
       "   '13392401': {'name': 'Eczemeumon', 'type': 'R', 'turns': 16, 'blocks': 11},\n",
       "   '13392403': {'name': 'Ebolintu', 'type': 'R', 'turns': 4, 'blocks': 3},\n",
       "   '13392405': {'name': 'Glutrastur',\n",
       "    'type': 'R',\n",
       "    'turns': 12,\n",
       "    'blocks': 2,\n",
       "    'dead': [2, 5, 'blocked', '13379277']},\n",
       "   '13392407': {'name': 'Verrucius',\n",
       "    'type': 'R',\n",
       "    'mvp': 1,\n",
       "    'rush': 1,\n",
       "    'turns': 13,\n",
       "    'blocks': 2,\n",
       "    'spp': 5},\n",
       "   '13392408': {'name': 'Bronkothia', 'type': 'R', 'turns': 7},\n",
       "   '13392409': {'name': 'Glulgus', 'type': 'R', 'turns': 8},\n",
       "   '13392410': {'name': 'Festerid', 'type': 'R', 'fouls': 1, 'turns': 11},\n",
       "   '13392411': {'name': 'Ekscremustra', 'type': 'R', 'turns': 7},\n",
       "   '13392413': {'name': 'Yigulan', 'type': 'R', 'turns': 7, 'blocks': 1},\n",
       "   '13392412': {'name': 'Verrucosa',\n",
       "    'type': 'R',\n",
       "    'fouls': 2,\n",
       "    'turns': 16,\n",
       "    'blocks': 1},\n",
       "   'RAISED-27729_13379262_13409651': {'name': 'Poisonblade', 'type': 'D'}}},\n",
       " 'team': {'979828': {'name': 'Khainite Dreadlords',\n",
       "   'fouls': 3,\n",
       "   'mvp': 1,\n",
       "   'comp': 0,\n",
       "   'rush': 34,\n",
       "   'pass': 0,\n",
       "   'prespp': 0,\n",
       "   'turns': 138,\n",
       "   'td': 2,\n",
       "   'int': 0,\n",
       "   'blocks': 46,\n",
       "   'score': 2,\n",
       "   'cas': 1,\n",
       "   'r': 'W',\n",
       "   'tddiff': 2,\n",
       "   'scorediff': 2,\n",
       "   'casdiff': 0,\n",
       "   'pts': 3,\n",
       "   'prestige': 30},\n",
       "  '980716': {'name': \"Emperor's True Face\",\n",
       "   'fouls': 3,\n",
       "   'mvp': 1,\n",
       "   'comp': 0,\n",
       "   'rush': 1,\n",
       "   'pass': 0,\n",
       "   'prespp': 0,\n",
       "   'turns': 133,\n",
       "   'td': 0,\n",
       "   'int': 0,\n",
       "   'blocks': 40,\n",
       "   'score': 0,\n",
       "   'cas': 1,\n",
       "   'r': 'L',\n",
       "   'tddiff': -2,\n",
       "   'scorediff': -2,\n",
       "   'casdiff': 0,\n",
       "   'pts': 0,\n",
       "   'prestige': 0}},\n",
       " 'matchId': '4180703',\n",
       " 'replayId': '1293161',\n",
       " '!excluded': 'no'}"
      ]
     },
     "execution_count": 8,
     "metadata": {},
     "output_type": "execute_result"
    }
   ],
   "source": [
    "f()"
   ]
  },
  {
   "cell_type": "code",
   "execution_count": 5,
   "metadata": {},
   "outputs": [],
   "source": [
    "Ts = set()"
   ]
  },
  {
   "cell_type": "code",
   "execution_count": 6,
   "metadata": {},
   "outputs": [],
   "source": [
    "for T in G.tournaments.values():\n",
    "    if T.season.name != \"Summer\":\n",
    "        continue\n",
    "    if not hasattr(T, \"style\") or T.style == \"Swiss\":\n",
    "        continue\n",
    "    T1 = T\n",
    "    Ts.add(T1)\n",
    "    T1.awarded = \"no\""
   ]
  },
  {
   "cell_type": "code",
   "execution_count": 9,
   "metadata": {},
   "outputs": [
    {
     "name": "stdout",
     "output_type": "stream",
     "text": [
      "Winter's Glory([41656] CIBBL - Year One, Winter, [854678] Lords of the Silent Death)\n"
     ]
    }
   ],
   "source": [
    "L = sorted(G.achievements)\n",
    "print(L[0])"
   ]
  },
  {
   "cell_type": "code",
   "execution_count": 10,
   "metadata": {},
   "outputs": [
    {
     "data": {
      "text/plain": [
       "TA_WintersGlory('ta_wintersglory', Tournament('cibbl', '41656'), Team(854678))"
      ]
     },
     "execution_count": 10,
     "metadata": {},
     "output_type": "execute_result"
    }
   ],
   "source": [
    "L[0]"
   ]
  },
  {
   "cell_type": "code",
   "execution_count": 16,
   "metadata": {},
   "outputs": [
    {
     "data": {
      "text/plain": [
       "('ta_wintersglory', Tournament('cibbl', '41656'), Team(854678))"
      ]
     },
     "execution_count": 16,
     "metadata": {},
     "output_type": "execute_result"
    }
   ],
   "source": [
    "L[0].key"
   ]
  },
  {
   "cell_type": "code",
   "execution_count": 17,
   "metadata": {},
   "outputs": [
    {
     "name": "stdout",
     "output_type": "stream",
     "text": [
      "Standings Prestige([42038] CIBBL - Year One, Summer - Heart of Glory, [855072] Carcassonne Knights)\n",
      "Standings Prestige([42038] CIBBL - Year One, Summer - Heart of Glory, [854690] Secret Cult Of Shiamoto)\n",
      "Standings Prestige([42038] CIBBL - Year One, Summer - Heart of Glory, [854507] Coven of the Mirrored Hall)\n",
      "Standings Prestige([42038] CIBBL - Year One, Summer - Heart of Glory, [862033] Forsaken of the Pantheon)\n",
      "Standings Prestige([42041] CIBBL - Year One, Summer - Pearl Chalice, [854678] Lords of the Silent Death)\n",
      "Standings Prestige([42041] CIBBL - Year One, Summer - Pearl Chalice, [854257] Grand Celestial Delegate)\n",
      "Standings Prestige([42041] CIBBL - Year One, Summer - Pearl Chalice, [855120] Trantio Dragon Hawks)\n",
      "Standings Prestige([42041] CIBBL - Year One, Summer - Pearl Chalice, [855753] Nejaz Djinn)\n",
      "Standings Prestige([42239] CIBBL - Year One, Spring/Summer - The Great Ocean, [863440] Doom of Athelorn)\n",
      "Standings Prestige([42239] CIBBL - Year One, Spring/Summer - The Great Ocean, [863441] Tor Anroc Anglers)\n",
      "Standings Prestige([42239] CIBBL - Year One, Spring/Summer - The Great Ocean, [864291] Norscan Curse)\n",
      "Standings Prestige([42239] CIBBL - Year One, Spring/Summer - The Great Ocean, [864588] Blackmud Tridents)\n",
      "Standings Prestige([43149] CIBBL - Year Two, Summer - The Little Cup, [879779] Nightmares Made Flesh)\n",
      "Standings Prestige([43149] CIBBL - Year Two, Summer - The Little Cup, [878945] Eternal Ecstasy)\n",
      "Standings Prestige([43149] CIBBL - Year Two, Summer - The Little Cup, [880296] Lamentations of Mahrak)\n",
      "Standings Prestige([43149] CIBBL - Year Two, Summer - The Little Cup, [876402] Hunters Of Kurnous)\n",
      "Standings Prestige([44379] CIBBL - Y3, Summer - Lesser Dragon Grapple, [876774] Congregation of Holy Touchdown)\n",
      "Standings Prestige([44379] CIBBL - Y3, Summer - Lesser Dragon Grapple, [873759] Knightly Virtues)\n",
      "Standings Prestige([44379] CIBBL - Y3, Summer - Lesser Dragon Grapple, [883051] Vostok Iron Head)\n",
      "Standings Prestige([44379] CIBBL - Y3, Summer - Lesser Dragon Grapple, [854257] Grand Celestial Delegate)\n",
      "Standings Prestige([44382] CIBBL - Y3, Summer - Exotic Creature Challenge R5, [874317] Misty Isle Gators)\n",
      "Standings Prestige([44382] CIBBL - Y3, Summer - Exotic Creature Challenge R5, [869156] Talsyn Tramplers)\n",
      "Standings Prestige([44382] CIBBL - Y3, Summer - Exotic Creature Challenge R5, [896277] Thirteenth Circle Abominations)\n",
      "Standings Prestige([44382] CIBBL - Y3, Summer - Exotic Creature Challenge R5, [888994] Beerbog Behemoths)\n",
      "Standings Prestige([44382] CIBBL - Y3, Summer - Exotic Creature Challenge R5, [889245] Shroomwood Attercops)\n",
      "Standings Prestige([44382] CIBBL - Y3, Summer - Exotic Creature Challenge R5, [892248] Crimson Fins)\n",
      "Standings Prestige([44386] CIBBL - Y3, Summer - Styles Clash R5, [863441] Tor Anroc Anglers)\n",
      "Standings Prestige([44386] CIBBL - Y3, Summer - Styles Clash R5, [854690] Secret Cult Of Shiamoto)\n",
      "Standings Prestige([44386] CIBBL - Y3, Summer - Styles Clash R5, [874437] Bigwood Tree Shmashaz)\n",
      "Standings Prestige([44386] CIBBL - Y3, Summer - Styles Clash R5, [871787] Malignant Curators)\n",
      "Standings Prestige([44386] CIBBL - Y3, Summer - Styles Clash R5, [874966] Modryn's Midnight Meddlers)\n",
      "Standings Prestige([44386] CIBBL - Y3, Summer - Styles Clash R5, [886114] Eye and Arrow)\n",
      "Standings Prestige([44388] CIBBL - Y3, Summer - Cup of Ancient Knowledge, [889002] Offa's Hearthweru)\n",
      "Standings Prestige([44388] CIBBL - Y3, Summer - Cup of Ancient Knowledge, [889232] Lost Golems of Grungni)\n",
      "Standings Prestige([44388] CIBBL - Y3, Summer - Cup of Ancient Knowledge, [898337] Mahrak Maulers)\n",
      "Standings Prestige([44388] CIBBL - Y3, Summer - Cup of Ancient Knowledge, [891260] Library of Indra)\n",
      "Standings Prestige([44462] CIBBL - Y3, Summer - Youngbloods XI, [898507] Leicheberg Lycans)\n",
      "Standings Prestige([44462] CIBBL - Y3, Summer - Youngbloods XI, [898506] Shambling Revenants)\n",
      "Standings Prestige([44462] CIBBL - Y3, Summer - Youngbloods XI, [897963] Albion Four Colour Knights)\n",
      "Standings Prestige([44462] CIBBL - Y3, Summer - Youngbloods XI, [898574] Revenge Street Reapers)\n",
      "Standings Prestige([44560] CIBBL - Y3, Summer - Youngbloods XII, [899682] K'r'shh Sl'ppr'ss)\n",
      "Standings Prestige([44560] CIBBL - Y3, Summer - Youngbloods XII, [900708] Tartarik Kowaz)\n",
      "Standings Prestige([44560] CIBBL - Y3, Summer - Youngbloods XII, [900435] Snurre Gunnars)\n",
      "Standings Prestige([44560] CIBBL - Y3, Summer - Youngbloods XII, [900578] Followers of the First Count)\n",
      "Standings Prestige([44910] CIBBL - Y3, Summer - Youngbloods XIII, [904411] Ynys Morion Mabsantwyr)\n",
      "Standings Prestige([44910] CIBBL - Y3, Summer - Youngbloods XIII, [905886] Sabre Mountain Rattlers)\n",
      "Standings Prestige([44910] CIBBL - Y3, Summer - Youngbloods XIII, [905924] Squill's Squig Pitt)\n",
      "Standings Prestige([44910] CIBBL - Y3, Summer - Youngbloods XIII, [904377] Aurons)\n",
      "Standings Prestige([45662] CIBBL - Y4, Summer - Youngbloods XIV, [916031] Gorthor's Prophets Of Mork)\n",
      "Standings Prestige([45662] CIBBL - Y4, Summer - Youngbloods XIV, [916230] Mourkain Kings)\n",
      "Standings Prestige([45662] CIBBL - Y4, Summer - Youngbloods XIV, [916217] Cloven Clan)\n",
      "Standings Prestige([45662] CIBBL - Y4, Summer - Youngbloods XIV, [915893] Loren's Rebuke)\n",
      "Standings Prestige([47062] CIBBL - Y5, Summer - SCRIBBL Climax - Final, [897376] Darkenwood Sentinels)\n",
      "Standings Prestige([49047] CIBBL - Y6, Summer - Youngbloods XX, [961386] Sandstorm of Settra)\n",
      "Standings Prestige([49047] CIBBL - Y6, Summer - Youngbloods XX, [962764] Queen Amphinome's Revenge)\n",
      "Standings Prestige([49047] CIBBL - Y6, Summer - Youngbloods XX, [959010] Towering Titans of Tartarox)\n",
      "Standings Prestige([49047] CIBBL - Y6, Summer - Youngbloods XX, [959342] Arachnarok's Forest Breeds)\n"
     ]
    }
   ],
   "source": [
    "for A in L:\n",
    "    if A.key[0] != 'tp_standings':\n",
    "        continue\n",
    "    if A.key[1] not in Ts:\n",
    "        continue\n",
    "    print(A)"
   ]
  },
  {
   "cell_type": "code",
   "execution_count": 18,
   "metadata": {},
   "outputs": [
    {
     "name": "stdout",
     "output_type": "stream",
     "text": [
      "Standings Prestige([42038] CIBBL - Year One, Summer - Heart of Glory, [855072] Carcassonne Knights)\n",
      "Standings Prestige([42038] CIBBL - Year One, Summer - Heart of Glory, [854690] Secret Cult Of Shiamoto)\n",
      "Standings Prestige([42038] CIBBL - Year One, Summer - Heart of Glory, [854507] Coven of the Mirrored Hall)\n",
      "Standings Prestige([42038] CIBBL - Year One, Summer - Heart of Glory, [862033] Forsaken of the Pantheon)\n",
      "Standings Prestige([42041] CIBBL - Year One, Summer - Pearl Chalice, [854678] Lords of the Silent Death)\n",
      "Standings Prestige([42041] CIBBL - Year One, Summer - Pearl Chalice, [854257] Grand Celestial Delegate)\n",
      "Standings Prestige([42041] CIBBL - Year One, Summer - Pearl Chalice, [855120] Trantio Dragon Hawks)\n",
      "Standings Prestige([42041] CIBBL - Year One, Summer - Pearl Chalice, [855753] Nejaz Djinn)\n",
      "Standings Prestige([42239] CIBBL - Year One, Spring/Summer - The Great Ocean, [863440] Doom of Athelorn)\n",
      "Standings Prestige([42239] CIBBL - Year One, Spring/Summer - The Great Ocean, [863441] Tor Anroc Anglers)\n",
      "Standings Prestige([42239] CIBBL - Year One, Spring/Summer - The Great Ocean, [864291] Norscan Curse)\n",
      "Standings Prestige([42239] CIBBL - Year One, Spring/Summer - The Great Ocean, [864588] Blackmud Tridents)\n",
      "Standings Prestige([43149] CIBBL - Year Two, Summer - The Little Cup, [879779] Nightmares Made Flesh)\n",
      "Standings Prestige([43149] CIBBL - Year Two, Summer - The Little Cup, [878945] Eternal Ecstasy)\n",
      "Standings Prestige([43149] CIBBL - Year Two, Summer - The Little Cup, [880296] Lamentations of Mahrak)\n",
      "Standings Prestige([43149] CIBBL - Year Two, Summer - The Little Cup, [876402] Hunters Of Kurnous)\n",
      "Standings Prestige([44379] CIBBL - Y3, Summer - Lesser Dragon Grapple, [876774] Congregation of Holy Touchdown)\n",
      "Standings Prestige([44379] CIBBL - Y3, Summer - Lesser Dragon Grapple, [873759] Knightly Virtues)\n",
      "Standings Prestige([44379] CIBBL - Y3, Summer - Lesser Dragon Grapple, [883051] Vostok Iron Head)\n",
      "Standings Prestige([44379] CIBBL - Y3, Summer - Lesser Dragon Grapple, [854257] Grand Celestial Delegate)\n",
      "Standings Prestige([44382] CIBBL - Y3, Summer - Exotic Creature Challenge R5, [874317] Misty Isle Gators)\n",
      "Standings Prestige([44382] CIBBL - Y3, Summer - Exotic Creature Challenge R5, [869156] Talsyn Tramplers)\n",
      "Standings Prestige([44382] CIBBL - Y3, Summer - Exotic Creature Challenge R5, [896277] Thirteenth Circle Abominations)\n",
      "Standings Prestige([44382] CIBBL - Y3, Summer - Exotic Creature Challenge R5, [888994] Beerbog Behemoths)\n",
      "Standings Prestige([44382] CIBBL - Y3, Summer - Exotic Creature Challenge R5, [889245] Shroomwood Attercops)\n",
      "Standings Prestige([44382] CIBBL - Y3, Summer - Exotic Creature Challenge R5, [892248] Crimson Fins)\n",
      "Standings Prestige([44386] CIBBL - Y3, Summer - Styles Clash R5, [863441] Tor Anroc Anglers)\n",
      "Standings Prestige([44386] CIBBL - Y3, Summer - Styles Clash R5, [854690] Secret Cult Of Shiamoto)\n",
      "Standings Prestige([44386] CIBBL - Y3, Summer - Styles Clash R5, [874437] Bigwood Tree Shmashaz)\n",
      "Standings Prestige([44386] CIBBL - Y3, Summer - Styles Clash R5, [871787] Malignant Curators)\n",
      "Standings Prestige([44386] CIBBL - Y3, Summer - Styles Clash R5, [874966] Modryn's Midnight Meddlers)\n",
      "Standings Prestige([44386] CIBBL - Y3, Summer - Styles Clash R5, [886114] Eye and Arrow)\n",
      "Standings Prestige([44388] CIBBL - Y3, Summer - Cup of Ancient Knowledge, [889002] Offa's Hearthweru)\n",
      "Standings Prestige([44388] CIBBL - Y3, Summer - Cup of Ancient Knowledge, [889232] Lost Golems of Grungni)\n",
      "Standings Prestige([44388] CIBBL - Y3, Summer - Cup of Ancient Knowledge, [898337] Mahrak Maulers)\n",
      "Standings Prestige([44388] CIBBL - Y3, Summer - Cup of Ancient Knowledge, [891260] Library of Indra)\n",
      "Standings Prestige([44462] CIBBL - Y3, Summer - Youngbloods XI, [898507] Leicheberg Lycans)\n",
      "Standings Prestige([44462] CIBBL - Y3, Summer - Youngbloods XI, [898506] Shambling Revenants)\n",
      "Standings Prestige([44462] CIBBL - Y3, Summer - Youngbloods XI, [897963] Albion Four Colour Knights)\n",
      "Standings Prestige([44462] CIBBL - Y3, Summer - Youngbloods XI, [898574] Revenge Street Reapers)\n",
      "Standings Prestige([44560] CIBBL - Y3, Summer - Youngbloods XII, [899682] K'r'shh Sl'ppr'ss)\n",
      "Standings Prestige([44560] CIBBL - Y3, Summer - Youngbloods XII, [900708] Tartarik Kowaz)\n",
      "Standings Prestige([44560] CIBBL - Y3, Summer - Youngbloods XII, [900435] Snurre Gunnars)\n",
      "Standings Prestige([44560] CIBBL - Y3, Summer - Youngbloods XII, [900578] Followers of the First Count)\n",
      "Standings Prestige([44910] CIBBL - Y3, Summer - Youngbloods XIII, [904411] Ynys Morion Mabsantwyr)\n",
      "Standings Prestige([44910] CIBBL - Y3, Summer - Youngbloods XIII, [905886] Sabre Mountain Rattlers)\n",
      "Standings Prestige([44910] CIBBL - Y3, Summer - Youngbloods XIII, [905924] Squill's Squig Pitt)\n",
      "Standings Prestige([44910] CIBBL - Y3, Summer - Youngbloods XIII, [904377] Aurons)\n",
      "Standings Prestige([45662] CIBBL - Y4, Summer - Youngbloods XIV, [916031] Gorthor's Prophets Of Mork)\n",
      "Standings Prestige([45662] CIBBL - Y4, Summer - Youngbloods XIV, [916230] Mourkain Kings)\n",
      "Standings Prestige([45662] CIBBL - Y4, Summer - Youngbloods XIV, [916217] Cloven Clan)\n",
      "Standings Prestige([45662] CIBBL - Y4, Summer - Youngbloods XIV, [915893] Loren's Rebuke)\n",
      "Standings Prestige([47062] CIBBL - Y5, Summer - SCRIBBL Climax - Final, [897376] Darkenwood Sentinels)\n",
      "Standings Prestige([49047] CIBBL - Y6, Summer - Youngbloods XX, [961386] Sandstorm of Settra)\n",
      "Standings Prestige([49047] CIBBL - Y6, Summer - Youngbloods XX, [962764] Queen Amphinome's Revenge)\n",
      "Standings Prestige([49047] CIBBL - Y6, Summer - Youngbloods XX, [959010] Towering Titans of Tartarox)\n",
      "Standings Prestige([49047] CIBBL - Y6, Summer - Youngbloods XX, [959342] Arachnarok's Forest Breeds)\n"
     ]
    }
   ],
   "source": [
    "for A in L:\n",
    "    if A.key[0] != 'tp_standings':\n",
    "        continue\n",
    "    if A.key[1] not in Ts:\n",
    "        continue\n",
    "    print(A)\n",
    "    del A.config\n",
    "    del A"
   ]
  },
  {
   "cell_type": "code",
   "execution_count": null,
   "metadata": {},
   "outputs": [],
   "source": [
    "--------------- restart kernel"
   ]
  },
  {
   "cell_type": "code",
   "execution_count": 1,
   "metadata": {},
   "outputs": [],
   "source": [
    "import collections\n",
    "import copy\n",
    "import datetime\n",
    "import itertools\n",
    "import sys\n",
    "\n",
    "import json\n",
    "import pathlib\n",
    "import re\n",
    "from pprint import pprint\n",
    "\n",
    "import nest_asyncio\n",
    "nest_asyncio.apply()\n",
    "import texttable\n",
    "\n",
    "import pytourney\n",
    "import pyfumbbl\n",
    "import cibblbibbl\n",
    "\n",
    "from cibblbibbl import bbcode"
   ]
  },
  {
   "cell_type": "code",
   "execution_count": 2,
   "metadata": {},
   "outputs": [],
   "source": [
    "show_Ids = True\n",
    "G = cibblbibbl.CIBBL\n",
    "Achievement = cibblbibbl.achievement.Achievement\n",
    "Team = cibblbibbl.team.Team\n",
    "player = cibblbibbl.player.player\n",
    "Match = cibblbibbl.match.Match\n",
    "Matchup = cibblbibbl.matchup.Matchup\n",
    "Replay = cibblbibbl.replay.Replay\n",
    "Tournament = cibblbibbl.tournament.handler.default.Tournament\n",
    "NormalPlayer = cibblbibbl.player.NormalPlayer\n",
    "StarPlayer = cibblbibbl.player.StarPlayer"
   ]
  },
  {
   "cell_type": "code",
   "execution_count": 3,
   "metadata": {},
   "outputs": [],
   "source": [
    "G.init()"
   ]
  },
  {
   "cell_type": "code",
   "execution_count": 22,
   "metadata": {},
   "outputs": [],
   "source": [
    "Ts = set()"
   ]
  },
  {
   "cell_type": "code",
   "execution_count": 23,
   "metadata": {},
   "outputs": [],
   "source": [
    "for T in G.tournaments.values():\n",
    "    if T.season.name != \"Summer\":\n",
    "        continue\n",
    "    if not hasattr(T, \"style\") or T.style == \"Swiss\":\n",
    "        continue\n",
    "    if 6 <= T.year.nr:\n",
    "        continue\n",
    "    Ts.add(T)\n",
    "    T1 = T\n",
    "    T1.awarded = \"yes\""
   ]
  },
  {
   "cell_type": "code",
   "execution_count": 13,
   "metadata": {},
   "outputs": [],
   "source": [
    "L = sorted(G.achievements)"
   ]
  },
  {
   "cell_type": "code",
   "execution_count": 14,
   "metadata": {},
   "outputs": [
    {
     "name": "stdout",
     "output_type": "stream",
     "text": [
      "Standings Prestige([42038] CIBBL - Year One, Summer - Heart of Glory, [855072] Carcassonne Knights)\n",
      "Standings Prestige([42038] CIBBL - Year One, Summer - Heart of Glory, [854690] Secret Cult Of Shiamoto)\n",
      "Standings Prestige([42038] CIBBL - Year One, Summer - Heart of Glory, [854507] Coven of the Mirrored Hall)\n",
      "Standings Prestige([42038] CIBBL - Year One, Summer - Heart of Glory, [862033] Forsaken of the Pantheon)\n",
      "Standings Prestige([42041] CIBBL - Year One, Summer - Pearl Chalice, [854678] Lords of the Silent Death)\n",
      "Standings Prestige([42041] CIBBL - Year One, Summer - Pearl Chalice, [854257] Grand Celestial Delegate)\n",
      "Standings Prestige([42041] CIBBL - Year One, Summer - Pearl Chalice, [855120] Trantio Dragon Hawks)\n",
      "Standings Prestige([42041] CIBBL - Year One, Summer - Pearl Chalice, [855753] Nejaz Djinn)\n",
      "Standings Prestige([42239] CIBBL - Year One, Spring/Summer - The Great Ocean, [863441] Tor Anroc Anglers)\n",
      "Standings Prestige([42239] CIBBL - Year One, Spring/Summer - The Great Ocean, [863440] Doom of Athelorn)\n",
      "Standings Prestige([42239] CIBBL - Year One, Spring/Summer - The Great Ocean, [864291] Norscan Curse)\n",
      "Standings Prestige([42239] CIBBL - Year One, Spring/Summer - The Great Ocean, [864588] Blackmud Tridents)\n",
      "Standings Prestige([43149] CIBBL - Year Two, Summer - The Little Cup, [879779] Nightmares Made Flesh)\n",
      "Standings Prestige([43149] CIBBL - Year Two, Summer - The Little Cup, [878945] Eternal Ecstasy)\n",
      "Standings Prestige([43149] CIBBL - Year Two, Summer - The Little Cup, [880296] Lamentations of Mahrak)\n",
      "Standings Prestige([43149] CIBBL - Year Two, Summer - The Little Cup, [876402] Hunters Of Kurnous)\n",
      "Standings Prestige([44379] CIBBL - Y3, Summer - Lesser Dragon Grapple, [876774] Congregation of Holy Touchdown)\n",
      "Standings Prestige([44379] CIBBL - Y3, Summer - Lesser Dragon Grapple, [873759] Knightly Virtues)\n",
      "Standings Prestige([44379] CIBBL - Y3, Summer - Lesser Dragon Grapple, [883051] Vostok Iron Head)\n",
      "Standings Prestige([44379] CIBBL - Y3, Summer - Lesser Dragon Grapple, [854257] Grand Celestial Delegate)\n",
      "Standings Prestige([44382] CIBBL - Y3, Summer - Exotic Creature Challenge R5, [874317] Misty Isle Gators)\n",
      "Standings Prestige([44382] CIBBL - Y3, Summer - Exotic Creature Challenge R5, [869156] Talsyn Tramplers)\n",
      "Standings Prestige([44382] CIBBL - Y3, Summer - Exotic Creature Challenge R5, [896277] Thirteenth Circle Abominations)\n",
      "Standings Prestige([44382] CIBBL - Y3, Summer - Exotic Creature Challenge R5, [888994] Beerbog Behemoths)\n",
      "Standings Prestige([44382] CIBBL - Y3, Summer - Exotic Creature Challenge R5, [889245] Shroomwood Attercops)\n",
      "Standings Prestige([44382] CIBBL - Y3, Summer - Exotic Creature Challenge R5, [872475] True Roots of Khaine)\n",
      "Standings Prestige([44386] CIBBL - Y3, Summer - Styles Clash R5, [863441] Tor Anroc Anglers)\n",
      "Standings Prestige([44386] CIBBL - Y3, Summer - Styles Clash R5, [854690] Secret Cult Of Shiamoto)\n",
      "Standings Prestige([44386] CIBBL - Y3, Summer - Styles Clash R5, [874437] Bigwood Tree Shmashaz)\n",
      "Standings Prestige([44386] CIBBL - Y3, Summer - Styles Clash R5, [871787] Malignant Curators)\n",
      "Standings Prestige([44386] CIBBL - Y3, Summer - Styles Clash R5, [874966] Modryn's Midnight Meddlers)\n",
      "Standings Prestige([44386] CIBBL - Y3, Summer - Styles Clash R5, [886114] Eye and Arrow)\n",
      "Standings Prestige([44388] CIBBL - Y3, Summer - Cup of Ancient Knowledge, [889232] Lost Golems of Grungni)\n",
      "Standings Prestige([44388] CIBBL - Y3, Summer - Cup of Ancient Knowledge, [889002] Offa's Hearthweru)\n",
      "Standings Prestige([44388] CIBBL - Y3, Summer - Cup of Ancient Knowledge, [898337] Mahrak Maulers)\n",
      "Standings Prestige([44388] CIBBL - Y3, Summer - Cup of Ancient Knowledge, [891260] Library of Indra)\n",
      "Standings Prestige([44462] CIBBL - Y3, Summer - Youngbloods XI, [898507] Leicheberg Lycans)\n",
      "Standings Prestige([44462] CIBBL - Y3, Summer - Youngbloods XI, [898506] Shambling Revenants)\n",
      "Standings Prestige([44462] CIBBL - Y3, Summer - Youngbloods XI, [897963] Albion Four Colour Knights)\n",
      "Standings Prestige([44462] CIBBL - Y3, Summer - Youngbloods XI, [898574] Revenge Street Reapers)\n",
      "Standings Prestige([44560] CIBBL - Y3, Summer - Youngbloods XII, [899682] K'r'shh Sl'ppr'ss)\n",
      "Standings Prestige([44560] CIBBL - Y3, Summer - Youngbloods XII, [900708] Tartarik Kowaz)\n",
      "Standings Prestige([44560] CIBBL - Y3, Summer - Youngbloods XII, [900435] Snurre Gunnars)\n",
      "Standings Prestige([44560] CIBBL - Y3, Summer - Youngbloods XII, [900578] Followers of the First Count)\n",
      "Standings Prestige([44910] CIBBL - Y3, Summer - Youngbloods XIII, [904411] Ynys Morion Mabsantwyr)\n",
      "Standings Prestige([44910] CIBBL - Y3, Summer - Youngbloods XIII, [905886] Sabre Mountain Rattlers)\n",
      "Standings Prestige([44910] CIBBL - Y3, Summer - Youngbloods XIII, [905924] Squill's Squig Pitt)\n",
      "Standings Prestige([44910] CIBBL - Y3, Summer - Youngbloods XIII, [904377] Aurons)\n",
      "Standings Prestige([45662] CIBBL - Y4, Summer - Youngbloods XIV, [916031] Gorthor's Prophets Of Mork)\n",
      "Standings Prestige([45662] CIBBL - Y4, Summer - Youngbloods XIV, [916230] Mourkain Kings)\n",
      "Standings Prestige([45662] CIBBL - Y4, Summer - Youngbloods XIV, [916217] Cloven Clan)\n",
      "Standings Prestige([45662] CIBBL - Y4, Summer - Youngbloods XIV, [915893] Loren's Rebuke)\n",
      "Standings Prestige([47062] CIBBL - Y5, Summer - SCRIBBL Climax - Final, [897376] Darkenwood Sentinels)\n",
      "Standings Prestige([49047] CIBBL - Y6, Summer - Youngbloods XX, [961386] Sandstorm of Settra)\n",
      "Standings Prestige([49047] CIBBL - Y6, Summer - Youngbloods XX, [962764] Queen Amphinome's Revenge)\n",
      "Standings Prestige([49047] CIBBL - Y6, Summer - Youngbloods XX, [959010] Towering Titans of Tartarox)\n",
      "Standings Prestige([49047] CIBBL - Y6, Summer - Youngbloods XX, [959342] Arachnarok's Forest Breeds)\n"
     ]
    }
   ],
   "source": [
    "for A in L:\n",
    "    if A.key[0] != 'tp_standings':\n",
    "        continue\n",
    "    if A.key[1] not in Ts:\n",
    "        continue\n",
    "    print(A)\n",
    "    A[\"status\"] = \"awarded\""
   ]
  },
  {
   "cell_type": "code",
   "execution_count": 15,
   "metadata": {},
   "outputs": [],
   "source": [
    "T = G.tournaments[\"49047\"]"
   ]
  },
  {
   "cell_type": "code",
   "execution_count": 20,
   "metadata": {},
   "outputs": [
    {
     "data": {
      "text/plain": [
       "6"
      ]
     },
     "execution_count": 20,
     "metadata": {},
     "output_type": "execute_result"
    }
   ],
   "source": [
    "T.year.nr"
   ]
  },
  {
   "cell_type": "code",
   "execution_count": 27,
   "metadata": {},
   "outputs": [
    {
     "data": {
      "text/plain": [
       "{TP_Standings('tp_standings', CBETournament('cibbl', 'cbe01'), Team(873349)),\n",
       " TP_Standings('tp_standings', CBETournament('cibbl', 'cbe01'), Team(855120)),\n",
       " TP_Standings('tp_standings', CBETournament('cibbl', 'cbe01'), Team(865063)),\n",
       " TP_Standings('tp_standings', CBETournament('cibbl', 'cbe01'), Team(872044)),\n",
       " TP_Standings('tp_standings', CBETournament('cibbl', 'cbe01'), Team(873361)),\n",
       " TP_Standings('tp_standings', CBETournament('cibbl', 'cbe01'), Team(874545))}"
      ]
     },
     "execution_count": 27,
     "metadata": {},
     "output_type": "execute_result"
    }
   ],
   "source": [
    "T.achievements"
   ]
  },
  {
   "cell_type": "code",
   "execution_count": 28,
   "metadata": {},
   "outputs": [],
   "source": [
    "for A in T.achievements:\n",
    "    A[\"status\"] = \"proposed\""
   ]
  },
  {
   "cell_type": "code",
   "execution_count": 26,
   "metadata": {},
   "outputs": [],
   "source": [
    "T = G.tournaments[\"cbe01\"]"
   ]
  },
  {
   "cell_type": "code",
   "execution_count": 29,
   "metadata": {},
   "outputs": [],
   "source": [
    "for A in T.achievements:\n",
    "    A[\"status\"] = \"awarded\""
   ]
  },
  {
   "cell_type": "code",
   "execution_count": 4,
   "metadata": {},
   "outputs": [],
   "source": [
    "T = G.tournaments[\"42239\"]"
   ]
  },
  {
   "cell_type": "code",
   "execution_count": 5,
   "metadata": {},
   "outputs": [
    {
     "data": {
      "text/plain": [
       "{'B': 3, 'D': 1, 'W': 3}"
      ]
     },
     "execution_count": 5,
     "metadata": {},
     "output_type": "execute_result"
    }
   ],
   "source": [
    "T.rpts"
   ]
  },
  {
   "cell_type": "code",
   "execution_count": 6,
   "metadata": {},
   "outputs": [
    {
     "data": {
      "text/plain": [
       "(Matchup('cibbl', '42172', 1, 863440, 863441),\n",
       " Matchup('cibbl', '42172', 2, 863441, 864291),\n",
       " Matchup('cibbl', '42172', 3, 863440, 864291),\n",
       " Matchup('cibbl', '42239', 0, 863440, 863441),\n",
       " Matchup('cibbl', '42239', 0, 863440, 864291),\n",
       " Matchup('cibbl', '42239', 0, 863441, 864291),\n",
       " Matchup('cibbl', '42239', 0, 863440, 864588),\n",
       " Matchup('cibbl', '42239', 0, 863441, 864588),\n",
       " Matchup('cibbl', '42239', 0, 864291, 864588))"
      ]
     },
     "execution_count": 6,
     "metadata": {},
     "output_type": "execute_result"
    }
   ],
   "source": [
    "T.matchups"
   ]
  },
  {
   "cell_type": "code",
   "execution_count": 7,
   "metadata": {},
   "outputs": [
    {
     "name": "stdout",
     "output_type": "stream",
     "text": [
      "Matchup('cibbl', '42172', 1, 863440, 863441) no no\n",
      "Matchup('cibbl', '42172', 2, 863441, 864291) no no\n",
      "Matchup('cibbl', '42172', 3, 863440, 864291) no no\n",
      "Matchup('cibbl', '42239', 0, 863440, 863441) yes yes\n",
      "Matchup('cibbl', '42239', 0, 863440, 864291) yes yes\n",
      "Matchup('cibbl', '42239', 0, 863441, 864291) yes yes\n",
      "Matchup('cibbl', '42239', 0, 863440, 864588) no no\n",
      "Matchup('cibbl', '42239', 0, 863441, 864588) no no\n",
      "Matchup('cibbl', '42239', 0, 864291, 864588) no no\n"
     ]
    }
   ],
   "source": [
    "for M in T.matchups:\n",
    "    print(M, M.excluded, M.config[\"!excluded\"])"
   ]
  },
  {
   "cell_type": "code",
   "execution_count": 8,
   "metadata": {},
   "outputs": [
    {
     "data": {
      "text/plain": [
       "[{'cas': 8,\n",
       "  'casdiff': 2,\n",
       "  'score': 7,\n",
       "  'scorediff': 7,\n",
       "  'td': 7,\n",
       "  'tddiff': 7,\n",
       "  'pts': 43,\n",
       "  'prestige': 70,\n",
       "  'cto': -1,\n",
       "  'hth': 0,\n",
       "  'perf': [('D', 3866108), ('W', 3867477), ('W', 3868012)],\n",
       "  'team': Team(863440),\n",
       "  'nr': 1},\n",
       " {'cas': 4,\n",
       "  'casdiff': 2,\n",
       "  'score': 3,\n",
       "  'scorediff': 2,\n",
       "  'td': 3,\n",
       "  'tddiff': 2,\n",
       "  'pts': 43,\n",
       "  'prestige': 70,\n",
       "  'cto': -1,\n",
       "  'hth': 0,\n",
       "  'perf': [('D', 3866108), ('W', 3867299), ('W', 3868046)],\n",
       "  'team': Team(863441),\n",
       "  'nr': 2},\n",
       " {'cas': 6,\n",
       "  'casdiff': 4,\n",
       "  'score': 1,\n",
       "  'scorediff': -4,\n",
       "  'td': 1,\n",
       "  'tddiff': -4,\n",
       "  'pts': 1,\n",
       "  'prestige': 10,\n",
       "  'cto': -1,\n",
       "  'hth': 0,\n",
       "  'perf': [('L', 3867299), ('L', 3867477), ('D', 3869090)],\n",
       "  'team': Team(864291),\n",
       "  'nr': 3},\n",
       " {'cas': 3,\n",
       "  'casdiff': -8,\n",
       "  'score': 2,\n",
       "  'scorediff': -5,\n",
       "  'td': 2,\n",
       "  'tddiff': -5,\n",
       "  'pts': 1,\n",
       "  'prestige': 10,\n",
       "  'cto': -1,\n",
       "  'hth': 0,\n",
       "  'perf': [('L', 3868012), ('L', 3868046), ('D', 3869090)],\n",
       "  'team': Team(864588),\n",
       "  'nr': 4}]"
      ]
     },
     "execution_count": 8,
     "metadata": {},
     "output_type": "execute_result"
    }
   ],
   "source": [
    "T.standings()"
   ]
  },
  {
   "cell_type": "code",
   "execution_count": null,
   "metadata": {},
   "outputs": [],
   "source": []
  },
  {
   "cell_type": "code",
   "execution_count": 9,
   "metadata": {},
   "outputs": [
    {
     "data": {
      "text/plain": [
       "{'B': 3, 'D': 1, 'W': 3}"
      ]
     },
     "execution_count": 9,
     "metadata": {},
     "output_type": "execute_result"
    }
   ],
   "source": [
    "T.rpts"
   ]
  },
  {
   "cell_type": "code",
   "execution_count": 10,
   "metadata": {},
   "outputs": [
    {
     "name": "stdout",
     "output_type": "stream",
     "text": [
      "863440\n",
      "[42172] CIBBL - Year One, Spring/Summer - The Great Ocean rpts {'W': 3, 'D': 1, 'B': 3}\n",
      "1\n",
      "[42172] CIBBL - Year One, Spring/Summer - The Great Ocean rprestige {'W': 30, 'B': 30, 'D': 10, 'C': -100}\n",
      "10\n",
      "863441\n",
      "[42172] CIBBL - Year One, Spring/Summer - The Great Ocean rpts {'W': 3, 'D': 1, 'B': 3}\n",
      "1\n",
      "[42172] CIBBL - Year One, Spring/Summer - The Great Ocean rprestige {'W': 30, 'B': 30, 'D': 10, 'C': -100}\n",
      "10\n",
      "863441\n",
      "[42172] CIBBL - Year One, Spring/Summer - The Great Ocean rpts {'W': 3, 'D': 1, 'B': 3}\n",
      "3\n",
      "[42172] CIBBL - Year One, Spring/Summer - The Great Ocean rprestige {'W': 30, 'B': 30, 'D': 10, 'C': -100}\n",
      "30\n",
      "864291\n",
      "[42172] CIBBL - Year One, Spring/Summer - The Great Ocean rpts {'W': 3, 'D': 1, 'B': 3}\n",
      "0\n",
      "[42172] CIBBL - Year One, Spring/Summer - The Great Ocean rprestige {'W': 30, 'B': 30, 'D': 10, 'C': -100}\n",
      "0\n",
      "863440\n",
      "[42172] CIBBL - Year One, Spring/Summer - The Great Ocean rpts {'W': 3, 'D': 1, 'B': 3}\n",
      "3\n",
      "[42172] CIBBL - Year One, Spring/Summer - The Great Ocean rprestige {'W': 30, 'B': 30, 'D': 10, 'C': -100}\n",
      "30\n",
      "864291\n",
      "[42172] CIBBL - Year One, Spring/Summer - The Great Ocean rpts {'W': 3, 'D': 1, 'B': 3}\n",
      "0\n",
      "[42172] CIBBL - Year One, Spring/Summer - The Great Ocean rprestige {'W': 30, 'B': 30, 'D': 10, 'C': -100}\n",
      "0\n",
      "863440\n",
      "[42239] CIBBL - Year One, Spring/Summer - The Great Ocean rpts {'B': 3, 'D': 1, 'W': 3}\n",
      "0\n",
      "[42239] CIBBL - Year One, Spring/Summer - The Great Ocean rprestige {'W': 30, 'B': 30, 'D': 10, 'C': -100}\n",
      "0\n",
      "863441\n",
      "[42239] CIBBL - Year One, Spring/Summer - The Great Ocean rpts {'B': 3, 'D': 1, 'W': 3}\n",
      "3\n",
      "[42239] CIBBL - Year One, Spring/Summer - The Great Ocean rprestige {'W': 30, 'B': 30, 'D': 10, 'C': -100}\n",
      "30\n",
      "863440\n",
      "[42239] CIBBL - Year One, Spring/Summer - The Great Ocean rpts {'B': 3, 'D': 1, 'W': 3}\n",
      "0\n",
      "[42239] CIBBL - Year One, Spring/Summer - The Great Ocean rprestige {'W': 30, 'B': 30, 'D': 10, 'C': -100}\n",
      "0\n",
      "864291\n",
      "[42239] CIBBL - Year One, Spring/Summer - The Great Ocean rpts {'B': 3, 'D': 1, 'W': 3}\n",
      "3\n",
      "[42239] CIBBL - Year One, Spring/Summer - The Great Ocean rprestige {'W': 30, 'B': 30, 'D': 10, 'C': -100}\n",
      "30\n",
      "863441\n",
      "[42239] CIBBL - Year One, Spring/Summer - The Great Ocean rpts {'B': 3, 'D': 1, 'W': 3}\n",
      "0\n",
      "[42239] CIBBL - Year One, Spring/Summer - The Great Ocean rprestige {'W': 30, 'B': 30, 'D': 10, 'C': -100}\n",
      "0\n",
      "864291\n",
      "[42239] CIBBL - Year One, Spring/Summer - The Great Ocean rpts {'B': 3, 'D': 1, 'W': 3}\n",
      "3\n",
      "[42239] CIBBL - Year One, Spring/Summer - The Great Ocean rprestige {'W': 30, 'B': 30, 'D': 10, 'C': -100}\n",
      "30\n",
      "863440\n",
      "[42239] CIBBL - Year One, Spring/Summer - The Great Ocean rpts {'B': 3, 'D': 1, 'W': 3}\n",
      "3\n",
      "[42239] CIBBL - Year One, Spring/Summer - The Great Ocean rprestige {'W': 30, 'B': 30, 'D': 10, 'C': -100}\n",
      "30\n",
      "864588\n",
      "[42239] CIBBL - Year One, Spring/Summer - The Great Ocean rpts {'B': 3, 'D': 1, 'W': 3}\n",
      "0\n",
      "[42239] CIBBL - Year One, Spring/Summer - The Great Ocean rprestige {'W': 30, 'B': 30, 'D': 10, 'C': -100}\n",
      "0\n",
      "863441\n",
      "[42239] CIBBL - Year One, Spring/Summer - The Great Ocean rpts {'B': 3, 'D': 1, 'W': 3}\n",
      "3\n",
      "[42239] CIBBL - Year One, Spring/Summer - The Great Ocean rprestige {'W': 30, 'B': 30, 'D': 10, 'C': -100}\n",
      "30\n",
      "864588\n",
      "[42239] CIBBL - Year One, Spring/Summer - The Great Ocean rpts {'B': 3, 'D': 1, 'W': 3}\n",
      "0\n",
      "[42239] CIBBL - Year One, Spring/Summer - The Great Ocean rprestige {'W': 30, 'B': 30, 'D': 10, 'C': -100}\n",
      "0\n",
      "864291\n",
      "[42239] CIBBL - Year One, Spring/Summer - The Great Ocean rpts {'B': 3, 'D': 1, 'W': 3}\n",
      "1\n",
      "[42239] CIBBL - Year One, Spring/Summer - The Great Ocean rprestige {'W': 30, 'B': 30, 'D': 10, 'C': -100}\n",
      "10\n",
      "864588\n",
      "[42239] CIBBL - Year One, Spring/Summer - The Great Ocean rpts {'B': 3, 'D': 1, 'W': 3}\n",
      "1\n",
      "[42239] CIBBL - Year One, Spring/Summer - The Great Ocean rprestige {'W': 30, 'B': 30, 'D': 10, 'C': -100}\n",
      "10\n"
     ]
    }
   ],
   "source": [
    "for Ma in T.matchups:\n",
    "    self = Ma.configmaker(direct = True)\n",
    "    self.refresh_cache()\n",
    "    T = self.Mu.tournament\n",
    "    for teamId, d in self.d[\"team\"].items():\n",
    "      print(teamId)\n",
    "      for k in (\"pts\", \"prestige\"):\n",
    "        dT = getattr(T, f'r{k}')\n",
    "        print(T, f'r{k}', dT)\n",
    "        r = d.get(\"r\")\n",
    "        if r is not None:\n",
    "          d[k] = dT.get(r, 0)\n",
    "        print(d[k])"
   ]
  },
  {
   "cell_type": "code",
   "execution_count": 11,
   "metadata": {},
   "outputs": [],
   "source": [
    "for Ma in T.matchups:\n",
    "    Ma.config = Ma.calculate_config()"
   ]
  },
  {
   "cell_type": "code",
   "execution_count": 12,
   "metadata": {},
   "outputs": [],
   "source": [
    "Ts = set()\n",
    "for T in G.tournaments.values():\n",
    "    if T.season.name != \"Summer\":\n",
    "        continue\n",
    "    if not hasattr(T, \"style\") or T.style == \"Swiss\":\n",
    "        continue\n",
    "    T1 = T\n",
    "    Ts.add(T1)\n",
    "    T1.awarded = \"no\""
   ]
  },
  {
   "cell_type": "code",
   "execution_count": 13,
   "metadata": {},
   "outputs": [],
   "source": [
    "L = sorted(G.achievements)"
   ]
  },
  {
   "cell_type": "code",
   "execution_count": 14,
   "metadata": {},
   "outputs": [
    {
     "name": "stdout",
     "output_type": "stream",
     "text": [
      "Standings Prestige([42038] CIBBL - Year One, Summer - Heart of Glory, [855072] Carcassonne Knights)\n",
      "Standings Prestige([42038] CIBBL - Year One, Summer - Heart of Glory, [854690] Secret Cult Of Shiamoto)\n",
      "Standings Prestige([42038] CIBBL - Year One, Summer - Heart of Glory, [854507] Coven of the Mirrored Hall)\n",
      "Standings Prestige([42038] CIBBL - Year One, Summer - Heart of Glory, [862033] Forsaken of the Pantheon)\n",
      "Standings Prestige([42041] CIBBL - Year One, Summer - Pearl Chalice, [854678] Lords of the Silent Death)\n",
      "Standings Prestige([42041] CIBBL - Year One, Summer - Pearl Chalice, [854257] Grand Celestial Delegate)\n",
      "Standings Prestige([42041] CIBBL - Year One, Summer - Pearl Chalice, [855120] Trantio Dragon Hawks)\n",
      "Standings Prestige([42041] CIBBL - Year One, Summer - Pearl Chalice, [855753] Nejaz Djinn)\n",
      "Standings Prestige([42239] CIBBL - Year One, Spring/Summer - The Great Ocean, [863441] Tor Anroc Anglers)\n",
      "Standings Prestige([42239] CIBBL - Year One, Spring/Summer - The Great Ocean, [863440] Doom of Athelorn)\n",
      "Standings Prestige([42239] CIBBL - Year One, Spring/Summer - The Great Ocean, [864291] Norscan Curse)\n",
      "Standings Prestige([42239] CIBBL - Year One, Spring/Summer - The Great Ocean, [864588] Blackmud Tridents)\n",
      "Standings Prestige([43149] CIBBL - Year Two, Summer - The Little Cup, [879779] Nightmares Made Flesh)\n",
      "Standings Prestige([43149] CIBBL - Year Two, Summer - The Little Cup, [878945] Eternal Ecstasy)\n",
      "Standings Prestige([43149] CIBBL - Year Two, Summer - The Little Cup, [880296] Lamentations of Mahrak)\n",
      "Standings Prestige([43149] CIBBL - Year Two, Summer - The Little Cup, [876402] Hunters Of Kurnous)\n",
      "Standings Prestige([44379] CIBBL - Y3, Summer - Lesser Dragon Grapple, [876774] Congregation of Holy Touchdown)\n",
      "Standings Prestige([44379] CIBBL - Y3, Summer - Lesser Dragon Grapple, [873759] Knightly Virtues)\n",
      "Standings Prestige([44379] CIBBL - Y3, Summer - Lesser Dragon Grapple, [883051] Vostok Iron Head)\n",
      "Standings Prestige([44379] CIBBL - Y3, Summer - Lesser Dragon Grapple, [854257] Grand Celestial Delegate)\n",
      "Standings Prestige([44382] CIBBL - Y3, Summer - Exotic Creature Challenge R5, [874317] Misty Isle Gators)\n",
      "Standings Prestige([44382] CIBBL - Y3, Summer - Exotic Creature Challenge R5, [869156] Talsyn Tramplers)\n",
      "Standings Prestige([44382] CIBBL - Y3, Summer - Exotic Creature Challenge R5, [896277] Thirteenth Circle Abominations)\n",
      "Standings Prestige([44382] CIBBL - Y3, Summer - Exotic Creature Challenge R5, [888994] Beerbog Behemoths)\n",
      "Standings Prestige([44382] CIBBL - Y3, Summer - Exotic Creature Challenge R5, [889245] Shroomwood Attercops)\n",
      "Standings Prestige([44382] CIBBL - Y3, Summer - Exotic Creature Challenge R5, [872475] True Roots of Khaine)\n",
      "Standings Prestige([44386] CIBBL - Y3, Summer - Styles Clash R5, [863441] Tor Anroc Anglers)\n",
      "Standings Prestige([44386] CIBBL - Y3, Summer - Styles Clash R5, [854690] Secret Cult Of Shiamoto)\n",
      "Standings Prestige([44386] CIBBL - Y3, Summer - Styles Clash R5, [874437] Bigwood Tree Shmashaz)\n",
      "Standings Prestige([44386] CIBBL - Y3, Summer - Styles Clash R5, [871787] Malignant Curators)\n",
      "Standings Prestige([44386] CIBBL - Y3, Summer - Styles Clash R5, [874966] Modryn's Midnight Meddlers)\n",
      "Standings Prestige([44386] CIBBL - Y3, Summer - Styles Clash R5, [886114] Eye and Arrow)\n",
      "Standings Prestige([44388] CIBBL - Y3, Summer - Cup of Ancient Knowledge, [889232] Lost Golems of Grungni)\n",
      "Standings Prestige([44388] CIBBL - Y3, Summer - Cup of Ancient Knowledge, [889002] Offa's Hearthweru)\n",
      "Standings Prestige([44388] CIBBL - Y3, Summer - Cup of Ancient Knowledge, [898337] Mahrak Maulers)\n",
      "Standings Prestige([44388] CIBBL - Y3, Summer - Cup of Ancient Knowledge, [891260] Library of Indra)\n",
      "Standings Prestige([44462] CIBBL - Y3, Summer - Youngbloods XI, [898507] Leicheberg Lycans)\n",
      "Standings Prestige([44462] CIBBL - Y3, Summer - Youngbloods XI, [898506] Shambling Revenants)\n",
      "Standings Prestige([44462] CIBBL - Y3, Summer - Youngbloods XI, [897963] Albion Four Colour Knights)\n",
      "Standings Prestige([44462] CIBBL - Y3, Summer - Youngbloods XI, [898574] Revenge Street Reapers)\n",
      "Standings Prestige([44560] CIBBL - Y3, Summer - Youngbloods XII, [899682] K'r'shh Sl'ppr'ss)\n",
      "Standings Prestige([44560] CIBBL - Y3, Summer - Youngbloods XII, [900708] Tartarik Kowaz)\n",
      "Standings Prestige([44560] CIBBL - Y3, Summer - Youngbloods XII, [900435] Snurre Gunnars)\n",
      "Standings Prestige([44560] CIBBL - Y3, Summer - Youngbloods XII, [900578] Followers of the First Count)\n",
      "Standings Prestige([44910] CIBBL - Y3, Summer - Youngbloods XIII, [904411] Ynys Morion Mabsantwyr)\n",
      "Standings Prestige([44910] CIBBL - Y3, Summer - Youngbloods XIII, [905886] Sabre Mountain Rattlers)\n",
      "Standings Prestige([44910] CIBBL - Y3, Summer - Youngbloods XIII, [905924] Squill's Squig Pitt)\n",
      "Standings Prestige([44910] CIBBL - Y3, Summer - Youngbloods XIII, [904377] Aurons)\n",
      "Standings Prestige([45662] CIBBL - Y4, Summer - Youngbloods XIV, [916031] Gorthor's Prophets Of Mork)\n",
      "Standings Prestige([45662] CIBBL - Y4, Summer - Youngbloods XIV, [916230] Mourkain Kings)\n",
      "Standings Prestige([45662] CIBBL - Y4, Summer - Youngbloods XIV, [916217] Cloven Clan)\n",
      "Standings Prestige([45662] CIBBL - Y4, Summer - Youngbloods XIV, [915893] Loren's Rebuke)\n",
      "Standings Prestige([47062] CIBBL - Y5, Summer - SCRIBBL Climax - Final, [897376] Darkenwood Sentinels)\n",
      "Standings Prestige([49047] CIBBL - Y6, Summer - Youngbloods XX, [961386] Sandstorm of Settra)\n",
      "Standings Prestige([49047] CIBBL - Y6, Summer - Youngbloods XX, [962764] Queen Amphinome's Revenge)\n",
      "Standings Prestige([49047] CIBBL - Y6, Summer - Youngbloods XX, [959010] Towering Titans of Tartarox)\n",
      "Standings Prestige([49047] CIBBL - Y6, Summer - Youngbloods XX, [959342] Arachnarok's Forest Breeds)\n"
     ]
    }
   ],
   "source": [
    "for A in L:\n",
    "    if A.key[0] != 'tp_standings':\n",
    "        continue\n",
    "    if A.key[1] not in Ts:\n",
    "        continue\n",
    "    print(A)\n",
    "    del A.config\n",
    "    del A"
   ]
  },
  {
   "cell_type": "code",
   "execution_count": null,
   "metadata": {},
   "outputs": [],
   "source": [
    "for A in L:\n",
    "    if A.key[0] != 'tp_standings':\n",
    "        continue\n",
    "    if A.key[1] not in Ts:\n",
    "        continue\n",
    "    print(A)\n",
    "    A[\"status\"] = \"awarded\""
   ]
  },
  {
   "cell_type": "code",
   "execution_count": null,
   "metadata": {},
   "outputs": [],
   "source": []
  },
  {
   "cell_type": "code",
   "execution_count": 1,
   "metadata": {},
   "outputs": [
    {
     "ename": "SyntaxError",
     "evalue": "invalid syntax (<ipython-input-1-fe7f1378ccc9>, line 1)",
     "output_type": "error",
     "traceback": [
      "\u001b[1;36m  File \u001b[1;32m\"<ipython-input-1-fe7f1378ccc9>\"\u001b[1;36m, line \u001b[1;32m1\u001b[0m\n\u001b[1;33m    --------------- restart kernel\u001b[0m\n\u001b[1;37m                            ^\u001b[0m\n\u001b[1;31mSyntaxError\u001b[0m\u001b[1;31m:\u001b[0m invalid syntax\n"
     ]
    }
   ],
   "source": [
    "--------------- restart kernel"
   ]
  },
  {
   "cell_type": "code",
   "execution_count": 2,
   "metadata": {},
   "outputs": [],
   "source": [
    "import collections\n",
    "import copy\n",
    "import datetime\n",
    "import itertools\n",
    "import sys\n",
    "\n",
    "import json\n",
    "import pathlib\n",
    "import re\n",
    "from pprint import pprint\n",
    "\n",
    "import nest_asyncio\n",
    "nest_asyncio.apply()\n",
    "import texttable\n",
    "\n",
    "import pytourney\n",
    "import pyfumbbl\n",
    "import cibblbibbl\n",
    "\n",
    "from cibblbibbl import bbcode"
   ]
  },
  {
   "cell_type": "code",
   "execution_count": 3,
   "metadata": {},
   "outputs": [],
   "source": [
    "show_Ids = True\n",
    "G = cibblbibbl.CIBBL\n",
    "Achievement = cibblbibbl.achievement.Achievement\n",
    "Team = cibblbibbl.team.Team\n",
    "player = cibblbibbl.player.player\n",
    "Match = cibblbibbl.match.Match\n",
    "Matchup = cibblbibbl.matchup.Matchup\n",
    "Replay = cibblbibbl.replay.Replay\n",
    "Tournament = cibblbibbl.tournament.handler.default.Tournament\n",
    "NormalPlayer = cibblbibbl.player.NormalPlayer\n",
    "StarPlayer = cibblbibbl.player.StarPlayer"
   ]
  },
  {
   "cell_type": "code",
   "execution_count": 4,
   "metadata": {},
   "outputs": [],
   "source": [
    "G.init()"
   ]
  },
  {
   "cell_type": "code",
   "execution_count": 5,
   "metadata": {},
   "outputs": [],
   "source": [
    "Ts = set()"
   ]
  },
  {
   "cell_type": "code",
   "execution_count": 6,
   "metadata": {},
   "outputs": [],
   "source": [
    "for T in G.tournaments.values():\n",
    "    if T.season.name != \"Summer\":\n",
    "        continue\n",
    "    if not hasattr(T, \"style\") or T.style == \"Swiss\":\n",
    "        continue\n",
    "    if 6 <= T.year.nr:\n",
    "        continue\n",
    "    Ts.add(T)\n",
    "    T1 = T\n",
    "    T1.awarded = \"yes\""
   ]
  },
  {
   "cell_type": "code",
   "execution_count": 7,
   "metadata": {},
   "outputs": [],
   "source": [
    "L = sorted(G.achievements)"
   ]
  },
  {
   "cell_type": "code",
   "execution_count": 8,
   "metadata": {},
   "outputs": [
    {
     "name": "stdout",
     "output_type": "stream",
     "text": [
      "Standings Prestige([42038] CIBBL - Year One, Summer - Heart of Glory, [855072] Carcassonne Knights)\n",
      "Standings Prestige([42038] CIBBL - Year One, Summer - Heart of Glory, [854690] Secret Cult Of Shiamoto)\n",
      "Standings Prestige([42038] CIBBL - Year One, Summer - Heart of Glory, [854507] Coven of the Mirrored Hall)\n",
      "Standings Prestige([42038] CIBBL - Year One, Summer - Heart of Glory, [862033] Forsaken of the Pantheon)\n",
      "Standings Prestige([42041] CIBBL - Year One, Summer - Pearl Chalice, [854678] Lords of the Silent Death)\n",
      "Standings Prestige([42041] CIBBL - Year One, Summer - Pearl Chalice, [854257] Grand Celestial Delegate)\n",
      "Standings Prestige([42041] CIBBL - Year One, Summer - Pearl Chalice, [855120] Trantio Dragon Hawks)\n",
      "Standings Prestige([42041] CIBBL - Year One, Summer - Pearl Chalice, [855753] Nejaz Djinn)\n",
      "Standings Prestige([42239] CIBBL - Year One, Spring/Summer - The Great Ocean, [863440] Doom of Athelorn)\n",
      "Standings Prestige([42239] CIBBL - Year One, Spring/Summer - The Great Ocean, [863441] Tor Anroc Anglers)\n",
      "Standings Prestige([42239] CIBBL - Year One, Spring/Summer - The Great Ocean, [864291] Norscan Curse)\n",
      "Standings Prestige([42239] CIBBL - Year One, Spring/Summer - The Great Ocean, [864588] Blackmud Tridents)\n",
      "Standings Prestige([43149] CIBBL - Year Two, Summer - The Little Cup, [879779] Nightmares Made Flesh)\n",
      "Standings Prestige([43149] CIBBL - Year Two, Summer - The Little Cup, [878945] Eternal Ecstasy)\n",
      "Standings Prestige([43149] CIBBL - Year Two, Summer - The Little Cup, [880296] Lamentations of Mahrak)\n",
      "Standings Prestige([43149] CIBBL - Year Two, Summer - The Little Cup, [876402] Hunters Of Kurnous)\n",
      "Standings Prestige([44379] CIBBL - Y3, Summer - Lesser Dragon Grapple, [876774] Congregation of Holy Touchdown)\n",
      "Standings Prestige([44379] CIBBL - Y3, Summer - Lesser Dragon Grapple, [873759] Knightly Virtues)\n",
      "Standings Prestige([44379] CIBBL - Y3, Summer - Lesser Dragon Grapple, [883051] Vostok Iron Head)\n",
      "Standings Prestige([44379] CIBBL - Y3, Summer - Lesser Dragon Grapple, [854257] Grand Celestial Delegate)\n",
      "Standings Prestige([44382] CIBBL - Y3, Summer - Exotic Creature Challenge R5, [874317] Misty Isle Gators)\n",
      "Standings Prestige([44382] CIBBL - Y3, Summer - Exotic Creature Challenge R5, [896277] Thirteenth Circle Abominations)\n",
      "Standings Prestige([44382] CIBBL - Y3, Summer - Exotic Creature Challenge R5, [869156] Talsyn Tramplers)\n",
      "Standings Prestige([44382] CIBBL - Y3, Summer - Exotic Creature Challenge R5, [888994] Beerbog Behemoths)\n",
      "Standings Prestige([44382] CIBBL - Y3, Summer - Exotic Creature Challenge R5, [889245] Shroomwood Attercops)\n",
      "Standings Prestige([44382] CIBBL - Y3, Summer - Exotic Creature Challenge R5, [892248] Crimson Fins)\n",
      "Standings Prestige([44386] CIBBL - Y3, Summer - Styles Clash R5, [863441] Tor Anroc Anglers)\n",
      "Standings Prestige([44386] CIBBL - Y3, Summer - Styles Clash R5, [854690] Secret Cult Of Shiamoto)\n",
      "Standings Prestige([44386] CIBBL - Y3, Summer - Styles Clash R5, [874437] Bigwood Tree Shmashaz)\n",
      "Standings Prestige([44386] CIBBL - Y3, Summer - Styles Clash R5, [871787] Malignant Curators)\n",
      "Standings Prestige([44386] CIBBL - Y3, Summer - Styles Clash R5, [874966] Modryn's Midnight Meddlers)\n",
      "Standings Prestige([44386] CIBBL - Y3, Summer - Styles Clash R5, [886114] Eye and Arrow)\n",
      "Standings Prestige([44388] CIBBL - Y3, Summer - Cup of Ancient Knowledge, [889232] Lost Golems of Grungni)\n",
      "Standings Prestige([44388] CIBBL - Y3, Summer - Cup of Ancient Knowledge, [889002] Offa's Hearthweru)\n",
      "Standings Prestige([44388] CIBBL - Y3, Summer - Cup of Ancient Knowledge, [898337] Mahrak Maulers)\n",
      "Standings Prestige([44388] CIBBL - Y3, Summer - Cup of Ancient Knowledge, [891260] Library of Indra)\n",
      "Standings Prestige([44462] CIBBL - Y3, Summer - Youngbloods XI, [898507] Leicheberg Lycans)\n",
      "Standings Prestige([44462] CIBBL - Y3, Summer - Youngbloods XI, [898506] Shambling Revenants)\n",
      "Standings Prestige([44462] CIBBL - Y3, Summer - Youngbloods XI, [897963] Albion Four Colour Knights)\n",
      "Standings Prestige([44462] CIBBL - Y3, Summer - Youngbloods XI, [898574] Revenge Street Reapers)\n",
      "Standings Prestige([44560] CIBBL - Y3, Summer - Youngbloods XII, [899682] K'r'shh Sl'ppr'ss)\n",
      "Standings Prestige([44560] CIBBL - Y3, Summer - Youngbloods XII, [900708] Tartarik Kowaz)\n",
      "Standings Prestige([44560] CIBBL - Y3, Summer - Youngbloods XII, [900435] Snurre Gunnars)\n",
      "Standings Prestige([44560] CIBBL - Y3, Summer - Youngbloods XII, [900578] Followers of the First Count)\n",
      "Standings Prestige([44910] CIBBL - Y3, Summer - Youngbloods XIII, [904411] Ynys Morion Mabsantwyr)\n",
      "Standings Prestige([44910] CIBBL - Y3, Summer - Youngbloods XIII, [905886] Sabre Mountain Rattlers)\n",
      "Standings Prestige([44910] CIBBL - Y3, Summer - Youngbloods XIII, [905924] Squill's Squig Pitt)\n",
      "Standings Prestige([44910] CIBBL - Y3, Summer - Youngbloods XIII, [904377] Aurons)\n",
      "Standings Prestige([45662] CIBBL - Y4, Summer - Youngbloods XIV, [916031] Gorthor's Prophets Of Mork)\n",
      "Standings Prestige([45662] CIBBL - Y4, Summer - Youngbloods XIV, [916230] Mourkain Kings)\n",
      "Standings Prestige([45662] CIBBL - Y4, Summer - Youngbloods XIV, [916217] Cloven Clan)\n",
      "Standings Prestige([45662] CIBBL - Y4, Summer - Youngbloods XIV, [915893] Loren's Rebuke)\n",
      "Standings Prestige([47062] CIBBL - Y5, Summer - SCRIBBL Climax - Final, [897376] Darkenwood Sentinels)\n"
     ]
    }
   ],
   "source": [
    "for A in L:\n",
    "    if A.key[0] != 'tp_standings':\n",
    "        continue\n",
    "    if A.key[1] not in Ts:\n",
    "        continue\n",
    "    print(A)\n",
    "    A[\"status\"] = \"awarded\""
   ]
  },
  {
   "cell_type": "code",
   "execution_count": null,
   "metadata": {},
   "outputs": [],
   "source": []
  }
 ],
 "metadata": {
  "kernelspec": {
   "display_name": "Python 3",
   "language": "python",
   "name": "python3"
  },
  "language_info": {
   "codemirror_mode": {
    "name": "ipython",
    "version": 3
   },
   "file_extension": ".py",
   "mimetype": "text/x-python",
   "name": "python",
   "nbconvert_exporter": "python",
   "pygments_lexer": "ipython3",
   "version": "3.8.3"
  }
 },
 "nbformat": 4,
 "nbformat_minor": 2
}
