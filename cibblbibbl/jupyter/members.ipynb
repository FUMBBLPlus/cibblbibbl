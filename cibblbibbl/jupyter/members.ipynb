{
 "cells": [
  {
   "cell_type": "code",
   "execution_count": 1,
   "metadata": {},
   "outputs": [],
   "source": [
    "import pyfumbbl\n",
    "import cibblbibbl"
   ]
  },
  {
   "cell_type": "code",
   "execution_count": 2,
   "metadata": {},
   "outputs": [],
   "source": [
    "G = cibblbibbl.CIBBL"
   ]
  },
  {
   "cell_type": "code",
   "execution_count": 4,
   "metadata": {},
   "outputs": [],
   "source": [
    "G.register_tournaments()"
   ]
  },
  {
   "cell_type": "code",
   "execution_count": 5,
   "metadata": {},
   "outputs": [],
   "source": [
    "G.register_matchups()"
   ]
  },
  {
   "cell_type": "code",
   "execution_count": 7,
   "metadata": {},
   "outputs": [
    {
     "data": {
      "text/plain": [
       "Season('cibbl', 5, 4)"
      ]
     },
     "execution_count": 7,
     "metadata": {},
     "output_type": "execute_result"
    }
   ],
   "source": [
    "S = max(G.seasons)\n",
    "S"
   ]
  },
  {
   "cell_type": "code",
   "execution_count": 15,
   "metadata": {},
   "outputs": [],
   "source": [
    "coaches = {Te.coach_name for Te in S.teams()}"
   ]
  },
  {
   "cell_type": "code",
   "execution_count": 17,
   "metadata": {},
   "outputs": [],
   "source": [
    "ADMINS = {\n",
    "    \"AutoAxpert\",\n",
    "    \"Burnalot\",\n",
    "    \"Calthor\",\n",
    "    \"Fanky\",\n",
    "    \"MachJacob\",\n",
    "    \"Rbthma\",\n",
    "    \"SzieberthAdam\",\n",
    "    \"datom\",\n",
    "    \"det\",\n",
    "    \"jdmickeburgh\",\n",
    "    \"misterlonestar\",\n",
    "    \"neubau\",\n",
    "}"
   ]
  },
  {
   "cell_type": "code",
   "execution_count": 20,
   "metadata": {},
   "outputs": [
    {
     "name": "stdout",
     "output_type": "stream",
     "text": [
      "AdyBrooke,AngryPat,Aniur,Apus,Arale,Araznaroth,Arcayn,ArrestedDevelopment,ArthurWynne,AunoAdam,AutoAxpert,BAJones,Burnalot,C0ddlefish,Calthor,Cerebrosus,Christy,Cosmodon,CrookfangRob,DatMonsta,EnglishJake,Fanky,Garion,GotrekSlayer,GreenSkinElite,Hollaender,Immanuel,JonIsDude,Kilowog1,King_Joffrey,King_Mad,Kondor,Lasgalen,Loew,LooseCable,MachJacob,Manzoo,Matthueycamo,Meanandugl,Midas_Touch,Muppetillo,Nabster,Nextflux,Nightbreed,Nohistor,Pizzapocalypse,PrivateNiCeGuY,Quarion8,Rafe,Rbthma,Roto,Sampittu,SpecialOne,Sweep12121,SzieberthAdam,Tetsu,The_Carthaginian,The_Demon,Throweck,Tzalaran,Weresquid,Willownen,Wozzaa,Xelesar,Zartaz,acroPhobia,asteflix,awambawamb,badenprinz,bigf,bram,burnsy87,captainmalkor,darkjul,datom,det,doomspider,dorfeus,flashman1234,iena,jdmickeburgh,krazeeEyezKilla,lanky316,lautrehamon,luxyluxo,marksman0,misterlonestar,neubau,pdarbs,pedro_fgomes,pokrjax,razzlestorm,selfy_74,sokeeffe,stowelly,wallenstein\n"
     ]
    }
   ],
   "source": [
    "print(\",\".join(c for c in sorted(ADMINS|coaches)))"
   ]
  },
  {
   "cell_type": "code",
   "execution_count": null,
   "metadata": {},
   "outputs": [],
   "source": []
  }
 ],
 "metadata": {
  "kernelspec": {
   "display_name": "Python 3",
   "language": "python",
   "name": "python3"
  },
  "language_info": {
   "codemirror_mode": {
    "name": "ipython",
    "version": 3
   },
   "file_extension": ".py",
   "mimetype": "text/x-python",
   "name": "python",
   "nbconvert_exporter": "python",
   "pygments_lexer": "ipython3",
   "version": "3.8.1"
  }
 },
 "nbformat": 4,
 "nbformat_minor": 2
}
