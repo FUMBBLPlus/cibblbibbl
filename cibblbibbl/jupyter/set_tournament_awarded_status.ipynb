{
 "cells": [
  {
   "cell_type": "code",
   "execution_count": 1,
   "metadata": {},
   "outputs": [],
   "source": [
    "import collections\n",
    "import copy\n",
    "import datetime\n",
    "import itertools\n",
    "import sys\n",
    "import types\n",
    "\n",
    "import json\n",
    "import pathlib\n",
    "import re\n",
    "from pprint import pprint\n",
    "\n",
    "import nest_asyncio\n",
    "nest_asyncio.apply()\n",
    "import texttable\n",
    "\n",
    "import pytourney\n",
    "import pyfumbbl\n",
    "import cibblbibbl"
   ]
  },
  {
   "cell_type": "code",
   "execution_count": 2,
   "metadata": {},
   "outputs": [],
   "source": [
    "show_Ids = True\n",
    "G = cibblbibbl.CIBBL\n",
    "Achievement = cibblbibbl.achievement.Achievement\n",
    "Team = cibblbibbl.team.Team\n",
    "player = cibblbibbl.player.player\n",
    "Match = cibblbibbl.match.Match\n",
    "Matchup = cibblbibbl.matchup.Matchup\n",
    "Replay = cibblbibbl.replay.Replay\n",
    "Tournament = cibblbibbl.tournament.handler.default.Tournament\n",
    "NormalPlayer = cibblbibbl.player.NormalPlayer\n",
    "StarPlayer = cibblbibbl.player.StarPlayer"
   ]
  },
  {
   "cell_type": "code",
   "execution_count": 3,
   "metadata": {},
   "outputs": [],
   "source": [
    "G.register_tournaments()"
   ]
  },
  {
   "cell_type": "markdown",
   "metadata": {},
   "source": [
    "# Save the current state"
   ]
  },
  {
   "cell_type": "code",
   "execution_count": 4,
   "metadata": {},
   "outputs": [
    {
     "name": "stdout",
     "output_type": "stream",
     "text": [
      "{'no': {Tournament('cibbl', '41656'),\n",
      "        Tournament('cibbl', '41738'),\n",
      "        Tournament('cibbl', '41739'),\n",
      "        Tournament('cibbl', '41740'),\n",
      "        Tournament('cibbl', '41741'),\n",
      "        Tournament('cibbl', '41892'),\n",
      "        Tournament('cibbl', '42038'),\n",
      "        Tournament('cibbl', '42040'),\n",
      "        Tournament('cibbl', '42041'),\n",
      "        Tournament('cibbl', '42172'),\n",
      "        Tournament('cibbl', '42239'),\n",
      "        Tournament('cibbl', '42425'),\n",
      "        Tournament('cibbl', '42426'),\n",
      "        Tournament('cibbl', '42427'),\n",
      "        Tournament('cibbl', '42428'),\n",
      "        Tournament('cibbl', '42529'),\n",
      "        Tournament('cibbl', '42660'),\n",
      "        Tournament('cibbl', '42748'),\n",
      "        Tournament('cibbl', '42804'),\n",
      "        Tournament('cibbl', '42805'),\n",
      "        Tournament('cibbl', '42806'),\n",
      "        Tournament('cibbl', '42882'),\n",
      "        Tournament('cibbl', '42883'),\n",
      "        Tournament('cibbl', '42884'),\n",
      "        Tournament('cibbl', '42885'),\n",
      "        Tournament('cibbl', '42886'),\n",
      "        Tournament('cibbl', '42887'),\n",
      "        Tournament('cibbl', '42888'),\n",
      "        Tournament('cibbl', '42889'),\n",
      "        Tournament('cibbl', '42890'),\n",
      "        Tournament('cibbl', '42891'),\n",
      "        Tournament('cibbl', '42892'),\n",
      "        Tournament('cibbl', '42893'),\n",
      "        Tournament('cibbl', '43089'),\n",
      "        Tournament('cibbl', '43149'),\n",
      "        Tournament('cibbl', '43150'),\n",
      "        Tournament('cibbl', '43151'),\n",
      "        Tournament('cibbl', '43152'),\n",
      "        CBETournament('cibbl', 'cbe01'),\n",
      "        Tournament('cibbl', '43153'),\n",
      "        Tournament('cibbl', '43154'),\n",
      "        Tournament('cibbl', '43560'),\n",
      "        Tournament('cibbl', '43561'),\n",
      "        Tournament('cibbl', '43562'),\n",
      "        Tournament('cibbl', '43563'),\n",
      "        Tournament('cibbl', '43564'),\n",
      "        Tournament('cibbl', '43565'),\n",
      "        Tournament('cibbl', '43566'),\n",
      "        Tournament('cibbl', '43567'),\n",
      "        Tournament('cibbl', '43665'),\n",
      "        Tournament('cibbl', '43821'),\n",
      "        Tournament('cibbl', '43860'),\n",
      "        Tournament('cibbl', '43868'),\n",
      "        Tournament('cibbl', '43883'),\n",
      "        Tournament('cibbl', '43990'),\n",
      "        Tournament('cibbl', '43991'),\n",
      "        Tournament('cibbl', '43992'),\n",
      "        Tournament('cibbl', '44060'),\n",
      "        Tournament('cibbl', '44061'),\n",
      "        Tournament('cibbl', '44062'),\n",
      "        Tournament('cibbl', '44063'),\n",
      "        Tournament('cibbl', '44064'),\n",
      "        Tournament('cibbl', '44065'),\n",
      "        Tournament('cibbl', '44066'),\n",
      "        Tournament('cibbl', '44067'),\n",
      "        Tournament('cibbl', '44068'),\n",
      "        Tournament('cibbl', '44069'),\n",
      "        Tournament('cibbl', '44070'),\n",
      "        Tournament('cibbl', '44071'),\n",
      "        Tournament('cibbl', '44072'),\n",
      "        Tournament('cibbl', '44073'),\n",
      "        Tournament('cibbl', '44074'),\n",
      "        Tournament('cibbl', '44172'),\n",
      "        Tournament('cibbl', '44207'),\n",
      "        Tournament('cibbl', '44232'),\n",
      "        Tournament('cibbl', '44269'),\n",
      "        Tournament('cibbl', '44270'),\n",
      "        Tournament('cibbl', '44378'),\n",
      "        Tournament('cibbl', '44379'),\n",
      "        HighestR5QualifierTournament('cibbl', '44380'),\n",
      "        HighestR5QualifierTournament('cibbl', '44381'),\n",
      "        HighestR5Tournament('cibbl', '44382'),\n",
      "        Tournament('cibbl', '44383'),\n",
      "        HighestR5QualifierTournament('cibbl', '44384'),\n",
      "        HighestR5QualifierTournament('cibbl', '44385'),\n",
      "        HighestR5Tournament('cibbl', '44386'),\n",
      "        Tournament('cibbl', '44387'),\n",
      "        Tournament('cibbl', '44388'),\n",
      "        Tournament('cibbl', '44389'),\n",
      "        Tournament('cibbl', '44390'),\n",
      "        Tournament('cibbl', '44462'),\n",
      "        Tournament('cibbl', '44560'),\n",
      "        Tournament('cibbl', '44743'),\n",
      "        Tournament('cibbl', '44744'),\n",
      "        Tournament('cibbl', '44745'),\n",
      "        Tournament('cibbl', '44746'),\n",
      "        Tournament('cibbl', '44747'),\n",
      "        Tournament('cibbl', '44748'),\n",
      "        Tournament('cibbl', '44749'),\n",
      "        Tournament('cibbl', '44750'),\n",
      "        Tournament('cibbl', '44751'),\n",
      "        Tournament('cibbl', '44752'),\n",
      "        Tournament('cibbl', '44753'),\n",
      "        Tournament('cibbl', '44910'),\n",
      "        Tournament('cibbl', '45173'),\n",
      "        Tournament('cibbl', '45174'),\n",
      "        Tournament('cibbl', '45175'),\n",
      "        Tournament('cibbl', '45192'),\n",
      "        Tournament('cibbl', '45193'),\n",
      "        Tournament('cibbl', '45194'),\n",
      "        Tournament('cibbl', '45195'),\n",
      "        Tournament('cibbl', '45218'),\n",
      "        Tournament('cibbl', '45219'),\n",
      "        Tournament('cibbl', '45220'),\n",
      "        Tournament('cibbl', '45221'),\n",
      "        Tournament('cibbl', '45232'),\n",
      "        Tournament('cibbl', '45233'),\n",
      "        Tournament('cibbl', '45234'),\n",
      "        Tournament('cibbl', '45235'),\n",
      "        Tournament('cibbl', '45236'),\n",
      "        Tournament('cibbl', '45237'),\n",
      "        Tournament('cibbl', '45238'),\n",
      "        Tournament('cibbl', '45239'),\n",
      "        Tournament('cibbl', '45240'),\n",
      "        Tournament('cibbl', '45241'),\n",
      "        Tournament('cibbl', '45242'),\n",
      "        Tournament('cibbl', '45568'),\n",
      "        Tournament('cibbl', '45569'),\n",
      "        Tournament('cibbl', '45570'),\n",
      "        Tournament('cibbl', '45571'),\n",
      "        Tournament('cibbl', '45572'),\n",
      "        Tournament('cibbl', '45573'),\n",
      "        Tournament('cibbl', '45574'),\n",
      "        Tournament('cibbl', '45575'),\n",
      "        Tournament('cibbl', '45577'),\n",
      "        Tournament('cibbl', '45586'),\n",
      "        Tournament('cibbl', '45662'),\n",
      "        Tournament('cibbl', '45878'),\n",
      "        Tournament('cibbl', '45879'),\n",
      "        Tournament('cibbl', '45880'),\n",
      "        Tournament('cibbl', '45881'),\n",
      "        Tournament('cibbl', '45882'),\n",
      "        Tournament('cibbl', '45883'),\n",
      "        Tournament('cibbl', '45884'),\n",
      "        Tournament('cibbl', '45885'),\n",
      "        Tournament('cibbl', '45886'),\n",
      "        Tournament('cibbl', '45887'),\n",
      "        Tournament('cibbl', '45888'),\n",
      "        Tournament('cibbl', '46022'),\n",
      "        Tournament('cibbl', '46047'),\n",
      "        Tournament('cibbl', '46299'),\n",
      "        Tournament('cibbl', '46300'),\n",
      "        Tournament('cibbl', '46301'),\n",
      "        Tournament('cibbl', '46389'),\n",
      "        Tournament('cibbl', '46390'),\n",
      "        Tournament('cibbl', '46391'),\n",
      "        Tournament('cibbl', '46392'),\n",
      "        Tournament('cibbl', '46393'),\n",
      "        Tournament('cibbl', '46394'),\n",
      "        Tournament('cibbl', '46395'),\n",
      "        Tournament('cibbl', '46396'),\n",
      "        Tournament('cibbl', '46397'),\n",
      "        Tournament('cibbl', '46398'),\n",
      "        Tournament('cibbl', '46399'),\n",
      "        Tournament('cibbl', '46400'),\n",
      "        Tournament('cibbl', '46401'),\n",
      "        Tournament('cibbl', '46402'),\n",
      "        Tournament('cibbl', '46403'),\n",
      "        Tournament('cibbl', '46404'),\n",
      "        Tournament('cibbl', '46405'),\n",
      "        Tournament('cibbl', '46406'),\n",
      "        Tournament('cibbl', '46407'),\n",
      "        Tournament('cibbl', '46408'),\n",
      "        Tournament('cibbl', '46409'),\n",
      "        Tournament('cibbl', '46410'),\n",
      "        Tournament('cibbl', '46411'),\n",
      "        Tournament('cibbl', '46505'),\n",
      "        Tournament('cibbl', '46687'),\n",
      "        Tournament('cibbl', '46688'),\n",
      "        Tournament('cibbl', '46705'),\n",
      "        Tournament('cibbl', '46706'),\n",
      "        Tournament('cibbl', '46707'),\n",
      "        Tournament('cibbl', '46708'),\n",
      "        Tournament('cibbl', '46709'),\n",
      "        Tournament('cibbl', '46710'),\n",
      "        Tournament('cibbl', '46711'),\n",
      "        Tournament('cibbl', '47062'),\n",
      "        Tournament('cibbl', '47496'),\n",
      "        Tournament('cibbl', '47497'),\n",
      "        Tournament('cibbl', '47498'),\n",
      "        Tournament('cibbl', '47499'),\n",
      "        Tournament('cibbl', '47500'),\n",
      "        Tournament('cibbl', '47501'),\n",
      "        Tournament('cibbl', '47502'),\n",
      "        Tournament('cibbl', '47503'),\n",
      "        Tournament('cibbl', '47504'),\n",
      "        Tournament('cibbl', '47505'),\n",
      "        Tournament('cibbl', '47506'),\n",
      "        Tournament('cibbl', '47704')},\n",
      " 'yes': set()}\n"
     ]
    }
   ],
   "source": [
    "_D0 = {\"yes\": set(), \"no\": set()}\n",
    "for T in G.tournaments.values():\n",
    "    _D0[T.awarded].add(T)\n",
    "D0 = types.MappingProxyType({k: frozenset(v) for k, v in _D0.items()})\n",
    "pprint(_D0)"
   ]
  },
  {
   "cell_type": "markdown",
   "metadata": {},
   "source": [
    "# Modify"
   ]
  },
  {
   "cell_type": "code",
   "execution_count": 10,
   "metadata": {},
   "outputs": [],
   "source": [
    "for T in D0[\"yes\"]:\n",
    "    T.awarded = \"no\""
   ]
  },
  {
   "cell_type": "code",
   "execution_count": 30,
   "metadata": {},
   "outputs": [],
   "source": [
    "for T in D0[\"yes\"]:\n",
    "    T.awarded = \"yes\""
   ]
  },
  {
   "cell_type": "code",
   "execution_count": 20,
   "metadata": {},
   "outputs": [],
   "source": [
    "for T in D0[\"no\"]:\n",
    "    T.awarded = \"no\""
   ]
  },
  {
   "cell_type": "code",
   "execution_count": 5,
   "metadata": {},
   "outputs": [],
   "source": [
    "ID = \"46687\""
   ]
  },
  {
   "cell_type": "code",
   "execution_count": 7,
   "metadata": {},
   "outputs": [],
   "source": [
    "T = G.tournaments[ID]"
   ]
  },
  {
   "cell_type": "code",
   "execution_count": 8,
   "metadata": {},
   "outputs": [],
   "source": [
    "T.awarded = \"yes\""
   ]
  },
  {
   "cell_type": "code",
   "execution_count": 10,
   "metadata": {},
   "outputs": [],
   "source": [
    "IDRANGE = range(0,99999999999)"
   ]
  },
  {
   "cell_type": "code",
   "execution_count": 14,
   "metadata": {},
   "outputs": [],
   "source": [
    "IDRANGE = range(47496,99999999999)"
   ]
  },
  {
   "cell_type": "code",
   "execution_count": 11,
   "metadata": {},
   "outputs": [],
   "source": [
    "value = \"yes\""
   ]
  },
  {
   "cell_type": "code",
   "execution_count": 15,
   "metadata": {},
   "outputs": [],
   "source": [
    "value = \"no\""
   ]
  },
  {
   "cell_type": "code",
   "execution_count": 12,
   "metadata": {},
   "outputs": [],
   "source": [
    "valuenondecimal = True"
   ]
  },
  {
   "cell_type": "code",
   "execution_count": 16,
   "metadata": {},
   "outputs": [],
   "source": [
    "valuenondecimal = False"
   ]
  },
  {
   "cell_type": "code",
   "execution_count": 17,
   "metadata": {},
   "outputs": [],
   "source": [
    "for Tid, T in G.tournaments.items():\n",
    "    if Tid.isdecimal():\n",
    "        Tid = int(Tid)\n",
    "        if Tid in IDRANGE:\n",
    "            T.awarded = value\n",
    "    elif valuenondecimal:\n",
    "        T.awarded = value"
   ]
  },
  {
   "cell_type": "markdown",
   "metadata": {},
   "source": [
    "# Update Achievements"
   ]
  },
  {
   "cell_type": "code",
   "execution_count": 5,
   "metadata": {},
   "outputs": [],
   "source": [
    "G.register_matchups()"
   ]
  },
  {
   "cell_type": "code",
   "execution_count": 6,
   "metadata": {},
   "outputs": [],
   "source": [
    "G.register_achievements()"
   ]
  },
  {
   "cell_type": "code",
   "execution_count": 8,
   "metadata": {},
   "outputs": [
    {
     "data": {
      "text/plain": [
       "3702"
      ]
     },
     "execution_count": 8,
     "metadata": {},
     "output_type": "execute_result"
    }
   ],
   "source": [
    "len(G.achievements)"
   ]
  },
  {
   "cell_type": "code",
   "execution_count": 26,
   "metadata": {},
   "outputs": [
    {
     "data": {
      "text/plain": [
       "set"
      ]
     },
     "execution_count": 26,
     "metadata": {},
     "output_type": "execute_result"
    }
   ],
   "source": [
    "type(G.achievements)"
   ]
  },
  {
   "cell_type": "code",
   "execution_count": 19,
   "metadata": {},
   "outputs": [],
   "source": [
    "for A in G.achievements:\n",
    "    if A.tournament.awarded == \"no\":\n",
    "        continue\n",
    "    status = A.get(\"status\", \"proposed\")\n",
    "    A[\"status\"] = status.replace(\"postpone proposed\", \"postponed\")\n",
    "    A[\"status\"] = status.replace(\"proposed\", \"awarded\")"
   ]
  },
  {
   "cell_type": "code",
   "execution_count": null,
   "metadata": {},
   "outputs": [],
   "source": []
  }
 ],
 "metadata": {
  "kernelspec": {
   "display_name": "Python 3",
   "language": "python",
   "name": "python3"
  },
  "language_info": {
   "codemirror_mode": {
    "name": "ipython",
    "version": 3
   },
   "file_extension": ".py",
   "mimetype": "text/x-python",
   "name": "python",
   "nbconvert_exporter": "python",
   "pygments_lexer": "ipython3",
   "version": "3.8.1"
  }
 },
 "nbformat": 4,
 "nbformat_minor": 2
}
