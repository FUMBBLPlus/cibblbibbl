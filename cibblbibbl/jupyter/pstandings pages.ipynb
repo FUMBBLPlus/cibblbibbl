{
 "cells": [
  {
   "cell_type": "code",
   "execution_count": 1,
   "metadata": {},
   "outputs": [],
   "source": [
    "import collections\n",
    "import copy\n",
    "import datetime\n",
    "import itertools\n",
    "import sys\n",
    "\n",
    "import json\n",
    "import pathlib\n",
    "import re\n",
    "from pprint import pprint\n",
    "\n",
    "import nest_asyncio\n",
    "nest_asyncio.apply()\n",
    "import texttable\n",
    "\n",
    "import pytourney\n",
    "import pyfumbbl\n",
    "import cibblbibbl"
   ]
  },
  {
   "cell_type": "code",
   "execution_count": 2,
   "metadata": {},
   "outputs": [],
   "source": [
    "show_Ids = True\n",
    "G = cibblbibbl.CIBBL\n",
    "Achievement = cibblbibbl.achievement.Achievement\n",
    "Team = cibblbibbl.team.Team\n",
    "player = cibblbibbl.player.player\n",
    "Match = cibblbibbl.match.Match\n",
    "Matchup = cibblbibbl.matchup.Matchup\n",
    "Replay = cibblbibbl.replay.Replay\n",
    "Tournament = cibblbibbl.tournament.handler.default.Tournament\n",
    "NormalPlayer = cibblbibbl.player.NormalPlayer\n",
    "StarPlayer = cibblbibbl.player.StarPlayer"
   ]
  },
  {
   "cell_type": "code",
   "execution_count": 3,
   "metadata": {},
   "outputs": [],
   "source": [
    "G.register_tournaments()"
   ]
  },
  {
   "cell_type": "code",
   "execution_count": 4,
   "metadata": {},
   "outputs": [],
   "source": [
    "G.register_matchups()"
   ]
  },
  {
   "cell_type": "code",
   "execution_count": 5,
   "metadata": {
    "scrolled": true
   },
   "outputs": [],
   "source": [
    "G.register_achievements()"
   ]
  },
  {
   "cell_type": "code",
   "execution_count": 6,
   "metadata": {},
   "outputs": [],
   "source": [
    "import cibblbibbl.page as mP"
   ]
  },
  {
   "cell_type": "code",
   "execution_count": 7,
   "metadata": {},
   "outputs": [],
   "source": [
    "cls = mP.prestigestandings.cls"
   ]
  },
  {
   "cell_type": "code",
   "execution_count": 8,
   "metadata": {},
   "outputs": [
    {
     "data": {
      "text/plain": [
       "[PrestigeStandings(Group('cibbl'), Season('cibbl', 1, 1)),\n",
       " PrestigeStandings(Group('cibbl'), Season('cibbl', 1, 2)),\n",
       " PrestigeStandings(Group('cibbl'), Season('cibbl', 1, 3)),\n",
       " PrestigeStandings(Group('cibbl'), Season('cibbl', 1, 4)),\n",
       " PrestigeStandings(Group('cibbl'), Season('cibbl', 2, 1)),\n",
       " PrestigeStandings(Group('cibbl'), Season('cibbl', 2, 2)),\n",
       " PrestigeStandings(Group('cibbl'), Season('cibbl', 2, 3)),\n",
       " PrestigeStandings(Group('cibbl'), Season('cibbl', 2, 4)),\n",
       " PrestigeStandings(Group('cibbl'), Season('cibbl', 3, 1)),\n",
       " PrestigeStandings(Group('cibbl'), Season('cibbl', 3, 2)),\n",
       " PrestigeStandings(Group('cibbl'), Season('cibbl', 3, 3)),\n",
       " PrestigeStandings(Group('cibbl'), Season('cibbl', 3, 4)),\n",
       " PrestigeStandings(Group('cibbl'), Season('cibbl', 4, 1)),\n",
       " PrestigeStandings(Group('cibbl'), Season('cibbl', 4, 2)),\n",
       " PrestigeStandings(Group('cibbl'), Season('cibbl', 4, 3)),\n",
       " PrestigeStandings(Group('cibbl'), Season('cibbl', 4, 4)),\n",
       " PrestigeStandings(Group('cibbl'), Season('cibbl', 5, 1)),\n",
       " PrestigeStandings(Group('cibbl'), Season('cibbl', 5, 2)),\n",
       " PrestigeStandings(Group('cibbl'), Season('cibbl', 5, 3)),\n",
       " PrestigeStandings(Group('cibbl'), Season('cibbl', 5, 4))]"
      ]
     },
     "execution_count": 8,
     "metadata": {},
     "output_type": "execute_result"
    }
   ],
   "source": [
    "L = sorted(cls.collect(G))\n",
    "L"
   ]
  },
  {
   "cell_type": "code",
   "execution_count": 9,
   "metadata": {},
   "outputs": [],
   "source": [
    "PS = L[-2]"
   ]
  },
  {
   "cell_type": "code",
   "execution_count": 10,
   "metadata": {},
   "outputs": [
    {
     "data": {
      "text/plain": [
       "{}"
      ]
     },
     "execution_count": 10,
     "metadata": {},
     "output_type": "execute_result"
    }
   ],
   "source": [
    "PS.config"
   ]
  },
  {
   "cell_type": "code",
   "execution_count": 11,
   "metadata": {},
   "outputs": [],
   "source": [
    "self = PS"
   ]
  },
  {
   "cell_type": "code",
   "execution_count": 12,
   "metadata": {},
   "outputs": [
    {
     "data": {
      "text/plain": [
       "{Team(930817): (150, (150, 0, 0, 0, 0, 0)),\n",
       " Team(923140): (160, (20, 120, 20, 0, 0, 0)),\n",
       " Team(910344): (690, (120, 40, 200, 110, 35, 0)),\n",
       " Team(898574): (585, (105, 140, 180, 75, 10, 35)),\n",
       " Team(926991): (160, (130, 30, 0, 0, 0, 0)),\n",
       " Team(906259): (435, (90, 100, 80, 45, 45, 0)),\n",
       " Team(919573): (280, (50, 110, 50, 0, 0, 0)),\n",
       " Team(867862): (1045, (210, 190, 210, 80, 60, 50)),\n",
       " Team(909848): (255, (30, 30, 100, 60, 0, 0)),\n",
       " Team(924441): (340, (190, 130, 0, 0, 0, 0)),\n",
       " Team(879131): (715, (85, 120, 160, 35, 125, 20)),\n",
       " Team(872475): (435, (110, 40, 40, 15, 45, 20)),\n",
       " Team(919838): (170, (30, 70, 50, 0, 0, 0)),\n",
       " Team(928542): (100, (50, 50, 0, 0, 0, 0)),\n",
       " Team(864291): (220, (70, 50, 15, 10, 0, 0)),\n",
       " Team(913702): (245, (60, 30, 60, 60, 0, 0)),\n",
       " Team(930089): (30, (30, 0, 0, 0, 0, 0)),\n",
       " Team(906026): (510, (70, 50, 200, 30, 50, 0)),\n",
       " Team(922672): (380, (190, 50, 140, 0, 0, 0)),\n",
       " Team(874545): (830, (175, 190, 180, 75, 50, 100)),\n",
       " Team(896564): (485, (95, 110, 60, 80, 40, 40)),\n",
       " Team(914744): (600, (130, 260, 80, 35, 0, 0)),\n",
       " Team(931901): (110, (110, 0, 0, 0, 0, 0)),\n",
       " Team(874302): (515, (115, 120, 20, 75, 50, 20)),\n",
       " Team(916031): (380, (70, 30, 150, 60, 0, 0)),\n",
       " Team(925504): (190, (30, 140, 0, 0, 0, 0)),\n",
       " Team(926021): (100, (80, 0, 0, 0, 0, 0)),\n",
       " Team(854600): (760, (110, 120, 50, 55, 70, 125)),\n",
       " Team(897353): (510, (215, 60, 40, 20, 35, 80)),\n",
       " Team(926025): (10, (0, 10, 0, 0, 0, 0)),\n",
       " Team(874317): (680, (155, 70, 130, 40, 15, 100)),\n",
       " Team(855120): (625, (120, 160, 100, 55, 85, 5)),\n",
       " Team(907600): (550, (160, 90, 120, 80, 30, 0)),\n",
       " Team(925779): (240, (130, 90, 0, 0, 0, 0)),\n",
       " Team(892248): (790, (75, 170, 230, 75, 70, 35)),\n",
       " Team(931935): (30, (30, 0, 0, 0, 0, 0)),\n",
       " Team(897376): (885, (285, 170, 80, 120, 70, 40)),\n",
       " Team(878945): (865, (135, 170, 210, 30, 80, 50)),\n",
       " Team(899682): (470, (95, 120, 120, 35, 45, 35)),\n",
       " Team(886114): (955, (65, 150, 280, 100, 40, 80)),\n",
       " Team(897379): (585, (45, 220, 90, 25, 80, 55)),\n",
       " Team(926053): (420, (160, 240, 0, 0, 0, 0)),\n",
       " Team(891237): (595, (155, 110, 60, 25, 5, 100)),\n",
       " Team(928360): (230, (50, 150, 0, 0, 0, 0)),\n",
       " Team(914538): (265, (110, 20, 40, 50, 0, 0)),\n",
       " Team(871787): (785, (50, 220, 140, 40, 80, 0)),\n",
       " Team(872044): (390, (130, 15, 65, 0, 0, 0)),\n",
       " Team(919662): (180, (40, 50, 70, 0, 0, 0)),\n",
       " Team(927862): (110, (70, 40, 0, 0, 0, 0)),\n",
       " Team(908411): (280, (70, 40, 110, 40, 20, 0)),\n",
       " Team(891260): (450, (115, 70, 70, 50, 70, 40)),\n",
       " Team(926596): (210, (110, 80, 0, 0, 0, 0)),\n",
       " Team(873349): (540, (85, 80, 50, 40, 75, 50)),\n",
       " Team(896134): (445, (95, 30, 50, 30, 70, 35)),\n",
       " Team(928392): (220, (90, 100, 0, 0, 0, 0)),\n",
       " Team(900747): (540, (95, 110, 90, 40, 50, 70)),\n",
       " Team(909966): (610, (40, 190, 230, 35, 60, 0)),\n",
       " Team(889232): (540, (45, 110, 190, 10, 55, 25)),\n",
       " Team(871312): (570, (210, 100, 25, 85, 90, 0)),\n",
       " Team(854678): (970, (190, 140, 260, 110, 25, 35)),\n",
       " Team(931222): (50, (40, 0, 0, 0, 0, 0)),\n",
       " Team(926362): (280, (170, 90, 0, 0, 0, 0)),\n",
       " Team(905886): (290, (60, 70, 10, 65, 0, 0)),\n",
       " Team(888994): (745, (135, 110, 120, 15, 70, 40)),\n",
       " Team(924841): (260, (170, 70, 0, 0, 0, 0)),\n",
       " Team(904377): (435, (50, 80, 130, 60, 65, 0)),\n",
       " Team(895929): (870, (75, 160, 230, 105, 55, 60)),\n",
       " Team(909759): (395, (80, 70, 130, 15, 0, 0)),\n",
       " Team(900800): (415, (35, 150, 80, 30, 25, 35)),\n",
       " Team(905924): (445, (10, 170, 150, 20, 25, 0)),\n",
       " Team(855753): (535, (90, 50, 50, 60, 20, 35)),\n",
       " Team(931786): (60, (60, 0, 0, 0, 0, 0)),\n",
       " Team(898507): (310, (60, 25, 80, 85, 0, 0)),\n",
       " Team(896972): (460, (65, 120, 90, 5, 40, 90)),\n",
       " Team(882382): (520, (185, 30, 10, 85, 30, 45)),\n",
       " Team(924366): (165, (20, 100, 0, 0, 0, 0)),\n",
       " Team(924370): (90, (60, 30, 0, 0, 0, 0)),\n",
       " Team(874452): (780, (85, 140, 50, 50, 100, 130)),\n",
       " Team(867030): (560, (80, 140, 160, 40, 60, 0)),\n",
       " Team(874966): (705, (215, 140, 60, 110, 20, 60)),\n",
       " Team(923094): (190, (70, 50, 50, 0, 0, 0)),\n",
       " Team(859097): (730, (160, 90, 200, 35, 35, 15)),\n",
       " Team(930778): (90, (80, 0, 0, 0, 0, 0)),\n",
       " Team(904411): (510, (30, 170, 70, 110, 25, 0)),\n",
       " Team(885728): (265, (-35, 30, 80, 30, 10, 30)),\n",
       " Team(896228): (490, (65, 160, 80, 20, 60, 75)),\n",
       " Team(925668): (170, (60, 90, 0, 0, 0, 0)),\n",
       " Team(876774): (1000, (225, 170, 130, 35, 110, 50)),\n",
       " Team(903654): (795, (105, 170, 190, 115, 5, 50)),\n",
       " Team(854507): (565, (110, 80, 40, 80, 95, 65)),\n",
       " Team(922608): (340, (190, 90, 50, 0, 0, 0)),\n",
       " Team(908529): (460, (60, 80, 230, 30, 30, 0)),\n",
       " Team(854257): (850, (160, 170, 170, 110, 45, 50)),\n",
       " Team(886002): (715, (205, 80, 80, 30, 100, 110)),\n",
       " Team(924405): (270, (90, 170, 0, 0, 0, 0)),\n",
       " Team(922869): (200, (50, 20, 120, 0, 0, 0)),\n",
       " Team(916217): (580, (180, 200, 100, 30, 0, 0)),\n",
       " Team(880378): (490, (0, 120, 110, 50, 10, 40))}"
      ]
     },
     "execution_count": 12,
     "metadata": {},
     "output_type": "execute_result"
    }
   ],
   "source": [
    "self.season.prestigesofteams()"
   ]
  },
  {
   "cell_type": "code",
   "execution_count": 13,
   "metadata": {},
   "outputs": [
    {
     "data": {
      "text/plain": [
       "[[1045, (210, 190, 210, 80, 60, 50), Team(867862)],\n",
       " [1000, (225, 170, 130, 35, 110, 50), Team(876774)],\n",
       " [970, (190, 140, 260, 110, 25, 35), Team(854678)],\n",
       " [955, (65, 150, 280, 100, 40, 80), Team(886114)],\n",
       " [885, (285, 170, 80, 120, 70, 40), Team(897376)],\n",
       " [870, (75, 160, 230, 105, 55, 60), Team(895929)],\n",
       " [865, (135, 170, 210, 30, 80, 50), Team(878945)],\n",
       " [850, (160, 170, 170, 110, 45, 50), Team(854257)],\n",
       " [830, (175, 190, 180, 75, 50, 100), Team(874545)],\n",
       " [795, (105, 170, 190, 115, 5, 50), Team(903654)],\n",
       " [790, (75, 170, 230, 75, 70, 35), Team(892248)],\n",
       " [785, (50, 220, 140, 40, 80, 0), Team(871787)],\n",
       " [780, (85, 140, 50, 50, 100, 130), Team(874452)],\n",
       " [760, (110, 120, 50, 55, 70, 125), Team(854600)],\n",
       " [745, (135, 110, 120, 15, 70, 40), Team(888994)],\n",
       " [730, (160, 90, 200, 35, 35, 15), Team(859097)],\n",
       " [715, (205, 80, 80, 30, 100, 110), Team(886002)],\n",
       " [715, (85, 120, 160, 35, 125, 20), Team(879131)],\n",
       " [705, (215, 140, 60, 110, 20, 60), Team(874966)],\n",
       " [690, (120, 40, 200, 110, 35, 0), Team(910344)],\n",
       " [680, (155, 70, 130, 40, 15, 100), Team(874317)],\n",
       " [625, (120, 160, 100, 55, 85, 5), Team(855120)],\n",
       " [610, (40, 190, 230, 35, 60, 0), Team(909966)],\n",
       " [600, (130, 260, 80, 35, 0, 0), Team(914744)],\n",
       " [595, (155, 110, 60, 25, 5, 100), Team(891237)],\n",
       " [585, (105, 140, 180, 75, 10, 35), Team(898574)],\n",
       " [585, (45, 220, 90, 25, 80, 55), Team(897379)],\n",
       " [580, (180, 200, 100, 30, 0, 0), Team(916217)],\n",
       " [570, (210, 100, 25, 85, 90, 0), Team(871312)],\n",
       " [565, (110, 80, 40, 80, 95, 65), Team(854507)],\n",
       " [560, (80, 140, 160, 40, 60, 0), Team(867030)],\n",
       " [550, (160, 90, 120, 80, 30, 0), Team(907600)],\n",
       " [540, (95, 110, 90, 40, 50, 70), Team(900747)],\n",
       " [540, (85, 80, 50, 40, 75, 50), Team(873349)],\n",
       " [540, (45, 110, 190, 10, 55, 25), Team(889232)],\n",
       " [535, (90, 50, 50, 60, 20, 35), Team(855753)],\n",
       " [520, (185, 30, 10, 85, 30, 45), Team(882382)],\n",
       " [515, (115, 120, 20, 75, 50, 20), Team(874302)],\n",
       " [510, (215, 60, 40, 20, 35, 80), Team(897353)],\n",
       " [510, (70, 50, 200, 30, 50, 0), Team(906026)],\n",
       " [510, (30, 170, 70, 110, 25, 0), Team(904411)],\n",
       " [490, (65, 160, 80, 20, 60, 75), Team(896228)],\n",
       " [490, (0, 120, 110, 50, 10, 40), Team(880378)],\n",
       " [485, (95, 110, 60, 80, 40, 40), Team(896564)],\n",
       " [470, (95, 120, 120, 35, 45, 35), Team(899682)],\n",
       " [460, (65, 120, 90, 5, 40, 90), Team(896972)],\n",
       " [460, (60, 80, 230, 30, 30, 0), Team(908529)],\n",
       " [450, (115, 70, 70, 50, 70, 40), Team(891260)],\n",
       " [445, (95, 30, 50, 30, 70, 35), Team(896134)],\n",
       " [445, (10, 170, 150, 20, 25, 0), Team(905924)],\n",
       " [435, (110, 40, 40, 15, 45, 20), Team(872475)],\n",
       " [435, (90, 100, 80, 45, 45, 0), Team(906259)],\n",
       " [435, (50, 80, 130, 60, 65, 0), Team(904377)],\n",
       " [420, (160, 240, 0, 0, 0, 0), Team(926053)],\n",
       " [415, (35, 150, 80, 30, 25, 35), Team(900800)],\n",
       " [395, (80, 70, 130, 15, 0, 0), Team(909759)],\n",
       " [390, (130, 15, 65, 0, 0, 0), Team(872044)],\n",
       " [380, (190, 50, 140, 0, 0, 0), Team(922672)],\n",
       " [380, (70, 30, 150, 60, 0, 0), Team(916031)],\n",
       " [340, (190, 130, 0, 0, 0, 0), Team(924441)],\n",
       " [340, (190, 90, 50, 0, 0, 0), Team(922608)],\n",
       " [310, (60, 25, 80, 85, 0, 0), Team(898507)],\n",
       " [290, (60, 70, 10, 65, 0, 0), Team(905886)],\n",
       " [280, (170, 90, 0, 0, 0, 0), Team(926362)],\n",
       " [280, (70, 40, 110, 40, 20, 0), Team(908411)],\n",
       " [280, (50, 110, 50, 0, 0, 0), Team(919573)],\n",
       " [270, (90, 170, 0, 0, 0, 0), Team(924405)],\n",
       " [265, (110, 20, 40, 50, 0, 0), Team(914538)],\n",
       " [265, (-35, 30, 80, 30, 10, 30), Team(885728)],\n",
       " [260, (170, 70, 0, 0, 0, 0), Team(924841)],\n",
       " [255, (30, 30, 100, 60, 0, 0), Team(909848)],\n",
       " [245, (60, 30, 60, 60, 0, 0), Team(913702)],\n",
       " [240, (130, 90, 0, 0, 0, 0), Team(925779)],\n",
       " [230, (50, 150, 0, 0, 0, 0), Team(928360)],\n",
       " [220, (90, 100, 0, 0, 0, 0), Team(928392)],\n",
       " [220, (70, 50, 15, 10, 0, 0), Team(864291)],\n",
       " [210, (110, 80, 0, 0, 0, 0), Team(926596)],\n",
       " [200, (50, 20, 120, 0, 0, 0), Team(922869)],\n",
       " [190, (70, 50, 50, 0, 0, 0), Team(923094)],\n",
       " [190, (30, 140, 0, 0, 0, 0), Team(925504)],\n",
       " [180, (40, 50, 70, 0, 0, 0), Team(919662)],\n",
       " [170, (60, 90, 0, 0, 0, 0), Team(925668)],\n",
       " [170, (30, 70, 50, 0, 0, 0), Team(919838)],\n",
       " [165, (20, 100, 0, 0, 0, 0), Team(924366)],\n",
       " [160, (130, 30, 0, 0, 0, 0), Team(926991)],\n",
       " [160, (20, 120, 20, 0, 0, 0), Team(923140)],\n",
       " [150, (150, 0, 0, 0, 0, 0), Team(930817)],\n",
       " [110, (110, 0, 0, 0, 0, 0), Team(931901)],\n",
       " [110, (70, 40, 0, 0, 0, 0), Team(927862)],\n",
       " [100, (80, 0, 0, 0, 0, 0), Team(926021)],\n",
       " [100, (50, 50, 0, 0, 0, 0), Team(928542)],\n",
       " [90, (80, 0, 0, 0, 0, 0), Team(930778)],\n",
       " [90, (60, 30, 0, 0, 0, 0), Team(924370)],\n",
       " [60, (60, 0, 0, 0, 0, 0), Team(931786)],\n",
       " [50, (40, 0, 0, 0, 0, 0), Team(931222)],\n",
       " [30, (30, 0, 0, 0, 0, 0), Team(930089)],\n",
       " [30, (30, 0, 0, 0, 0, 0), Team(931935)],\n",
       " [10, (0, 10, 0, 0, 0, 0), Team(926025)]]"
      ]
     },
     "execution_count": 13,
     "metadata": {},
     "output_type": "execute_result"
    }
   ],
   "source": [
    "swithout = self.season.prestigestandings()\n",
    "swithout"
   ]
  },
  {
   "cell_type": "code",
   "execution_count": null,
   "metadata": {},
   "outputs": [],
   "source": []
  },
  {
   "cell_type": "code",
   "execution_count": 14,
   "metadata": {},
   "outputs": [
    {
     "data": {
      "text/plain": [
       "PosixPath('/home/adam/FUMBBL/cibblbibbl-data/cibbl/page/prestigestandings.bbcode')"
      ]
     },
     "execution_count": 14,
     "metadata": {},
     "output_type": "execute_result"
    }
   ],
   "source": [
    "self.bbcodetemplatefilepath_of_group(G)"
   ]
  },
  {
   "cell_type": "code",
   "execution_count": 15,
   "metadata": {},
   "outputs": [
    {
     "data": {
      "text/plain": [
       "<module 'fumbbl_session' from '/usr/lib/python3.7/site-packages/fumbbl_session/__init__.py'>"
      ]
     },
     "execution_count": 15,
     "metadata": {},
     "output_type": "execute_result"
    }
   ],
   "source": [
    "cibblbibbl.session"
   ]
  },
  {
   "cell_type": "code",
   "execution_count": 16,
   "metadata": {},
   "outputs": [
    {
     "data": {
      "text/plain": [
       "PosixPath(\"/home/adam/FUMBBL/cibblbibbl-data/cibbl/page/prestigestandings/Season('cibbl', 5, 3).json\")"
      ]
     },
     "execution_count": 16,
     "metadata": {},
     "output_type": "execute_result"
    }
   ],
   "source": [
    "self.configfilepath"
   ]
  },
  {
   "cell_type": "code",
   "execution_count": 17,
   "metadata": {},
   "outputs": [
    {
     "data": {
      "text/plain": [
       "{}"
      ]
     },
     "execution_count": 17,
     "metadata": {},
     "output_type": "execute_result"
    }
   ],
   "source": [
    "self.config"
   ]
  },
  {
   "cell_type": "code",
   "execution_count": 12,
   "metadata": {},
   "outputs": [],
   "source": [
    "self.config[\"titleimgurl\"] = \"/i/601772\""
   ]
  },
  {
   "cell_type": "code",
   "execution_count": null,
   "metadata": {},
   "outputs": [],
   "source": []
  }
 ],
 "metadata": {
  "kernelspec": {
   "display_name": "Python 3",
   "language": "python",
   "name": "python3"
  },
  "language_info": {
   "codemirror_mode": {
    "name": "ipython",
    "version": 3
   },
   "file_extension": ".py",
   "mimetype": "text/x-python",
   "name": "python",
   "nbconvert_exporter": "python",
   "pygments_lexer": "ipython3",
   "version": "3.7.4"
  }
 },
 "nbformat": 4,
 "nbformat_minor": 2
}
