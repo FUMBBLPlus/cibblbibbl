{
 "cells": [
  {
   "cell_type": "code",
   "execution_count": 1,
   "metadata": {},
   "outputs": [],
   "source": [
    "import collections\n",
    "import copy\n",
    "import datetime\n",
    "import itertools\n",
    "import json\n",
    "import math\n",
    "import pathlib\n",
    "import re\n",
    "from pprint import pprint\n",
    "\n",
    "import nest_asyncio\n",
    "nest_asyncio.apply()\n",
    "import texttable\n",
    "\n",
    "import pytourney\n",
    "import pyfumbbl\n",
    "import cibblbibbl"
   ]
  },
  {
   "cell_type": "code",
   "execution_count": 2,
   "metadata": {},
   "outputs": [],
   "source": [
    "G = cibblbibbl.CIBBL\n",
    "Team = cibblbibbl.team.Team\n",
    "player = cibblbibbl.player.player\n",
    "Match = cibblbibbl.match.Match\n",
    "Matchup = cibblbibbl.matchup.Matchup\n",
    "Replay = cibblbibbl.replay.Replay"
   ]
  },
  {
   "cell_type": "code",
   "execution_count": 7,
   "metadata": {},
   "outputs": [],
   "source": [
    "data = collections.defaultdict(list)\n",
    "for Mu in G.matchups:\n",
    "    for teamId, d0 in Mu.config[\"player\"].items():\n",
    "        for playerId, p in d0.items():\n",
    "            Pl = player(str(playerId))\n",
    "            prespp = Pl.prespp(Mu)\n",
    "            spp = p.get(\"spp\", 0)\n",
    "            data[Pl].append((Mu, prespp, spp))"
   ]
  },
  {
   "cell_type": "code",
   "execution_count": 8,
   "metadata": {},
   "outputs": [
    {
     "name": "stdout",
     "output_type": "stream",
     "text": [
      "[12349401, Retired] Kkrozh [908529, ICBM Warpspawns] (prev: [12295352] Kkrozh'sazhs)\n",
      "4046041, exp:8, got:11\n",
      "\n",
      "[12372276, Active] Zzak [908529, ICBM Warpspawns] (prev: [12295363] Zzak'tarh)\n",
      "4046041, exp:17, got:31\n",
      "\n",
      "[12372278, Active] Tarh [908529, ICBM Warpspawns] (prev: [12295363] Zzak'tarh)\n",
      "4046041, exp:23, got:37\n",
      "\n",
      "[12618231, Active] Gashokh [908529, ICBM Warpspawns] (prev: [12456141] Gashokh'vanderburth)\n",
      "4055462, exp:22, got:28\n",
      "\n",
      "[12618232, Active] Vanderburth [908529, ICBM Warpspawns] (prev: [12456141] Gashokh'vanderburth)\n",
      "4055462, exp:22, got:28\n",
      "\n"
     ]
    }
   ],
   "source": [
    "uncommon = collections.defaultdict(list)\n",
    "for Pl in sorted(data):\n",
    "    L = data[Pl]\n",
    "    if not isinstance(Pl, (cibblbibbl.player.Player, cibblbibbl.player.RaisedDeadPlayer)):\n",
    "        continue\n",
    "    expprespp = 0\n",
    "    if Pl.prev:\n",
    "        if data.get(Pl.prev):\n",
    "            prevlastd = data[Pl.prev][-1]\n",
    "        else:\n",
    "            prevlastd = [None, 0, 0]\n",
    "        expprespp = sum(prevlastd[1:3]) * Pl.prevsppmul\n",
    "    nameprint = False\n",
    "    for i, (Mu, prespp, spp) in enumerate(L):\n",
    "        if prespp != expprespp:\n",
    "            if not nameprint:\n",
    "                s = f'[{Pl.Id}, {Pl.status}] {Pl.name} [{Pl.team.Id}, {Pl.team.name}]'\n",
    "                if Pl.prev:\n",
    "                    s += f' (prev: [{Pl.prev.Id}] {Pl.prev.name})'\n",
    "                print(s)\n",
    "                nameprint = True\n",
    "            print(f'{Mu.match.Id}, exp:{expprespp}, got:{prespp}')\n",
    "            uncommon[Pl].append([Mu, expprespp, prespp])\n",
    "        expprespp = prespp + spp       \n",
    "    if nameprint:\n",
    "        print()"
   ]
  },
  {
   "cell_type": "code",
   "execution_count": 5,
   "metadata": {},
   "outputs": [],
   "source": [
    "Players = uncommon.keys()"
   ]
  },
  {
   "cell_type": "code",
   "execution_count": 6,
   "metadata": {},
   "outputs": [
    {
     "name": "stdout",
     "output_type": "stream",
     "text": [
      "Haseem Abdul Sabbar 5\n",
      "Fayid Mohammed 3\n",
      "Calas Typhon 10\n",
      "Varesh Kaurambi 7\n",
      "Abd Allah Bousaid 33\n",
      "Oogie Boogie 18\n",
      "Gaudi 32\n",
      "Kkrozh 3\n",
      "Sazks 3\n",
      "Zzak 14\n",
      "Tarh 14\n",
      "Harkon Halvarson 33\n",
      "Garalash 9\n",
      "Gashokh 22\n",
      "Vanderburth 22\n"
     ]
    }
   ],
   "source": [
    "# carry previous SPPs (reload above three after it runned)\n",
    "for Pl in Players:\n",
    "    Pl0 = Pl.prev\n",
    "    if not Pl0:\n",
    "        continue\n",
    "    prevmatchups = tuple(\n",
    "        cibblbibbl.matchup.sort_by_modified(\n",
    "            Mu\n",
    "            for S in Pl0._matchups.values()\n",
    "            for Mu in S\n",
    "        )\n",
    "    )\n",
    "    if not prevmatchups:\n",
    "        continue\n",
    "    prevperf = prevmatchups[-1].performance(Pl0)\n",
    "    prevspp = prevperf.get(\"prespp\", 0)\n",
    "    prevspp += prevperf.get(\"spp\", 0)\n",
    "    prevspp = math.floor(prevspp * Pl.prevsppmul)\n",
    "    if prevspp:\n",
    "        adminspp = Pl.adminspp\n",
    "        adminspp[\"0\"] = prevspp\n",
    "        Pl.adminspp = adminspp\n",
    "    print(Pl.Id, Pl.name, prevspp)\n",
    "\n",
    "    "
   ]
  },
  {
   "cell_type": "code",
   "execution_count": null,
   "metadata": {},
   "outputs": [],
   "source": []
  },
  {
   "cell_type": "code",
   "execution_count": 10,
   "metadata": {},
   "outputs": [
    {
     "name": "stdout",
     "output_type": "stream",
     "text": [
      "12349401 Kkrozh 4046041 -3\n",
      "12372276 Zzak 4046041 -14\n",
      "12372278 Tarh 4046041 -14\n",
      "12618231 Gashokh 4055462 -6\n",
      "12618232 Vanderburth 4055462 -6\n"
     ]
    }
   ],
   "source": [
    "#fix admin spps\n",
    "for Pl, L in uncommon.items():\n",
    "    for Mu, expprespp, prespp in L:\n",
    "        Ma = Mu.match\n",
    "        value = expprespp - prespp\n",
    "        adminspp = Pl.adminspp\n",
    "        adminspp[str(Ma.Id)] = value\n",
    "        print(Pl.Id, Pl.name, Ma.Id, value)"
   ]
  },
  {
   "cell_type": "code",
   "execution_count": 8,
   "metadata": {},
   "outputs": [],
   "source": [
    "Players = [player(12618231), player(12618232)]"
   ]
  },
  {
   "cell_type": "code",
   "execution_count": 11,
   "metadata": {},
   "outputs": [],
   "source": [
    "Pl = Players[0]"
   ]
  },
  {
   "cell_type": "code",
   "execution_count": 7,
   "metadata": {},
   "outputs": [
    {
     "ename": "NameError",
     "evalue": "name 'uncommon' is not defined",
     "output_type": "error",
     "traceback": [
      "\u001b[0;31m---------------------------------------------------------------------------\u001b[0m",
      "\u001b[0;31mNameError\u001b[0m                                 Traceback (most recent call last)",
      "\u001b[0;32m<ipython-input-7-b68690aeff05>\u001b[0m in \u001b[0;36m<module>\u001b[0;34m\u001b[0m\n\u001b[1;32m      1\u001b[0m \u001b[0mPl\u001b[0m \u001b[0;34m=\u001b[0m \u001b[0mplayer\u001b[0m\u001b[0;34m(\u001b[0m\u001b[0;36m12618231\u001b[0m\u001b[0;34m)\u001b[0m\u001b[0;34m\u001b[0m\u001b[0;34m\u001b[0m\u001b[0m\n\u001b[0;32m----> 2\u001b[0;31m \u001b[0muncommon\u001b[0m\u001b[0;34m[\u001b[0m\u001b[0mPl\u001b[0m\u001b[0;34m]\u001b[0m\u001b[0;34m\u001b[0m\u001b[0;34m\u001b[0m\u001b[0m\n\u001b[0m",
      "\u001b[0;31mNameError\u001b[0m: name 'uncommon' is not defined"
     ]
    }
   ],
   "source": [
    "Pl = player(12618231)\n",
    "uncommon[Pl]"
   ]
  },
  {
   "cell_type": "code",
   "execution_count": 12,
   "metadata": {},
   "outputs": [],
   "source": [
    "Mu = Pl.matchups(\"cibbl\")[0]"
   ]
  },
  {
   "cell_type": "code",
   "execution_count": 13,
   "metadata": {},
   "outputs": [
    {
     "data": {
      "text/plain": [
       "22"
      ]
     },
     "execution_count": 13,
     "metadata": {},
     "output_type": "execute_result"
    }
   ],
   "source": [
    "Pl.prespp(Mu)"
   ]
  },
  {
   "cell_type": "code",
   "execution_count": 14,
   "metadata": {},
   "outputs": [],
   "source": [
    "Pl0 = Pl.prev"
   ]
  },
  {
   "cell_type": "code",
   "execution_count": 15,
   "metadata": {},
   "outputs": [],
   "source": [
    "prevmatchups = tuple(\n",
    "    cibblbibbl.matchup.sort_by_modified(\n",
    "        Mu\n",
    "        for S in Pl0._matchups.values()\n",
    "        for Mu in S\n",
    "    )\n",
    ")"
   ]
  },
  {
   "cell_type": "code",
   "execution_count": 16,
   "metadata": {},
   "outputs": [
    {
     "data": {
      "text/plain": [
       "20"
      ]
     },
     "execution_count": 16,
     "metadata": {},
     "output_type": "execute_result"
    }
   ],
   "source": [
    "if prevmatchups:\n",
    "    prevspp = prevmatchups[-1].performance(Pl0).get(\"prespp\", 0)\n",
    "else:\n",
    "    prevspp = 0\n",
    "prevspp"
   ]
  },
  {
   "cell_type": "code",
   "execution_count": null,
   "metadata": {},
   "outputs": [],
   "source": []
  },
  {
   "cell_type": "code",
   "execution_count": 19,
   "metadata": {},
   "outputs": [
    {
     "name": "stdout",
     "output_type": "stream",
     "text": [
      "NormalPlayer('12138861') adminspp {'0': 32}\n"
     ]
    }
   ],
   "source": [
    "if prevspp:\n",
    "    adminspp = Pl.adminspp\n",
    "    adminspp[\"0\"] = prevspp\n",
    "    Pl.adminspp = adminspp"
   ]
  },
  {
   "cell_type": "code",
   "execution_count": 17,
   "metadata": {},
   "outputs": [
    {
     "data": {
      "text/plain": [
       "{'0': 32}"
      ]
     },
     "execution_count": 17,
     "metadata": {},
     "output_type": "execute_result"
    }
   ],
   "source": [
    "Pl.adminspp"
   ]
  },
  {
   "cell_type": "code",
   "execution_count": 18,
   "metadata": {},
   "outputs": [],
   "source": [
    "Pl.config[\"adminspp\"] = adminspp"
   ]
  },
  {
   "cell_type": "code",
   "execution_count": null,
   "metadata": {},
   "outputs": [],
   "source": []
  },
  {
   "cell_type": "code",
   "execution_count": 14,
   "metadata": {},
   "outputs": [
    {
     "data": {
      "text/plain": [
       "False"
      ]
     },
     "execution_count": 14,
     "metadata": {},
     "output_type": "execute_result"
    }
   ],
   "source": [
    "{'0': 32} == {}"
   ]
  },
  {
   "cell_type": "code",
   "execution_count": 24,
   "metadata": {},
   "outputs": [],
   "source": [
    "default = Pl.__class__.adminspp.default(Pl)"
   ]
  },
  {
   "cell_type": "code",
   "execution_count": 30,
   "metadata": {},
   "outputs": [
    {
     "data": {
      "text/plain": [
       "{'0': 32}"
      ]
     },
     "execution_count": 30,
     "metadata": {},
     "output_type": "execute_result"
    }
   ],
   "source": [
    "a = Pl.__class__.adminspp.__get__(Pl, Pl.__class__)\n",
    "a"
   ]
  },
  {
   "cell_type": "code",
   "execution_count": 31,
   "metadata": {},
   "outputs": [
    {
     "data": {
      "text/plain": [
       "True"
      ]
     },
     "execution_count": 31,
     "metadata": {},
     "output_type": "execute_result"
    }
   ],
   "source": [
    "a == default"
   ]
  },
  {
   "cell_type": "code",
   "execution_count": 32,
   "metadata": {},
   "outputs": [
    {
     "data": {
      "text/plain": [
       "False"
      ]
     },
     "execution_count": 32,
     "metadata": {},
     "output_type": "execute_result"
    }
   ],
   "source": [
    "a is default"
   ]
  },
  {
   "cell_type": "code",
   "execution_count": 34,
   "metadata": {},
   "outputs": [
    {
     "data": {
      "text/plain": [
       "{}"
      ]
     },
     "execution_count": 34,
     "metadata": {},
     "output_type": "execute_result"
    }
   ],
   "source": [
    "default"
   ]
  },
  {
   "cell_type": "code",
   "execution_count": 35,
   "metadata": {},
   "outputs": [
    {
     "data": {
      "text/plain": [
       "cibblbibbl.jsonfile.JSONFileObject"
      ]
     },
     "execution_count": 35,
     "metadata": {},
     "output_type": "execute_result"
    }
   ],
   "source": [
    "type(a)"
   ]
  },
  {
   "cell_type": "code",
   "execution_count": 36,
   "metadata": {},
   "outputs": [
    {
     "data": {
      "text/plain": [
       "dict"
      ]
     },
     "execution_count": 36,
     "metadata": {},
     "output_type": "execute_result"
    }
   ],
   "source": [
    "type(default)"
   ]
  },
  {
   "cell_type": "code",
   "execution_count": 39,
   "metadata": {},
   "outputs": [
    {
     "data": {
      "text/plain": [
       "True"
      ]
     },
     "execution_count": 39,
     "metadata": {},
     "output_type": "execute_result"
    }
   ],
   "source": [
    "a== default"
   ]
  },
  {
   "cell_type": "code",
   "execution_count": 41,
   "metadata": {},
   "outputs": [
    {
     "ename": "TypeError",
     "evalue": "unhashable type: 'JSONFileObject'",
     "output_type": "error",
     "traceback": [
      "\u001b[0;31m---------------------------------------------------------------------------\u001b[0m",
      "\u001b[0;31mTypeError\u001b[0m                                 Traceback (most recent call last)",
      "\u001b[0;32m<ipython-input-41-57b555d30865>\u001b[0m in \u001b[0;36m<module>\u001b[0;34m\u001b[0m\n\u001b[0;32m----> 1\u001b[0;31m \u001b[0mhash\u001b[0m\u001b[0;34m(\u001b[0m\u001b[0ma\u001b[0m\u001b[0;34m)\u001b[0m\u001b[0;34m\u001b[0m\u001b[0;34m\u001b[0m\u001b[0m\n\u001b[0m",
      "\u001b[0;31mTypeError\u001b[0m: unhashable type: 'JSONFileObject'"
     ]
    }
   ],
   "source": [
    "hash(a)"
   ]
  },
  {
   "cell_type": "code",
   "execution_count": null,
   "metadata": {},
   "outputs": [],
   "source": [
    "[11744537, Active] Haseem Abdul Sabbar [873245, Sphinx Legion of Numas] (prev: [11736871] Haseem Abdul Sabbar)\n",
    "3897789, exp:5, got:0\n",
    "\n",
    "[11765469, Dead] Fayid Mohammed [873245, Sphinx Legion of Numas] (prev: [11736876] Fayid Mohammed)\n",
    "3900603, exp:3, got:0\n",
    "\n",
    "[11791157, Dead] Calas Typhon [871787, Malignant Curators] (prev: [11558607] Calas Typhon)\n",
    "3905436, exp:10, got:0\n",
    "\n",
    "[11940785, Retired] Varesh Kaurambi [871787, Malignant Curators] (prev: [11770088] Varesh Kaurambi)\n",
    "3930641, exp:7, got:0\n",
    "\n",
    "[11956674, Retired] Abd Allah Bousaid [871787, Malignant Curators] (prev: [11455996] Abd Allah Bousaid)\n",
    "3933541, exp:33, got:0\n",
    "\n",
    "[11978228, Retired] Oogie Boogie [882382, Ali's Anarchists] (prev: [11881505] Oogie Boogie)\n",
    "3934598, exp:18, got:0\n",
    "\n",
    "[12138861, Dead] Gaudi [882382, Ali's Anarchists] (prev: [11881471] Gaudi)\n",
    "3964222, exp:32, got:0\n",
    "\n",
    "[12349401, Retired] Kkrozh [908529, ICBM Warpspawns] (prev: [12295352] Kkrozh'sazhs)\n",
    "4005344, exp:3, got:0\n",
    "4046041, exp:5, got:8\n",
    "\n",
    "[12349402, Retired] Sazks [908529, ICBM Warpspawns] (prev: [12295352] Kkrozh'sazhs)\n",
    "4005344, exp:3, got:0\n",
    "\n",
    "[12372276, Active] Zzak [908529, ICBM Warpspawns] (prev: [12295363] Zzak'tarh)\n",
    "4010498, exp:14, got:0\n",
    "4046041, exp:3, got:17\n",
    "\n",
    "[12372278, Active] Tarh [908529, ICBM Warpspawns] (prev: [12295363] Zzak'tarh)\n",
    "4010498, exp:14, got:0\n",
    "4046041, exp:9, got:23\n",
    "\n",
    "[12423015, Active] Harkon Halvarson [871787, Malignant Curators] (prev: [11892408] Harkon Halvarson)\n",
    "4017192, exp:33, got:0\n",
    "\n",
    "[12467315, Retired] Garalash [871787, Malignant Curators] (prev: [12103185] Garalash)\n",
    "4023916, exp:9, got:0\n",
    "\n",
    "[12618231, Active] Gashokh [908529, ICBM Warpspawns] (prev: [12456141] Gashokh'vanderburth)\n",
    "4055462, exp:22, got:6\n",
    "\n",
    "[12618232, Active] Vanderburth [908529, ICBM Warpspawns] (prev: [12456141] Gashokh'vanderburth)\n",
    "4055462, exp:22, got:6\n",
    "\n"
   ]
  },
  {
   "cell_type": "code",
   "execution_count": null,
   "metadata": {},
   "outputs": [],
   "source": [
    "[12349401, Retired] Kkrozh [908529, ICBM Warpspawns] (prev: [12295352] Kkrozh'sazhs)\n",
    "4046041, exp:8, got:11\n",
    "\n",
    "[12372276, Active] Zzak [908529, ICBM Warpspawns] (prev: [12295363] Zzak'tarh)\n",
    "4046041, exp:17, got:31\n",
    "\n",
    "[12372278, Active] Tarh [908529, ICBM Warpspawns] (prev: [12295363] Zzak'tarh)\n",
    "4046041, exp:23, got:37\n",
    "\n",
    "[12618231, Active] Gashokh [908529, ICBM Warpspawns] (prev: [12456141] Gashokh'vanderburth)\n",
    "4055462, exp:22, got:28\n",
    "\n",
    "[12618232, Active] Vanderburth [908529, ICBM Warpspawns] (prev: [12456141] Gashokh'vanderburth)\n",
    "4055462, exp:22, got:28\n",
    "\n"
   ]
  }
 ],
 "metadata": {
  "kernelspec": {
   "display_name": "Python 3",
   "language": "python",
   "name": "python3"
  },
  "language_info": {
   "codemirror_mode": {
    "name": "ipython",
    "version": 3
   },
   "file_extension": ".py",
   "mimetype": "text/x-python",
   "name": "python",
   "nbconvert_exporter": "python",
   "pygments_lexer": "ipython3",
   "version": "3.7.4"
  }
 },
 "nbformat": 4,
 "nbformat_minor": 2
}
