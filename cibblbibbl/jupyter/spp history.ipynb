{
 "cells": [
  {
   "cell_type": "code",
   "execution_count": 1,
   "metadata": {},
   "outputs": [],
   "source": [
    "import collections\n",
    "import copy\n",
    "import datetime\n",
    "import itertools\n",
    "import json\n",
    "import pathlib\n",
    "import re\n",
    "from pprint import pprint\n",
    "\n",
    "import nest_asyncio\n",
    "nest_asyncio.apply()\n",
    "import texttable\n",
    "\n",
    "import pytourney\n",
    "import pyfumbbl\n",
    "import cibblbibbl"
   ]
  },
  {
   "cell_type": "code",
   "execution_count": 2,
   "metadata": {},
   "outputs": [],
   "source": [
    "G = cibblbibbl.CIBBL\n",
    "Team = cibblbibbl.team.Team\n",
    "player = cibblbibbl.player.player\n",
    "Match = cibblbibbl.match.Match\n",
    "Matchup = cibblbibbl.matchup.Matchup\n",
    "Replay = cibblbibbl.replay.Replay"
   ]
  },
  {
   "cell_type": "code",
   "execution_count": 3,
   "metadata": {},
   "outputs": [],
   "source": [
    "data = collections.defaultdict(list)\n",
    "for Mu in G.matchups:\n",
    "    for teamId, d0 in Mu.config[\"player\"].items():\n",
    "        for playerId, p in d0.items():\n",
    "            Pl = player(str(playerId))\n",
    "            prespp = p.get(\"prespp\", 0)\n",
    "            spp = p.get(\"spp\", 0)\n",
    "            data[Pl].append((Mu, prespp, spp))"
   ]
  },
  {
   "cell_type": "code",
   "execution_count": 8,
   "metadata": {},
   "outputs": [
    {
     "name": "stdout",
     "output_type": "stream",
     "text": [
      "[11744537, Active] Haseem Abdul Sabbar (prev: [11736871] Haseem Abdul Sabbar)\n",
      "3897789, exp:5, got:0\n",
      "\n",
      "[11765469, Dead] Fayid Mohammed (prev: [11736876] Fayid Mohammed)\n",
      "3900603, exp:3, got:0\n",
      "\n",
      "[11791157, Dead] Calas Typhon (prev: [11558607] Calas Typhon)\n",
      "3905436, exp:10, got:0\n",
      "\n",
      "[11940785, Retired] Varesh Kaurambi (prev: [11770088] Varesh Kaurambi)\n",
      "3930641, exp:7, got:0\n",
      "\n",
      "[11956674, Retired] Abd Allah Bousaid (prev: [11455996] Abd Allah Bousaid)\n",
      "3933541, exp:33, got:0\n",
      "\n",
      "[11978228, Retired] Oogie Boogie (prev: [11881505] Oogie Boogie)\n",
      "3934598, exp:18, got:0\n",
      "\n",
      "[12138861, Dead] Gaudi (prev: [11881471] Gaudi)\n",
      "3964222, exp:32, got:0\n",
      "\n",
      "[12349401, Retired] Kkrozh (prev: [12348495] tochtiguhtobias)\n",
      "4046041, exp:5, got:8\n",
      "\n",
      "[12372276, Active] Zzak (prev: [12295363] Zzak'tarh)\n",
      "4010498, exp:14, got:0\n",
      "4046041, exp:3, got:17\n",
      "\n",
      "[12372278, Active] Tarh (prev: [12295363] Zzak'tarh)\n",
      "4010498, exp:14, got:0\n",
      "4046041, exp:9, got:23\n",
      "\n",
      "[12423015, Active] Harkon Halvarson (prev: [11892408] Harkon Halvarson)\n",
      "4017192, exp:33, got:0\n",
      "\n",
      "[12467315, Retired] Garalash (prev: [12103185] Garalash)\n",
      "4023916, exp:9, got:0\n",
      "\n",
      "[12618231, Active] Gashokh (prev: [12456141] Gashokh'vanderburth)\n",
      "4055462, exp:22, got:6\n",
      "\n",
      "[12618232, Active] Vanderburth (prev: [12456141] Gashokh'vanderburth)\n",
      "4055462, exp:22, got:6\n",
      "\n"
     ]
    }
   ],
   "source": [
    "for Pl in sorted(data):\n",
    "    L = data[Pl]\n",
    "    if not isinstance(Pl, (cibblbibbl.player.Player, cibblbibbl.player.RaisedDeadPlayer)):\n",
    "        continue\n",
    "    expprespp = 0\n",
    "    if Pl.prev:\n",
    "        if data.get(Pl.prev):\n",
    "            prevlastd = data[Pl.prev][-1]\n",
    "        else:\n",
    "            prevlastd = [None, 0, 0]\n",
    "        expprespp = sum(prevlastd[1:3]) * Pl.prevsppmul\n",
    "    nameprint = False\n",
    "    for i, (Mu, prespp, spp) in enumerate(L):\n",
    "        if prespp != expprespp:\n",
    "            if not nameprint:\n",
    "                s = f'[{Pl.Id}, {Pl.status}] {Pl.name}'\n",
    "                if Pl.prev:\n",
    "                    s += f' (prev: [{Pl.prev.Id}] {Pl.prev.name})'\n",
    "                print(s)\n",
    "                nameprint = True\n",
    "            print(f'{Mu.match.Id}, exp:{expprespp}, got:{prespp}')\n",
    "        expprespp = prespp + spp       \n",
    "    if nameprint:\n",
    "        print()"
   ]
  },
  {
   "cell_type": "code",
   "execution_count": 9,
   "metadata": {},
   "outputs": [],
   "source": [
    "Pl0 = player(\"12349402\")"
   ]
  },
  {
   "cell_type": "code",
   "execution_count": 10,
   "metadata": {},
   "outputs": [
    {
     "data": {
      "text/plain": [
       "[(Matchup('cibbl', '45237', 4, 888760, 908529), 0, 0),\n",
       " (Matchup('cibbl', '45577', 1, 907426, 908529), 0, 0),\n",
       " (Matchup('cibbl', '45577', 2, 908529, 910344), 0, 0),\n",
       " (Matchup('cibbl', '45577', 3, 908411, 908529), 0, 0)]"
      ]
     },
     "execution_count": 10,
     "metadata": {},
     "output_type": "execute_result"
    }
   ],
   "source": [
    "data[Pl0]"
   ]
  },
  {
   "cell_type": "code",
   "execution_count": 14,
   "metadata": {},
   "outputs": [
    {
     "data": {
      "text/plain": [
       "NormalPlayer('12295352')"
      ]
     },
     "execution_count": 14,
     "metadata": {},
     "output_type": "execute_result"
    }
   ],
   "source": [
    "Pl0.prev.prev"
   ]
  },
  {
   "cell_type": "code",
   "execution_count": 10,
   "metadata": {},
   "outputs": [],
   "source": [
    "Pl1 = player(\"11744537\")"
   ]
  },
  {
   "cell_type": "code",
   "execution_count": 11,
   "metadata": {},
   "outputs": [
    {
     "data": {
      "text/plain": [
       "{'prevId': '11736871', 'prevdeadmatchId': 3894205, 'prevreason': 'skeletonized'}"
      ]
     },
     "execution_count": 11,
     "metadata": {},
     "output_type": "execute_result"
    }
   ],
   "source": [
    "Pl1.config"
   ]
  },
  {
   "cell_type": "code",
   "execution_count": null,
   "metadata": {},
   "outputs": [],
   "source": [
    "        \n",
    "topSPPs = {}\n",
    "\n",
    "        \n",
    "expectedSPPs = {}\n",
    "for Mu in G.matchups:\n",
    "    for playerId, p in Mu.config[\"player\"].items():\n",
    "        Pl = player(str(playerId))\n",
    "        prevspp0 = 0\n",
    "        if Pl.prev:\n",
    "            prevPl = Pl.prev.\n",
    "        prespp = p.get(\"prespp\", prevspp0)\n",
    "        spp = p.get(\"spp\", 0)"
   ]
  }
 ],
 "metadata": {
  "kernelspec": {
   "display_name": "Python 3",
   "language": "python",
   "name": "python3"
  },
  "language_info": {
   "codemirror_mode": {
    "name": "ipython",
    "version": 3
   },
   "file_extension": ".py",
   "mimetype": "text/x-python",
   "name": "python",
   "nbconvert_exporter": "python",
   "pygments_lexer": "ipython3",
   "version": "3.7.4"
  }
 },
 "nbformat": 4,
 "nbformat_minor": 2
}
