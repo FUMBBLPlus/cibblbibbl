{
 "cells": [
  {
   "cell_type": "code",
   "execution_count": 1,
   "metadata": {},
   "outputs": [],
   "source": [
    "import collections\n",
    "import copy\n",
    "import datetime\n",
    "import itertools\n",
    "import json\n",
    "import pathlib\n",
    "import re\n",
    "from pprint import pprint\n",
    "\n",
    "import nest_asyncio\n",
    "nest_asyncio.apply()\n",
    "import texttable\n",
    "\n",
    "import pytourney\n",
    "import pyfumbbl\n",
    "import cibblbibbl"
   ]
  },
  {
   "cell_type": "code",
   "execution_count": 2,
   "metadata": {},
   "outputs": [],
   "source": [
    "G = cibblbibbl.CIBBL\n",
    "Team = cibblbibbl.team.Team\n",
    "player = cibblbibbl.player.player\n",
    "Match = cibblbibbl.match.Match\n",
    "Matchup = cibblbibbl.matchup.Matchup\n",
    "Replay = cibblbibbl.replay.Replay"
   ]
  },
  {
   "cell_type": "code",
   "execution_count": 9,
   "metadata": {},
   "outputs": [],
   "source": [
    "data = collections.defaultdict(list)\n",
    "for Mu in G.matchups:\n",
    "    for teamId, d0 in Mu.config[\"player\"].items():\n",
    "        for playerId, p in d0.items():\n",
    "            Pl = player(str(playerId))\n",
    "            prespp = Pl.prespp(Mu)\n",
    "            spp = p.get(\"spp\", 0)\n",
    "            data[Pl].append((Mu, prespp, spp))"
   ]
  },
  {
   "cell_type": "code",
   "execution_count": 10,
   "metadata": {},
   "outputs": [],
   "source": [
    "uncommon = collections.defaultdict(list)\n",
    "for Pl in sorted(data):\n",
    "    L = data[Pl]\n",
    "    if not isinstance(Pl, (cibblbibbl.player.Player, cibblbibbl.player.RaisedDeadPlayer)):\n",
    "        continue\n",
    "    expprespp = 0\n",
    "    if Pl.prev:\n",
    "        if data.get(Pl.prev):\n",
    "            prevlastd = data[Pl.prev][-1]\n",
    "        else:\n",
    "            prevlastd = [None, 0, 0]\n",
    "        expprespp = sum(prevlastd[1:3]) * Pl.prevsppmul\n",
    "    nameprint = False\n",
    "    for i, (Mu, prespp, spp) in enumerate(L):\n",
    "        if prespp != expprespp:\n",
    "            if not nameprint:\n",
    "                s = f'[{Pl.Id}, {Pl.status}] {Pl.name} [{Pl.team.Id}, {Pl.team.name}]'\n",
    "                if Pl.prev:\n",
    "                    s += f' (prev: [{Pl.prev.Id}] {Pl.prev.name})'\n",
    "                print(s)\n",
    "                nameprint = True\n",
    "            print(f'{Mu.match.Id}, exp:{expprespp}, got:{prespp}')\n",
    "            uncommon[Pl].append([Mu, expprespp, prespp])\n",
    "        expprespp = prespp + spp       \n",
    "    if nameprint:\n",
    "        print()"
   ]
  },
  {
   "cell_type": "code",
   "execution_count": 1,
   "metadata": {},
   "outputs": [
    {
     "ename": "NameError",
     "evalue": "name 'uncommon' is not defined",
     "output_type": "error",
     "traceback": [
      "\u001b[0;31m---------------------------------------------------------------------------\u001b[0m",
      "\u001b[0;31mNameError\u001b[0m                                 Traceback (most recent call last)",
      "\u001b[0;32m<ipython-input-1-26b6ea235295>\u001b[0m in \u001b[0;36m<module>\u001b[0;34m\u001b[0m\n\u001b[1;32m      1\u001b[0m \u001b[0;31m# carry previous SPPs (reload above two after it runned)\u001b[0m\u001b[0;34m\u001b[0m\u001b[0;34m\u001b[0m\u001b[0;34m\u001b[0m\u001b[0m\n\u001b[0;32m----> 2\u001b[0;31m \u001b[0;32mfor\u001b[0m \u001b[0mPl\u001b[0m\u001b[0;34m,\u001b[0m \u001b[0mL\u001b[0m \u001b[0;32min\u001b[0m \u001b[0muncommon\u001b[0m\u001b[0;34m.\u001b[0m\u001b[0mitems\u001b[0m\u001b[0;34m(\u001b[0m\u001b[0;34m)\u001b[0m\u001b[0;34m:\u001b[0m\u001b[0;34m\u001b[0m\u001b[0;34m\u001b[0m\u001b[0m\n\u001b[0m\u001b[1;32m      3\u001b[0m     \u001b[0mPl0\u001b[0m \u001b[0;34m=\u001b[0m \u001b[0mPl\u001b[0m\u001b[0;34m.\u001b[0m\u001b[0mprev\u001b[0m\u001b[0;34m\u001b[0m\u001b[0;34m\u001b[0m\u001b[0m\n\u001b[1;32m      4\u001b[0m     \u001b[0;32mif\u001b[0m \u001b[0;32mnot\u001b[0m \u001b[0mPl0\u001b[0m\u001b[0;34m:\u001b[0m\u001b[0;34m\u001b[0m\u001b[0;34m\u001b[0m\u001b[0m\n\u001b[1;32m      5\u001b[0m         \u001b[0;32mcontinue\u001b[0m\u001b[0;34m\u001b[0m\u001b[0;34m\u001b[0m\u001b[0m\n",
      "\u001b[0;31mNameError\u001b[0m: name 'uncommon' is not defined"
     ]
    }
   ],
   "source": [
    "# carry previous SPPs (reload above two after it runned)\n",
    "for Pl, L in uncommon.items():\n",
    "    Pl0 = Pl.prev\n",
    "    if not Pl0:\n",
    "        continue\n",
    "    prevmatchups = tuple(\n",
    "        cibblbibbl.matchup.sort_by_modified(\n",
    "            Mu\n",
    "            for S in Pl0._matchups.values()\n",
    "            for Mu in S\n",
    "        )\n",
    "    )\n",
    "    if not prevmatchups:\n",
    "        continue\n",
    "    prevspp = prevmatchups[-1].performance(Pl0).get(\"prespp\", 0)\n",
    "    if prevspp:\n",
    "        adminspp = Pl.adminspp\n",
    "        adminspp[\"0\"] = prevspp\n",
    "        Pl.adminspp = adminspp\n",
    "    print(Pl.name, prevspp)\n",
    "\n",
    "    "
   ]
  },
  {
   "cell_type": "code",
   "execution_count": 8,
   "metadata": {},
   "outputs": [
    {
     "name": "stdout",
     "output_type": "stream",
     "text": [
      "Kkrozh 4046041 -3\n",
      "Zzak 4046041 -14\n",
      "Tarh 4046041 -14\n",
      "Gashokh 4055462 -4\n",
      "Vanderburth 4055462 -4\n"
     ]
    }
   ],
   "source": [
    "#fix admin spps\n",
    "for Pl, L in uncommon.items():\n",
    "    for Mu, expprespp, prespp in L:\n",
    "        Ma = Mu.match\n",
    "        value = expprespp - prespp\n",
    "        adminspp = Pl.adminspp\n",
    "        adminspp[str(Ma.Id)] = value\n",
    "        print(Pl.name, Ma.Id, value)"
   ]
  },
  {
   "cell_type": "code",
   "execution_count": 5,
   "metadata": {},
   "outputs": [
    {
     "data": {
      "text/plain": [
       "[[Matchup('cibbl', '44387', 3, 882382, 896134), 32, 0]]"
      ]
     },
     "execution_count": 5,
     "metadata": {},
     "output_type": "execute_result"
    }
   ],
   "source": [
    "Pl = player(12138861)\n",
    "uncommon[Pl]"
   ]
  },
  {
   "cell_type": "code",
   "execution_count": 6,
   "metadata": {},
   "outputs": [],
   "source": [
    "Mu = Pl.matchups(\"cibbl\")[0]"
   ]
  },
  {
   "cell_type": "code",
   "execution_count": 21,
   "metadata": {},
   "outputs": [
    {
     "data": {
      "text/plain": [
       "32"
      ]
     },
     "execution_count": 21,
     "metadata": {},
     "output_type": "execute_result"
    }
   ],
   "source": [
    "Pl.prespp(Mu)"
   ]
  },
  {
   "cell_type": "code",
   "execution_count": 8,
   "metadata": {},
   "outputs": [],
   "source": [
    "Pl0 = Pl.prev"
   ]
  },
  {
   "cell_type": "code",
   "execution_count": 9,
   "metadata": {},
   "outputs": [],
   "source": [
    "prevmatchups = tuple(\n",
    "    cibblbibbl.matchup.sort_by_modified(\n",
    "        Mu\n",
    "        for S in Pl0._matchups.values()\n",
    "        for Mu in S\n",
    "    )\n",
    ")"
   ]
  },
  {
   "cell_type": "code",
   "execution_count": 10,
   "metadata": {},
   "outputs": [
    {
     "data": {
      "text/plain": [
       "32"
      ]
     },
     "execution_count": 10,
     "metadata": {},
     "output_type": "execute_result"
    }
   ],
   "source": [
    "if prevmatchups:\n",
    "    prevspp = prevmatchups[-1].performance(Pl0).get(\"prespp\", 0)\n",
    "else:\n",
    "    prevspp = 0\n",
    "prevspp"
   ]
  },
  {
   "cell_type": "code",
   "execution_count": 19,
   "metadata": {},
   "outputs": [
    {
     "name": "stdout",
     "output_type": "stream",
     "text": [
      "NormalPlayer('12138861') adminspp {'0': 32}\n"
     ]
    }
   ],
   "source": [
    "if prevspp:\n",
    "    adminspp = Pl.adminspp\n",
    "    adminspp[\"0\"] = prevspp\n",
    "    Pl.adminspp = adminspp"
   ]
  },
  {
   "cell_type": "code",
   "execution_count": 17,
   "metadata": {},
   "outputs": [
    {
     "data": {
      "text/plain": [
       "{'0': 32}"
      ]
     },
     "execution_count": 17,
     "metadata": {},
     "output_type": "execute_result"
    }
   ],
   "source": [
    "Pl.adminspp"
   ]
  },
  {
   "cell_type": "code",
   "execution_count": 18,
   "metadata": {},
   "outputs": [],
   "source": [
    "Pl.config[\"adminspp\"] = adminspp"
   ]
  },
  {
   "cell_type": "code",
   "execution_count": null,
   "metadata": {},
   "outputs": [],
   "source": []
  },
  {
   "cell_type": "code",
   "execution_count": 14,
   "metadata": {},
   "outputs": [
    {
     "data": {
      "text/plain": [
       "False"
      ]
     },
     "execution_count": 14,
     "metadata": {},
     "output_type": "execute_result"
    }
   ],
   "source": [
    "{'0': 32} == {}"
   ]
  },
  {
   "cell_type": "code",
   "execution_count": 24,
   "metadata": {},
   "outputs": [],
   "source": [
    "default = Pl.__class__.adminspp.default(Pl)"
   ]
  },
  {
   "cell_type": "code",
   "execution_count": 30,
   "metadata": {},
   "outputs": [
    {
     "data": {
      "text/plain": [
       "{'0': 32}"
      ]
     },
     "execution_count": 30,
     "metadata": {},
     "output_type": "execute_result"
    }
   ],
   "source": [
    "a = Pl.__class__.adminspp.__get__(Pl, Pl.__class__)\n",
    "a"
   ]
  },
  {
   "cell_type": "code",
   "execution_count": 31,
   "metadata": {},
   "outputs": [
    {
     "data": {
      "text/plain": [
       "True"
      ]
     },
     "execution_count": 31,
     "metadata": {},
     "output_type": "execute_result"
    }
   ],
   "source": [
    "a == default"
   ]
  },
  {
   "cell_type": "code",
   "execution_count": 32,
   "metadata": {},
   "outputs": [
    {
     "data": {
      "text/plain": [
       "False"
      ]
     },
     "execution_count": 32,
     "metadata": {},
     "output_type": "execute_result"
    }
   ],
   "source": [
    "a is default"
   ]
  },
  {
   "cell_type": "code",
   "execution_count": 34,
   "metadata": {},
   "outputs": [
    {
     "data": {
      "text/plain": [
       "{}"
      ]
     },
     "execution_count": 34,
     "metadata": {},
     "output_type": "execute_result"
    }
   ],
   "source": [
    "default"
   ]
  },
  {
   "cell_type": "code",
   "execution_count": 35,
   "metadata": {},
   "outputs": [
    {
     "data": {
      "text/plain": [
       "cibblbibbl.jsonfile.JSONFileObject"
      ]
     },
     "execution_count": 35,
     "metadata": {},
     "output_type": "execute_result"
    }
   ],
   "source": [
    "type(a)"
   ]
  },
  {
   "cell_type": "code",
   "execution_count": 36,
   "metadata": {},
   "outputs": [
    {
     "data": {
      "text/plain": [
       "dict"
      ]
     },
     "execution_count": 36,
     "metadata": {},
     "output_type": "execute_result"
    }
   ],
   "source": [
    "type(default)"
   ]
  },
  {
   "cell_type": "code",
   "execution_count": 39,
   "metadata": {},
   "outputs": [
    {
     "data": {
      "text/plain": [
       "True"
      ]
     },
     "execution_count": 39,
     "metadata": {},
     "output_type": "execute_result"
    }
   ],
   "source": [
    "a== default"
   ]
  },
  {
   "cell_type": "code",
   "execution_count": 41,
   "metadata": {},
   "outputs": [
    {
     "ename": "TypeError",
     "evalue": "unhashable type: 'JSONFileObject'",
     "output_type": "error",
     "traceback": [
      "\u001b[0;31m---------------------------------------------------------------------------\u001b[0m",
      "\u001b[0;31mTypeError\u001b[0m                                 Traceback (most recent call last)",
      "\u001b[0;32m<ipython-input-41-57b555d30865>\u001b[0m in \u001b[0;36m<module>\u001b[0;34m\u001b[0m\n\u001b[0;32m----> 1\u001b[0;31m \u001b[0mhash\u001b[0m\u001b[0;34m(\u001b[0m\u001b[0ma\u001b[0m\u001b[0;34m)\u001b[0m\u001b[0;34m\u001b[0m\u001b[0;34m\u001b[0m\u001b[0m\n\u001b[0m",
      "\u001b[0;31mTypeError\u001b[0m: unhashable type: 'JSONFileObject'"
     ]
    }
   ],
   "source": [
    "hash(a)"
   ]
  },
  {
   "cell_type": "code",
   "execution_count": null,
   "metadata": {},
   "outputs": [],
   "source": []
  }
 ],
 "metadata": {
  "kernelspec": {
   "display_name": "Python 3",
   "language": "python",
   "name": "python3"
  },
  "language_info": {
   "codemirror_mode": {
    "name": "ipython",
    "version": 3
   },
   "file_extension": ".py",
   "mimetype": "text/x-python",
   "name": "python",
   "nbconvert_exporter": "python",
   "pygments_lexer": "ipython3",
   "version": "3.7.4"
  }
 },
 "nbformat": 4,
 "nbformat_minor": 2
}
