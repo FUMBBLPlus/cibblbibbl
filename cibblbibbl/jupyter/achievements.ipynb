{
 "cells": [
  {
   "cell_type": "code",
   "execution_count": 17,
   "metadata": {},
   "outputs": [],
   "source": [
    "import collections\n",
    "import copy\n",
    "import datetime\n",
    "import itertools\n",
    "\n",
    "import json\n",
    "import pathlib\n",
    "import re\n",
    "from pprint import pprint\n",
    "\n",
    "import nest_asyncio\n",
    "nest_asyncio.apply()\n",
    "import texttable\n",
    "\n",
    "import pytourney\n",
    "import pyfumbbl\n",
    "import cibblbibbl"
   ]
  },
  {
   "cell_type": "code",
   "execution_count": 20,
   "metadata": {},
   "outputs": [],
   "source": [
    "show_Ids = True\n",
    "G = cibblbibbl.CIBBL\n",
    "Achievement = cibblbibbl.achievement.Achievement\n",
    "Team = cibblbibbl.team.Team\n",
    "player = cibblbibbl.player.player\n",
    "Match = cibblbibbl.match.Match\n",
    "Matchup = cibblbibbl.matchup.Matchup\n",
    "Replay = cibblbibbl.replay.Replay\n",
    "Tournament = cibblbibbl.tournament.handler.default.Tournament\n",
    "NormalPlayer = cibblbibbl.player.NormalPlayer\n",
    "StarPlayer = cibblbibbl.player.StarPlayer"
   ]
  },
  {
   "cell_type": "code",
   "execution_count": 19,
   "metadata": {},
   "outputs": [],
   "source": [
    "G.init()"
   ]
  },
  {
   "cell_type": "code",
   "execution_count": 21,
   "metadata": {},
   "outputs": [
    {
     "name": "stdout",
     "output_type": "stream",
     "text": [
      "[867862] Everlasting Vultures of Settra\n"
     ]
    }
   ],
   "source": [
    "Te = Team(867862)\n",
    "print(Te)"
   ]
  },
  {
   "cell_type": "code",
   "execution_count": 28,
   "metadata": {},
   "outputs": [
    {
     "name": "stdout",
     "output_type": "stream",
     "text": [
      "110 0 Match Result Prestige([42425] CIBBL - Year One, Autumn - Copper Division, [867862] Everlasting Vultures of Settra)\n",
      "60 0 Standings Prestige([42425] CIBBL - Year One, Autumn - Copper Division, [867862] Everlasting Vultures of Settra)\n",
      "70 0 Match Result Prestige([42890] CIBBL - Year Two, Spring - Lands of the Dead, [867862] Everlasting Vultures of Settra)\n",
      "70 0 Standings Prestige([42890] CIBBL - Year Two, Spring - Lands of the Dead, [867862] Everlasting Vultures of Settra)\n",
      "60 0 Match Result Prestige([43154] CIBBL - Year Two, Summer - CabalVision Invit., [867862] Everlasting Vultures of Settra)\n",
      "90 0 Match Result Prestige([43566] CIBBL - Year Two, Autumn - Silver Division, [867862] Everlasting Vultures of Settra)\n",
      "20 0 Standings Prestige([43566] CIBBL - Year Two, Autumn - Silver Division, [867862] Everlasting Vultures of Settra)\n",
      "90 0 Match Result Prestige([44172] CIBBL - Year Three, Spring - Lands of the Dead II, [867862] Everlasting Vultures of Settra)\n",
      "70 0 Standings Prestige([44172] CIBBL - Year Three, Spring - Lands of the Dead II, [867862] Everlasting Vultures of Settra)\n",
      "100 0 Match Result Prestige([44383] CIBBL - Y3, Summer - Vile Cauldron, [867862] Everlasting Vultures of Settra)\n",
      "50 0 Standings Prestige([44383] CIBBL - Y3, Summer - Vile Cauldron, [867862] Everlasting Vultures of Settra)\n",
      "100 0 Match Result Prestige([44753] CIBBL - Y3, Autumn - Gold Division, [867862] Everlasting Vultures of Settra)\n",
      "90 0 Match Result Prestige([45235] CIBBL - Y4, Spring - Land of the Dead, [867862] Everlasting Vultures of Settra)\n",
      "30 0 Standings Prestige([45235] CIBBL - Y4, Spring - Land of the Dead, [867862] Everlasting Vultures of Settra)\n",
      "100 0 Match Result Prestige([45569] CIBBL - Y4, Summer - SCRIBBL Climax Qualifier II, [867862] Everlasting Vultures of Settra)\n",
      "60 0 Standings Prestige([45569] CIBBL - Y4, Summer - SCRIBBL Climax Qualifier II, [867862] Everlasting Vultures of Settra)\n",
      "140 0 Match Result Prestige([45888] CIBBL - Y4, Autumn - Gold Division, [867862] Everlasting Vultures of Settra)\n",
      "70 0 Standings Prestige([45888] CIBBL - Y4, Autumn - Gold Division, [867862] Everlasting Vultures of Settra)\n",
      "120 60 Match Result Prestige([46401] CIBBL - Y5, Spring - Lands of the Dead, [867862] Everlasting Vultures of Settra)\n",
      "70 35 Standings Prestige([46401] CIBBL - Y5, Spring - Lands of the Dead, [867862] Everlasting Vultures of Settra)\n",
      "100 50 Match Result Prestige([46688] CIBBL - Y5, Summer - SCRIBBL Climax - East, [867862] Everlasting Vultures of Settra)\n",
      "60 30 Standings Prestige([46688] CIBBL - Y5, Summer - SCRIBBL Climax - East, [867862] Everlasting Vultures of Settra)\n",
      "50 0 CabalVision Gold Partner([46688] CIBBL - Y5, Summer - SCRIBBL Climax - East, [867862] Everlasting Vultures of Settra)\n",
      "90 45 Match Result Prestige([47506] CIBBL - Y5, Autumn - Gold Division, [867862] Everlasting Vultures of Settra)\n",
      "50 0 CabalVision Gold Partner([47901] CIBBL - Y6, Winter - Friendlies (High), [867862] Everlasting Vultures of Settra)\n",
      "100 100 Match Result Prestige([47978] CIBBL - Y6, Spring - Land of the Dead, [867862] Everlasting Vultures of Settra)\n",
      "70 70 Standings Prestige([47978] CIBBL - Y6, Spring - Land of the Dead, [867862] Everlasting Vultures of Settra)\n",
      "130 130 Match Result Prestige([49183] CIBBL - Y6, Summer - Messerheim Invitational, [867862] Everlasting Vultures of Settra)\n",
      "80 80 Standings Prestige([49183] CIBBL - Y6, Summer - Messerheim Invitational, [867862] Everlasting Vultures of Settra)\n",
      "160 160 Match Result Prestige([51686] CIBBL - Y6, Autumn - Gold Division, [867862] Everlasting Vultures of Settra)\n",
      "100 100 Standings Prestige([51686] CIBBL - Y6, Autumn - Gold Division, [867862] Everlasting Vultures of Settra)\n"
     ]
    }
   ],
   "source": [
    "for A in sorted(Te.achievements):\n",
    "    print(A.baseprestige, A.prestige(), A)"
   ]
  },
  {
   "cell_type": "code",
   "execution_count": 26,
   "metadata": {},
   "outputs": [
    {
     "data": {
      "text/plain": [
       "['_KEY',\n",
       " '__class__',\n",
       " '__contains__',\n",
       " '__copy__',\n",
       " '__deepcopy__',\n",
       " '__del__',\n",
       " '__delattr__',\n",
       " '__delitem__',\n",
       " '__dict__',\n",
       " '__dir__',\n",
       " '__doc__',\n",
       " '__eq__',\n",
       " '__format__',\n",
       " '__ge__',\n",
       " '__getattribute__',\n",
       " '__getitem__',\n",
       " '__gt__',\n",
       " '__hash__',\n",
       " '__init__',\n",
       " '__init_subclass__',\n",
       " '__le__',\n",
       " '__lt__',\n",
       " '__members__',\n",
       " '__module__',\n",
       " '__ne__',\n",
       " '__new__',\n",
       " '__reduce__',\n",
       " '__reduce_ex__',\n",
       " '__repr__',\n",
       " '__setattr__',\n",
       " '__setitem__',\n",
       " '__sizeof__',\n",
       " '__str__',\n",
       " '__subclasshook__',\n",
       " '__weakref__',\n",
       " '_config',\n",
       " '_defaultconfig',\n",
       " '_get_key',\n",
       " '_nexts',\n",
       " '_prev',\n",
       " 'active',\n",
       " 'agent00',\n",
       " 'agent01',\n",
       " 'args',\n",
       " 'argsnorm',\n",
       " 'baseprestige',\n",
       " 'clskey',\n",
       " 'collect',\n",
       " 'config',\n",
       " 'configfileargstrs',\n",
       " 'configfilepath',\n",
       " 'decaymul',\n",
       " 'decayval',\n",
       " 'defaultconfig',\n",
       " 'defaultconfig_of_group',\n",
       " 'defaultconfigfilepath',\n",
       " 'defaultconfigfilepath_of_group',\n",
       " 'export_bbcode',\n",
       " 'export_plaintext',\n",
       " 'get',\n",
       " 'getmember',\n",
       " 'group',\n",
       " 'group_key',\n",
       " 'key',\n",
       " 'nexts',\n",
       " 'prestige',\n",
       " 'prev',\n",
       " 'rank',\n",
       " 'registry',\n",
       " 'season',\n",
       " 'season_nr',\n",
       " 'sort_key',\n",
       " 'sortrank',\n",
       " 'stack',\n",
       " 'stack_sort_key',\n",
       " 'stackidx',\n",
       " 'subject',\n",
       " 'subjectId',\n",
       " 'subject_typename',\n",
       " 'tournament',\n",
       " 'tournamentId',\n",
       " 'year',\n",
       " 'year_nr']"
      ]
     },
     "execution_count": 26,
     "metadata": {},
     "output_type": "execute_result"
    }
   ],
   "source": [
    "dir(A)"
   ]
  },
  {
   "cell_type": "code",
   "execution_count": null,
   "metadata": {},
   "outputs": [],
   "source": []
  }
 ],
 "metadata": {
  "kernelspec": {
   "display_name": "Python 3",
   "language": "python",
   "name": "python3"
  },
  "language_info": {
   "codemirror_mode": {
    "name": "ipython",
    "version": 3
   },
   "file_extension": ".py",
   "mimetype": "text/x-python",
   "name": "python",
   "nbconvert_exporter": "python",
   "pygments_lexer": "ipython3",
   "version": "3.8.3"
  }
 },
 "nbformat": 4,
 "nbformat_minor": 2
}
