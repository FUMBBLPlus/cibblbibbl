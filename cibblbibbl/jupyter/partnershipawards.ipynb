{
 "cells": [
  {
   "cell_type": "code",
   "execution_count": 43,
   "metadata": {},
   "outputs": [],
   "source": [
    "import collections\n",
    "import copy\n",
    "import datetime\n",
    "import itertools\n",
    "import sys\n",
    "\n",
    "import json\n",
    "import pathlib\n",
    "import re\n",
    "from pprint import pprint\n",
    "\n",
    "import nest_asyncio\n",
    "nest_asyncio.apply()\n",
    "import texttable\n",
    "\n",
    "import pytourney\n",
    "import pyfumbbl\n",
    "import cibblbibbl\n",
    "\n",
    "from cibblbibbl import bbcode"
   ]
  },
  {
   "cell_type": "code",
   "execution_count": 2,
   "metadata": {},
   "outputs": [],
   "source": [
    "show_Ids = True\n",
    "G = cibblbibbl.CIBBL\n",
    "Achievement = cibblbibbl.achievement.Achievement\n",
    "Team = cibblbibbl.team.Team\n",
    "player = cibblbibbl.player.player\n",
    "Match = cibblbibbl.match.Match\n",
    "Matchup = cibblbibbl.matchup.Matchup\n",
    "Replay = cibblbibbl.replay.Replay\n",
    "Tournament = cibblbibbl.tournament.handler.default.Tournament\n",
    "NormalPlayer = cibblbibbl.player.NormalPlayer\n",
    "StarPlayer = cibblbibbl.player.StarPlayer"
   ]
  },
  {
   "cell_type": "code",
   "execution_count": 46,
   "metadata": {},
   "outputs": [],
   "source": [
    "def bbcode_section(s):\n",
    "  return bbcode.size(bbcode.b(bbcode.i(s)), 12)"
   ]
  },
  {
   "cell_type": "code",
   "execution_count": 3,
   "metadata": {},
   "outputs": [],
   "source": [
    "G.init()"
   ]
  },
  {
   "cell_type": "code",
   "execution_count": 6,
   "metadata": {},
   "outputs": [
    {
     "name": "stdout",
     "output_type": "stream",
     "text": [
      "Season('cibbl', 5, 4)\n"
     ]
    }
   ],
   "source": [
    "S = max(G.seasons)\n",
    "print(S)"
   ]
  },
  {
   "cell_type": "code",
   "execution_count": 9,
   "metadata": {},
   "outputs": [],
   "source": [
    "S1 = S.prev\n",
    "S0 = S1.prev"
   ]
  },
  {
   "cell_type": "code",
   "execution_count": 10,
   "metadata": {},
   "outputs": [],
   "source": [
    "g1 = S1.gold_partner_teams()\n",
    "s1 = S1.silver_partner_teams()\n",
    "g0 = S0.gold_partner_teams()\n",
    "s0 = S0.silver_partner_teams()"
   ]
  },
  {
   "cell_type": "code",
   "execution_count": 18,
   "metadata": {},
   "outputs": [],
   "source": [
    "clsAG = cibblbibbl.achievement.ta_cvgoldpartner.cls\n",
    "clsAS = cibblbibbl.achievement.ta_cvsilverpartner.cls"
   ]
  },
  {
   "cell_type": "code",
   "execution_count": 42,
   "metadata": {},
   "outputs": [
    {
     "data": {
      "text/plain": [
       "{'decaymul': [1, 0], 'description': 'Awarded to a team which is a consecutive CIBBL member for the last 4 CIBBL Years (16 Seasons). Replaces Silver partnership. Worth 50 Prestige Points to the team as long as the team continously participates in every CIBBL events. Awarded since Year 5 Summer.', 'logo_url': '/i/597778', 'name': 'CabalVision Gold Partner', 'prestige': 0, 'small_logo_url': '/i/597782', 'stackmul': [1, 0], 'start_tournamentId': '46687', 'typename': 'Achievement', 'value': 50}"
      ]
     },
     "execution_count": 42,
     "metadata": {},
     "output_type": "execute_result"
    }
   ],
   "source": [
    "clsAG.defaultconfig_of_group(G)"
   ]
  },
  {
   "cell_type": "code",
   "execution_count": 44,
   "metadata": {},
   "outputs": [],
   "source": []
  },
  {
   "cell_type": "code",
   "execution_count": 76,
   "metadata": {},
   "outputs": [],
   "source": [
    "parts = []\n",
    "newteams = {\n",
    "    clsAG: g1-g0,\n",
    "    clsAS: s1-s0,\n",
    "}\n",
    "parts.append(bbcode_section(\"New Partnerships\") + \"\\n\")\n",
    "parts.append(bbcode.hr() + \"\\n\")\n",
    "parts.append(\"[block=center]\")\n",
    "\n",
    "parts1 = []\n",
    "for cls, teams in newteams.items():\n",
    "  logo_url = cls.defaultconfig_of_group(G).get(\"logo_url\")\n",
    "  if logo_url:\n",
    "    parts1.append(bbcode.img(logo_url) + \"\\n\")\n",
    "  parts1.append(bbcode.b(bbcode.i(cls.defaultconfig_of_group(G)[\"name\"])) + \"\\n\")\n",
    "  parts1.append(\"\\n\")\n",
    "  descr = bbcode.i(cls.defaultconfig_of_group(G)[\"description\"])\n",
    "  parts1.append(\n",
    "      \"[block=automargin width=67%]\"\n",
    "      + descr\n",
    "      + \"[/block]\"\n",
    "  )\n",
    "  parts1.append(\"\\n\")\n",
    "  for Te in sorted(teams, key=lambda Te: Te.name):\n",
    "      parts1.append(bbcode.size(bbcode.team(Te), 12) + \"\\n\")\n",
    "  parts1.append(\"\\n\")\n",
    "  parts1.append(\"\\n\")\n",
    "\n",
    "snew = \"\".join(parts1).rstrip(\"\\n\")\n",
    "parts.append(snew)\n",
    "\n",
    "parts.append(\"[/block]\")"
   ]
  },
  {
   "cell_type": "code",
   "execution_count": 78,
   "metadata": {},
   "outputs": [
    {
     "name": "stdout",
     "output_type": "stream",
     "text": [
      "[size=12][b][i]New Partnerships[/i][/b][/size]\n",
      "[block=automargin blackborder width=100%][/block]\n",
      "[block=center][img]/i/597778[/img]\n",
      "[b][i]CabalVision Gold Partner[/i][/b]\n",
      "\n",
      "[block=automargin width=67%][i]Awarded to a team which is a consecutive CIBBL member for the last 4 CIBBL Years (16 Seasons). Replaces Silver partnership. Worth 50 Prestige Points to the team as long as the team continously participates in every CIBBL events. Awarded since Year 5 Summer.[/i][/block]\n",
      "[size=12][url=/p/team?team_id=859097]Bhubaneswar Rampage[/url][/size]\n",
      "[size=12][url=/p/team?team_id=854507]Coven of the Mirrored Hall[/url][/size]\n",
      "[size=12][url=/p/team?team_id=867862]Everlasting Vultures of Settra[/url][/size]\n",
      "[size=12][url=/p/team?team_id=854257]Grand Celestial Delegate[/url][/size]\n",
      "[size=12][url=/p/team?team_id=854678]Lords of the Silent Death[/url][/size]\n",
      "[size=12][url=/p/team?team_id=854600]Montetriste Noblemen[/url][/size]\n",
      "[size=12][url=/p/team?team_id=855753]Nejaz Djinn[/url][/size]\n",
      "[size=12][url=/p/team?team_id=855120]Trantio Dragon Hawks[/url][/size]\n",
      "[size=12][url=/p/team?team_id=872475]True Roots of Khaine[/url][/size]\n",
      "\n",
      "\n",
      "[img]/i/597779[/img]\n",
      "[b][i]CabalVision Silver Partner[/i][/b]\n",
      "\n",
      "[block=automargin width=67%][i]Awarded to a team which is a consecutive CIBBL member for the last 2 CIBBL Years (8 Seasons). Worth 25 Prestige Points to the team as long as the team continously participates in every CIBBL events or until it becomes a Gold Partner. Awarded since Year 5 Summer.[/i][/block]\n",
      "[size=12][url=/p/team?team_id=882382]Ali's Anarchists[/url][/size]\n",
      "[size=12][url=/p/team?team_id=885728]Bear Clutchers[/url][/size]\n",
      "[size=12][url=/p/team?team_id=888994]Beerbog Behemoths[/url][/size]\n",
      "[size=12][url=/p/team?team_id=900747]Black Monolith Worshippers[/url][/size]\n",
      "[size=12][url=/p/team?team_id=876774]Congregation of Holy Touchdown[/url][/size]\n",
      "[size=12][url=/p/team?team_id=897353]Court of Shu[/url][/size]\n",
      "[size=12][url=/p/team?team_id=892248]Crimson Fins[/url][/size]\n",
      "[size=12][url=/p/team?team_id=897376]Darkenwood Sentinels[/url][/size]\n",
      "[size=12][url=/p/team?team_id=886002]Doom Glade Demons[/url][/size]\n",
      "[size=12][url=/p/team?team_id=891237]Dukes of Earthquake Valley[/url][/size]\n",
      "[size=12][url=/p/team?team_id=878945]Eternal Ecstasy[/url][/size]\n",
      "[size=12][url=/p/team?team_id=886114]Eye and Arrow[/url][/size]\n",
      "[size=12][url=/p/team?team_id=895929]Fangsnapper's Clawpack[/url][/size]\n",
      "[size=12][url=/p/team?team_id=896228]Gardeners of Nurgle[/url][/size]\n",
      "[size=12][url=/p/team?team_id=874302]Grasparossa B.B.C[/url][/size]\n",
      "[size=12][url=/p/team?team_id=900800]Haunted Forest Sons of Chaos[/url][/size]\n",
      "[size=12][url=/p/team?team_id=899682]K'r'shh Sl'ppr'ss[/url][/size]\n",
      "[size=12][url=/p/team?team_id=897379]Karak Kadrin Slayers[/url][/size]\n",
      "[size=12][url=/p/team?team_id=891260]Library of Indra[/url][/size]\n",
      "[size=12][url=/p/team?team_id=889232]Lost Golems of Grungni[/url][/size]\n",
      "[size=12][url=/p/team?team_id=874317]Misty Isle Gators[/url][/size]\n",
      "[size=12][url=/p/team?team_id=874966]Modryn's Midnight Meddlers[/url][/size]\n",
      "[size=12][url=/p/team?team_id=880378]Nurgle Plaguebearers[/url][/size]\n",
      "[size=12][url=/p/team?team_id=873349]Reik River Kicking Mules[/url][/size]\n",
      "[size=12][url=/p/team?team_id=898574]Revenge Street Reapers[/url][/size]\n",
      "[size=12][url=/p/team?team_id=896134]Rotfall Ironworks Rocketeers[/url][/size]\n",
      "[size=12][url=/p/team?team_id=879131]Sartosa Black Flags[/url][/size]\n",
      "[size=12][url=/p/team?team_id=903654]Scions of Neferata[/url][/size]\n",
      "[size=12][url=/p/team?team_id=896972]Seekers of Transcendence[/url][/size]\n",
      "[size=12][url=/p/team?team_id=874545]Stone Prince's Men[/url][/size]\n",
      "[size=12][url=/p/team?team_id=896564]Thoughts of Thoth[/url][/size]\n",
      "[size=12][url=/p/team?team_id=874452]Way of the Dragon[/url][/size][/block]\n"
     ]
    }
   ],
   "source": [
    "print(\"\".join(parts))"
   ]
  },
  {
   "cell_type": "code",
   "execution_count": null,
   "metadata": {},
   "outputs": [],
   "source": []
  },
  {
   "cell_type": "code",
   "execution_count": null,
   "metadata": {},
   "outputs": [],
   "source": []
  }
 ],
 "metadata": {
  "kernelspec": {
   "display_name": "Python 3",
   "language": "python",
   "name": "python3"
  },
  "language_info": {
   "codemirror_mode": {
    "name": "ipython",
    "version": 3
   },
   "file_extension": ".py",
   "mimetype": "text/x-python",
   "name": "python",
   "nbconvert_exporter": "python",
   "pygments_lexer": "ipython3",
   "version": "3.8.1"
  }
 },
 "nbformat": 4,
 "nbformat_minor": 2
}
