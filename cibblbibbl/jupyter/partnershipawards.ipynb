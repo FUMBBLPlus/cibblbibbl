{
 "cells": [
  {
   "cell_type": "code",
   "execution_count": 1,
   "metadata": {},
   "outputs": [],
   "source": [
    "import collections\n",
    "import copy\n",
    "import datetime\n",
    "import itertools\n",
    "import sys\n",
    "\n",
    "import json\n",
    "import pathlib\n",
    "import re\n",
    "from pprint import pprint\n",
    "\n",
    "import nest_asyncio\n",
    "nest_asyncio.apply()\n",
    "import texttable\n",
    "\n",
    "import pytourney\n",
    "import pyfumbbl\n",
    "import cibblbibbl\n",
    "\n",
    "from cibblbibbl import bbcode"
   ]
  },
  {
   "cell_type": "code",
   "execution_count": 2,
   "metadata": {},
   "outputs": [],
   "source": [
    "show_Ids = True\n",
    "G = cibblbibbl.CIBBL\n",
    "Achievement = cibblbibbl.achievement.Achievement\n",
    "Team = cibblbibbl.team.Team\n",
    "player = cibblbibbl.player.player\n",
    "Match = cibblbibbl.match.Match\n",
    "Matchup = cibblbibbl.matchup.Matchup\n",
    "Replay = cibblbibbl.replay.Replay\n",
    "Tournament = cibblbibbl.tournament.handler.default.Tournament\n",
    "NormalPlayer = cibblbibbl.player.NormalPlayer\n",
    "StarPlayer = cibblbibbl.player.StarPlayer"
   ]
  },
  {
   "cell_type": "code",
   "execution_count": 3,
   "metadata": {},
   "outputs": [],
   "source": [
    "def bbcode_section(s):\n",
    "  return bbcode.size(bbcode.b(bbcode.i(s)), 12)"
   ]
  },
  {
   "cell_type": "code",
   "execution_count": 4,
   "metadata": {},
   "outputs": [],
   "source": [
    "G.init()"
   ]
  },
  {
   "cell_type": "code",
   "execution_count": 5,
   "metadata": {},
   "outputs": [
    {
     "name": "stdout",
     "output_type": "stream",
     "text": [
      "Season('cibbl', 6, 3)\n"
     ]
    }
   ],
   "source": [
    "S = max(G.seasons)\n",
    "print(S)"
   ]
  },
  {
   "cell_type": "code",
   "execution_count": 6,
   "metadata": {},
   "outputs": [],
   "source": [
    "T = G.tournaments[\"43150\"]"
   ]
  },
  {
   "cell_type": "code",
   "execution_count": 7,
   "metadata": {},
   "outputs": [
    {
     "data": {
      "text/plain": [
       "{'W': 2, 'D': 1, 'B': 2}"
      ]
     },
     "execution_count": 7,
     "metadata": {},
     "output_type": "execute_result"
    }
   ],
   "source": [
    "T.rpts"
   ]
  },
  {
   "cell_type": "code",
   "execution_count": 6,
   "metadata": {},
   "outputs": [
    {
     "ename": "NameError",
     "evalue": "name 'S1' is not defined",
     "output_type": "error",
     "traceback": [
      "\u001b[1;31m---------------------------------------------------------------------------\u001b[0m",
      "\u001b[1;31mNameError\u001b[0m                                 Traceback (most recent call last)",
      "\u001b[1;32m<ipython-input-6-db728f1b5730>\u001b[0m in \u001b[0;36m<module>\u001b[1;34m\u001b[0m\n\u001b[1;32m----> 1\u001b[1;33m \u001b[0mS\u001b[0m \u001b[1;33m=\u001b[0m \u001b[0mS1\u001b[0m\u001b[1;33m\u001b[0m\u001b[1;33m\u001b[0m\u001b[0m\n\u001b[0m",
      "\u001b[1;31mNameError\u001b[0m: name 'S1' is not defined"
     ]
    }
   ],
   "source": [
    "S = S1"
   ]
  },
  {
   "cell_type": "code",
   "execution_count": 11,
   "metadata": {},
   "outputs": [
    {
     "name": "stdout",
     "output_type": "stream",
     "text": [
      "Y6 Summer\n"
     ]
    }
   ],
   "source": [
    "S1 = S\n",
    "S0 = S1.prev\n",
    "print(f'Y{S1.year.nr} {S1.name}')"
   ]
  },
  {
   "cell_type": "code",
   "execution_count": 8,
   "metadata": {},
   "outputs": [
    {
     "name": "stdout",
     "output_type": "stream",
     "text": [
      "Y6 Spring\n"
     ]
    }
   ],
   "source": [
    "S1 = S.prev\n",
    "S0 = S1.prev\n",
    "print(f'Y{S1.year.nr} {S1.name}')"
   ]
  },
  {
   "cell_type": "code",
   "execution_count": 12,
   "metadata": {},
   "outputs": [],
   "source": [
    "g1 = S1.gold_partner_teams()\n",
    "s1 = S1.silver_partner_teams()\n",
    "g0 = S0.gold_partner_teams()\n",
    "s0 = S0.silver_partner_teams()"
   ]
  },
  {
   "cell_type": "code",
   "execution_count": 13,
   "metadata": {},
   "outputs": [],
   "source": [
    "clsAG = cibblbibbl.achievement.ta_cvgoldpartner.cls\n",
    "clsAS = cibblbibbl.achievement.ta_cvsilverpartner.cls"
   ]
  },
  {
   "cell_type": "code",
   "execution_count": 14,
   "metadata": {},
   "outputs": [
    {
     "data": {
      "text/plain": [
       "{'decaymul': [1, 0], 'description': 'Awarded to a team which is a consecutive CIBBL member for the last 4 CIBBL Years (16 Seasons). Replaces Silver partnership. Worth 50 Prestige Points to the team as long as the team continously participates in every CIBBL events. Awarded since Year 5 Summer.', 'logo_url': '/i/597778', 'name': 'CabalVision Gold Partner', 'prestige': 0, 'small_logo_url': '/i/597782', 'stackmul': [1, 0], 'start_tournamentId': '46687', 'typename': 'Achievement', 'value': 50}"
      ]
     },
     "execution_count": 14,
     "metadata": {},
     "output_type": "execute_result"
    }
   ],
   "source": [
    "clsAG.defaultconfig_of_group(G)"
   ]
  },
  {
   "cell_type": "code",
   "execution_count": null,
   "metadata": {},
   "outputs": [],
   "source": []
  },
  {
   "cell_type": "code",
   "execution_count": null,
   "metadata": {},
   "outputs": [],
   "source": []
  },
  {
   "cell_type": "code",
   "execution_count": null,
   "metadata": {},
   "outputs": [],
   "source": [
    "parts = []\n",
    "newteams = {\n",
    "    clsAG: g1-g0,\n",
    "    clsAS: s1-s0,\n",
    "}\n",
    "ended = {\n",
    "    clsAG: g0-g1,\n",
    "    clsAS: s0-s1-newteams[clsAG],\n",
    "}\n",
    "Te = None\n",
    "parts.append(\"\\n\")\n",
    "parts.append(bbcode.center(bbcode.img(\"/i/552701\")))\n",
    "parts.append(\"\\n\")\n",
    "parts.append(\"\\n\")\n",
    "parts.append(bbcode_section(\"New Partnerships\") + \"\\n\")\n",
    "parts.append(bbcode.hr() + \"\\n\")\n",
    "parts.append(\"[block=center]\")\n",
    "\n",
    "parts1 = []\n",
    "for cls, teams in newteams.items():\n",
    "  if not teams:\n",
    "    continue\n",
    "  logo_url = cls.defaultconfig_of_group(G).get(\"logo_url\")\n",
    "  if logo_url:\n",
    "    parts1.append(bbcode.img(logo_url) + \"\\n\")\n",
    "  parts1.append(bbcode.b(bbcode.i(cls.defaultconfig_of_group(G)[\"name\"])) + \"\\n\")\n",
    "  parts1.append(\"\\n\")\n",
    "  descr = bbcode.i(cls.defaultconfig_of_group(G)[\"description\"])\n",
    "  parts1.append(\n",
    "      \"[block=automargin width=67%]\"\n",
    "      + descr\n",
    "      + \"[/block]\"\n",
    "  )\n",
    "  parts1.append(\"\\n\")\n",
    "  for Te in sorted(teams, key=lambda Te: Te.name):\n",
    "      parts1.append(bbcode.size(bbcode.team(Te), 12) + \"\\n\")\n",
    "  parts1.append(\"\\n\")\n",
    "  parts1.append(\"\\n\")\n",
    "\n",
    "snew = \"\".join(parts1).rstrip(\"\\n\")\n",
    "parts.append(snew)\n",
    "\n",
    "parts.append(\"[/block]\")\n",
    "anyended = {Te for sTe in ended.values() for Te in sTe}\n",
    "if anyended:\n",
    "    if Te:\n",
    "        parts.append(\"\\n\")\n",
    "        parts.append(\"\\n\")\n",
    "    parts.append(bbcode_section(\"Partnership Ended\") + \"\\n\")\n",
    "    parts.append(bbcode.hr() + \"\\n\")\n",
    "    parts.append(\"[block=center]\")\n",
    "    parts2 = []\n",
    "    for A, sTe in ended.items():\n",
    "        for Te in sorted(sTe, key=lambda Te: Te.name):\n",
    "            parts2.append(bbcode.size(bbcode.team(Te) + f' (-{A.defaultconfig_of_group(G)[\"value\"]} Prestige Points)', 12) + \"\\n\")\n",
    "    sout = \"\".join(parts2).rstrip(\"\\n\")\n",
    "    parts.append(sout)\n",
    "    parts.append(\"[/block]\")"
   ]
  },
  {
   "cell_type": "code",
   "execution_count": 16,
   "metadata": {},
   "outputs": [
    {
     "name": "stdout",
     "output_type": "stream",
     "text": [
      "\n",
      "[block=center][img]/i/552701[/img][/block]\n",
      "\n",
      "[size=12][b][i]New Partnerships[/i][/b][/size]\n",
      "[block=automargin blackborder width=100%][/block]\n",
      "[block=center][img]/i/597778[/img]\n",
      "[b][i]CabalVision Gold Partner[/i][/b]\n",
      "\n",
      "[block=automargin width=67%][i]Awarded to a team which is a consecutive CIBBL member for the last 4 CIBBL Years (16 Seasons). Replaces Silver partnership. Worth 50 Prestige Points to the team as long as the team continously participates in every CIBBL events. Awarded since Year 5 Summer.[/i][/block]\n",
      "[size=12][url=/p/team?team_id=882382]Ali's Anarchists[/url][/size]\n",
      "[size=12][url=/p/team?team_id=886114]Eye and Arrow[/url][/size]\n",
      "\n",
      "\n",
      "[img]/i/597779[/img]\n",
      "[b][i]CabalVision Silver Partner[/i][/b]\n",
      "\n",
      "[block=automargin width=67%][i]Awarded to a team which is a consecutive CIBBL member for the last 2 CIBBL Years (8 Seasons). Worth 25 Prestige Points to the team as long as the team continously participates in every CIBBL events or until it becomes a Gold Partner. Awarded since Year 5 Summer.[/i][/block]\n",
      "[size=12][url=/p/team?team_id=923140]Dreadpeak's Delusionals[/url][/size]\n",
      "[size=12][url=/p/team?team_id=922672]Gazbag's Hunters[/url][/size]\n",
      "[size=12][url=/p/team?team_id=922608]Horsemen of The Great Kurgan[/url][/size]\n",
      "[size=12][url=/p/team?team_id=922869]Still Waters Run Deep[/url][/size]\n",
      "[size=12][url=/p/team?team_id=919662]Ursun Throat Singers[/url][/size][/block]\n",
      "\n",
      "[size=12][b][i]Partnership Ended[/i][/b][/size]\n",
      "[block=automargin blackborder width=100%][/block]\n",
      "[block=center][size=12][url=/p/team?team_id=888994]Beerbog Behemoths[/url] (-25 Prestige Points)[/size]\n",
      "[size=12][url=/p/team?team_id=886002]Doom Glade Demons[/url] (-25 Prestige Points)[/size]\n",
      "[size=12][url=/p/team?team_id=891237]Dukes of Earthquake Valley[/url] (-25 Prestige Points)[/size]\n",
      "[size=12][url=/p/team?team_id=909966]Spite Reach Corsairs[/url] (-25 Prestige Points)[/size][/block]\n"
     ]
    }
   ],
   "source": [
    "print(\"\".join(parts))"
   ]
  },
  {
   "cell_type": "code",
   "execution_count": null,
   "metadata": {},
   "outputs": [],
   "source": []
  },
  {
   "cell_type": "code",
   "execution_count": null,
   "metadata": {},
   "outputs": [],
   "source": []
  }
 ],
 "metadata": {
  "kernelspec": {
   "display_name": "Python 3",
   "language": "python",
   "name": "python3"
  },
  "language_info": {
   "codemirror_mode": {
    "name": "ipython",
    "version": 3
   },
   "file_extension": ".py",
   "mimetype": "text/x-python",
   "name": "python",
   "nbconvert_exporter": "python",
   "pygments_lexer": "ipython3",
   "version": "3.8.3"
  }
 },
 "nbformat": 4,
 "nbformat_minor": 2
}
