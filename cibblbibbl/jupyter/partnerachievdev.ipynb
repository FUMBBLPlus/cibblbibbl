{
 "cells": [
  {
   "cell_type": "code",
   "execution_count": 1,
   "metadata": {},
   "outputs": [],
   "source": [
    "import collections\n",
    "import copy\n",
    "import datetime\n",
    "import itertools\n",
    "import sys\n",
    "\n",
    "import json\n",
    "import pathlib\n",
    "import re\n",
    "from pprint import pprint\n",
    "\n",
    "import nest_asyncio\n",
    "nest_asyncio.apply()\n",
    "import texttable\n",
    "\n",
    "import pytourney\n",
    "import pyfumbbl\n",
    "import cibblbibbl"
   ]
  },
  {
   "cell_type": "code",
   "execution_count": 2,
   "metadata": {},
   "outputs": [],
   "source": [
    "show_Ids = True\n",
    "G = cibblbibbl.CIBBL\n",
    "Achievement = cibblbibbl.achievement.Achievement\n",
    "Team = cibblbibbl.team.Team\n",
    "player = cibblbibbl.player.player\n",
    "Match = cibblbibbl.match.Match\n",
    "Matchup = cibblbibbl.matchup.Matchup\n",
    "Replay = cibblbibbl.replay.Replay\n",
    "Tournament = cibblbibbl.tournament.handler.default.Tournament\n",
    "NormalPlayer = cibblbibbl.player.NormalPlayer\n",
    "Season = cibblbibbl.season.Season\n",
    "StarPlayer = cibblbibbl.player.StarPlayer"
   ]
  },
  {
   "cell_type": "code",
   "execution_count": 3,
   "metadata": {},
   "outputs": [],
   "source": [
    "G.register_tournaments()"
   ]
  },
  {
   "cell_type": "code",
   "execution_count": 4,
   "metadata": {},
   "outputs": [],
   "source": [
    "G.register_matchups()"
   ]
  },
  {
   "cell_type": "code",
   "execution_count": 5,
   "metadata": {
    "scrolled": true
   },
   "outputs": [],
   "source": [
    "G.register_achievements()"
   ]
  },
  {
   "cell_type": "code",
   "execution_count": 19,
   "metadata": {},
   "outputs": [],
   "source": [
    "T = G.tournaments[\"46299\"]"
   ]
  },
  {
   "cell_type": "code",
   "execution_count": 20,
   "metadata": {},
   "outputs": [
    {
     "data": {
      "text/plain": [
       "34"
      ]
     },
     "execution_count": 20,
     "metadata": {},
     "output_type": "execute_result"
    }
   ],
   "source": [
    "len(T.teams(True))"
   ]
  },
  {
   "cell_type": "code",
   "execution_count": 21,
   "metadata": {},
   "outputs": [
    {
     "data": {
      "text/plain": [
       "{Team(854257),\n",
       " Team(854507),\n",
       " Team(854600),\n",
       " Team(854678),\n",
       " Team(854690),\n",
       " Team(855753),\n",
       " Team(859097),\n",
       " Team(864291),\n",
       " Team(867862),\n",
       " Team(871787),\n",
       " Team(872475),\n",
       " Team(873349),\n",
       " Team(874302),\n",
       " Team(874317),\n",
       " Team(874452),\n",
       " Team(876774),\n",
       " Team(878945),\n",
       " Team(879131),\n",
       " Team(880378),\n",
       " Team(883051),\n",
       " Team(885728),\n",
       " Team(886002),\n",
       " Team(886114),\n",
       " Team(888994),\n",
       " Team(891237),\n",
       " Team(891260),\n",
       " Team(892248),\n",
       " Team(896228),\n",
       " Team(897379),\n",
       " Team(898337),\n",
       " Team(903654),\n",
       " Team(905886),\n",
       " Team(908529),\n",
       " Team(909966)}"
      ]
     },
     "execution_count": 21,
     "metadata": {},
     "output_type": "execute_result"
    }
   ],
   "source": [
    "T.teams(True)"
   ]
  },
  {
   "cell_type": "code",
   "execution_count": 22,
   "metadata": {},
   "outputs": [
    {
     "data": {
      "text/plain": [
       "'Completed'"
      ]
     },
     "execution_count": 22,
     "metadata": {},
     "output_type": "execute_result"
    }
   ],
   "source": [
    "T.status"
   ]
  },
  {
   "cell_type": "code",
   "execution_count": 8,
   "metadata": {},
   "outputs": [
    {
     "data": {
      "text/plain": [
       "92"
      ]
     },
     "execution_count": 8,
     "metadata": {},
     "output_type": "execute_result"
    }
   ],
   "source": [
    "len(T.season.teams())"
   ]
  },
  {
   "cell_type": "code",
   "execution_count": 9,
   "metadata": {},
   "outputs": [
    {
     "data": {
      "text/plain": [
       "91"
      ]
     },
     "execution_count": 9,
     "metadata": {},
     "output_type": "execute_result"
    }
   ],
   "source": [
    "len(T.season.teams(True))"
   ]
  },
  {
   "cell_type": "code",
   "execution_count": 19,
   "metadata": {},
   "outputs": [],
   "source": [
    "S = Season('cibbl', 4, 1)"
   ]
  },
  {
   "cell_type": "code",
   "execution_count": 23,
   "metadata": {},
   "outputs": [
    {
     "data": {
      "text/plain": [
       "89"
      ]
     },
     "execution_count": 23,
     "metadata": {},
     "output_type": "execute_result"
    }
   ],
   "source": [
    "len(S.teams(True))"
   ]
  },
  {
   "cell_type": "code",
   "execution_count": 23,
   "metadata": {},
   "outputs": [
    {
     "data": {
      "text/plain": [
       "[Tournament('cibbl', '45173'),\n",
       " Tournament('cibbl', '45174'),\n",
       " Tournament('cibbl', '45175')]"
      ]
     },
     "execution_count": 23,
     "metadata": {},
     "output_type": "execute_result"
    }
   ],
   "source": [
    "L = list(S.tournaments.values())\n",
    "L"
   ]
  },
  {
   "cell_type": "code",
   "execution_count": 25,
   "metadata": {},
   "outputs": [
    {
     "data": {
      "text/plain": [
       "{'end': '2018-06-19',\n",
       " 'group': '10455',\n",
       " 'id': '45173',\n",
       " 'name': 'CIBBL - Y4, Winter - Friendlies (High)',\n",
       " 'progression': 'Standard',\n",
       " 'season': '4',\n",
       " 'start': '2018-06-19',\n",
       " 'status': 'Completed',\n",
       " 'type': '3',\n",
       " 'winner': '897379'}"
      ]
     },
     "execution_count": 25,
     "metadata": {},
     "output_type": "execute_result"
    }
   ],
   "source": [
    "L[0].apiget"
   ]
  },
  {
   "cell_type": "code",
   "execution_count": 12,
   "metadata": {},
   "outputs": [
    {
     "data": {
      "text/plain": [
       "{Team(854678),\n",
       " Team(871787),\n",
       " Team(874545),\n",
       " Team(874966),\n",
       " Team(878945),\n",
       " Team(886114),\n",
       " Team(889232),\n",
       " Team(895929),\n",
       " Team(903654),\n",
       " Team(908529)}"
      ]
     },
     "execution_count": 12,
     "metadata": {},
     "output_type": "execute_result"
    }
   ],
   "source": [
    "T.ma"
   ]
  },
  {
   "cell_type": "code",
   "execution_count": 6,
   "metadata": {},
   "outputs": [],
   "source": [
    "S = max(G.seasons)"
   ]
  },
  {
   "cell_type": "code",
   "execution_count": 7,
   "metadata": {},
   "outputs": [
    {
     "data": {
      "text/plain": [
       "{Team(923140): 0,\n",
       " Team(910344): 0,\n",
       " Team(906259): 8,\n",
       " Team(919573): 0,\n",
       " Team(867862): 0,\n",
       " Team(909848): 8,\n",
       " Team(872475): 0,\n",
       " Team(879131): 0,\n",
       " Team(864291): 0,\n",
       " Team(944173): 1,\n",
       " Team(922672): 5,\n",
       " Team(874545): 0,\n",
       " Team(942643): 1,\n",
       " Team(896564): 0,\n",
       " Team(916031): 6,\n",
       " Team(942663): 0,\n",
       " Team(854600): 0,\n",
       " Team(855120): 0,\n",
       " Team(925779): 0,\n",
       " Team(943192): 1,\n",
       " Team(944216): 1,\n",
       " Team(899682): 0,\n",
       " Team(942694): 0,\n",
       " Team(928360): 0,\n",
       " Team(914538): 0,\n",
       " Team(872044): 14,\n",
       " Team(919662): 0,\n",
       " Team(927862): 3,\n",
       " Team(936063): 1,\n",
       " Team(896134): 11,\n",
       " Team(900747): 0,\n",
       " Team(909966): 0,\n",
       " Team(854678): 0,\n",
       " Team(888994): 13,\n",
       " Team(924841): 4,\n",
       " Team(904377): 0,\n",
       " Team(905924): 0,\n",
       " Team(855753): 0,\n",
       " Team(882382): 0,\n",
       " Team(904411): 0,\n",
       " Team(943332): 1,\n",
       " Team(896228): 11,\n",
       " Team(876774): 0,\n",
       " Team(943851): 1,\n",
       " Team(854257): 0,\n",
       " Team(886002): 13,\n",
       " Team(942835): 1,\n",
       " Team(943859): 1,\n",
       " Team(943861): 1,\n",
       " Team(922869): 0,\n",
       " Team(924405): 0,\n",
       " Team(916217): 0,\n",
       " Team(924441): 4,\n",
       " Team(928542): 0,\n",
       " Team(913702): 0,\n",
       " Team(906026): 0,\n",
       " Team(914744): 0,\n",
       " Team(874302): 15,\n",
       " Team(942400): 1,\n",
       " Team(897353): 0,\n",
       " Team(874317): 15,\n",
       " Team(907600): 0,\n",
       " Team(892248): 11,\n",
       " Team(942428): 0,\n",
       " Team(932192): 1,\n",
       " Team(897376): 0,\n",
       " Team(878945): 0,\n",
       " Team(897379): 0,\n",
       " Team(886114): 0,\n",
       " Team(891237): 0,\n",
       " Team(942438): 1,\n",
       " Team(871787): 16,\n",
       " Team(932210): 1,\n",
       " Team(891260): 0,\n",
       " Team(871312): 0,\n",
       " Team(931222): 0,\n",
       " Team(895929): 0,\n",
       " Team(942535): 0,\n",
       " Team(896972): 10,\n",
       " Team(874452): 0,\n",
       " Team(923094): 5,\n",
       " Team(874966): 0,\n",
       " Team(873945): 0,\n",
       " Team(859097): 19,\n",
       " Team(944092): 1,\n",
       " Team(903654): 0,\n",
       " Team(854507): 0,\n",
       " Team(922608): 0}"
      ]
     },
     "execution_count": 7,
     "metadata": {},
     "output_type": "execute_result"
    }
   ],
   "source": [
    "S.continuous_activity()"
   ]
  },
  {
   "cell_type": "code",
   "execution_count": 14,
   "metadata": {},
   "outputs": [],
   "source": [
    "L = sorted(S.tournaments.values())"
   ]
  },
  {
   "cell_type": "code",
   "execution_count": 17,
   "metadata": {},
   "outputs": [
    {
     "data": {
      "text/plain": [
       "{Team(936063),\n",
       " Team(942428),\n",
       " Team(942438),\n",
       " Team(942663),\n",
       " Team(942835),\n",
       " Team(943332),\n",
       " Team(943859),\n",
       " Team(943861)}"
      ]
     },
     "execution_count": 17,
     "metadata": {},
     "output_type": "execute_result"
    }
   ],
   "source": [
    "L[0].teams()"
   ]
  },
  {
   "cell_type": "code",
   "execution_count": 23,
   "metadata": {},
   "outputs": [
    {
     "data": {
      "text/plain": [
       "'In Progress'"
      ]
     },
     "execution_count": 23,
     "metadata": {},
     "output_type": "execute_result"
    }
   ],
   "source": [
    "L[0].status"
   ]
  },
  {
   "cell_type": "code",
   "execution_count": 24,
   "metadata": {},
   "outputs": [
    {
     "data": {
      "text/plain": [
       "Season('cibbl', 5, 3)"
      ]
     },
     "execution_count": 24,
     "metadata": {},
     "output_type": "execute_result"
    }
   ],
   "source": [
    "S = max(G.seasons).prev\n",
    "S"
   ]
  },
  {
   "cell_type": "code",
   "execution_count": 31,
   "metadata": {},
   "outputs": [],
   "source": [
    "self = S"
   ]
  },
  {
   "cell_type": "code",
   "execution_count": 37,
   "metadata": {},
   "outputs": [
    {
     "name": "stdout",
     "output_type": "stream",
     "text": [
      "[854600] Montetriste Noblemen: 19\n",
      "[855120] Trantio Dragon Hawks: 19\n",
      "[854678] Lords of the Silent Death: 19\n",
      "[855753] Nejaz Djinn: 19\n",
      "[854257] Grand Celestial Delegate: 19\n",
      "[854507] Coven of the Mirrored Hall: 19\n",
      "[859097] Bhubaneswar Rampage: 18\n",
      "[867862] Everlasting Vultures of Settra: 16\n",
      "[872475] True Roots of Khaine: 16\n",
      "[864291] Norscan Curse: 15\n",
      "[871787] Malignant Curators: 15\n",
      "[873349] Reik River Kicking Mules: 15\n",
      "[874545] Stone Prince's Men: 14\n",
      "[867030] Sport Spawning Zlatlan: 14\n",
      "[874302] Grasparossa B.B.C: 14\n",
      "[874317] Misty Isle Gators: 14\n",
      "[871312] Tower of the Necromancer: 14\n",
      "[874452] Way of the Dragon: 14\n",
      "[874966] Modryn's Midnight Meddlers: 14\n",
      "[879131] Sartosa Black Flags: 13\n",
      "[872044] Strigos Elită: 13\n",
      "[876774] Congregation of Holy Touchdown: 13\n",
      "[878945] Eternal Ecstasy: 13\n",
      "[888994] Beerbog Behemoths: 12\n",
      "[882382] Ali's Anarchists: 12\n",
      "[886002] Doom Glade Demons: 12\n",
      "[886114] Eye and Arrow: 12\n",
      "[889232] Lost Golems of Grungni: 12\n",
      "[885728] Bear Clutchers: 12\n",
      "[891237] Dukes of Earthquake Valley: 11\n",
      "[891260] Library of Indra: 11\n",
      "[896134] Rotfall Ironworks Rocketeers: 10\n",
      "[896228] Gardeners of Nurgle: 10\n",
      "[892248] Crimson Fins: 10\n",
      "[895929] Fangsnapper's Clawpack: 10\n",
      "[898574] Revenge Street Reapers: 9\n",
      "[896564] Thoughts of Thoth: 9\n",
      "[899682] K'r'shh Sl'ppr'ss: 9\n",
      "[897353] Court of Shu: 9\n",
      "[897376] Darkenwood Sentinels: 9\n",
      "[897379] Karak Kadrin Slayers: 9\n",
      "[896972] Seekers of Transcendence: 9\n",
      "[900747] Black Monolith Worshippers: 8\n",
      "[904377] Aurons: 8\n",
      "[900800] Haunted Forest Sons of Chaos: 8\n",
      "[905924] Squill's Squig Pitt: 8\n",
      "[904411] Ynys Morion Mabsantwyr: 8\n",
      "[903654] Scions of Neferata: 8\n",
      "[910344] Vlad's Vampheroes: 7\n",
      "[906259] Livin' Thing: 7\n",
      "[909848] Black Hearted Bloodseekers: 7\n",
      "[908411] Black Gulf Hippocampi: 7\n",
      "[909966] Spite Reach Corsairs: 7\n",
      "[905886] Sabre Mountain Rattlers: 7\n",
      "[908529] ICBM Warpspawns: 7\n",
      "[906026] Karak Azog Outlaws: 7\n",
      "[907600] Deluge-Bearers: 7\n",
      "[898507] Leicheberg Lycans: 7\n",
      "[909759] Malefic Mimes: 6\n",
      "[916031] Gorthor's Prophets Of Mork: 5\n",
      "[914538] BloodForce: 5\n",
      "[916217] Cloven Clan: 5\n",
      "[913702] Bordeleaux Chevaliers: 5\n",
      "[914744] Mugrec's Mechanical Madmen: 5\n",
      "[923140] Dreadpeak's Delusionals: 4\n",
      "[919573] Ragtag Animal Training Sartors: 4\n",
      "[922672] Gazbag's Hunters: 4\n",
      "[919662] Ursun Throat Singers: 4\n",
      "[922869] Still Waters Run Deep: 4\n",
      "[919838] Wisdom of Athel Woods: 4\n",
      "[923094] Rising Tsunami: 4\n",
      "[922608] Horsemen of The Great Kurgan: 4\n",
      "[925779] Divine Sun: 3\n",
      "[926362] Huah-Huah's Honor Guard: 3\n",
      "[924841] Under-Nuln Bells: 3\n",
      "[924366] Cothique Wanderers: 3\n",
      "[924370] Gipfel Blueleaves: 3\n",
      "[924405] Wolf Lands Slavers: 3\n",
      "[926991] Malign Malignation: 3\n",
      "[924441] Zharrduk Hellcannons: 3\n",
      "[925504] Ichabod's Infernals: 3\n",
      "[926021] Sledge Sisters: 3\n",
      "[926025] Deadly Sinus Attack: 3\n",
      "[926053] Servants of Sacrifice: 3\n",
      "[926596] Branded and Exiled: 3\n",
      "[925668] Anger Management: 3\n",
      "[928360] Gorequeen's Raiders: 2\n",
      "[927862] Beegrok Massif Mob: 2\n",
      "[928392] Piranha Swamp Warriors: 2\n",
      "[928542] Krok-Ante Ancestors: 2\n",
      "[930817] Ogham White Ravens: 1\n",
      "[931901] Mount Fuji Ronin: 1\n",
      "[931935] Cursed of Osrage: 1\n",
      "[930089] Slaanesh Strikers: 1\n",
      "[931222] Pride of Lybaras: 1\n",
      "[931786] Thurak Termites: 1\n",
      "[930778] Kingdom of Oldheim: 1\n",
      "[880378] Nurgle Plaguebearers: 0\n"
     ]
    }
   ],
   "source": [
    "d = {Te: 0 for Te in self.teams()}\n",
    "s = self\n",
    "for Te in s.teams(True):\n",
    "  d[Te] += 1\n",
    "while s.prev:\n",
    "  s = s.prev\n",
    "  for Te in s.teams(True):\n",
    "    if Te in d and d[Te]:\n",
    "      d[Te] += 1\n",
    "for Te in sorted(d, key=d.get, reverse=True):\n",
    "    print(f'{Te}: {d[Te]}')"
   ]
  },
  {
   "cell_type": "code",
   "execution_count": 30,
   "metadata": {},
   "outputs": [
    {
     "data": {
      "text/plain": [
       "{Team(854257),\n",
       " Team(854507),\n",
       " Team(854600),\n",
       " Team(854678),\n",
       " Team(855120),\n",
       " Team(855753),\n",
       " Team(859097),\n",
       " Team(864291),\n",
       " Team(867030),\n",
       " Team(867862),\n",
       " Team(871312),\n",
       " Team(871787),\n",
       " Team(872044),\n",
       " Team(872475),\n",
       " Team(873349),\n",
       " Team(874302),\n",
       " Team(874317),\n",
       " Team(874452),\n",
       " Team(874545),\n",
       " Team(874966),\n",
       " Team(876774),\n",
       " Team(878945),\n",
       " Team(879131),\n",
       " Team(882382),\n",
       " Team(885728),\n",
       " Team(886002),\n",
       " Team(886114),\n",
       " Team(888994),\n",
       " Team(889232),\n",
       " Team(891237),\n",
       " Team(891260),\n",
       " Team(892248),\n",
       " Team(895929),\n",
       " Team(896134),\n",
       " Team(896228),\n",
       " Team(896564),\n",
       " Team(896972),\n",
       " Team(897353),\n",
       " Team(897376),\n",
       " Team(897379),\n",
       " Team(898507),\n",
       " Team(898574),\n",
       " Team(899682),\n",
       " Team(900747),\n",
       " Team(900800),\n",
       " Team(903654),\n",
       " Team(904377),\n",
       " Team(904411),\n",
       " Team(905886),\n",
       " Team(905924),\n",
       " Team(906026),\n",
       " Team(906259),\n",
       " Team(907600),\n",
       " Team(908411),\n",
       " Team(908529),\n",
       " Team(909759),\n",
       " Team(909848),\n",
       " Team(909966),\n",
       " Team(910344),\n",
       " Team(913702),\n",
       " Team(914538),\n",
       " Team(914744),\n",
       " Team(916031),\n",
       " Team(916217),\n",
       " Team(919573),\n",
       " Team(919662),\n",
       " Team(919838),\n",
       " Team(922608),\n",
       " Team(922672),\n",
       " Team(922869),\n",
       " Team(923094),\n",
       " Team(923140),\n",
       " Team(924366),\n",
       " Team(924370),\n",
       " Team(924405),\n",
       " Team(924441),\n",
       " Team(924841),\n",
       " Team(925504),\n",
       " Team(925668),\n",
       " Team(925779),\n",
       " Team(926021),\n",
       " Team(926025),\n",
       " Team(926053),\n",
       " Team(926362),\n",
       " Team(926596),\n",
       " Team(926991),\n",
       " Team(927862),\n",
       " Team(928360),\n",
       " Team(928392),\n",
       " Team(928542),\n",
       " Team(930089),\n",
       " Team(930778),\n",
       " Team(930817),\n",
       " Team(931222),\n",
       " Team(931786),\n",
       " Team(931901),\n",
       " Team(931935)}"
      ]
     },
     "execution_count": 30,
     "metadata": {},
     "output_type": "execute_result"
    }
   ],
   "source": [
    "S.teams(True)"
   ]
  },
  {
   "cell_type": "code",
   "execution_count": 6,
   "metadata": {},
   "outputs": [],
   "source": [
    "clsAGold = cibblbibbl.achievement.ta_cvgoldpartner.cls\n",
    "clsASilver = cibblbibbl.achievement.ta_cvsilverpartner.cls"
   ]
  },
  {
   "cell_type": "code",
   "execution_count": 9,
   "metadata": {},
   "outputs": [
    {
     "name": "stdout",
     "output_type": "stream",
     "text": [
      "CabalVision Silver Partner([46687] CIBBL - Y5, Summer - SCRIBBL Climax - West, [878945] Eternal Ecstasy)\n",
      "True\n",
      "\n",
      "CabalVision Silver Partner([46687] CIBBL - Y5, Summer - SCRIBBL Climax - West, [886114] Eye and Arrow)\n",
      "True\n",
      "\n",
      "CabalVision Silver Partner([46687] CIBBL - Y5, Summer - SCRIBBL Climax - West, [895929] Fangsnapper's Clawpack)\n",
      "True\n",
      "\n",
      "CabalVision Silver Partner([46687] CIBBL - Y5, Summer - SCRIBBL Climax - West, [889232] Lost Golems of Grungni)\n",
      "False\n",
      "\n",
      "CabalVision Silver Partner([46687] CIBBL - Y5, Summer - SCRIBBL Climax - West, [874966] Modryn's Midnight Meddlers)\n",
      "False\n",
      "\n",
      "CabalVision Silver Partner([46687] CIBBL - Y5, Summer - SCRIBBL Climax - West, [903654] Scions of Neferata)\n",
      "True\n",
      "\n",
      "CabalVision Silver Partner([46687] CIBBL - Y5, Summer - SCRIBBL Climax - West, [874545] Stone Prince's Men)\n",
      "False\n",
      "\n",
      "CabalVision Silver Partner([46688] CIBBL - Y5, Summer - SCRIBBL Climax - East, [892248] Crimson Fins)\n",
      "True\n",
      "\n",
      "CabalVision Silver Partner([46688] CIBBL - Y5, Summer - SCRIBBL Climax - East, [897376] Darkenwood Sentinels)\n",
      "True\n",
      "\n",
      "CabalVision Silver Partner([46688] CIBBL - Y5, Summer - SCRIBBL Climax - East, [874452] Way of the Dragon)\n",
      "False\n",
      "\n",
      "CabalVision Silver Partner([46705] CIBBL - Y5, Summer - Mammoth Gate, [885728] Bear Clutchers)\n",
      "False\n",
      "\n",
      "CabalVision Silver Partner([46705] CIBBL - Y5, Summer - Mammoth Gate, [876774] Congregation of Holy Touchdown)\n",
      "True\n",
      "\n",
      "CabalVision Silver Partner([46705] CIBBL - Y5, Summer - Mammoth Gate, [886002] Doom Glade Demons)\n",
      "True\n",
      "\n",
      "CabalVision Silver Partner([46705] CIBBL - Y5, Summer - Mammoth Gate, [874302] Grasparossa B.B.C)\n",
      "False\n",
      "\n",
      "CabalVision Silver Partner([46705] CIBBL - Y5, Summer - Mammoth Gate, [874317] Misty Isle Gators)\n",
      "False\n",
      "\n",
      "CabalVision Silver Partner([46705] CIBBL - Y5, Summer - Mammoth Gate, [880378] Nurgle Plaguebearers)\n",
      "False\n",
      "\n",
      "CabalVision Silver Partner([46705] CIBBL - Y5, Summer - Mammoth Gate, [873349] Reik River Kicking Mules)\n",
      "False\n",
      "\n",
      "CabalVision Silver Partner([46705] CIBBL - Y5, Summer - Mammoth Gate, [879131] Sartosa Black Flags)\n",
      "True\n",
      "\n",
      "CabalVision Silver Partner([46707] CIBBL - Y5, Summer - Twin Gates [White], [897353] Court of Shu)\n",
      "True\n",
      "\n",
      "CabalVision Silver Partner([46707] CIBBL - Y5, Summer - Twin Gates [White], [891237] Dukes of Earthquake Valley)\n",
      "True\n",
      "\n",
      "CabalVision Silver Partner([46707] CIBBL - Y5, Summer - Twin Gates [White], [897379] Karak Kadrin Slayers)\n",
      "True\n",
      "\n",
      "CabalVision Silver Partner([46707] CIBBL - Y5, Summer - Twin Gates [White], [896134] Rotfall Ironworks Rocketeers)\n",
      "True\n",
      "\n",
      "CabalVision Silver Partner([46709] CIBBL - Y5, Summer - Sleeper's Gate, [882382] Ali's Anarchists)\n",
      "True\n",
      "\n",
      "CabalVision Silver Partner([46709] CIBBL - Y5, Summer - Sleeper's Gate, [888994] Beerbog Behemoths)\n",
      "True\n",
      "\n",
      "CabalVision Silver Partner([46709] CIBBL - Y5, Summer - Sleeper's Gate, [896228] Gardeners of Nurgle)\n",
      "True\n",
      "\n",
      "CabalVision Silver Partner([46709] CIBBL - Y5, Summer - Sleeper's Gate, [900800] Haunted Forest Sons of Chaos)\n",
      "False\n",
      "\n",
      "CabalVision Silver Partner([46709] CIBBL - Y5, Summer - Sleeper's Gate, [891260] Library of Indra)\n",
      "True\n",
      "\n",
      "CabalVision Silver Partner([46709] CIBBL - Y5, Summer - Sleeper's Gate, [898574] Revenge Street Reapers)\n",
      "False\n",
      "\n",
      "CabalVision Silver Partner([46709] CIBBL - Y5, Summer - Sleeper's Gate, [896564] Thoughts of Thoth)\n",
      "True\n",
      "\n",
      "CabalVision Silver Partner([46710] CIBBL - Y5, Summer - Lost Gate, [900747] Black Monolith Worshippers)\n",
      "True\n",
      "\n",
      "CabalVision Silver Partner([46710] CIBBL - Y5, Summer - Lost Gate, [899682] K'r'shh Sl'ppr'ss)\n",
      "True\n",
      "\n",
      "CabalVision Silver Partner([46710] CIBBL - Y5, Summer - Lost Gate, [896972] Seekers of Transcendence)\n",
      "True\n",
      "\n",
      "CabalVision Silver Partner([47499] CIBBL - Y5, Autumn - Granite Division, [909848] Black Hearted Bloodseekers)\n",
      "True\n",
      "\n",
      "CabalVision Silver Partner([47501] CIBBL - Y5, Autumn - Iron Division, [904377] Aurons)\n",
      "True\n",
      "\n",
      "CabalVision Silver Partner([47501] CIBBL - Y5, Autumn - Iron Division, [906259] Livin' Thing)\n",
      "True\n",
      "\n",
      "CabalVision Silver Partner([47501] CIBBL - Y5, Autumn - Iron Division, [905924] Squill's Squig Pitt)\n",
      "True\n",
      "\n",
      "CabalVision Silver Partner([47502] CIBBL - Y5, Autumn - Tin Division, [906026] Karak Azog Outlaws)\n",
      "True\n",
      "\n",
      "CabalVision Silver Partner([47502] CIBBL - Y5, Autumn - Tin Division, [904411] Ynys Morion Mabsantwyr)\n",
      "True\n",
      "\n",
      "CabalVision Silver Partner([47503] CIBBL - Y5, Autumn - Copper Division, [907600] Deluge-Bearers)\n",
      "True\n",
      "\n",
      "CabalVision Silver Partner([47504] CIBBL - Y5, Autumn - Bronze Division, [909966] Spite Reach Corsairs)\n",
      "True\n",
      "\n",
      "CabalVision Silver Partner([47504] CIBBL - Y5, Autumn - Bronze Division, [910344] Vlad's Vampheroes)\n",
      "True\n",
      "\n"
     ]
    }
   ],
   "source": [
    "for A in sorted(clsASilver.__members__.values()):\n",
    "    print(A)\n",
    "    print(A.active())\n",
    "    print()"
   ]
  },
  {
   "cell_type": "code",
   "execution_count": 13,
   "metadata": {},
   "outputs": [
    {
     "data": {
      "text/plain": [
       "<function cibblbibbl.achievement.ta_cvsilverpartner.TA_CVSilverPartner.agent01(cls, group_key)>"
      ]
     },
     "execution_count": 13,
     "metadata": {},
     "output_type": "execute_result"
    }
   ],
   "source": [
    "clsASilver.agent01.__func__"
   ]
  },
  {
   "cell_type": "code",
   "execution_count": 10,
   "metadata": {},
   "outputs": [
    {
     "data": {
      "text/plain": [
       "dict_values([TA_CVGoldPartner('ta_cvgoldpartner', Tournament('cibbl', '46687'), Team(854678)), TA_CVGoldPartner('ta_cvgoldpartner', Tournament('cibbl', '46688'), Team(855753)), TA_CVGoldPartner('ta_cvgoldpartner', Tournament('cibbl', '46688'), Team(854257)), TA_CVGoldPartner('ta_cvgoldpartner', Tournament('cibbl', '46688'), Team(867862)), TA_CVGoldPartner('ta_cvgoldpartner', Tournament('cibbl', '46705'), Team(854600)), TA_CVGoldPartner('ta_cvgoldpartner', Tournament('cibbl', '46705'), Team(859097)), TA_CVGoldPartner('ta_cvgoldpartner', Tournament('cibbl', '46705'), Team(872475)), TA_CVGoldPartner('ta_cvgoldpartner', Tournament('cibbl', '46707'), Team(855120)), TA_CVGoldPartner('ta_cvgoldpartner', Tournament('cibbl', '46709'), Team(854507)), TA_CVGoldPartner('ta_cvgoldpartner', Tournament('cibbl', '47502'), Team(874302)), TA_CVGoldPartner('ta_cvgoldpartner', Tournament('cibbl', '47504'), Team(874317)), TA_CVGoldPartner('ta_cvgoldpartner', Tournament('cibbl', '47504'), Team(874966)), TA_CVGoldPartner('ta_cvgoldpartner', Tournament('cibbl', '47505'), Team(874545)), TA_CVGoldPartner('ta_cvgoldpartner', Tournament('cibbl', '47505'), Team(874452))])"
      ]
     },
     "execution_count": 10,
     "metadata": {},
     "output_type": "execute_result"
    }
   ],
   "source": [
    "clsAGold.__members__.values()"
   ]
  },
  {
   "cell_type": "code",
   "execution_count": 8,
   "metadata": {},
   "outputs": [],
   "source": [
    "cls = clsAGold\n",
    "group_key = G.key"
   ]
  },
  {
   "cell_type": "code",
   "execution_count": 9,
   "metadata": {},
   "outputs": [
    {
     "data": {
      "text/plain": [
       "{'decaymul': [1, 0],\n",
       " 'description': 'Awarded to a team which is a consecutive CIBBL member for the last 4 CIBBL Years (16 Seasons). Replaces Silver partnership. Worth 50 Prestige Points to the team as long as the team continously participates in every CIBBL events. Awarded since Year 5 Autumn.',\n",
       " 'logo_url': '/i/597778',\n",
       " 'name': 'CabalVision Gold Partner',\n",
       " 'prestige': 0,\n",
       " 'small_logo_url': '/i/597782',\n",
       " 'stackmul': [1, 0],\n",
       " 'start_tournamentId': '46687',\n",
       " 'status': 'proposed',\n",
       " 'typename': 'Achievement'}"
      ]
     },
     "execution_count": 9,
     "metadata": {},
     "output_type": "execute_result"
    }
   ],
   "source": [
    "C = cls.defaultconfig_of_group(group_key)._data\n",
    "C"
   ]
  },
  {
   "cell_type": "code",
   "execution_count": 10,
   "metadata": {},
   "outputs": [
    {
     "name": "stdout",
     "output_type": "stream",
     "text": [
      "[46687] CIBBL - Y5, Summer - SCRIBBL Climax - West\n",
      "[46688] CIBBL - Y5, Summer - SCRIBBL Climax - East\n",
      "[46705] CIBBL - Y5, Summer - Mammoth Gate\n",
      "[46706] CIBBL - Y5, Summer - Twin Gates [Black]\n",
      "[46707] CIBBL - Y5, Summer - Twin Gates [White]\n",
      "[46708] CIBBL - Y5, Summer - Feather's Gate\n",
      "[46709] CIBBL - Y5, Summer - Sleeper's Gate\n",
      "[46710] CIBBL - Y5, Summer - Lost Gate\n",
      "[46711] CIBBL - Y5, Summer - Mushroom Gate\n",
      "[47062] CIBBL - Y5, Summer - SCRIBBL Climax - Final\n",
      "[47496] CIBBL - Y5, Autumn - Cloth Division\n",
      "[47497] CIBBL - Y5, Autumn - Wood Division\n",
      "[47498] CIBBL - Y5, Autumn - Clay Division\n",
      "[47499] CIBBL - Y5, Autumn - Granite Division\n",
      "[47500] CIBBL - Y5, Autumn - Marble Division\n",
      "[47501] CIBBL - Y5, Autumn - Iron Division\n",
      "[47502] CIBBL - Y5, Autumn - Tin Division\n",
      "[47503] CIBBL - Y5, Autumn - Copper Division\n",
      "[47504] CIBBL - Y5, Autumn - Bronze Division\n",
      "[47505] CIBBL - Y5, Autumn - Silver Division\n",
      "[47506] CIBBL - Y5, Autumn - Gold Division\n"
     ]
    }
   ],
   "source": [
    "startT = G.tournaments[C[\"start_tournamentId\"]]\n",
    "for T in sorted(\n",
    "    T for T in G.tournaments.values()\n",
    "    if startT <= T \n",
    "):\n",
    "  print(T)"
   ]
  },
  {
   "cell_type": "code",
   "execution_count": 12,
   "metadata": {},
   "outputs": [
    {
     "name": "stdout",
     "output_type": "stream",
     "text": [
      "CabalVision Gold Partner([46687] CIBBL - Y5, Summer - SCRIBBL Climax - West, [854678] Lords of the Silent Death)\n",
      "CabalVision Gold Partner([46688] CIBBL - Y5, Summer - SCRIBBL Climax - East, [855753] Nejaz Djinn)\n",
      "CabalVision Gold Partner([46688] CIBBL - Y5, Summer - SCRIBBL Climax - East, [854257] Grand Celestial Delegate)\n",
      "CabalVision Gold Partner([46688] CIBBL - Y5, Summer - SCRIBBL Climax - East, [867862] Everlasting Vultures of Settra)\n",
      "CabalVision Gold Partner([46705] CIBBL - Y5, Summer - Mammoth Gate, [854600] Montetriste Noblemen)\n",
      "CabalVision Gold Partner([46705] CIBBL - Y5, Summer - Mammoth Gate, [859097] Bhubaneswar Rampage)\n",
      "CabalVision Gold Partner([46705] CIBBL - Y5, Summer - Mammoth Gate, [872475] True Roots of Khaine)\n",
      "CabalVision Gold Partner([46707] CIBBL - Y5, Summer - Twin Gates [White], [855120] Trantio Dragon Hawks)\n",
      "CabalVision Gold Partner([46709] CIBBL - Y5, Summer - Sleeper's Gate, [854507] Coven of the Mirrored Hall)\n",
      "CabalVision Gold Partner([47502] CIBBL - Y5, Autumn - Tin Division, [874302] Grasparossa B.B.C)\n",
      "CabalVision Gold Partner([47504] CIBBL - Y5, Autumn - Bronze Division, [874317] Misty Isle Gators)\n",
      "CabalVision Gold Partner([47504] CIBBL - Y5, Autumn - Bronze Division, [874966] Modryn's Midnight Meddlers)\n",
      "CabalVision Gold Partner([47505] CIBBL - Y5, Autumn - Silver Division, [874545] Stone Prince's Men)\n",
      "CabalVision Gold Partner([47505] CIBBL - Y5, Autumn - Silver Division, [874452] Way of the Dragon)\n"
     ]
    },
    {
     "data": {
      "text/plain": [
       "{Season('cibbl', 5, 3): {Team(854257),\n",
       "  Team(854507),\n",
       "  Team(854600),\n",
       "  Team(854678),\n",
       "  Team(855120),\n",
       "  Team(855753),\n",
       "  Team(859097),\n",
       "  Team(867862),\n",
       "  Team(872475)},\n",
       " Season('cibbl', 5, 4): {Team(854257),\n",
       "  Team(854507),\n",
       "  Team(854600),\n",
       "  Team(854678),\n",
       "  Team(855120),\n",
       "  Team(855753),\n",
       "  Team(859097),\n",
       "  Team(867862),\n",
       "  Team(872475),\n",
       "  Team(874302),\n",
       "  Team(874317),\n",
       "  Team(874452),\n",
       "  Team(874545),\n",
       "  Team(874966)}}"
      ]
     },
     "execution_count": 12,
     "metadata": {},
     "output_type": "execute_result"
    }
   ],
   "source": [
    "startT = G.tournaments[C[\"start_tournamentId\"]]\n",
    "partners_of_seasons = {}\n",
    "for T in sorted(\n",
    "    T for T in G.tournaments.values()\n",
    "    if startT <= T \n",
    "):\n",
    "  active_partners = collections.defaultdict(set)\n",
    "  for A in list(cls.__members__.values()):\n",
    "    if not A.active(T):\n",
    "      continue\n",
    "    active_partners[A.subject].add(A)\n",
    "  if T.season in partners_of_seasons:\n",
    "    partners = partners_of_seasons[T.season]\n",
    "  else:\n",
    "    partners = T.season.gold_partner_teams()\n",
    "    partners_of_seasons[T.season] = partners\n",
    "  for Te in (set(active_partners) - partners):\n",
    "    for A1 in active_partners[Te]:\n",
    "        A1[\"end_tournamentId\"] = T.id\n",
    "  for Te in (partners - set(active_partners)) & T.teams:\n",
    "    A = cls(T, Te)\n",
    "    print(A)\n",
    "\n",
    "partners_of_seasons"
   ]
  },
  {
   "cell_type": "code",
   "execution_count": 14,
   "metadata": {},
   "outputs": [
    {
     "data": {
      "text/plain": [
       "defaultdict(set,\n",
       "            {Team(854678): {TA_CVGoldPartner('ta_cvgoldpartner', Tournament('cibbl', '46687'), Team(854678))},\n",
       "             Team(855753): {TA_CVGoldPartner('ta_cvgoldpartner', Tournament('cibbl', '46688'), Team(855753))},\n",
       "             Team(854257): {TA_CVGoldPartner('ta_cvgoldpartner', Tournament('cibbl', '46688'), Team(854257))},\n",
       "             Team(867862): {TA_CVGoldPartner('ta_cvgoldpartner', Tournament('cibbl', '46688'), Team(867862))},\n",
       "             Team(854600): {TA_CVGoldPartner('ta_cvgoldpartner', Tournament('cibbl', '46705'), Team(854600))},\n",
       "             Team(859097): {TA_CVGoldPartner('ta_cvgoldpartner', Tournament('cibbl', '46705'), Team(859097))},\n",
       "             Team(872475): {TA_CVGoldPartner('ta_cvgoldpartner', Tournament('cibbl', '46705'), Team(872475))},\n",
       "             Team(855120): {TA_CVGoldPartner('ta_cvgoldpartner', Tournament('cibbl', '46707'), Team(855120))},\n",
       "             Team(854507): {TA_CVGoldPartner('ta_cvgoldpartner', Tournament('cibbl', '46709'), Team(854507))},\n",
       "             Team(874302): {TA_CVGoldPartner('ta_cvgoldpartner', Tournament('cibbl', '47502'), Team(874302))},\n",
       "             Team(874317): {TA_CVGoldPartner('ta_cvgoldpartner', Tournament('cibbl', '47504'), Team(874317))},\n",
       "             Team(874966): {TA_CVGoldPartner('ta_cvgoldpartner', Tournament('cibbl', '47504'), Team(874966))},\n",
       "             Team(874545): {TA_CVGoldPartner('ta_cvgoldpartner', Tournament('cibbl', '47505'), Team(874545))},\n",
       "             Team(874452): {TA_CVGoldPartner('ta_cvgoldpartner', Tournament('cibbl', '47505'), Team(874452))}})"
      ]
     },
     "execution_count": 14,
     "metadata": {},
     "output_type": "execute_result"
    }
   ],
   "source": [
    "active_partners"
   ]
  },
  {
   "cell_type": "code",
   "execution_count": 27,
   "metadata": {},
   "outputs": [
    {
     "data": {
      "text/plain": [
       "{Team(874302), Team(874317), Team(874452), Team(874545), Team(874966)}"
      ]
     },
     "execution_count": 27,
     "metadata": {},
     "output_type": "execute_result"
    }
   ],
   "source": [
    "{Team(854257),\n",
    "  Team(854507),\n",
    "  Team(854600),\n",
    "  Team(854678),\n",
    "  Team(855120),\n",
    "  Team(855753),\n",
    "  Team(859097),\n",
    "  Team(867862),\n",
    "  Team(872475),\n",
    "  Team(874302),\n",
    "  Team(874317),\n",
    "  Team(874452),\n",
    "  Team(874545),\n",
    "  Team(874966)} - {Team(854257),\n",
    "  Team(854507),\n",
    "  Team(854600),\n",
    "  Team(854678),\n",
    "  Team(855120),\n",
    "  Team(855753),\n",
    "  Team(859097),\n",
    "  Team(867862),\n",
    "  Team(872475)}"
   ]
  },
  {
   "cell_type": "code",
   "execution_count": null,
   "metadata": {},
   "outputs": [],
   "source": []
  }
 ],
 "metadata": {
  "kernelspec": {
   "display_name": "Python 3",
   "language": "python",
   "name": "python3"
  },
  "language_info": {
   "codemirror_mode": {
    "name": "ipython",
    "version": 3
   },
   "file_extension": ".py",
   "mimetype": "text/x-python",
   "name": "python",
   "nbconvert_exporter": "python",
   "pygments_lexer": "ipython3",
   "version": "3.7.4"
  }
 },
 "nbformat": 4,
 "nbformat_minor": 2
}
