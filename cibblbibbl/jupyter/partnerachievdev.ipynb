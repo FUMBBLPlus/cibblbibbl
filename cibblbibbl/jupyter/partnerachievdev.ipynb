{
 "cells": [
  {
   "cell_type": "code",
   "execution_count": 1,
   "metadata": {},
   "outputs": [],
   "source": [
    "import collections\n",
    "import copy\n",
    "import datetime\n",
    "import itertools\n",
    "import sys\n",
    "\n",
    "import json\n",
    "import pathlib\n",
    "import re\n",
    "from pprint import pprint\n",
    "\n",
    "import nest_asyncio\n",
    "nest_asyncio.apply()\n",
    "import texttable\n",
    "\n",
    "import pytourney\n",
    "import pyfumbbl\n",
    "import cibblbibbl"
   ]
  },
  {
   "cell_type": "code",
   "execution_count": 11,
   "metadata": {},
   "outputs": [],
   "source": [
    "show_Ids = True\n",
    "G = cibblbibbl.CIBBL\n",
    "Achievement = cibblbibbl.achievement.Achievement\n",
    "Team = cibblbibbl.team.Team\n",
    "player = cibblbibbl.player.player\n",
    "Match = cibblbibbl.match.Match\n",
    "Matchup = cibblbibbl.matchup.Matchup\n",
    "Replay = cibblbibbl.replay.Replay\n",
    "Tournament = cibblbibbl.tournament.handler.default.Tournament\n",
    "NormalPlayer = cibblbibbl.player.NormalPlayer\n",
    "Season = cibblbibbl.season.Season\n",
    "StarPlayer = cibblbibbl.player.StarPlayer"
   ]
  },
  {
   "cell_type": "code",
   "execution_count": 3,
   "metadata": {},
   "outputs": [],
   "source": [
    "G.register_tournaments()"
   ]
  },
  {
   "cell_type": "code",
   "execution_count": 4,
   "metadata": {},
   "outputs": [],
   "source": [
    "G.register_matchups()"
   ]
  },
  {
   "cell_type": "code",
   "execution_count": 5,
   "metadata": {
    "scrolled": true
   },
   "outputs": [],
   "source": [
    "G.register_achievements()"
   ]
  },
  {
   "cell_type": "code",
   "execution_count": 6,
   "metadata": {},
   "outputs": [],
   "source": [
    "T = G.tournaments[\"44380\"]"
   ]
  },
  {
   "cell_type": "code",
   "execution_count": 11,
   "metadata": {},
   "outputs": [
    {
     "data": {
      "text/plain": [
       "{Team(865063), Team(867030), Team(869156), Team(872475), Team(874317)}"
      ]
     },
     "execution_count": 11,
     "metadata": {},
     "output_type": "execute_result"
    }
   ],
   "source": [
    "T.teams()"
   ]
  },
  {
   "cell_type": "code",
   "execution_count": 12,
   "metadata": {},
   "outputs": [
    {
     "data": {
      "text/plain": [
       "{Team(867030), Team(869156), Team(872475), Team(874317)}"
      ]
     },
     "execution_count": 12,
     "metadata": {},
     "output_type": "execute_result"
    }
   ],
   "source": [
    "T.teams(True)"
   ]
  },
  {
   "cell_type": "code",
   "execution_count": 8,
   "metadata": {},
   "outputs": [
    {
     "data": {
      "text/plain": [
       "92"
      ]
     },
     "execution_count": 8,
     "metadata": {},
     "output_type": "execute_result"
    }
   ],
   "source": [
    "len(T.season.teams())"
   ]
  },
  {
   "cell_type": "code",
   "execution_count": 9,
   "metadata": {},
   "outputs": [
    {
     "data": {
      "text/plain": [
       "91"
      ]
     },
     "execution_count": 9,
     "metadata": {},
     "output_type": "execute_result"
    }
   ],
   "source": [
    "len(T.season.teams(True))"
   ]
  },
  {
   "cell_type": "code",
   "execution_count": 12,
   "metadata": {},
   "outputs": [],
   "source": [
    "S = Season('cibbl', 4, 1)"
   ]
  },
  {
   "cell_type": "code",
   "execution_count": 20,
   "metadata": {},
   "outputs": [
    {
     "data": {
      "text/plain": [
       "54"
      ]
     },
     "execution_count": 20,
     "metadata": {},
     "output_type": "execute_result"
    }
   ],
   "source": [
    "len(S.teams(True, False))"
   ]
  },
  {
   "cell_type": "code",
   "execution_count": 23,
   "metadata": {},
   "outputs": [
    {
     "data": {
      "text/plain": [
       "[Tournament('cibbl', '45173'),\n",
       " Tournament('cibbl', '45174'),\n",
       " Tournament('cibbl', '45175')]"
      ]
     },
     "execution_count": 23,
     "metadata": {},
     "output_type": "execute_result"
    }
   ],
   "source": [
    "L = list(S.tournaments.values())\n",
    "L"
   ]
  },
  {
   "cell_type": "code",
   "execution_count": 25,
   "metadata": {},
   "outputs": [
    {
     "data": {
      "text/plain": [
       "{'end': '2018-06-19',\n",
       " 'group': '10455',\n",
       " 'id': '45173',\n",
       " 'name': 'CIBBL - Y4, Winter - Friendlies (High)',\n",
       " 'progression': 'Standard',\n",
       " 'season': '4',\n",
       " 'start': '2018-06-19',\n",
       " 'status': 'Completed',\n",
       " 'type': '3',\n",
       " 'winner': '897379'}"
      ]
     },
     "execution_count": 25,
     "metadata": {},
     "output_type": "execute_result"
    }
   ],
   "source": [
    "L[0].apiget"
   ]
  },
  {
   "cell_type": "code",
   "execution_count": 12,
   "metadata": {},
   "outputs": [
    {
     "data": {
      "text/plain": [
       "{Team(854678),\n",
       " Team(871787),\n",
       " Team(874545),\n",
       " Team(874966),\n",
       " Team(878945),\n",
       " Team(886114),\n",
       " Team(889232),\n",
       " Team(895929),\n",
       " Team(903654),\n",
       " Team(908529)}"
      ]
     },
     "execution_count": 12,
     "metadata": {},
     "output_type": "execute_result"
    }
   ],
   "source": [
    "T.ma"
   ]
  },
  {
   "cell_type": "code",
   "execution_count": 13,
   "metadata": {},
   "outputs": [
    {
     "data": {
      "text/plain": [
       "Season('cibbl', 5, 3)"
      ]
     },
     "execution_count": 13,
     "metadata": {},
     "output_type": "execute_result"
    }
   ],
   "source": [
    "S = max(G.seasons).prev\n",
    "S"
   ]
  },
  {
   "cell_type": "code",
   "execution_count": 6,
   "metadata": {},
   "outputs": [],
   "source": [
    "clsAGold = cibblbibbl.achievement.ta_cvgoldpartner.cls\n",
    "clsASilver = cibblbibbl.achievement.ta_cvsilverpartner.cls"
   ]
  },
  {
   "cell_type": "code",
   "execution_count": 9,
   "metadata": {},
   "outputs": [
    {
     "name": "stdout",
     "output_type": "stream",
     "text": [
      "CabalVision Silver Partner([46687] CIBBL - Y5, Summer - SCRIBBL Climax - West, [878945] Eternal Ecstasy)\n",
      "True\n",
      "\n",
      "CabalVision Silver Partner([46687] CIBBL - Y5, Summer - SCRIBBL Climax - West, [886114] Eye and Arrow)\n",
      "True\n",
      "\n",
      "CabalVision Silver Partner([46687] CIBBL - Y5, Summer - SCRIBBL Climax - West, [895929] Fangsnapper's Clawpack)\n",
      "True\n",
      "\n",
      "CabalVision Silver Partner([46687] CIBBL - Y5, Summer - SCRIBBL Climax - West, [889232] Lost Golems of Grungni)\n",
      "False\n",
      "\n",
      "CabalVision Silver Partner([46687] CIBBL - Y5, Summer - SCRIBBL Climax - West, [874966] Modryn's Midnight Meddlers)\n",
      "False\n",
      "\n",
      "CabalVision Silver Partner([46687] CIBBL - Y5, Summer - SCRIBBL Climax - West, [903654] Scions of Neferata)\n",
      "True\n",
      "\n",
      "CabalVision Silver Partner([46687] CIBBL - Y5, Summer - SCRIBBL Climax - West, [874545] Stone Prince's Men)\n",
      "False\n",
      "\n",
      "CabalVision Silver Partner([46688] CIBBL - Y5, Summer - SCRIBBL Climax - East, [892248] Crimson Fins)\n",
      "True\n",
      "\n",
      "CabalVision Silver Partner([46688] CIBBL - Y5, Summer - SCRIBBL Climax - East, [897376] Darkenwood Sentinels)\n",
      "True\n",
      "\n",
      "CabalVision Silver Partner([46688] CIBBL - Y5, Summer - SCRIBBL Climax - East, [874452] Way of the Dragon)\n",
      "False\n",
      "\n",
      "CabalVision Silver Partner([46705] CIBBL - Y5, Summer - Mammoth Gate, [885728] Bear Clutchers)\n",
      "False\n",
      "\n",
      "CabalVision Silver Partner([46705] CIBBL - Y5, Summer - Mammoth Gate, [876774] Congregation of Holy Touchdown)\n",
      "True\n",
      "\n",
      "CabalVision Silver Partner([46705] CIBBL - Y5, Summer - Mammoth Gate, [886002] Doom Glade Demons)\n",
      "True\n",
      "\n",
      "CabalVision Silver Partner([46705] CIBBL - Y5, Summer - Mammoth Gate, [874302] Grasparossa B.B.C)\n",
      "False\n",
      "\n",
      "CabalVision Silver Partner([46705] CIBBL - Y5, Summer - Mammoth Gate, [874317] Misty Isle Gators)\n",
      "False\n",
      "\n",
      "CabalVision Silver Partner([46705] CIBBL - Y5, Summer - Mammoth Gate, [880378] Nurgle Plaguebearers)\n",
      "False\n",
      "\n",
      "CabalVision Silver Partner([46705] CIBBL - Y5, Summer - Mammoth Gate, [873349] Reik River Kicking Mules)\n",
      "False\n",
      "\n",
      "CabalVision Silver Partner([46705] CIBBL - Y5, Summer - Mammoth Gate, [879131] Sartosa Black Flags)\n",
      "True\n",
      "\n",
      "CabalVision Silver Partner([46707] CIBBL - Y5, Summer - Twin Gates [White], [897353] Court of Shu)\n",
      "True\n",
      "\n",
      "CabalVision Silver Partner([46707] CIBBL - Y5, Summer - Twin Gates [White], [891237] Dukes of Earthquake Valley)\n",
      "True\n",
      "\n",
      "CabalVision Silver Partner([46707] CIBBL - Y5, Summer - Twin Gates [White], [897379] Karak Kadrin Slayers)\n",
      "True\n",
      "\n",
      "CabalVision Silver Partner([46707] CIBBL - Y5, Summer - Twin Gates [White], [896134] Rotfall Ironworks Rocketeers)\n",
      "True\n",
      "\n",
      "CabalVision Silver Partner([46709] CIBBL - Y5, Summer - Sleeper's Gate, [882382] Ali's Anarchists)\n",
      "True\n",
      "\n",
      "CabalVision Silver Partner([46709] CIBBL - Y5, Summer - Sleeper's Gate, [888994] Beerbog Behemoths)\n",
      "True\n",
      "\n",
      "CabalVision Silver Partner([46709] CIBBL - Y5, Summer - Sleeper's Gate, [896228] Gardeners of Nurgle)\n",
      "True\n",
      "\n",
      "CabalVision Silver Partner([46709] CIBBL - Y5, Summer - Sleeper's Gate, [900800] Haunted Forest Sons of Chaos)\n",
      "False\n",
      "\n",
      "CabalVision Silver Partner([46709] CIBBL - Y5, Summer - Sleeper's Gate, [891260] Library of Indra)\n",
      "True\n",
      "\n",
      "CabalVision Silver Partner([46709] CIBBL - Y5, Summer - Sleeper's Gate, [898574] Revenge Street Reapers)\n",
      "False\n",
      "\n",
      "CabalVision Silver Partner([46709] CIBBL - Y5, Summer - Sleeper's Gate, [896564] Thoughts of Thoth)\n",
      "True\n",
      "\n",
      "CabalVision Silver Partner([46710] CIBBL - Y5, Summer - Lost Gate, [900747] Black Monolith Worshippers)\n",
      "True\n",
      "\n",
      "CabalVision Silver Partner([46710] CIBBL - Y5, Summer - Lost Gate, [899682] K'r'shh Sl'ppr'ss)\n",
      "True\n",
      "\n",
      "CabalVision Silver Partner([46710] CIBBL - Y5, Summer - Lost Gate, [896972] Seekers of Transcendence)\n",
      "True\n",
      "\n",
      "CabalVision Silver Partner([47499] CIBBL - Y5, Autumn - Granite Division, [909848] Black Hearted Bloodseekers)\n",
      "True\n",
      "\n",
      "CabalVision Silver Partner([47501] CIBBL - Y5, Autumn - Iron Division, [904377] Aurons)\n",
      "True\n",
      "\n",
      "CabalVision Silver Partner([47501] CIBBL - Y5, Autumn - Iron Division, [906259] Livin' Thing)\n",
      "True\n",
      "\n",
      "CabalVision Silver Partner([47501] CIBBL - Y5, Autumn - Iron Division, [905924] Squill's Squig Pitt)\n",
      "True\n",
      "\n",
      "CabalVision Silver Partner([47502] CIBBL - Y5, Autumn - Tin Division, [906026] Karak Azog Outlaws)\n",
      "True\n",
      "\n",
      "CabalVision Silver Partner([47502] CIBBL - Y5, Autumn - Tin Division, [904411] Ynys Morion Mabsantwyr)\n",
      "True\n",
      "\n",
      "CabalVision Silver Partner([47503] CIBBL - Y5, Autumn - Copper Division, [907600] Deluge-Bearers)\n",
      "True\n",
      "\n",
      "CabalVision Silver Partner([47504] CIBBL - Y5, Autumn - Bronze Division, [909966] Spite Reach Corsairs)\n",
      "True\n",
      "\n",
      "CabalVision Silver Partner([47504] CIBBL - Y5, Autumn - Bronze Division, [910344] Vlad's Vampheroes)\n",
      "True\n",
      "\n"
     ]
    }
   ],
   "source": [
    "for A in sorted(clsASilver.__members__.values()):\n",
    "    print(A)\n",
    "    print(A.active())\n",
    "    print()"
   ]
  },
  {
   "cell_type": "code",
   "execution_count": 13,
   "metadata": {},
   "outputs": [
    {
     "data": {
      "text/plain": [
       "<function cibblbibbl.achievement.ta_cvsilverpartner.TA_CVSilverPartner.agent01(cls, group_key)>"
      ]
     },
     "execution_count": 13,
     "metadata": {},
     "output_type": "execute_result"
    }
   ],
   "source": [
    "clsASilver.agent01.__func__"
   ]
  },
  {
   "cell_type": "code",
   "execution_count": 10,
   "metadata": {},
   "outputs": [
    {
     "data": {
      "text/plain": [
       "dict_values([TA_CVGoldPartner('ta_cvgoldpartner', Tournament('cibbl', '46687'), Team(854678)), TA_CVGoldPartner('ta_cvgoldpartner', Tournament('cibbl', '46688'), Team(855753)), TA_CVGoldPartner('ta_cvgoldpartner', Tournament('cibbl', '46688'), Team(854257)), TA_CVGoldPartner('ta_cvgoldpartner', Tournament('cibbl', '46688'), Team(867862)), TA_CVGoldPartner('ta_cvgoldpartner', Tournament('cibbl', '46705'), Team(854600)), TA_CVGoldPartner('ta_cvgoldpartner', Tournament('cibbl', '46705'), Team(859097)), TA_CVGoldPartner('ta_cvgoldpartner', Tournament('cibbl', '46705'), Team(872475)), TA_CVGoldPartner('ta_cvgoldpartner', Tournament('cibbl', '46707'), Team(855120)), TA_CVGoldPartner('ta_cvgoldpartner', Tournament('cibbl', '46709'), Team(854507)), TA_CVGoldPartner('ta_cvgoldpartner', Tournament('cibbl', '47502'), Team(874302)), TA_CVGoldPartner('ta_cvgoldpartner', Tournament('cibbl', '47504'), Team(874317)), TA_CVGoldPartner('ta_cvgoldpartner', Tournament('cibbl', '47504'), Team(874966)), TA_CVGoldPartner('ta_cvgoldpartner', Tournament('cibbl', '47505'), Team(874545)), TA_CVGoldPartner('ta_cvgoldpartner', Tournament('cibbl', '47505'), Team(874452))])"
      ]
     },
     "execution_count": 10,
     "metadata": {},
     "output_type": "execute_result"
    }
   ],
   "source": [
    "clsAGold.__members__.values()"
   ]
  },
  {
   "cell_type": "code",
   "execution_count": 8,
   "metadata": {},
   "outputs": [],
   "source": [
    "cls = clsAGold\n",
    "group_key = G.key"
   ]
  },
  {
   "cell_type": "code",
   "execution_count": 9,
   "metadata": {},
   "outputs": [
    {
     "data": {
      "text/plain": [
       "{'decaymul': [1, 0],\n",
       " 'description': 'Awarded to a team which is a consecutive CIBBL member for the last 4 CIBBL Years (16 Seasons). Replaces Silver partnership. Worth 50 Prestige Points to the team as long as the team continously participates in every CIBBL events. Awarded since Year 5 Autumn.',\n",
       " 'logo_url': '/i/597778',\n",
       " 'name': 'CabalVision Gold Partner',\n",
       " 'prestige': 0,\n",
       " 'small_logo_url': '/i/597782',\n",
       " 'stackmul': [1, 0],\n",
       " 'start_tournamentId': '46687',\n",
       " 'status': 'proposed',\n",
       " 'typename': 'Achievement'}"
      ]
     },
     "execution_count": 9,
     "metadata": {},
     "output_type": "execute_result"
    }
   ],
   "source": [
    "C = cls.defaultconfig_of_group(group_key)._data\n",
    "C"
   ]
  },
  {
   "cell_type": "code",
   "execution_count": 10,
   "metadata": {},
   "outputs": [
    {
     "name": "stdout",
     "output_type": "stream",
     "text": [
      "[46687] CIBBL - Y5, Summer - SCRIBBL Climax - West\n",
      "[46688] CIBBL - Y5, Summer - SCRIBBL Climax - East\n",
      "[46705] CIBBL - Y5, Summer - Mammoth Gate\n",
      "[46706] CIBBL - Y5, Summer - Twin Gates [Black]\n",
      "[46707] CIBBL - Y5, Summer - Twin Gates [White]\n",
      "[46708] CIBBL - Y5, Summer - Feather's Gate\n",
      "[46709] CIBBL - Y5, Summer - Sleeper's Gate\n",
      "[46710] CIBBL - Y5, Summer - Lost Gate\n",
      "[46711] CIBBL - Y5, Summer - Mushroom Gate\n",
      "[47062] CIBBL - Y5, Summer - SCRIBBL Climax - Final\n",
      "[47496] CIBBL - Y5, Autumn - Cloth Division\n",
      "[47497] CIBBL - Y5, Autumn - Wood Division\n",
      "[47498] CIBBL - Y5, Autumn - Clay Division\n",
      "[47499] CIBBL - Y5, Autumn - Granite Division\n",
      "[47500] CIBBL - Y5, Autumn - Marble Division\n",
      "[47501] CIBBL - Y5, Autumn - Iron Division\n",
      "[47502] CIBBL - Y5, Autumn - Tin Division\n",
      "[47503] CIBBL - Y5, Autumn - Copper Division\n",
      "[47504] CIBBL - Y5, Autumn - Bronze Division\n",
      "[47505] CIBBL - Y5, Autumn - Silver Division\n",
      "[47506] CIBBL - Y5, Autumn - Gold Division\n"
     ]
    }
   ],
   "source": [
    "startT = G.tournaments[C[\"start_tournamentId\"]]\n",
    "for T in sorted(\n",
    "    T for T in G.tournaments.values()\n",
    "    if startT <= T \n",
    "):\n",
    "  print(T)"
   ]
  },
  {
   "cell_type": "code",
   "execution_count": 12,
   "metadata": {},
   "outputs": [
    {
     "name": "stdout",
     "output_type": "stream",
     "text": [
      "CabalVision Gold Partner([46687] CIBBL - Y5, Summer - SCRIBBL Climax - West, [854678] Lords of the Silent Death)\n",
      "CabalVision Gold Partner([46688] CIBBL - Y5, Summer - SCRIBBL Climax - East, [855753] Nejaz Djinn)\n",
      "CabalVision Gold Partner([46688] CIBBL - Y5, Summer - SCRIBBL Climax - East, [854257] Grand Celestial Delegate)\n",
      "CabalVision Gold Partner([46688] CIBBL - Y5, Summer - SCRIBBL Climax - East, [867862] Everlasting Vultures of Settra)\n",
      "CabalVision Gold Partner([46705] CIBBL - Y5, Summer - Mammoth Gate, [854600] Montetriste Noblemen)\n",
      "CabalVision Gold Partner([46705] CIBBL - Y5, Summer - Mammoth Gate, [859097] Bhubaneswar Rampage)\n",
      "CabalVision Gold Partner([46705] CIBBL - Y5, Summer - Mammoth Gate, [872475] True Roots of Khaine)\n",
      "CabalVision Gold Partner([46707] CIBBL - Y5, Summer - Twin Gates [White], [855120] Trantio Dragon Hawks)\n",
      "CabalVision Gold Partner([46709] CIBBL - Y5, Summer - Sleeper's Gate, [854507] Coven of the Mirrored Hall)\n",
      "CabalVision Gold Partner([47502] CIBBL - Y5, Autumn - Tin Division, [874302] Grasparossa B.B.C)\n",
      "CabalVision Gold Partner([47504] CIBBL - Y5, Autumn - Bronze Division, [874317] Misty Isle Gators)\n",
      "CabalVision Gold Partner([47504] CIBBL - Y5, Autumn - Bronze Division, [874966] Modryn's Midnight Meddlers)\n",
      "CabalVision Gold Partner([47505] CIBBL - Y5, Autumn - Silver Division, [874545] Stone Prince's Men)\n",
      "CabalVision Gold Partner([47505] CIBBL - Y5, Autumn - Silver Division, [874452] Way of the Dragon)\n"
     ]
    },
    {
     "data": {
      "text/plain": [
       "{Season('cibbl', 5, 3): {Team(854257),\n",
       "  Team(854507),\n",
       "  Team(854600),\n",
       "  Team(854678),\n",
       "  Team(855120),\n",
       "  Team(855753),\n",
       "  Team(859097),\n",
       "  Team(867862),\n",
       "  Team(872475)},\n",
       " Season('cibbl', 5, 4): {Team(854257),\n",
       "  Team(854507),\n",
       "  Team(854600),\n",
       "  Team(854678),\n",
       "  Team(855120),\n",
       "  Team(855753),\n",
       "  Team(859097),\n",
       "  Team(867862),\n",
       "  Team(872475),\n",
       "  Team(874302),\n",
       "  Team(874317),\n",
       "  Team(874452),\n",
       "  Team(874545),\n",
       "  Team(874966)}}"
      ]
     },
     "execution_count": 12,
     "metadata": {},
     "output_type": "execute_result"
    }
   ],
   "source": [
    "startT = G.tournaments[C[\"start_tournamentId\"]]\n",
    "partners_of_seasons = {}\n",
    "for T in sorted(\n",
    "    T for T in G.tournaments.values()\n",
    "    if startT <= T \n",
    "):\n",
    "  active_partners = collections.defaultdict(set)\n",
    "  for A in list(cls.__members__.values()):\n",
    "    if not A.active(T):\n",
    "      continue\n",
    "    active_partners[A.subject].add(A)\n",
    "  if T.season in partners_of_seasons:\n",
    "    partners = partners_of_seasons[T.season]\n",
    "  else:\n",
    "    partners = T.season.gold_partner_teams()\n",
    "    partners_of_seasons[T.season] = partners\n",
    "  for Te in (set(active_partners) - partners):\n",
    "    for A1 in active_partners[Te]:\n",
    "        A1[\"end_tournamentId\"] = T.id\n",
    "  for Te in (partners - set(active_partners)) & T.teams:\n",
    "    A = cls(T, Te)\n",
    "    print(A)\n",
    "\n",
    "partners_of_seasons"
   ]
  },
  {
   "cell_type": "code",
   "execution_count": 14,
   "metadata": {},
   "outputs": [
    {
     "data": {
      "text/plain": [
       "defaultdict(set,\n",
       "            {Team(854678): {TA_CVGoldPartner('ta_cvgoldpartner', Tournament('cibbl', '46687'), Team(854678))},\n",
       "             Team(855753): {TA_CVGoldPartner('ta_cvgoldpartner', Tournament('cibbl', '46688'), Team(855753))},\n",
       "             Team(854257): {TA_CVGoldPartner('ta_cvgoldpartner', Tournament('cibbl', '46688'), Team(854257))},\n",
       "             Team(867862): {TA_CVGoldPartner('ta_cvgoldpartner', Tournament('cibbl', '46688'), Team(867862))},\n",
       "             Team(854600): {TA_CVGoldPartner('ta_cvgoldpartner', Tournament('cibbl', '46705'), Team(854600))},\n",
       "             Team(859097): {TA_CVGoldPartner('ta_cvgoldpartner', Tournament('cibbl', '46705'), Team(859097))},\n",
       "             Team(872475): {TA_CVGoldPartner('ta_cvgoldpartner', Tournament('cibbl', '46705'), Team(872475))},\n",
       "             Team(855120): {TA_CVGoldPartner('ta_cvgoldpartner', Tournament('cibbl', '46707'), Team(855120))},\n",
       "             Team(854507): {TA_CVGoldPartner('ta_cvgoldpartner', Tournament('cibbl', '46709'), Team(854507))},\n",
       "             Team(874302): {TA_CVGoldPartner('ta_cvgoldpartner', Tournament('cibbl', '47502'), Team(874302))},\n",
       "             Team(874317): {TA_CVGoldPartner('ta_cvgoldpartner', Tournament('cibbl', '47504'), Team(874317))},\n",
       "             Team(874966): {TA_CVGoldPartner('ta_cvgoldpartner', Tournament('cibbl', '47504'), Team(874966))},\n",
       "             Team(874545): {TA_CVGoldPartner('ta_cvgoldpartner', Tournament('cibbl', '47505'), Team(874545))},\n",
       "             Team(874452): {TA_CVGoldPartner('ta_cvgoldpartner', Tournament('cibbl', '47505'), Team(874452))}})"
      ]
     },
     "execution_count": 14,
     "metadata": {},
     "output_type": "execute_result"
    }
   ],
   "source": [
    "active_partners"
   ]
  },
  {
   "cell_type": "code",
   "execution_count": 27,
   "metadata": {},
   "outputs": [
    {
     "data": {
      "text/plain": [
       "{Team(874302), Team(874317), Team(874452), Team(874545), Team(874966)}"
      ]
     },
     "execution_count": 27,
     "metadata": {},
     "output_type": "execute_result"
    }
   ],
   "source": [
    "{Team(854257),\n",
    "  Team(854507),\n",
    "  Team(854600),\n",
    "  Team(854678),\n",
    "  Team(855120),\n",
    "  Team(855753),\n",
    "  Team(859097),\n",
    "  Team(867862),\n",
    "  Team(872475),\n",
    "  Team(874302),\n",
    "  Team(874317),\n",
    "  Team(874452),\n",
    "  Team(874545),\n",
    "  Team(874966)} - {Team(854257),\n",
    "  Team(854507),\n",
    "  Team(854600),\n",
    "  Team(854678),\n",
    "  Team(855120),\n",
    "  Team(855753),\n",
    "  Team(859097),\n",
    "  Team(867862),\n",
    "  Team(872475)}"
   ]
  },
  {
   "cell_type": "code",
   "execution_count": null,
   "metadata": {},
   "outputs": [],
   "source": []
  }
 ],
 "metadata": {
  "kernelspec": {
   "display_name": "Python 3",
   "language": "python",
   "name": "python3"
  },
  "language_info": {
   "codemirror_mode": {
    "name": "ipython",
    "version": 3
   },
   "file_extension": ".py",
   "mimetype": "text/x-python",
   "name": "python",
   "nbconvert_exporter": "python",
   "pygments_lexer": "ipython3",
   "version": "3.7.4"
  }
 },
 "nbformat": 4,
 "nbformat_minor": 2
}
