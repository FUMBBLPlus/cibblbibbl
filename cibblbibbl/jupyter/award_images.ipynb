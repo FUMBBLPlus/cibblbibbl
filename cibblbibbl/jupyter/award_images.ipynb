{
 "cells": [
  {
   "cell_type": "code",
   "execution_count": 1,
   "metadata": {},
   "outputs": [],
   "source": [
    "import collections\n",
    "import copy\n",
    "import datetime\n",
    "import itertools\n",
    "import sys\n",
    "\n",
    "import json\n",
    "import pathlib\n",
    "import re\n",
    "from pprint import pprint\n",
    "\n",
    "import nest_asyncio\n",
    "nest_asyncio.apply()\n",
    "import texttable\n",
    "\n",
    "import pytourney\n",
    "import pyfumbbl\n",
    "import cibblbibbl"
   ]
  },
  {
   "cell_type": "code",
   "execution_count": 2,
   "metadata": {},
   "outputs": [],
   "source": [
    "show_Ids = True\n",
    "G = cibblbibbl.CIBBL\n",
    "Achievement = cibblbibbl.achievement.Achievement\n",
    "Team = cibblbibbl.team.Team\n",
    "player = cibblbibbl.player.player\n",
    "Match = cibblbibbl.match.Match\n",
    "Matchup = cibblbibbl.matchup.Matchup\n",
    "Replay = cibblbibbl.replay.Replay\n",
    "Tournament = cibblbibbl.tournament.handler.default.Tournament\n",
    "NormalPlayer = cibblbibbl.player.NormalPlayer\n",
    "StarPlayer = cibblbibbl.player.StarPlayer"
   ]
  },
  {
   "cell_type": "code",
   "execution_count": 3,
   "metadata": {},
   "outputs": [],
   "source": [
    "G.register_tournaments()"
   ]
  },
  {
   "cell_type": "code",
   "execution_count": 4,
   "metadata": {},
   "outputs": [
    {
     "name": "stdout",
     "output_type": "stream",
     "text": [
      "Downloading REPLAY 1196606...\n"
     ]
    }
   ],
   "source": [
    "G.register_matchups()"
   ]
  },
  {
   "cell_type": "code",
   "execution_count": 5,
   "metadata": {
    "scrolled": true
   },
   "outputs": [],
   "source": [
    "G.register_achievements()"
   ]
  },
  {
   "cell_type": "markdown",
   "metadata": {},
   "source": [
    "## Winter"
   ]
  },
  {
   "cell_type": "code",
   "execution_count": 6,
   "metadata": {},
   "outputs": [],
   "source": [
    "tournament = G.tournaments[\"41656\"]"
   ]
  },
  {
   "cell_type": "code",
   "execution_count": 7,
   "metadata": {},
   "outputs": [],
   "source": [
    "update_d = {k: v for k, v in tournament.config.items() if k.startswith(\"image\")}"
   ]
  },
  {
   "cell_type": "code",
   "execution_count": 8,
   "metadata": {},
   "outputs": [
    {
     "data": {
      "text/plain": [
       "[Tournament('cibbl', '41656'),\n",
       " Tournament('cibbl', '42804'),\n",
       " Tournament('cibbl', '42805'),\n",
       " Tournament('cibbl', '42806'),\n",
       " Tournament('cibbl', '43990'),\n",
       " Tournament('cibbl', '43991'),\n",
       " Tournament('cibbl', '43992'),\n",
       " Tournament('cibbl', '45173'),\n",
       " Tournament('cibbl', '45174'),\n",
       " Tournament('cibbl', '45175'),\n",
       " Tournament('cibbl', '46299'),\n",
       " Tournament('cibbl', '46300'),\n",
       " Tournament('cibbl', '46301')]"
      ]
     },
     "execution_count": 8,
     "metadata": {},
     "output_type": "execute_result"
    }
   ],
   "source": [
    "L = [T for T in G.tournaments.values() if T.season.name == \"Winter\"]\n",
    "L"
   ]
  },
  {
   "cell_type": "code",
   "execution_count": 9,
   "metadata": {},
   "outputs": [],
   "source": [
    "for T in L:\n",
    "    T.config.update(update_d)"
   ]
  },
  {
   "cell_type": "markdown",
   "metadata": {},
   "source": [
    "## Spring"
   ]
  },
  {
   "cell_type": "code",
   "execution_count": 10,
   "metadata": {},
   "outputs": [],
   "source": [
    "base_tournaments = {\n",
    "    \"Cathay and Nippon\": G.tournaments[\"41738\"],\n",
    "    \"The Chaos Wastelands\": G.tournaments[\"41739\"],\n",
    "    \"The Old World\": G.tournaments[\"41740\"],\n",
    "    \"Southlands and Araby\": G.tournaments[\"41741\"],\n",
    "    \"Albion and Norsca\": G.tournaments[\"42882\"],\n",
    "    \"Athel Loren\": G.tournaments[\"42883\"],\n",
    "    \"The Deep Caverns\": G.tournaments[\"42886\"],\n",
    "    \"The Empire\": G.tournaments[\"42887\"],\n",
    "    \"The Great Ocean\": G.tournaments[\"42888\"],\n",
    "    \"Kingdoms Of Ind, Lumbria & the Hinterlands of Khuresh\": G.tournaments[\"42889\"],\n",
    "    \"The Land of the Dead\": G.tournaments[\"42890\"],\n",
    "    \"The Elemental Planes\": G.tournaments[\"44065\"],\n",
    "    \"The Realms of Chaos\": G.tournaments[\"44071\"],\n",
    "    \"Ulthuan and Naggaroth\": G.tournaments[\"44074\"],\n",
    "    \"Eastern Steppes and Mountains of Mourn\": G.tournaments[\"45218\"],\n",
    "    \"Haunted Hills\": G.tournaments[\"45233\"],\n",
    "    \"World Edge Caverns\": G.tournaments[\"45242\"],\n",
    "    \"The Dark Lands\": G.tournaments[\"46393\"],\n",
    "    \"Lustria\": G.tournaments[\"46402\"],\n",
    "    \"World Edge Mountains\": G.tournaments[\"46410\"],\n",
    "    \"Skavenblight\": G.tournaments[\"45238\"],\n",
    "    \"Skavenblight\": G.tournaments[\"45238\"],\n",
    "    \"Skavenblight\": G.tournaments[\"45238\"],\n",
    "    \"Skavenblight\": G.tournaments[\"45238\"],\n",
    "}"
   ]
  },
  {
   "cell_type": "code",
   "execution_count": 11,
   "metadata": {},
   "outputs": [
    {
     "name": "stdout",
     "output_type": "stream",
     "text": [
      "Cathay and Nippon\n",
      "The Chaos Wastelands\n",
      "The Old World\n",
      "Southlands and Araby\n",
      "Albion and Norsca\n",
      "Athel Loren\n",
      "The Deep Caverns\n",
      "The Empire\n",
      "The Great Ocean\n",
      "Kingdoms Of Ind, Lumbria & the Hinterlands of Khuresh\n",
      "The Land of the Dead\n",
      "The Elemental Planes\n",
      "The Realms of Chaos\n",
      "Ulthuan and Naggaroth\n",
      "Eastern Steppes and Mountains of Mourn\n",
      "Haunted Hills\n",
      "World Edge Caverns\n",
      "The Dark Lands\n",
      "Lustria\n",
      "World Edge Mountains\n",
      "Skavenblight\n"
     ]
    }
   ],
   "source": [
    "for region_name, tournament in base_tournaments.items():\n",
    "    print(region_name)\n",
    "    update_d = {k: v for k, v in tournament.config.items() if k.startswith(\"image\")}\n",
    "    L = [T for T in G.tournaments.values() if not (T is tournament) and (region_name in T.name)]\n",
    "    for T in L:\n",
    "        T.config.update(update_d)"
   ]
  },
  {
   "cell_type": "markdown",
   "metadata": {},
   "source": [
    "## Youngbloods"
   ]
  },
  {
   "cell_type": "code",
   "execution_count": 12,
   "metadata": {},
   "outputs": [],
   "source": [
    "tournament = G.tournaments[\"42529\"]"
   ]
  },
  {
   "cell_type": "code",
   "execution_count": 13,
   "metadata": {},
   "outputs": [],
   "source": [
    "update_d = {k: v for k, v in tournament.config.items() if k.startswith(\"image\")}"
   ]
  },
  {
   "cell_type": "code",
   "execution_count": 14,
   "metadata": {},
   "outputs": [
    {
     "data": {
      "text/plain": [
       "[Tournament('cibbl', '42529'),\n",
       " Tournament('cibbl', '42660'),\n",
       " Tournament('cibbl', '42748'),\n",
       " Tournament('cibbl', '43665'),\n",
       " Tournament('cibbl', '43821'),\n",
       " Tournament('cibbl', '43868'),\n",
       " Tournament('cibbl', '43883'),\n",
       " Tournament('cibbl', '44232'),\n",
       " Tournament('cibbl', '44269'),\n",
       " Tournament('cibbl', '44270'),\n",
       " Tournament('cibbl', '44462'),\n",
       " Tournament('cibbl', '44560'),\n",
       " Tournament('cibbl', '44910'),\n",
       " Tournament('cibbl', '45662'),\n",
       " Tournament('cibbl', '46022'),\n",
       " Tournament('cibbl', '46047'),\n",
       " Tournament('cibbl', '46505')]"
      ]
     },
     "execution_count": 14,
     "metadata": {},
     "output_type": "execute_result"
    }
   ],
   "source": [
    "L = [T for T in G.tournaments.values() if \"Youngbloods\" in T.name]\n",
    "L"
   ]
  },
  {
   "cell_type": "code",
   "execution_count": 15,
   "metadata": {},
   "outputs": [],
   "source": [
    "for T in L:\n",
    "    T.config.update(update_d)"
   ]
  },
  {
   "cell_type": "markdown",
   "metadata": {},
   "source": [
    "## Summer"
   ]
  },
  {
   "cell_type": "code",
   "execution_count": 16,
   "metadata": {},
   "outputs": [],
   "source": [
    "base_tournaments = {\n",
    "    \"SCRIBBL Climax\": G.tournaments[\"45568\"],\n",
    "}"
   ]
  },
  {
   "cell_type": "code",
   "execution_count": 17,
   "metadata": {},
   "outputs": [
    {
     "name": "stdout",
     "output_type": "stream",
     "text": [
      "SCRIBBL Climax\n"
     ]
    }
   ],
   "source": [
    "for cup_name, tournament in base_tournaments.items():\n",
    "    print(cup_name)\n",
    "    update_d = {k: v for k, v in tournament.config.items() if k.startswith(\"image\")}\n",
    "    L = [\n",
    "            T for T in G.tournaments.values()\n",
    "            if not (T is tournament)\n",
    "            and T.season.name == \"Summer\"\n",
    "            and (cup_name in T.name)\n",
    "    ]\n",
    "    for T in L:\n",
    "        T.config.update(update_d)"
   ]
  },
  {
   "cell_type": "markdown",
   "metadata": {},
   "source": [
    "## Autumn"
   ]
  },
  {
   "cell_type": "code",
   "execution_count": 18,
   "metadata": {},
   "outputs": [],
   "source": [
    "base_tournaments = {\n",
    "    \"Gold\": G.tournaments[\"42428\"],\n",
    "    \"Silver\": G.tournaments[\"42427\"],\n",
    "    \"Bronze\": G.tournaments[\"42426\"],\n",
    "    \"Copper\": G.tournaments[\"42425\"],\n",
    "    \"Tin\": G.tournaments[\"43563\"],\n",
    "    \"Iron\": G.tournaments[\"43562\"],\n",
    "    \"Marble\": G.tournaments[\"43561\"],\n",
    "    \"Granite\": G.tournaments[\"43560\"],\n",
    "    \"Clay\": G.tournaments[\"44745\"],\n",
    "    \"Wood\": G.tournaments[\"44744\"],\n",
    "    \"Cloth\": G.tournaments[\"44743\"],\n",
    "}"
   ]
  },
  {
   "cell_type": "code",
   "execution_count": 19,
   "metadata": {},
   "outputs": [
    {
     "name": "stdout",
     "output_type": "stream",
     "text": [
      "Gold\n",
      "Silver\n",
      "Bronze\n",
      "Copper\n",
      "Tin\n",
      "Iron\n",
      "Marble\n",
      "Granite\n",
      "Clay\n",
      "Wood\n",
      "Cloth\n"
     ]
    }
   ],
   "source": [
    "for division_name, tournament in base_tournaments.items():\n",
    "    print(division_name)\n",
    "    update_d = {k: v for k, v in tournament.config.items() if k.startswith(\"image\")}\n",
    "    L = [\n",
    "            T for T in G.tournaments.values()\n",
    "            if not (T is tournament)\n",
    "            and T.season.name == \"Autumn\"\n",
    "            and (division_name in T.name)\n",
    "    ]\n",
    "    for T in L:\n",
    "        T.config.update(update_d)"
   ]
  },
  {
   "cell_type": "markdown",
   "metadata": {},
   "source": [
    "## TEST"
   ]
  },
  {
   "cell_type": "code",
   "execution_count": 4,
   "metadata": {},
   "outputs": [
    {
     "name": "stdout",
     "output_type": "stream",
     "text": [
      "[46705] CIBBL - Y5, Summer - Mammoth Gate\n",
      "[46706] CIBBL - Y5, Summer - Twin Gates [Black]\n",
      "[46707] CIBBL - Y5, Summer - Twin Gates [White]\n",
      "[46708] CIBBL - Y5, Summer - Feather's Gate\n",
      "[46709] CIBBL - Y5, Summer - Sleeper's Gate\n",
      "[46710] CIBBL - Y5, Summer - Lost Gate\n",
      "[46711] CIBBL - Y5, Summer - Mushroom Gate\n"
     ]
    }
   ],
   "source": [
    "for T in G.tournaments.values():\n",
    "    update_d = {k: v for k, v in T.config.items() if k.startswith(\"image\")}\n",
    "    if not update_d:\n",
    "        print(T)"
   ]
  },
  {
   "cell_type": "code",
   "execution_count": null,
   "metadata": {},
   "outputs": [],
   "source": []
  }
 ],
 "metadata": {
  "kernelspec": {
   "display_name": "Python 3",
   "language": "python",
   "name": "python3"
  },
  "language_info": {
   "codemirror_mode": {
    "name": "ipython",
    "version": 3
   },
   "file_extension": ".py",
   "mimetype": "text/x-python",
   "name": "python",
   "nbconvert_exporter": "python",
   "pygments_lexer": "ipython3",
   "version": "3.7.4"
  }
 },
 "nbformat": 4,
 "nbformat_minor": 2
}
