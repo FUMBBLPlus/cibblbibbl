{
 "cells": [
  {
   "cell_type": "code",
   "execution_count": 1,
   "metadata": {},
   "outputs": [],
   "source": [
    "import collections\n",
    "import copy\n",
    "import datetime\n",
    "import itertools\n",
    "import sys\n",
    "\n",
    "import json\n",
    "import pathlib\n",
    "import re\n",
    "from pprint import pprint\n",
    "\n",
    "import nest_asyncio\n",
    "nest_asyncio.apply()\n",
    "import texttable\n",
    "\n",
    "import pytourney\n",
    "import pyfumbbl\n",
    "import cibblbibbl"
   ]
  },
  {
   "cell_type": "code",
   "execution_count": 2,
   "metadata": {},
   "outputs": [],
   "source": [
    "show_Ids = True\n",
    "G = cibblbibbl.CIBBL\n",
    "Achievement = cibblbibbl.achievement.Achievement\n",
    "Team = cibblbibbl.team.Team\n",
    "player = cibblbibbl.player.player\n",
    "Match = cibblbibbl.match.Match\n",
    "Matchup = cibblbibbl.matchup.Matchup\n",
    "Replay = cibblbibbl.replay.Replay\n",
    "Tournament = cibblbibbl.tournament.handler.default.Tournament\n",
    "NormalPlayer = cibblbibbl.player.NormalPlayer\n",
    "StarPlayer = cibblbibbl.player.StarPlayer"
   ]
  },
  {
   "cell_type": "code",
   "execution_count": 3,
   "metadata": {},
   "outputs": [],
   "source": [
    "G.init()"
   ]
  },
  {
   "cell_type": "code",
   "execution_count": 4,
   "metadata": {},
   "outputs": [],
   "source": [
    "silver_seasons = sorted(G.seasons)[-8:]\n",
    "gold_seasons = sorted(G.seasons)[-16:]"
   ]
  },
  {
   "cell_type": "code",
   "execution_count": 10,
   "metadata": {},
   "outputs": [
    {
     "data": {
      "text/plain": [
       "Season('cibbl', 5, 3)"
      ]
     },
     "execution_count": 10,
     "metadata": {},
     "output_type": "execute_result"
    }
   ],
   "source": [
    "max(G.seasons)"
   ]
  },
  {
   "cell_type": "code",
   "execution_count": 9,
   "metadata": {},
   "outputs": [
    {
     "name": "stdout",
     "output_type": "stream",
     "text": [
      "[859097] Bhubaneswar Rampage\n",
      "[854507] Coven of the Mirrored Hall\n",
      "[867862] Everlasting Vultures of Settra\n",
      "[854257] Grand Celestial Delegate\n",
      "[854678] Lords of the Silent Death\n",
      "[854600] Montetriste Noblemen\n",
      "[855753] Nejaz Djinn\n",
      "[855120] Trantio Dragon Hawks\n",
      "[872475] True Roots of Khaine\n"
     ]
    }
   ],
   "source": [
    "gold_teams = set(G.teams)\n",
    "for S in gold_seasons:\n",
    "    if S.nr == 1:\n",
    "        continue\n",
    "    gold_teams &= S.teams\n",
    "for Te in sorted(gold_teams, key=lambda Te:Te.name):\n",
    "    print(f'[{Te.Id}] {Te.name}')"
   ]
  },
  {
   "cell_type": "code",
   "execution_count": 8,
   "metadata": {},
   "outputs": [
    {
     "name": "stdout",
     "output_type": "stream",
     "text": [
      "[882382] Ali's Anarchists\n",
      "[885728] Bear Clutchers\n",
      "[888994] Beerbog Behemoths\n",
      "[900747] Black Monolith Worshippers\n",
      "[876774] Congregation of Holy Touchdown\n",
      "[897353] Court of Shu\n",
      "[892248] Crimson Fins\n",
      "[897376] Darkenwood Sentinels\n",
      "[886002] Doom Glade Demons\n",
      "[891237] Dukes of Earthquake Valley\n",
      "[878945] Eternal Ecstasy\n",
      "[886114] Eye and Arrow\n",
      "[895929] Fangsnapper's Clawpack\n",
      "[896228] Gardeners of Nurgle\n",
      "[874302] Grasparossa B.B.C\n",
      "[900800] Haunted Forest Sons of Chaos\n",
      "[899682] K'r'shh Sl'ppr'ss\n",
      "[897379] Karak Kadrin Slayers\n",
      "[891260] Library of Indra\n",
      "[889232] Lost Golems of Grungni\n",
      "[874317] Misty Isle Gators\n",
      "[874966] Modryn's Midnight Meddlers\n",
      "[880378] Nurgle Plaguebearers\n",
      "[873349] Reik River Kicking Mules\n",
      "[898574] Revenge Street Reapers\n",
      "[896134] Rotfall Ironworks Rocketeers\n",
      "[879131] Sartosa Black Flags\n",
      "[903654] Scions of Neferata\n",
      "[896972] Seekers of Transcendence\n",
      "[874545] Stone Prince's Men\n",
      "[896564] Thoughts of Thoth\n",
      "[874452] Way of the Dragon\n"
     ]
    }
   ],
   "source": [
    "silver_teams = set(G.teams)\n",
    "for S in silver_seasons:\n",
    "    if S.nr == 1:\n",
    "        continue\n",
    "    silver_teams &= S.teams\n",
    "silver_teams -= gold_teams\n",
    "for Te in sorted(silver_teams, key=lambda Te:Te.name):\n",
    "    print(f'[{Te.Id}] {Te.name}')"
   ]
  },
  {
   "cell_type": "code",
   "execution_count": null,
   "metadata": {},
   "outputs": [],
   "source": []
  }
 ],
 "metadata": {
  "kernelspec": {
   "display_name": "Python 3",
   "language": "python",
   "name": "python3"
  },
  "language_info": {
   "codemirror_mode": {
    "name": "ipython",
    "version": 3
   },
   "file_extension": ".py",
   "mimetype": "text/x-python",
   "name": "python",
   "nbconvert_exporter": "python",
   "pygments_lexer": "ipython3",
   "version": "3.7.4"
  }
 },
 "nbformat": 4,
 "nbformat_minor": 2
}
