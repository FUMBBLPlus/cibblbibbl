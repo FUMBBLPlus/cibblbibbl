{
 "cells": [
  {
   "cell_type": "code",
   "execution_count": 1,
   "metadata": {},
   "outputs": [
    {
     "name": "stdout",
     "output_type": "stream",
     "text": [
      "on change JSONFile('/home/adam/FUMBBL/cibblbibbl-data/cibbl/achievement/pa_aerodynamicaim/00046409/12512893.json') True\n",
      "on change JSONFile('/home/adam/FUMBBL/cibblbibbl-data/cibbl/achievement/pa_aerodynamicaim/00046409/12512893.json') True\n",
      "on change JSONFile('/home/adam/FUMBBL/cibblbibbl-data/cibbl/achievement/pa_meanscoringmachine/00044074/12030024.json') True\n",
      "on change JSONFile('/home/adam/FUMBBL/cibblbibbl-data/cibbl/achievement/pa_meanscoringmachine/00044074/12030024.json') True\n",
      "on change JSONFile('/home/adam/FUMBBL/cibblbibbl-data/cibbl/achievement/pa_meanscoringmachine/00045878/12469616.json') True\n",
      "on change JSONFile('/home/adam/FUMBBL/cibblbibbl-data/cibbl/achievement/pa_meanscoringmachine/00045878/12469616.json') True\n",
      "on change JSONFile('/home/adam/FUMBBL/cibblbibbl-data/cibbl/achievement/pa_triplex/00042428/11512469.json') True\n",
      "on change JSONFile('/home/adam/FUMBBL/cibblbibbl-data/cibbl/achievement/pa_triplex/00042428/11512469.json') True\n",
      "on change JSONFile('/home/adam/FUMBBL/cibblbibbl-data/cibbl/achievement/pa_triplex/00043152/11756335.json') True\n",
      "on change JSONFile('/home/adam/FUMBBL/cibblbibbl-data/cibbl/achievement/pa_triplex/00043152/11756335.json') True\n",
      "on change JSONFile('/home/adam/FUMBBL/cibblbibbl-data/cibbl/achievement/pa_triplex/00043561/11828950.json') True\n",
      "on change JSONFile('/home/adam/FUMBBL/cibblbibbl-data/cibbl/achievement/pa_triplex/00043561/11828950.json') True\n",
      "on change JSONFile('/home/adam/FUMBBL/cibblbibbl-data/cibbl/achievement/pa_triplex/00043565/11713837.json') True\n",
      "on change JSONFile('/home/adam/FUMBBL/cibblbibbl-data/cibbl/achievement/pa_triplex/00043565/11713837.json') True\n",
      "on change JSONFile('/home/adam/FUMBBL/cibblbibbl-data/cibbl/achievement/pa_triplex/00043565/11713837.json') True\n",
      "on change JSONFile('/home/adam/FUMBBL/cibblbibbl-data/cibbl/achievement/pa_triplex/00043567/11472247.json') True\n",
      "on change JSONFile('/home/adam/FUMBBL/cibblbibbl-data/cibbl/achievement/pa_triplex/00043567/11472247.json') True\n",
      "on change JSONFile('/home/adam/FUMBBL/cibblbibbl-data/cibbl/achievement/pa_triplex/00044751/11849917.json') True\n",
      "on change JSONFile('/home/adam/FUMBBL/cibblbibbl-data/cibbl/achievement/pa_triplex/00044751/11849917.json') True\n",
      "on change JSONFile('/home/adam/FUMBBL/cibblbibbl-data/cibbl/achievement/pa_triplex/00044753/11439814.json') True\n",
      "on change JSONFile('/home/adam/FUMBBL/cibblbibbl-data/cibbl/achievement/pa_triplex/00044753/11439814.json') True\n",
      "on change JSONFile('/home/adam/FUMBBL/cibblbibbl-data/cibbl/achievement/pa_triplex/00045883/12219671.json') True\n",
      "on change JSONFile('/home/adam/FUMBBL/cibblbibbl-data/cibbl/achievement/pa_triplex/00045883/12173155.json') True\n",
      "on change JSONFile('/home/adam/FUMBBL/cibblbibbl-data/cibbl/achievement/pa_triplex/00045883/12173155.json') True\n",
      "on change JSONFile('/home/adam/FUMBBL/cibblbibbl-data/cibbl/achievement/pa_triplex/00045883/12219671.json') True\n",
      "on change JSONFile('/home/adam/FUMBBL/cibblbibbl-data/cibbl/achievement/pa_triplex/00045885/12037796.json') True\n",
      "on change JSONFile('/home/adam/FUMBBL/cibblbibbl-data/cibbl/achievement/pa_triplex/00045885/12037796.json') True\n",
      "on change JSONFile('/home/adam/FUMBBL/cibblbibbl-data/cibbl/achievement/pa_triplex/00045886/11985438.json') True\n",
      "on change JSONFile('/home/adam/FUMBBL/cibblbibbl-data/cibbl/achievement/pa_triplex/00045886/12066502.json') True\n",
      "on change JSONFile('/home/adam/FUMBBL/cibblbibbl-data/cibbl/achievement/pa_triplex/00045886/11985438.json') True\n",
      "on change JSONFile('/home/adam/FUMBBL/cibblbibbl-data/cibbl/achievement/pa_triplex/00045886/11985438.json') True\n",
      "on change JSONFile('/home/adam/FUMBBL/cibblbibbl-data/cibbl/achievement/pa_triplex/00045886/12066502.json') True\n",
      "on change JSONFile('/home/adam/FUMBBL/cibblbibbl-data/cibbl/achievement/pa_triplex/00046405/11849916.json') True\n",
      "on change JSONFile('/home/adam/FUMBBL/cibblbibbl-data/cibbl/achievement/pa_triplex/00046405/11849916.json') True\n",
      "on change JSONFile('/home/adam/FUMBBL/cibblbibbl-data/cibbl/achievement/pa_triplex/00046407/11455997.json') True\n",
      "on change JSONFile('/home/adam/FUMBBL/cibblbibbl-data/cibbl/achievement/pa_triplex/00046407/11455997.json') True\n",
      "on change JSONFile('/home/adam/FUMBBL/cibblbibbl-data/cibbl/achievement/pa_triplex/00046408/11756582.json') True\n",
      "on change JSONFile('/home/adam/FUMBBL/cibblbibbl-data/cibbl/achievement/pa_triplex/00046408/11756582.json') True\n",
      "on change JSONFile('/home/adam/FUMBBL/cibblbibbl-data/cibbl/achievement/pa_triplex/00046710/11713837.json') True\n",
      "on change JSONFile('/home/adam/FUMBBL/cibblbibbl-data/cibbl/achievement/pa_triplex/00046710/11713837.json') True\n",
      "on change JSONFile('/home/adam/FUMBBL/cibblbibbl-data/cibbl/achievement/pa_targeteliminated/00044386/11439896.json') True\n",
      "on change JSONFile('/home/adam/FUMBBL/cibblbibbl-data/cibbl/achievement/pa_targeteliminated/00044386/11439896.json') True\n",
      "on change JSONFile('/home/adam/FUMBBL/cibblbibbl-data/cibbl/achievement/pa_targeteliminated/00044386/11439896.json') True\n",
      "on change JSONFile('/home/adam/FUMBBL/cibblbibbl-data/cibbl/achievement/pa_targeteliminated/00044386/11439896.json') True\n",
      "on change JSONFile('/home/adam/FUMBBL/cibblbibbl-data/cibbl/achievement/pa_targeteliminated/00044386/11439896.json') True\n",
      "on change JSONFile('/home/adam/FUMBBL/cibblbibbl-data/cibbl/achievement/pa_targeteliminated/00044386/11439896.json') True\n",
      "on change JSONFile('/home/adam/FUMBBL/cibblbibbl-data/cibbl/achievement/pa_targeteliminated/00044386/11439896.json') True\n",
      "on change JSONFile('/home/adam/FUMBBL/cibblbibbl-data/cibbl/achievement/pa_targeteliminated/00044386/11439896.json') True\n",
      "on change JSONFile('/home/adam/FUMBBL/cibblbibbl-data/cibbl/achievement/pa_targeteliminated/00044386/11439896.json') True\n",
      "on change JSONFile('/home/adam/FUMBBL/cibblbibbl-data/cibbl/achievement/pa_targeteliminated/00044386/11439896.json') True\n",
      "on change JSONFile('/home/adam/FUMBBL/cibblbibbl-data/cibbl/achievement/pa_targeteliminated/00044749/11938010.json') True\n",
      "on change JSONFile('/home/adam/FUMBBL/cibblbibbl-data/cibbl/achievement/pa_targeteliminated/00044749/11938010.json') True\n",
      "on change JSONFile('/home/adam/FUMBBL/cibblbibbl-data/cibbl/achievement/pa_targeteliminated/00044749/11938010.json') True\n",
      "on change JSONFile('/home/adam/FUMBBL/cibblbibbl-data/cibbl/achievement/pa_targeteliminated/00044749/11938010.json') True\n",
      "on change JSONFile('/home/adam/FUMBBL/cibblbibbl-data/cibbl/achievement/pa_targeteliminated/00044749/11938010.json') True\n",
      "on change JSONFile('/home/adam/FUMBBL/cibblbibbl-data/cibbl/achievement/pa_targeteliminated/00044749/11938010.json') True\n",
      "on change JSONFile('/home/adam/FUMBBL/cibblbibbl-data/cibbl/achievement/pa_targeteliminated/00044749/11938010.json') True\n",
      "on change JSONFile('/home/adam/FUMBBL/cibblbibbl-data/cibbl/achievement/pa_targeteliminated/00044749/11938010.json') True\n",
      "on change JSONFile('/home/adam/FUMBBL/cibblbibbl-data/cibbl/achievement/pa_targeteliminated/00044749/11938010.json') True\n",
      "on change JSONFile('/home/adam/FUMBBL/cibblbibbl-data/cibbl/achievement/pa_targeteliminated/00044749/11938010.json') True\n",
      "on change JSONFile('/home/adam/FUMBBL/cibblbibbl-data/cibbl/achievement/pa_targeteliminated/00045568/12350238.json') True\n",
      "on change JSONFile('/home/adam/FUMBBL/cibblbibbl-data/cibbl/achievement/pa_targeteliminated/00045568/12350238.json') True\n",
      "on change JSONFile('/home/adam/FUMBBL/cibblbibbl-data/cibbl/achievement/pa_targeteliminated/00045568/12350238.json') True\n",
      "on change JSONFile('/home/adam/FUMBBL/cibblbibbl-data/cibbl/achievement/pa_targeteliminated/00045568/12350238.json') True\n",
      "on change JSONFile('/home/adam/FUMBBL/cibblbibbl-data/cibbl/achievement/pa_targeteliminated/00045568/12350238.json') True\n",
      "on change JSONFile('/home/adam/FUMBBL/cibblbibbl-data/cibbl/achievement/pa_targeteliminated/00045568/12350238.json') True\n",
      "on change JSONFile('/home/adam/FUMBBL/cibblbibbl-data/cibbl/achievement/pa_targeteliminated/00045568/12350238.json') True\n",
      "on change JSONFile('/home/adam/FUMBBL/cibblbibbl-data/cibbl/achievement/pa_targeteliminated/00045568/12350238.json') True\n",
      "on change JSONFile('/home/adam/FUMBBL/cibblbibbl-data/cibbl/achievement/pa_targeteliminated/00045568/12350238.json') True\n",
      "on change JSONFile('/home/adam/FUMBBL/cibblbibbl-data/cibbl/achievement/pa_targeteliminated/00045568/12350238.json') True\n"
     ]
    },
    {
     "name": "stdout",
     "output_type": "stream",
     "text": [
      "on change JSONFile('/home/adam/FUMBBL/cibblbibbl-data/cibbl/achievement/pa_targeteliminated/00045887/12268224.json') True\n",
      "on change JSONFile('/home/adam/FUMBBL/cibblbibbl-data/cibbl/achievement/pa_targeteliminated/00045887/12268224.json') True\n",
      "on change JSONFile('/home/adam/FUMBBL/cibblbibbl-data/cibbl/achievement/pa_targeteliminated/00045887/12268224.json') True\n",
      "on change JSONFile('/home/adam/FUMBBL/cibblbibbl-data/cibbl/achievement/pa_targeteliminated/00045887/12268224.json') True\n",
      "on change JSONFile('/home/adam/FUMBBL/cibblbibbl-data/cibbl/achievement/pa_targeteliminated/00045887/12268224.json') True\n",
      "on change JSONFile('/home/adam/FUMBBL/cibblbibbl-data/cibbl/achievement/pa_targeteliminated/00045887/12268224.json') True\n",
      "on change JSONFile('/home/adam/FUMBBL/cibblbibbl-data/cibbl/achievement/pa_targeteliminated/00045887/12268224.json') True\n",
      "on change JSONFile('/home/adam/FUMBBL/cibblbibbl-data/cibbl/achievement/pa_targeteliminated/00045887/12268224.json') True\n",
      "on change JSONFile('/home/adam/FUMBBL/cibblbibbl-data/cibbl/achievement/pa_targeteliminated/00046709/12473316.json') True\n",
      "on change JSONFile('/home/adam/FUMBBL/cibblbibbl-data/cibbl/achievement/pa_targeteliminated/00046709/12473316.json') True\n",
      "on change JSONFile('/home/adam/FUMBBL/cibblbibbl-data/cibbl/achievement/pa_targeteliminated/00046709/12473316.json') True\n",
      "on change JSONFile('/home/adam/FUMBBL/cibblbibbl-data/cibbl/achievement/pa_targeteliminated/00046709/12473316.json') True\n",
      "on change JSONFile('/home/adam/FUMBBL/cibblbibbl-data/cibbl/achievement/pa_targeteliminated/00046709/12473316.json') True\n",
      "on change JSONFile('/home/adam/FUMBBL/cibblbibbl-data/cibbl/achievement/pa_targeteliminated/00046709/12473316.json') True\n"
     ]
    }
   ],
   "source": [
    "import collections\n",
    "import copy\n",
    "import datetime\n",
    "import itertools\n",
    "\n",
    "import json\n",
    "import pathlib\n",
    "import re\n",
    "from pprint import pprint\n",
    "\n",
    "import nest_asyncio\n",
    "nest_asyncio.apply()\n",
    "import texttable\n",
    "\n",
    "import pytourney\n",
    "import pyfumbbl\n",
    "import cibblbibbl"
   ]
  },
  {
   "cell_type": "code",
   "execution_count": 2,
   "metadata": {},
   "outputs": [],
   "source": [
    "G = cibblbibbl.CIBBL\n",
    "Achievement = cibblbibbl.achievement.Achievement\n",
    "Team = cibblbibbl.team.Team\n",
    "player = cibblbibbl.player.player\n",
    "Match = cibblbibbl.match.Match\n",
    "Matchup = cibblbibbl.matchup.Matchup\n",
    "Replay = cibblbibbl.replay.Replay"
   ]
  },
  {
   "cell_type": "code",
   "execution_count": 3,
   "metadata": {},
   "outputs": [],
   "source": [
    "T = self = G.tournaments[\"45575\"]"
   ]
  },
  {
   "cell_type": "code",
   "execution_count": 4,
   "metadata": {},
   "outputs": [
    {
     "data": {
      "text/plain": [
       "{Team(903654): [10, 50],\n",
       " Team(898574): [10, 10],\n",
       " Team(905606): [10, 25],\n",
       " Team(906259): [10, 25],\n",
       " Team(908615): [10, 10],\n",
       " Team(907246): [0, 0],\n",
       " Team(907959): [30, 45],\n",
       " Team(900708): [10, 10]}"
      ]
     },
     "execution_count": 4,
     "metadata": {},
     "output_type": "execute_result"
    }
   ],
   "source": [
    "T.playerachievementvalues()"
   ]
  },
  {
   "cell_type": "code",
   "execution_count": 5,
   "metadata": {},
   "outputs": [
    {
     "name": "stdout",
     "output_type": "stream",
     "text": [
      "Tournament('cibbl', '41656')\n",
      "Tournament('cibbl', '41738')\n",
      "Tournament('cibbl', '41739')\n",
      "Tournament('cibbl', '41740')\n",
      "Tournament('cibbl', '41741')\n",
      "Tournament('cibbl', '41892')\n",
      "Tournament('cibbl', '42038')\n",
      "Tournament('cibbl', '42040')\n",
      "Tournament('cibbl', '42041')\n",
      "Tournament('cibbl', '42172')\n",
      "Tournament('cibbl', '42239')\n",
      "Tournament('cibbl', '42425')\n",
      "Tournament('cibbl', '42426')\n",
      "Tournament('cibbl', '42427')\n",
      "Tournament('cibbl', '42428')\n",
      "Tournament('cibbl', '42529')\n",
      "Tournament('cibbl', '42660')\n",
      "Tournament('cibbl', '42748')\n",
      "Tournament('cibbl', '42804')\n",
      "Tournament('cibbl', '42805')\n",
      "Tournament('cibbl', '42806')\n",
      "Tournament('cibbl', '42882')\n",
      "Tournament('cibbl', '42883')\n",
      "Tournament('cibbl', '42884')\n",
      "Tournament('cibbl', '42885')\n",
      "Tournament('cibbl', '42886')\n",
      "Tournament('cibbl', '42887')\n",
      "Tournament('cibbl', '42888')\n",
      "Tournament('cibbl', '42889')\n",
      "Tournament('cibbl', '42890')\n",
      "Tournament('cibbl', '42891')\n",
      "Tournament('cibbl', '42892')\n",
      "Tournament('cibbl', '42893')\n",
      "Tournament('cibbl', '43089')\n",
      "Tournament('cibbl', '43149')\n",
      "Tournament('cibbl', '43150')\n",
      "Tournament('cibbl', '43151')\n",
      "Tournament('cibbl', '43152')\n",
      "Tournament('cibbl', '43153')\n",
      "Tournament('cibbl', '43154')\n",
      "Tournament('cibbl', '43560')\n",
      "Tournament('cibbl', '43561')\n",
      "Tournament('cibbl', '43562')\n",
      "Tournament('cibbl', '43563')\n",
      "Tournament('cibbl', '43564')\n",
      "Tournament('cibbl', '43565')\n",
      "Tournament('cibbl', '43566')\n",
      "Tournament('cibbl', '43567')\n",
      "Tournament('cibbl', '43665')\n",
      "Tournament('cibbl', '43821')\n",
      "Tournament('cibbl', '43860')\n",
      "Tournament('cibbl', '43868')\n",
      "Tournament('cibbl', '43883')\n",
      "Tournament('cibbl', '43990')\n",
      "Tournament('cibbl', '43991')\n",
      "Tournament('cibbl', '43992')\n",
      "Tournament('cibbl', '44060')\n",
      "Tournament('cibbl', '44061')\n",
      "Tournament('cibbl', '44062')\n",
      "Tournament('cibbl', '44063')\n",
      "Tournament('cibbl', '44064')\n",
      "Tournament('cibbl', '44065')\n",
      "Tournament('cibbl', '44066')\n",
      "Tournament('cibbl', '44067')\n",
      "Tournament('cibbl', '44068')\n",
      "Tournament('cibbl', '44069')\n",
      "Tournament('cibbl', '44070')\n",
      "Tournament('cibbl', '44071')\n",
      "Tournament('cibbl', '44072')\n",
      "Tournament('cibbl', '44073')\n",
      "Tournament('cibbl', '44074')\n",
      "Tournament('cibbl', '44172')\n",
      "Tournament('cibbl', '44207')\n",
      "Tournament('cibbl', '44232')\n",
      "Tournament('cibbl', '44269')\n",
      "Tournament('cibbl', '44270')\n",
      "Tournament('cibbl', '44378')\n",
      "Tournament('cibbl', '44379')\n",
      "HighestR5QualifierTournament('cibbl', '44380')\n"
     ]
    },
    {
     "ename": "AttributeError",
     "evalue": "'NoneType' object has no attribute 'matchup'",
     "output_type": "error",
     "traceback": [
      "\u001b[0;31m---------------------------------------------------------------------------\u001b[0m",
      "\u001b[0;31mAttributeError\u001b[0m                            Traceback (most recent call last)",
      "\u001b[0;32m<ipython-input-5-0fc21188f0eb>\u001b[0m in \u001b[0;36m<module>\u001b[0;34m\u001b[0m\n\u001b[1;32m      1\u001b[0m \u001b[0;32mfor\u001b[0m \u001b[0mT\u001b[0m \u001b[0;32min\u001b[0m \u001b[0mG\u001b[0m\u001b[0;34m.\u001b[0m\u001b[0mtournaments\u001b[0m\u001b[0;34m.\u001b[0m\u001b[0mvalues\u001b[0m\u001b[0;34m(\u001b[0m\u001b[0;34m)\u001b[0m\u001b[0;34m:\u001b[0m\u001b[0;34m\u001b[0m\u001b[0;34m\u001b[0m\u001b[0m\n\u001b[1;32m      2\u001b[0m     \u001b[0mprint\u001b[0m\u001b[0;34m(\u001b[0m\u001b[0mT\u001b[0m\u001b[0;34m)\u001b[0m\u001b[0;34m\u001b[0m\u001b[0;34m\u001b[0m\u001b[0m\n\u001b[0;32m----> 3\u001b[0;31m     \u001b[0mT\u001b[0m\u001b[0;34m.\u001b[0m\u001b[0mplayerachievementvalues\u001b[0m\u001b[0;34m(\u001b[0m\u001b[0;34m)\u001b[0m\u001b[0;34m\u001b[0m\u001b[0;34m\u001b[0m\u001b[0m\n\u001b[0m",
      "\u001b[0;32m/usr/lib/python3.7/site-packages/cibblbibbl/tournament/handler/default.py\u001b[0m in \u001b[0;36mplayerachievementvalues\u001b[0;34m(self)\u001b[0m\n\u001b[1;32m    441\u001b[0m     \u001b[0md\u001b[0m \u001b[0;34m=\u001b[0m \u001b[0;34m{\u001b[0m\u001b[0;34m}\u001b[0m\u001b[0;34m\u001b[0m\u001b[0;34m\u001b[0m\u001b[0m\n\u001b[1;32m    442\u001b[0m     \u001b[0mseason\u001b[0m \u001b[0;34m=\u001b[0m \u001b[0mself\u001b[0m\u001b[0;34m.\u001b[0m\u001b[0mseason\u001b[0m\u001b[0;34m\u001b[0m\u001b[0;34m\u001b[0m\u001b[0m\n\u001b[0;32m--> 443\u001b[0;31m     \u001b[0;32mfor\u001b[0m \u001b[0mTe\u001b[0m\u001b[0;34m,\u001b[0m \u001b[0mfirstlastAs\u001b[0m \u001b[0;32min\u001b[0m \u001b[0mself\u001b[0m\u001b[0;34m.\u001b[0m\u001b[0mplayerachievements\u001b[0m\u001b[0;34m(\u001b[0m\u001b[0;34m)\u001b[0m\u001b[0;34m.\u001b[0m\u001b[0mitems\u001b[0m\u001b[0;34m(\u001b[0m\u001b[0;34m)\u001b[0m\u001b[0;34m:\u001b[0m\u001b[0;34m\u001b[0m\u001b[0;34m\u001b[0m\u001b[0m\n\u001b[0m\u001b[1;32m    444\u001b[0m         prestiges = [\n\u001b[1;32m    445\u001b[0m             \u001b[0;34m(\u001b[0m\u001b[0msum\u001b[0m\u001b[0;34m(\u001b[0m\u001b[0mA\u001b[0m\u001b[0;34m.\u001b[0m\u001b[0mprestige\u001b[0m\u001b[0;34m(\u001b[0m\u001b[0mseason\u001b[0m\u001b[0;34m)\u001b[0m \u001b[0;32mfor\u001b[0m \u001b[0mA\u001b[0m \u001b[0;32min\u001b[0m \u001b[0mAs\u001b[0m\u001b[0;34m)\u001b[0m \u001b[0;32mif\u001b[0m \u001b[0mAs\u001b[0m \u001b[0;32melse\u001b[0m \u001b[0;36m0\u001b[0m\u001b[0;34m)\u001b[0m\u001b[0;34m\u001b[0m\u001b[0;34m\u001b[0m\u001b[0m\n",
      "\u001b[0;32m/usr/lib/python3.7/site-packages/cibblbibbl/tournament/handler/default.py\u001b[0m in \u001b[0;36mplayerachievements\u001b[0;34m(self)\u001b[0m\n\u001b[1;32m    403\u001b[0m     \u001b[0;32mfor\u001b[0m \u001b[0mTe\u001b[0m\u001b[0;34m,\u001b[0m \u001b[0mlastMa\u001b[0m \u001b[0;32min\u001b[0m \u001b[0mlastteammatches\u001b[0m\u001b[0;34m.\u001b[0m\u001b[0mitems\u001b[0m\u001b[0;34m(\u001b[0m\u001b[0;34m)\u001b[0m\u001b[0;34m:\u001b[0m\u001b[0;34m\u001b[0m\u001b[0;34m\u001b[0m\u001b[0m\n\u001b[1;32m    404\u001b[0m         \u001b[0mfirstMa\u001b[0m \u001b[0;34m=\u001b[0m \u001b[0mfirstteammatches\u001b[0m\u001b[0;34m[\u001b[0m\u001b[0mTe\u001b[0m\u001b[0;34m]\u001b[0m\u001b[0;34m\u001b[0m\u001b[0;34m\u001b[0m\u001b[0m\n\u001b[0;32m--> 405\u001b[0;31m         \u001b[0mMu\u001b[0m \u001b[0;34m=\u001b[0m \u001b[0mfirstMa\u001b[0m\u001b[0;34m.\u001b[0m\u001b[0mmatchup\u001b[0m\u001b[0;34m\u001b[0m\u001b[0;34m\u001b[0m\u001b[0m\n\u001b[0m\u001b[1;32m    406\u001b[0m         \u001b[0mpreMa\u001b[0m \u001b[0;34m=\u001b[0m \u001b[0;32mNone\u001b[0m\u001b[0;34m\u001b[0m\u001b[0;34m\u001b[0m\u001b[0m\n\u001b[1;32m    407\u001b[0m         \u001b[0;32mwhile\u001b[0m \u001b[0;32mnot\u001b[0m \u001b[0mpreMa\u001b[0m\u001b[0;34m:\u001b[0m\u001b[0;34m\u001b[0m\u001b[0;34m\u001b[0m\u001b[0m\n",
      "\u001b[0;31mAttributeError\u001b[0m: 'NoneType' object has no attribute 'matchup'"
     ]
    }
   ],
   "source": [
    "for T in G.tournaments.values():\n",
    "    print(T)\n",
    "    T.playerachievementvalues()"
   ]
  },
  {
   "cell_type": "code",
   "execution_count": 6,
   "metadata": {},
   "outputs": [
    {
     "data": {
      "text/plain": [
       "{Team(874317): Match(3960801),\n",
       " Team(869156): Match(3963959),\n",
       " Team(867030): Match(3960801),\n",
       " Team(872475): Match(3963959),\n",
       " Team(865063): None}"
      ]
     },
     "execution_count": 6,
     "metadata": {},
     "output_type": "execute_result"
    }
   ],
   "source": [
    "T.firstteammatches()"
   ]
  },
  {
   "cell_type": "code",
   "execution_count": 7,
   "metadata": {},
   "outputs": [
    {
     "data": {
      "text/plain": [
       "{Team(874317): Match(3967647),\n",
       " Team(869156): Match(3967647),\n",
       " Team(867030): Match(3968654),\n",
       " Team(872475): Match(3968654),\n",
       " Team(865063): None}"
      ]
     },
     "execution_count": 7,
     "metadata": {},
     "output_type": "execute_result"
    }
   ],
   "source": [
    "T.lastteammatches()"
   ]
  },
  {
   "cell_type": "code",
   "execution_count": null,
   "metadata": {},
   "outputs": [],
   "source": [
    "d = {}\n",
    "lastteammatches = self.lastteammatches()\n",
    "firstteammatches = self.firstteammatches()\n",
    "for Te, lastMa in lastteammatches.items():\n",
    "    firstMa = firstteammatches[Te]\n",
    "    Mu = firstMa.matchup\n",
    "    preMa = None\n",
    "    while not preMa:\n",
    "        Mu = Mu.teamprevmatchup(Te)\n",
    "        preMa = Mu.match\n",
    "    with preMa.replay as Re:\n",
    "        prePls0 = {Pl for Pl in Re.aliveplayers[Te] if Pl.permanent}\n",
    "        prePls = set(filter(lambda Pl: Pl.permanent, Re.aliveplayers[Te]))\n",
    "        assert prePls0 == prePls\n",
    "    with firstMa.replay as Re:\n",
    "        firstPls = {Pl for Pl in Re.players[Te] if Pl.permanent}\n",
    "    with lastMa.replay as Re:\n",
    "        lastPls = {Pl for Pl in Re.aliveplayers[Te] if Pl.permanent}\n",
    "    firstAs = {\n",
    "        A\n",
    "        for Pl in prePls | firstPls\n",
    "        for A in Pl.achievements\n",
    "        if A.tournament < self\n",
    "    }\n",
    "    lastAs = {\n",
    "        A\n",
    "        for Pl in lastPls\n",
    "        for A in Pl.achievements\n",
    "        if A.tournament <= self\n",
    "    }\n",
    "    d[Te] = [firstAs, lastAs]"
   ]
  },
  {
   "cell_type": "code",
   "execution_count": 13,
   "metadata": {},
   "outputs": [
    {
     "data": {
      "text/plain": [
       "{Team(903654): [{PA_BPR_Sylvania(Tournament('cibbl', '45240'), NormalPlayer('12219673'))},\n",
       "  {PA_BPR_Sylvania(Tournament('cibbl', '45240'), NormalPlayer('12219673')),\n",
       "   PA_BPS_Climax(Tournament('cibbl', '45575'), NormalPlayer('12219673')),\n",
       "   PA_BPS_Climax(Tournament('cibbl', '45575'), NormalPlayer('12367633')),\n",
       "   PA_StarPlayer(Tournament('cibbl', '45575'), NormalPlayer('12219671'))}],\n",
       " Team(898574): [{PA_BPA_Granite(Tournament('cibbl', '44746'), NormalPlayer('12140313'))},\n",
       "  {PA_BPA_Granite(Tournament('cibbl', '44746'), NormalPlayer('12140313'))}],\n",
       " Team(905606): [{PA_BPR_LandsOfTheDead(Tournament('cibbl', '45235'), NormalPlayer('12250183'))},\n",
       "  {PA_BPR_LandsOfTheDead(Tournament('cibbl', '45235'), NormalPlayer('12250183')),\n",
       "   PA_BPS_Climax(Tournament('cibbl', '45575'), NormalPlayer('12359397'))}],\n",
       " Team(906259): [{PA_TargetEliminated(Tournament('cibbl', '45233'), NormalPlayer('12266336'))},\n",
       "  {PA_BPS_Climax(Tournament('cibbl', '45575'), NormalPlayer('12271318')),\n",
       "   PA_TargetEliminated(Tournament('cibbl', '45233'), NormalPlayer('12266336'))}],\n",
       " Team(908615): [{PA_BPR_WorldEdgeMountains(Tournament('cibbl', '45242'), NormalPlayer('12296810'))},\n",
       "  {PA_BPR_WorldEdgeMountains(Tournament('cibbl', '45242'), NormalPlayer('12296810'))}],\n",
       " Team(907246): [set(), set()],\n",
       " Team(907959): [{PA_BPR_ChaosWastelands(Tournament('cibbl', '45195'), NormalPlayer('12285928')),\n",
       "   PA_BPR_ChaosWastelands(Tournament('cibbl', '45195'), NormalPlayer('12285959')),\n",
       "   PA_BPR_ChaosWastelands(Tournament('cibbl', '45195'), NormalPlayer('12285975'))},\n",
       "  {PA_BPR_ChaosWastelands(Tournament('cibbl', '45195'), NormalPlayer('12285928')),\n",
       "   PA_BPR_ChaosWastelands(Tournament('cibbl', '45195'), NormalPlayer('12285959')),\n",
       "   PA_BPR_ChaosWastelands(Tournament('cibbl', '45195'), NormalPlayer('12285975')),\n",
       "   PA_BPS_Climax(Tournament('cibbl', '45575'), NormalPlayer('12285975'))}],\n",
       " Team(900708): [{PA_BPR_EasternSteppes_MountainsOfMourn(Tournament('cibbl', '45218'), NormalPlayer('12172324'))},\n",
       "  {PA_BPR_EasternSteppes_MountainsOfMourn(Tournament('cibbl', '45218'), NormalPlayer('12172324'))}]}"
      ]
     },
     "execution_count": 13,
     "metadata": {},
     "output_type": "execute_result"
    }
   ],
   "source": [
    "d"
   ]
  },
  {
   "cell_type": "code",
   "execution_count": 15,
   "metadata": {},
   "outputs": [],
   "source": [
    "d1 = {}\n",
    "season = self.season\n",
    "for Te, firstlastAs in d.items():\n",
    "    prestiges = [\n",
    "        (sum(A.prestige(season) for A in As) if As else 0)\n",
    "        for As in firstlastAs\n",
    "    ]\n",
    "    d1[Te] = prestiges"
   ]
  },
  {
   "cell_type": "code",
   "execution_count": 16,
   "metadata": {},
   "outputs": [
    {
     "data": {
      "text/plain": [
       "{Team(903654): [10, 50],\n",
       " Team(898574): [10, 10],\n",
       " Team(905606): [10, 25],\n",
       " Team(906259): [10, 25],\n",
       " Team(908615): [10, 10],\n",
       " Team(907246): [0, 0],\n",
       " Team(907959): [30, 45],\n",
       " Team(900708): [10, 10]}"
      ]
     },
     "execution_count": 16,
     "metadata": {},
     "output_type": "execute_result"
    }
   ],
   "source": [
    "d1"
   ]
  },
  {
   "cell_type": "code",
   "execution_count": 19,
   "metadata": {},
   "outputs": [],
   "source": [
    "Te = Team(903654)\n",
    "firstMa = Match(4010804)\n",
    "lastMa = Match(4019624)\n",
    "season = lastMa.matchup.season"
   ]
  },
  {
   "cell_type": "code",
   "execution_count": 20,
   "metadata": {},
   "outputs": [],
   "source": [
    "Mu = firstMa.matchup\n",
    "preMa = None\n",
    "while not preMa:\n",
    "    Mu = Mu.teamprevmatchup(Te)\n",
    "    preMa = Mu.match"
   ]
  },
  {
   "cell_type": "code",
   "execution_count": 16,
   "metadata": {},
   "outputs": [
    {
     "data": {
      "text/plain": [
       "Matchup('cibbl', '45240', 5, 903654, 910344)"
      ]
     },
     "execution_count": 16,
     "metadata": {},
     "output_type": "execute_result"
    }
   ],
   "source": [
    "firstMa.matchup.teamprevmatchup(Te)"
   ]
  },
  {
   "cell_type": "code",
   "execution_count": 22,
   "metadata": {},
   "outputs": [
    {
     "name": "stdout",
     "output_type": "stream",
     "text": [
      "{'12219681', '12319538', '12367633', '12346893', '12318457', '12219683', '12219677', '12219676', '12227199', '12219673', '12219684', '12219678', '12219671'}\n",
      "{'12219676', '12227199', '12443530', '12219681', '12319538', '12219684', '12219678', '12219673', '12346893', '12318457', '12367633', '12219683', '12219671', '12219677'}\n"
     ]
    }
   ],
   "source": [
    "with preMa.replay as Re:\n",
    "    prePls = Re.aliveplayers[Te]\n",
    "with firstMa.replay as Re:\n",
    "    firstPls = Re.players[Te]\n",
    "with lastMa.replay as Re:\n",
    "    lastPls = Re.aliveplayers[Te]\n",
    "print(pre | first)\n",
    "print(last)"
   ]
  },
  {
   "cell_type": "code",
   "execution_count": 23,
   "metadata": {},
   "outputs": [
    {
     "data": {
      "text/plain": [
       "{NormalPlayer('12219671'),\n",
       " NormalPlayer('12219673'),\n",
       " NormalPlayer('12219676'),\n",
       " NormalPlayer('12219677'),\n",
       " NormalPlayer('12219678'),\n",
       " NormalPlayer('12219681'),\n",
       " NormalPlayer('12219683'),\n",
       " NormalPlayer('12219684'),\n",
       " NormalPlayer('12227199'),\n",
       " NormalPlayer('12318457'),\n",
       " NormalPlayer('12319538'),\n",
       " NormalPlayer('12346893'),\n",
       " NormalPlayer('12367633'),\n",
       " NormalPlayer('12443530')}"
      ]
     },
     "execution_count": 23,
     "metadata": {},
     "output_type": "execute_result"
    }
   ],
   "source": [
    "lastPlayers = {player(playerId) for playerId in last}\n",
    "lastPlayers"
   ]
  },
  {
   "cell_type": "code",
   "execution_count": 24,
   "metadata": {},
   "outputs": [
    {
     "data": {
      "text/plain": [
       "{PA_BPR_Sylvania(Tournament('cibbl', '45240'), NormalPlayer('12219673')),\n",
       " PA_BPS_Climax(Tournament('cibbl', '45575'), NormalPlayer('12219673')),\n",
       " PA_BPS_Climax(Tournament('cibbl', '45575'), NormalPlayer('12367633')),\n",
       " PA_StarPlayer(Tournament('cibbl', '45575'), NormalPlayer('12219671'))}"
      ]
     },
     "execution_count": 24,
     "metadata": {},
     "output_type": "execute_result"
    }
   ],
   "source": [
    "lastAs = {\n",
    "    A\n",
    "    for Pl in lastPlayers\n",
    "    for A in Pl.achievements\n",
    "    if A.tournament <= T\n",
    "}\n",
    "lastAs"
   ]
  },
  {
   "cell_type": "code",
   "execution_count": 25,
   "metadata": {},
   "outputs": [
    {
     "data": {
      "text/plain": [
       "Season('cibbl', 4, 3)"
      ]
     },
     "execution_count": 25,
     "metadata": {},
     "output_type": "execute_result"
    }
   ],
   "source": [
    "season"
   ]
  },
  {
   "cell_type": "code",
   "execution_count": 26,
   "metadata": {},
   "outputs": [
    {
     "data": {
      "text/plain": [
       "50"
      ]
     },
     "execution_count": 26,
     "metadata": {},
     "output_type": "execute_result"
    }
   ],
   "source": [
    "sum(A.prestige(season) for A in lastAs)"
   ]
  },
  {
   "cell_type": "code",
   "execution_count": 27,
   "metadata": {},
   "outputs": [
    {
     "name": "stdout",
     "output_type": "stream",
     "text": [
      "PA_BPR_Sylvania(Tournament('cibbl', '45240'), NormalPlayer('12219673')) 10 10\n",
      "PA_BPS_Climax(Tournament('cibbl', '45575'), NormalPlayer('12367633')) 15 15\n",
      "PA_BPS_Climax(Tournament('cibbl', '45575'), NormalPlayer('12219673')) 15 15\n",
      "PA_StarPlayer(Tournament('cibbl', '45575'), NormalPlayer('12219671')) 10 10\n"
     ]
    }
   ],
   "source": [
    "for A in lastAs:\n",
    "    print(A, A.baseprestige, A.prestige(season))"
   ]
  },
  {
   "cell_type": "code",
   "execution_count": 28,
   "metadata": {},
   "outputs": [],
   "source": [
    "firstPlayers = {player(playerId) for playerId in pre | first}"
   ]
  },
  {
   "cell_type": "code",
   "execution_count": 29,
   "metadata": {},
   "outputs": [
    {
     "data": {
      "text/plain": [
       "{PA_BPR_Sylvania(Tournament('cibbl', '45240'), NormalPlayer('12219673'))}"
      ]
     },
     "execution_count": 29,
     "metadata": {},
     "output_type": "execute_result"
    }
   ],
   "source": [
    "firstAs = {\n",
    "    A\n",
    "    for Pl in firstPlayers\n",
    "    for A in Pl.achievements\n",
    "    if A.tournament < T\n",
    "}\n",
    "firstAs"
   ]
  },
  {
   "cell_type": "code",
   "execution_count": 30,
   "metadata": {},
   "outputs": [
    {
     "data": {
      "text/plain": [
       "10"
      ]
     },
     "execution_count": 30,
     "metadata": {},
     "output_type": "execute_result"
    }
   ],
   "source": [
    "sum(A.prestige(season) for A in firstAs)"
   ]
  },
  {
   "cell_type": "code",
   "execution_count": 31,
   "metadata": {},
   "outputs": [
    {
     "name": "stdout",
     "output_type": "stream",
     "text": [
      "PA_BPR_Sylvania(Tournament('cibbl', '45240'), NormalPlayer('12219673')) 10 10\n"
     ]
    }
   ],
   "source": [
    "for A in firstAs:\n",
    "    print(A, A.baseprestige, A.prestige(season))"
   ]
  },
  {
   "cell_type": "code",
   "execution_count": null,
   "metadata": {},
   "outputs": [],
   "source": []
  }
 ],
 "metadata": {
  "kernelspec": {
   "display_name": "Python 3",
   "language": "python",
   "name": "python3"
  },
  "language_info": {
   "codemirror_mode": {
    "name": "ipython",
    "version": 3
   },
   "file_extension": ".py",
   "mimetype": "text/x-python",
   "name": "python",
   "nbconvert_exporter": "python",
   "pygments_lexer": "ipython3",
   "version": "3.7.4"
  }
 },
 "nbformat": 4,
 "nbformat_minor": 2
}
