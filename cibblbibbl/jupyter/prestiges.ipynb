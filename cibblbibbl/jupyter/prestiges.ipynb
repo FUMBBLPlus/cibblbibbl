{
 "cells": [
  {
   "cell_type": "code",
   "execution_count": 1,
   "metadata": {},
   "outputs": [],
   "source": [
    "import collections\n",
    "import copy\n",
    "import datetime\n",
    "import itertools\n",
    "\n",
    "import json\n",
    "import pathlib\n",
    "import re\n",
    "from pprint import pprint\n",
    "\n",
    "import nest_asyncio\n",
    "nest_asyncio.apply()\n",
    "import texttable\n",
    "\n",
    "import pytourney\n",
    "import pyfumbbl\n",
    "import cibblbibbl"
   ]
  },
  {
   "cell_type": "code",
   "execution_count": 2,
   "metadata": {},
   "outputs": [],
   "source": [
    "G = cibblbibbl.CIBBL\n",
    "Achievement = cibblbibbl.achievement.Achievement\n",
    "Team = cibblbibbl.team.Team\n",
    "player = cibblbibbl.player.player\n",
    "Match = cibblbibbl.match.Match\n",
    "Matchup = cibblbibbl.matchup.Matchup\n",
    "Replay = cibblbibbl.replay.Replay"
   ]
  },
  {
   "cell_type": "code",
   "execution_count": 3,
   "metadata": {},
   "outputs": [],
   "source": [
    "Ma = Match(4034853)"
   ]
  },
  {
   "cell_type": "code",
   "execution_count": 4,
   "metadata": {},
   "outputs": [],
   "source": [
    "Mu = Ma.matchup"
   ]
  },
  {
   "cell_type": "code",
   "execution_count": 5,
   "metadata": {},
   "outputs": [
    {
     "data": {
      "text/plain": [
       "['_KEY',\n",
       " '__class__',\n",
       " '__copy__',\n",
       " '__deepcopy__',\n",
       " '__delattr__',\n",
       " '__dict__',\n",
       " '__dir__',\n",
       " '__doc__',\n",
       " '__eq__',\n",
       " '__format__',\n",
       " '__ge__',\n",
       " '__getattribute__',\n",
       " '__gt__',\n",
       " '__hash__',\n",
       " '__init__',\n",
       " '__init_subclass__',\n",
       " '__le__',\n",
       " '__lt__',\n",
       " '__members__',\n",
       " '__module__',\n",
       " '__ne__',\n",
       " '__new__',\n",
       " '__reduce__',\n",
       " '__reduce_ex__',\n",
       " '__repr__',\n",
       " '__setattr__',\n",
       " '__sizeof__',\n",
       " '__str__',\n",
       " '__subclasshook__',\n",
       " '__weakref__',\n",
       " '_apischedulerecord',\n",
       " '_config',\n",
       " '_group_key',\n",
       " '_keys',\n",
       " '_teamlinked',\n",
       " '_tournamentId',\n",
       " 'abstract',\n",
       " 'apischedulerecord',\n",
       " 'calculate_config',\n",
       " 'config',\n",
       " 'configdir',\n",
       " 'configfilebasename',\n",
       " 'configfilename',\n",
       " 'configfilepath',\n",
       " 'configmaker',\n",
       " 'created',\n",
       " 'excluded',\n",
       " 'group',\n",
       " 'group_key',\n",
       " 'highlightedteam',\n",
       " 'iterdead',\n",
       " 'keys',\n",
       " 'locked',\n",
       " 'match',\n",
       " 'modified',\n",
       " 'performance',\n",
       " 'player_perf_keys',\n",
       " 'players',\n",
       " 'position',\n",
       " 'round_',\n",
       " 'schedulerecord',\n",
       " 'season',\n",
       " 'season_nr',\n",
       " 'team_of_player',\n",
       " 'teamnextmatchup',\n",
       " 'teamprevmatchup',\n",
       " 'teams',\n",
       " 'tournament',\n",
       " 'tournamentId',\n",
       " 'year',\n",
       " 'year_nr']"
      ]
     },
     "execution_count": 5,
     "metadata": {},
     "output_type": "execute_result"
    }
   ],
   "source": [
    "dir(Mu)"
   ]
  },
  {
   "cell_type": "code",
   "execution_count": 7,
   "metadata": {},
   "outputs": [
    {
     "data": {
      "text/plain": [
       "[('854257',\n",
       "  '12363947',\n",
       "  {'blocks': 3, 'dead': [2, 1, 'blocked', '12248744'], 'name': 'Grown From the Same Root', 'prespp': 7, 'turns': 9, 'type': 'R'}),\n",
       " ('882382',\n",
       "  '12138861',\n",
       "  {'dead': [1, 5, 'blocked', '11835792'], 'name': 'Gaudi', 'prespp': 47, 'turns': 4, 'type': 'I'})]"
      ]
     },
     "execution_count": 7,
     "metadata": {},
     "output_type": "execute_result"
    }
   ],
   "source": [
    "list(Mu.iterdead())"
   ]
  },
  {
   "cell_type": "code",
   "execution_count": 3,
   "metadata": {},
   "outputs": [],
   "source": [
    "Pl = player(\"12702407\")"
   ]
  },
  {
   "cell_type": "code",
   "execution_count": 4,
   "metadata": {},
   "outputs": [
    {
     "name": "stdout",
     "output_type": "stream",
     "text": [
      "[PA_BPR_Ulthuan_Naggaroth('pa_bpr_ulthuan_naggaroth', Tournament('cibbl', '44074'), NormalPlayer('12030024')), PA_SuperStarPlayer('pa_superstarplayer', Tournament('cibbl', '45241'), NormalPlayer('12030024')), PA_StarPlayer('pa_starplayer', Tournament('cibbl', '44750'), NormalPlayer('12030024')), PA_MeanScoringMachine('pa_meanscoringmachine', Tournament('cibbl', '44074'), NormalPlayer('12030024'))]\n",
      "[PA_MeanScoringMachine('pa_meanscoringmachine', Tournament('cibbl', '44074'), NormalPlayer('12702407')), PA_SuperStarPlayer('pa_superstarplayer', Tournament('cibbl', '45241'), NormalPlayer('12702407')), PA_StarPlayer('pa_starplayer', Tournament('cibbl', '44750'), NormalPlayer('12702407')), PA_BPR_Ulthuan_Naggaroth('pa_bpr_ulthuan_naggaroth', Tournament('cibbl', '44074'), NormalPlayer('12702407'))]\n"
     ]
    }
   ],
   "source": [
    "Lprev = list(Pl.prev.achievements)\n",
    "print(Lprev)\n",
    "Lthis = list(Pl.achievements)\n",
    "print(Lthis)"
   ]
  },
  {
   "cell_type": "code",
   "execution_count": 5,
   "metadata": {},
   "outputs": [
    {
     "data": {
      "text/plain": [
       "[PA_MeanScoringMachine('pa_meanscoringmachine', Tournament('cibbl', '44074'), NormalPlayer('12702407')),\n",
       " PA_SuperStarPlayer('pa_superstarplayer', Tournament('cibbl', '45241'), NormalPlayer('12702407')),\n",
       " PA_StarPlayer('pa_starplayer', Tournament('cibbl', '44750'), NormalPlayer('12702407')),\n",
       " PA_BPR_Ulthuan_Naggaroth('pa_bpr_ulthuan_naggaroth', Tournament('cibbl', '44074'), NormalPlayer('12702407'))]"
      ]
     },
     "execution_count": 5,
     "metadata": {},
     "output_type": "execute_result"
    }
   ],
   "source": [
    "Lthis"
   ]
  },
  {
   "cell_type": "code",
   "execution_count": 7,
   "metadata": {},
   "outputs": [
    {
     "data": {
      "text/plain": [
       "cibblbibbl.jsonfile.JSONFileObject"
      ]
     },
     "execution_count": 7,
     "metadata": {},
     "output_type": "execute_result"
    }
   ],
   "source": [
    "type(Lthis[1].config)"
   ]
  },
  {
   "cell_type": "code",
   "execution_count": 8,
   "metadata": {},
   "outputs": [],
   "source": [
    "T = self = G.tournaments[\"45575\"]"
   ]
  },
  {
   "cell_type": "code",
   "execution_count": 9,
   "metadata": {},
   "outputs": [],
   "source": [
    "T = self = G.tournaments[\"46687\"]"
   ]
  },
  {
   "cell_type": "code",
   "execution_count": 10,
   "metadata": {},
   "outputs": [
    {
     "data": {
      "text/plain": [
       "{Team(874966): 135,\n",
       " Team(874545): 70,\n",
       " Team(854678): 230,\n",
       " Team(878945): 220,\n",
       " Team(903654): 190,\n",
       " Team(908529): 30,\n",
       " Team(895929): 195,\n",
       " Team(871787): 295,\n",
       " Team(886114): 250,\n",
       " Team(889232): 105}"
      ]
     },
     "execution_count": 10,
     "metadata": {},
     "output_type": "execute_result"
    }
   ],
   "source": [
    "T.playerachievementvalues()"
   ]
  },
  {
   "cell_type": "code",
   "execution_count": 11,
   "metadata": {},
   "outputs": [],
   "source": [
    "Te = Team(903654)"
   ]
  },
  {
   "cell_type": "code",
   "execution_count": 12,
   "metadata": {
    "scrolled": false
   },
   "outputs": [
    {
     "name": "stdout",
     "output_type": "stream",
     "text": [
      "Team(874966) Tournament('cibbl', '46390') 110 Tournament('cibbl', '46687') 135\n",
      "Team(874545) Tournament('cibbl', '46404') 70 Tournament('cibbl', '46687') 70\n",
      "Team(854678) Tournament('cibbl', '46391') 185 Tournament('cibbl', '46687') 230\n",
      "Team(878945) Tournament('cibbl', '46405') 230 Tournament('cibbl', '46687') 220\n",
      "Team(903654) Tournament('cibbl', '46408') 180 Tournament('cibbl', '46687') 190\n",
      "Team(908529) Tournament('cibbl', '46405') 20 Tournament('cibbl', '46687') 30\n",
      "Team(895929) Tournament('cibbl', '46406') 175 Tournament('cibbl', '46687') 195\n",
      "Team(871787) Tournament('cibbl', '46392') 270 Tournament('cibbl', '46687') 295\n",
      "Team(886114) Tournament('cibbl', '46409') 270 Tournament('cibbl', '46687') 250\n",
      "Team(889232) Tournament('cibbl', '46396') 100 Tournament('cibbl', '46687') 105\n"
     ]
    }
   ],
   "source": [
    "for Te, pts1 in T.playerachievementvalues().items():\n",
    "    T0 = Te.prev_tournament(T)\n",
    "    pts0 = T0.playerachievementvalues()[Te]\n",
    "    print(Te, T0, pts0, T, pts1)\n",
    "    \n",
    "    "
   ]
  },
  {
   "cell_type": "code",
   "execution_count": 13,
   "metadata": {},
   "outputs": [
    {
     "data": {
      "text/plain": [
       "{Team(874966): {PA_AerodynamicAim('pa_aerodynamicaim', Tournament('cibbl', '46390'), NormalPlayer('11967724')),\n",
       "  PA_BPR_AthelLoren('pa_bpr_athelloren', Tournament('cibbl', '44061'), NormalPlayer('11967724')),\n",
       "  PA_BPR_AthelLoren('pa_bpr_athelloren', Tournament('cibbl', '45193'), NormalPlayer('11764921')),\n",
       "  PA_BPR_AthelLoren('pa_bpr_athelloren', Tournament('cibbl', '45193'), NormalPlayer('11967724')),\n",
       "  PA_BPR_AthelLoren('pa_bpr_athelloren', Tournament('cibbl', '46390'), NormalPlayer('11967724')),\n",
       "  PA_BPR_AthelLoren('pa_bpr_athelloren', Tournament('cibbl', '46390'), NormalPlayer('12509928')),\n",
       "  PA_BPS_Climax('pa_bps_climax', Tournament('cibbl', '45569'), NormalPlayer('11967724')),\n",
       "  PA_BPS_Climax('pa_bps_climax', Tournament('cibbl', '46687'), NormalPlayer('11967724')),\n",
       "  PA_StarPlayer('pa_starplayer', HighestR5Tournament('cibbl', '44386'), NormalPlayer('11764921')),\n",
       "  PA_StarPlayer('pa_starplayer', Tournament('cibbl', '45887'), NormalPlayer('11967724')),\n",
       "  PA_SuperStarPlayer('pa_superstarplayer', Tournament('cibbl', '45569'), NormalPlayer('11764921')),\n",
       "  PA_SuperStarPlayer('pa_superstarplayer', Tournament('cibbl', '46687'), NormalPlayer('11967724'))},\n",
       " Team(874545): {PA_BPA_Gold('pa_bpa_gold', Tournament('cibbl', '45888'), NormalPlayer('12497911')),\n",
       "  PA_StarPlayer('pa_starplayer', Tournament('cibbl', '45236'), NormalPlayer('11758477')),\n",
       "  PA_SuperStarPlayer('pa_superstarplayer', Tournament('cibbl', '45888'), NormalPlayer('11758477')),\n",
       "  PA_TargetEliminated('pa_targeteliminated', Tournament('cibbl', '44750'), NormalPlayer('12143809')),\n",
       "  PA_TripleX('pa_triplex', Tournament('cibbl', '45236'), NormalPlayer('11758477')),\n",
       "  PA_TripleX('pa_triplex', Tournament('cibbl', '45888'), NormalPlayer('11758477')),\n",
       "  PA_TripleX('pa_triplex', Tournament('cibbl', '45888'), NormalPlayer('12224204'))},\n",
       " Team(854678): {PA_BPA_Bronze('pa_bpa_bronze', Tournament('cibbl', '44751'), NormalPlayer('11951210')),\n",
       "  PA_BPA_Silver('pa_bpa_silver', Tournament('cibbl', '45887'), NormalPlayer('11696956')),\n",
       "  PA_BPA_Silver('pa_bpa_silver', Tournament('cibbl', '45887'), NormalPlayer('11850585')),\n",
       "  PA_BPR_Cathay_Nippon('pa_bpr_cathay_nippon', Tournament('cibbl', '45194'), NormalPlayer('11696956')),\n",
       "  PA_BPR_Cathay_Nippon('pa_bpr_cathay_nippon', Tournament('cibbl', '45194'), NormalPlayer('11951210')),\n",
       "  PA_BPS_Climax('pa_bps_climax', Tournament('cibbl', '45570'), NormalPlayer('11951210')),\n",
       "  PA_BPS_Climax('pa_bps_climax', Tournament('cibbl', '46687'), NormalPlayer('11696956')),\n",
       "  PA_BPS_PC('pa_bps_pc', Tournament('cibbl', '42041'), NormalPlayer('11439624')),\n",
       "  PA_FameKiller('pa_famekiller', Tournament('cibbl', '45887'), NormalPlayer('11439628')),\n",
       "  PA_MeanScoringMachine('pa_meanscoringmachine', Tournament('cibbl', '42884'), NormalPlayer('11696956')),\n",
       "  PA_MegaStarPlayer('pa_megastarplayer', Tournament('cibbl', '45887'), NormalPlayer('11696956')),\n",
       "  PA_StarPlayer('pa_starplayer', Tournament('cibbl', '43566'), NormalPlayer('11696956')),\n",
       "  PA_StarPlayer('pa_starplayer', Tournament('cibbl', '44751'), NormalPlayer('11439628')),\n",
       "  PA_StarPlayer('pa_starplayer', Tournament('cibbl', '45570'), NormalPlayer('11951210')),\n",
       "  PA_StarPlayer('pa_starplayer', Tournament('cibbl', '45887'), NormalPlayer('11850585')),\n",
       "  PA_StarPlayer('pa_starplayer', Tournament('cibbl', '46391'), NormalPlayer('11934134')),\n",
       "  PA_StarPlayer('pa_starplayer', Tournament('cibbl', '46687'), NormalPlayer('12217971')),\n",
       "  PA_SuperStarPlayer('pa_superstarplayer', Tournament('cibbl', '44751'), NormalPlayer('11696956')),\n",
       "  PA_SuperStarPlayer('pa_superstarplayer', Tournament('cibbl', '45887'), NormalPlayer('11951210')),\n",
       "  PA_SuperStarPlayer('pa_superstarplayer', Tournament('cibbl', '46687'), NormalPlayer('11439628')),\n",
       "  PA_TargetEliminated('pa_targeteliminated', Tournament('cibbl', '44751'), NormalPlayer('11482377')),\n",
       "  PA_TargetEliminated('pa_targeteliminated', Tournament('cibbl', '46687'), NormalPlayer('12345916'))},\n",
       " Team(878945): {PA_BPA_Bronze('pa_bpa_bronze', Tournament('cibbl', '45886'), NormalPlayer('11825655')),\n",
       "  PA_BPA_Bronze('pa_bpa_bronze', Tournament('cibbl', '45886'), NormalPlayer('12066502')),\n",
       "  PA_BPA_Bronze('pa_bpa_bronze', Tournament('cibbl', '45886'), NormalPlayer('12262128')),\n",
       "  PA_BPR_RealmsOfChaos('pa_bpr_realmsofchaos', Tournament('cibbl', '44071'), NormalPlayer('11825655')),\n",
       "  PA_BPR_RealmsOfChaos('pa_bpr_realmsofchaos', Tournament('cibbl', '44071'), NormalPlayer('11994839')),\n",
       "  PA_BPR_RealmsOfChaos('pa_bpr_realmsofchaos', Tournament('cibbl', '45237'), NormalPlayer('11825655')),\n",
       "  PA_BPR_RealmsOfChaos('pa_bpr_realmsofchaos', Tournament('cibbl', '46405'), NormalPlayer('12066502')),\n",
       "  PA_BPS_LC('pa_bps_lc', Tournament('cibbl', '43149'), NormalPlayer('11825655')),\n",
       "  PA_BPS_VC('pa_bps_vc', Tournament('cibbl', '44383'), NormalPlayer('12066502')),\n",
       "  PA_Legend('pa_legend', Tournament('cibbl', '45886'), NormalPlayer('11825655')),\n",
       "  PA_MegaStarPlayer('pa_megastarplayer', Tournament('cibbl', '45237'), NormalPlayer('11825655')),\n",
       "  PA_MegaStarPlayer('pa_megastarplayer', Tournament('cibbl', '46405'), NormalPlayer('12066502')),\n",
       "  PA_StarPlayer('pa_starplayer', Tournament('cibbl', '43991'), NormalPlayer('11825655')),\n",
       "  PA_StarPlayer('pa_starplayer', Tournament('cibbl', '44750'), NormalPlayer('12066502')),\n",
       "  PA_StarPlayer('pa_starplayer', Tournament('cibbl', '45237'), NormalPlayer('11994839')),\n",
       "  PA_SuperStarPlayer('pa_superstarplayer', Tournament('cibbl', '44071'), NormalPlayer('11825655')),\n",
       "  PA_SuperStarPlayer('pa_superstarplayer', Tournament('cibbl', '45886'), NormalPlayer('11994839')),\n",
       "  PA_SuperStarPlayer('pa_superstarplayer', Tournament('cibbl', '45886'), NormalPlayer('12066502')),\n",
       "  PA_TripleX('pa_triplex', Tournament('cibbl', '43562'), NormalPlayer('11825655')),\n",
       "  PA_TripleX('pa_triplex', Tournament('cibbl', '45237'), NormalPlayer('11825655')),\n",
       "  PA_TripleX('pa_triplex', Tournament('cibbl', '45886'), NormalPlayer('12066502')),\n",
       "  PA_TripleX('pa_triplex', Tournament('cibbl', '46405'), NormalPlayer('12066502'))},\n",
       " Team(903654): {PA_BPA_Iron('pa_bpa_iron', Tournament('cibbl', '45883'), NormalPlayer('12219673')),\n",
       "  PA_BPA_Iron('pa_bpa_iron', Tournament('cibbl', '45883'), NormalPlayer('12227199')),\n",
       "  PA_BPR_Sylvania('pa_bpr_sylvania', Tournament('cibbl', '45240'), NormalPlayer('12219673')),\n",
       "  PA_BPR_Sylvania('pa_bpr_sylvania', Tournament('cibbl', '46408'), NormalPlayer('12219673')),\n",
       "  PA_BPR_Sylvania('pa_bpr_sylvania', Tournament('cibbl', '46408'), NormalPlayer('12219676')),\n",
       "  PA_BPR_Sylvania('pa_bpr_sylvania', Tournament('cibbl', '46408'), NormalPlayer('12227199')),\n",
       "  PA_BPS_Climax('pa_bps_climax', Tournament('cibbl', '45575'), NormalPlayer('12219673')),\n",
       "  PA_BPS_Climax('pa_bps_climax', Tournament('cibbl', '45575'), NormalPlayer('12367633')),\n",
       "  PA_MeanScoringMachine('pa_meanscoringmachine', Tournament('cibbl', '45883'), NormalPlayer('12227199')),\n",
       "  PA_MeanScoringMachine('pa_meanscoringmachine', Tournament('cibbl', '46408'), NormalPlayer('12219673')),\n",
       "  PA_MeanScoringMachine('pa_meanscoringmachine', Tournament('cibbl', '46408'), NormalPlayer('12227199')),\n",
       "  PA_MeanScoringMachine('pa_meanscoringmachine', Tournament('cibbl', '46687'), NormalPlayer('12227199')),\n",
       "  PA_StarPlayer('pa_starplayer', Tournament('cibbl', '45883'), NormalPlayer('12219673')),\n",
       "  PA_StarPlayer('pa_starplayer', Tournament('cibbl', '45883'), NormalPlayer('12227199')),\n",
       "  PA_StarPlayer('pa_starplayer', Tournament('cibbl', '46408'), NormalPlayer('12219676')),\n",
       "  PA_SuperStarPlayer('pa_superstarplayer', Tournament('cibbl', '46408'), NormalPlayer('12219673')),\n",
       "  PA_SuperStarPlayer('pa_superstarplayer', Tournament('cibbl', '46408'), NormalPlayer('12227199')),\n",
       "  PA_TripleX('pa_triplex', Tournament('cibbl', '46408'), NormalPlayer('12219676'))},\n",
       " Team(908529): {PA_BPA_Clay('pa_bpa_clay', Tournament('cibbl', '45880'), NormalPlayer('12404744')),\n",
       "  PA_StarPlayer('pa_starplayer', Tournament('cibbl', '46405'), NormalPlayer('12404744')),\n",
       "  PA_StarPlayer('pa_starplayer', Tournament('cibbl', '46687'), NormalPlayer('12295353'))},\n",
       " Team(895929): {PA_BPA_Bronze('pa_bpa_bronze', Tournament('cibbl', '45886'), NormalPlayer('12098257')),\n",
       "  PA_BPA_Granite('pa_bpa_granite', Tournament('cibbl', '44746'), NormalPlayer('12098257')),\n",
       "  PA_BPR_Skavenblight('pa_bpr_skavenblight', Tournament('cibbl', '45238'), NormalPlayer('12098297')),\n",
       "  PA_BPR_Skavenblight('pa_bpr_skavenblight', Tournament('cibbl', '46406'), NormalPlayer('12098257')),\n",
       "  PA_BPR_Skavenblight('pa_bpr_skavenblight', Tournament('cibbl', '46406'), NormalPlayer('12098297')),\n",
       "  PA_BPS_Climax('pa_bps_climax', Tournament('cibbl', '45573'), NormalPlayer('12098297')),\n",
       "  PA_Perfection('pa_perfection', Tournament('cibbl', '45886'), NormalPlayer('12098257')),\n",
       "  PA_StarPlayer('pa_starplayer', Tournament('cibbl', '45573'), NormalPlayer('12098297')),\n",
       "  PA_StarPlayer('pa_starplayer', Tournament('cibbl', '45886'), NormalPlayer('12098257')),\n",
       "  PA_StarPlayer('pa_starplayer', Tournament('cibbl', '46406'), NormalPlayer('12136367')),\n",
       "  PA_StarPlayer('pa_starplayer', Tournament('cibbl', '46687'), NormalPlayer('12098258')),\n",
       "  PA_StarPlayer('pa_starplayer', Tournament('cibbl', '46687'), NormalPlayer('12166472')),\n",
       "  PA_SuperStarPlayer('pa_superstarplayer', Tournament('cibbl', '45886'), NormalPlayer('12098297')),\n",
       "  PA_SuperStarPlayer('pa_superstarplayer', Tournament('cibbl', '46300'), NormalPlayer('12098257')),\n",
       "  PA_TargetEliminated('pa_targeteliminated', Tournament('cibbl', '46687'), NormalPlayer('12345051')),\n",
       "  PA_TripleX('pa_triplex', Tournament('cibbl', '45573'), NormalPlayer('12136367')),\n",
       "  PA_TripleX('pa_triplex', Tournament('cibbl', '45886'), NormalPlayer('12098258')),\n",
       "  PA_TripleX('pa_triplex', Tournament('cibbl', '46406'), NormalPlayer('12098257'))},\n",
       " Team(871787): {PA_BPA_Silver('pa_bpa_silver', Tournament('cibbl', '43566'), NormalPlayer('11814852')),\n",
       "  PA_BPR_ChaosWastelands('pa_bpr_chaoswastelands', Tournament('cibbl', '44063'), NormalPlayer('11709011')),\n",
       "  PA_BPR_ChaosWastelands('pa_bpr_chaoswastelands', Tournament('cibbl', '44063'), NormalPlayer('11814852')),\n",
       "  PA_BPR_ChaosWastelands('pa_bpr_chaoswastelands', Tournament('cibbl', '46392'), NormalPlayer('11709011')),\n",
       "  PA_BPR_ChaosWastelands('pa_bpr_chaoswastelands', Tournament('cibbl', '46392'), NormalPlayer('11814852')),\n",
       "  PA_BPR_ChaosWastelands('pa_bpr_chaoswastelands', Tournament('cibbl', '46392'), NormalPlayer('12615329')),\n",
       "  PA_BPR_Ulthuan_Naggaroth('pa_bpr_ulthuan_naggaroth', Tournament('cibbl', '44074'), NormalPlayer('12702407')),\n",
       "  PA_BPS_Climax('pa_bps_climax', Tournament('cibbl', '45572'), NormalPlayer('11709010')),\n",
       "  PA_BPS_Climax('pa_bps_climax', Tournament('cibbl', '45572'), NormalPlayer('11709011')),\n",
       "  PA_BPS_Climax('pa_bps_climax', Tournament('cibbl', '46687'), NormalPlayer('11814852')),\n",
       "  PA_BPS_SC('pa_bps_sc', HighestR5Tournament('cibbl', '44386'), NormalPlayer('11814852')),\n",
       "  PA_FameKiller('pa_famekiller', Tournament('cibbl', '46392'), NormalPlayer('11709010')),\n",
       "  PA_MeanScoringMachine('pa_meanscoringmachine', Tournament('cibbl', '44074'), NormalPlayer('12702407')),\n",
       "  PA_MegaStarPlayer('pa_megastarplayer', Tournament('cibbl', '45886'), NormalPlayer('11709011')),\n",
       "  PA_StarPlayer('pa_starplayer', Tournament('cibbl', '44063'), NormalPlayer('11709011')),\n",
       "  PA_StarPlayer('pa_starplayer', HighestR5Tournament('cibbl', '44386'), NormalPlayer('11814852')),\n",
       "  PA_StarPlayer('pa_starplayer', Tournament('cibbl', '44750'), NormalPlayer('12702407')),\n",
       "  PA_StarPlayer('pa_starplayer', Tournament('cibbl', '44751'), NormalPlayer('11709018')),\n",
       "  PA_StarPlayer('pa_starplayer', Tournament('cibbl', '46687'), NormalPlayer('12615329')),\n",
       "  PA_SuperStarPlayer('pa_superstarplayer', HighestR5Tournament('cibbl', '44386'), NormalPlayer('11709011')),\n",
       "  PA_SuperStarPlayer('pa_superstarplayer', Tournament('cibbl', '45241'), NormalPlayer('12702407')),\n",
       "  PA_SuperStarPlayer('pa_superstarplayer', Tournament('cibbl', '45572'), NormalPlayer('11814852')),\n",
       "  PA_TargetEliminated('pa_targeteliminated', Tournament('cibbl', '44748'), NormalPlayer('12423015')),\n",
       "  PA_TargetEliminated('pa_targeteliminated', Tournament('cibbl', '46392'), NormalPlayer('11709010')),\n",
       "  PA_TripleX('pa_triplex', Tournament('cibbl', '44063'), NormalPlayer('11814852')),\n",
       "  PA_TripleX('pa_triplex', HighestR5Tournament('cibbl', '44386'), NormalPlayer('11814852')),\n",
       "  PA_TripleX('pa_triplex', Tournament('cibbl', '45572'), NormalPlayer('11814852')),\n",
       "  PA_TripleX('pa_triplex', Tournament('cibbl', '46392'), NormalPlayer('11814852'))},\n",
       " Team(886114): {PA_BP_Youngbloods('pa_bp_youngbloods', Tournament('cibbl', '43665'), NormalPlayer('11939705')),\n",
       "  PA_BPA_Copper('pa_bpa_copper', Tournament('cibbl', '44750'), NormalPlayer('11939705')),\n",
       "  PA_BPA_Copper('pa_bpa_copper', Tournament('cibbl', '44750'), NormalPlayer('11956884')),\n",
       "  PA_BPA_Gold('pa_bpa_gold', Tournament('cibbl', '45888'), NormalPlayer('11939705')),\n",
       "  PA_BPA_Gold('pa_bpa_gold', Tournament('cibbl', '45888'), NormalPlayer('12340801')),\n",
       "  PA_BPR_Ulthuan_Naggaroth('pa_bpr_ulthuan_naggaroth', Tournament('cibbl', '44074'), NormalPlayer('11939705')),\n",
       "  PA_BPR_Ulthuan_Naggaroth('pa_bpr_ulthuan_naggaroth', Tournament('cibbl', '44074'), NormalPlayer('11956884')),\n",
       "  PA_BPR_Ulthuan_Naggaroth('pa_bpr_ulthuan_naggaroth', Tournament('cibbl', '45241'), NormalPlayer('11939715')),\n",
       "  PA_BPR_Ulthuan_Naggaroth('pa_bpr_ulthuan_naggaroth', Tournament('cibbl', '46409'), NormalPlayer('11939705')),\n",
       "  PA_BPR_Ulthuan_Naggaroth('pa_bpr_ulthuan_naggaroth', Tournament('cibbl', '46409'), NormalPlayer('12441430')),\n",
       "  PA_BPS_Climax('pa_bps_climax', Tournament('cibbl', '45568'), NormalPlayer('11939705')),\n",
       "  PA_BPS_Climax('pa_bps_climax', Tournament('cibbl', '45568'), NormalPlayer('11956884')),\n",
       "  PA_StarPlayer('pa_starplayer', Tournament('cibbl', '44750'), NormalPlayer('11956884')),\n",
       "  PA_StarPlayer('pa_starplayer', Tournament('cibbl', '45173'), NormalPlayer('11939705')),\n",
       "  PA_StarPlayer('pa_starplayer', Tournament('cibbl', '45241'), NormalPlayer('11939696')),\n",
       "  PA_StarPlayer('pa_starplayer', Tournament('cibbl', '45888'), NormalPlayer('11939715')),\n",
       "  PA_StarPlayer('pa_starplayer', Tournament('cibbl', '45888'), NormalPlayer('12340801')),\n",
       "  PA_SuperStarPlayer('pa_superstarplayer', Tournament('cibbl', '45888'), NormalPlayer('11939705')),\n",
       "  PA_SuperStarPlayer('pa_superstarplayer', Tournament('cibbl', '46409'), NormalPlayer('11956884')),\n",
       "  PA_SuperStarPlayer('pa_superstarplayer', Tournament('cibbl', '46687'), NormalPlayer('11939696')),\n",
       "  PA_TargetEliminated('pa_targeteliminated', Tournament('cibbl', '44750'), NormalPlayer('11956884')),\n",
       "  PA_TargetEliminated('pa_targeteliminated', Tournament('cibbl', '46687'), NormalPlayer('12692981')),\n",
       "  PA_TripleX('pa_triplex', Tournament('cibbl', '44750'), NormalPlayer('11939696')),\n",
       "  PA_TripleX('pa_triplex', Tournament('cibbl', '45888'), NormalPlayer('12340801'))},\n",
       " Team(889232): {PA_BewareSupremeKiller('pa_bewaresupremekiller', Tournament('cibbl', '45569'), NormalPlayer('11989952')),\n",
       "  PA_BP_Youngbloods('pa_bp_youngbloods', Tournament('cibbl', '43868'), NormalPlayer('11989980')),\n",
       "  PA_BPA_Tin('pa_bpa_tin', Tournament('cibbl', '45884'), NormalPlayer('12145447')),\n",
       "  PA_BPR_ElementalPlanes('pa_bpr_elementalplanes', Tournament('cibbl', '46396'), NormalPlayer('12145447')),\n",
       "  PA_BPR_ElementalPlanes('pa_bpr_elementalplanes', Tournament('cibbl', '46396'), NormalPlayer('12187033')),\n",
       "  PA_BPR_ElementalPlanes('pa_bpr_elementalplanes', Tournament('cibbl', '46396'), NormalPlayer('12279033')),\n",
       "  PA_BPS_Climax('pa_bps_climax', Tournament('cibbl', '46687'), NormalPlayer('12145447')),\n",
       "  PA_StarPlayer('pa_starplayer', Tournament('cibbl', '46687'), NormalPlayer('12145447')),\n",
       "  PA_TargetEliminated('pa_targeteliminated', Tournament('cibbl', '45569'), NormalPlayer('11989952')),\n",
       "  PA_TripleX('pa_triplex', Tournament('cibbl', '46396'), NormalPlayer('12145447'))}}"
      ]
     },
     "execution_count": 13,
     "metadata": {},
     "output_type": "execute_result"
    }
   ],
   "source": [
    "dPA = T.playerachievements()\n",
    "dPA"
   ]
  },
  {
   "cell_type": "code",
   "execution_count": 14,
   "metadata": {},
   "outputs": [
    {
     "data": {
      "text/plain": [
       "{PA_BPA_Silver('pa_bpa_silver', Tournament('cibbl', '43566'), NormalPlayer('11814852')),\n",
       " PA_BPR_ChaosWastelands('pa_bpr_chaoswastelands', Tournament('cibbl', '44063'), NormalPlayer('11709011')),\n",
       " PA_BPR_ChaosWastelands('pa_bpr_chaoswastelands', Tournament('cibbl', '44063'), NormalPlayer('11814852')),\n",
       " PA_BPR_ChaosWastelands('pa_bpr_chaoswastelands', Tournament('cibbl', '46392'), NormalPlayer('11709011')),\n",
       " PA_BPR_ChaosWastelands('pa_bpr_chaoswastelands', Tournament('cibbl', '46392'), NormalPlayer('11814852')),\n",
       " PA_BPR_ChaosWastelands('pa_bpr_chaoswastelands', Tournament('cibbl', '46392'), NormalPlayer('12615329')),\n",
       " PA_BPR_Ulthuan_Naggaroth('pa_bpr_ulthuan_naggaroth', Tournament('cibbl', '44074'), NormalPlayer('12702407')),\n",
       " PA_BPS_Climax('pa_bps_climax', Tournament('cibbl', '45572'), NormalPlayer('11709010')),\n",
       " PA_BPS_Climax('pa_bps_climax', Tournament('cibbl', '45572'), NormalPlayer('11709011')),\n",
       " PA_BPS_Climax('pa_bps_climax', Tournament('cibbl', '46687'), NormalPlayer('11814852')),\n",
       " PA_BPS_SC('pa_bps_sc', HighestR5Tournament('cibbl', '44386'), NormalPlayer('11814852')),\n",
       " PA_FameKiller('pa_famekiller', Tournament('cibbl', '46392'), NormalPlayer('11709010')),\n",
       " PA_MeanScoringMachine('pa_meanscoringmachine', Tournament('cibbl', '44074'), NormalPlayer('12702407')),\n",
       " PA_MegaStarPlayer('pa_megastarplayer', Tournament('cibbl', '45886'), NormalPlayer('11709011')),\n",
       " PA_StarPlayer('pa_starplayer', Tournament('cibbl', '44063'), NormalPlayer('11709011')),\n",
       " PA_StarPlayer('pa_starplayer', HighestR5Tournament('cibbl', '44386'), NormalPlayer('11814852')),\n",
       " PA_StarPlayer('pa_starplayer', Tournament('cibbl', '44750'), NormalPlayer('12702407')),\n",
       " PA_StarPlayer('pa_starplayer', Tournament('cibbl', '44751'), NormalPlayer('11709018')),\n",
       " PA_StarPlayer('pa_starplayer', Tournament('cibbl', '46687'), NormalPlayer('12615329')),\n",
       " PA_SuperStarPlayer('pa_superstarplayer', HighestR5Tournament('cibbl', '44386'), NormalPlayer('11709011')),\n",
       " PA_SuperStarPlayer('pa_superstarplayer', Tournament('cibbl', '45241'), NormalPlayer('12702407')),\n",
       " PA_SuperStarPlayer('pa_superstarplayer', Tournament('cibbl', '45572'), NormalPlayer('11814852')),\n",
       " PA_TargetEliminated('pa_targeteliminated', Tournament('cibbl', '44748'), NormalPlayer('12423015')),\n",
       " PA_TargetEliminated('pa_targeteliminated', Tournament('cibbl', '46392'), NormalPlayer('11709010')),\n",
       " PA_TripleX('pa_triplex', Tournament('cibbl', '44063'), NormalPlayer('11814852')),\n",
       " PA_TripleX('pa_triplex', HighestR5Tournament('cibbl', '44386'), NormalPlayer('11814852')),\n",
       " PA_TripleX('pa_triplex', Tournament('cibbl', '45572'), NormalPlayer('11814852')),\n",
       " PA_TripleX('pa_triplex', Tournament('cibbl', '46392'), NormalPlayer('11814852'))}"
      ]
     },
     "execution_count": 14,
     "metadata": {},
     "output_type": "execute_result"
    }
   ],
   "source": [
    "dPA[Team(871787)]"
   ]
  },
  {
   "cell_type": "code",
   "execution_count": 15,
   "metadata": {},
   "outputs": [
    {
     "name": "stdout",
     "output_type": "stream",
     "text": [
      "PA_BPR_ChaosWastelands('pa_bpr_chaoswastelands', Tournament('cibbl', '46392'), NormalPlayer('11709011')) 10 10\n",
      "PA_BPS_SC('pa_bps_sc', HighestR5Tournament('cibbl', '44386'), NormalPlayer('11814852')) 10 10\n",
      "PA_SuperStarPlayer('pa_superstarplayer', Tournament('cibbl', '45241'), NormalPlayer('12702407')) 10 10\n",
      "PA_StarPlayer('pa_starplayer', Tournament('cibbl', '44063'), NormalPlayer('11709011')) 10 10\n",
      "PA_BPS_Climax('pa_bps_climax', Tournament('cibbl', '46687'), NormalPlayer('11814852')) 15 15\n",
      "PA_StarPlayer('pa_starplayer', Tournament('cibbl', '46687'), NormalPlayer('12615329')) 10 10\n",
      "PA_BPR_ChaosWastelands('pa_bpr_chaoswastelands', Tournament('cibbl', '44063'), NormalPlayer('11709011')) 10 10\n",
      "PA_TripleX('pa_triplex', Tournament('cibbl', '45572'), NormalPlayer('11814852')) 10 10\n",
      "PA_SuperStarPlayer('pa_superstarplayer', HighestR5Tournament('cibbl', '44386'), NormalPlayer('11709011')) 10 10\n",
      "PA_TripleX('pa_triplex', HighestR5Tournament('cibbl', '44386'), NormalPlayer('11814852')) 10 10\n",
      "PA_MeanScoringMachine('pa_meanscoringmachine', Tournament('cibbl', '44074'), NormalPlayer('12702407')) 10 10\n",
      "PA_BPR_ChaosWastelands('pa_bpr_chaoswastelands', Tournament('cibbl', '46392'), NormalPlayer('12615329')) 10 10\n",
      "PA_TargetEliminated('pa_targeteliminated', Tournament('cibbl', '44748'), NormalPlayer('12423015')) 10 10\n",
      "PA_StarPlayer('pa_starplayer', HighestR5Tournament('cibbl', '44386'), NormalPlayer('11814852')) 10 10\n",
      "PA_TripleX('pa_triplex', Tournament('cibbl', '44063'), NormalPlayer('11814852')) 10 10\n",
      "PA_TargetEliminated('pa_targeteliminated', Tournament('cibbl', '46392'), NormalPlayer('11709010')) 10 10\n",
      "PA_StarPlayer('pa_starplayer', Tournament('cibbl', '44750'), NormalPlayer('12702407')) 10 10\n",
      "PA_BPR_ChaosWastelands('pa_bpr_chaoswastelands', Tournament('cibbl', '46392'), NormalPlayer('11814852')) 10 10\n",
      "PA_BPR_Ulthuan_Naggaroth('pa_bpr_ulthuan_naggaroth', Tournament('cibbl', '44074'), NormalPlayer('12702407')) 10 10\n",
      "PA_StarPlayer('pa_starplayer', Tournament('cibbl', '44751'), NormalPlayer('11709018')) 10 10\n",
      "PA_BPS_Climax('pa_bps_climax', Tournament('cibbl', '45572'), NormalPlayer('11709010')) 15 15\n",
      "PA_TripleX('pa_triplex', Tournament('cibbl', '46392'), NormalPlayer('11814852')) 10 10\n",
      "PA_MegaStarPlayer('pa_megastarplayer', Tournament('cibbl', '45886'), NormalPlayer('11709011')) 10 10\n",
      "PA_BPR_ChaosWastelands('pa_bpr_chaoswastelands', Tournament('cibbl', '44063'), NormalPlayer('11814852')) 10 10\n",
      "PA_BPA_Silver('pa_bpa_silver', Tournament('cibbl', '43566'), NormalPlayer('11814852')) 10 10\n",
      "PA_SuperStarPlayer('pa_superstarplayer', Tournament('cibbl', '45572'), NormalPlayer('11814852')) 10 10\n",
      "PA_FameKiller('pa_famekiller', Tournament('cibbl', '46392'), NormalPlayer('11709010')) 10 10\n",
      "PA_BPS_Climax('pa_bps_climax', Tournament('cibbl', '45572'), NormalPlayer('11709011')) 15 15\n"
     ]
    }
   ],
   "source": [
    "for A in dPA[Team(871787)]:\n",
    "    print(A, A.baseprestige, A.prestige(T.season))"
   ]
  },
  {
   "cell_type": "code",
   "execution_count": 16,
   "metadata": {},
   "outputs": [
    {
     "data": {
      "text/plain": [
       "250"
      ]
     },
     "execution_count": 16,
     "metadata": {},
     "output_type": "execute_result"
    }
   ],
   "source": [
    "sum(A.prestige(T.season) for A in dPA[Team(886114)])"
   ]
  },
  {
   "cell_type": "code",
   "execution_count": 17,
   "metadata": {},
   "outputs": [
    {
     "name": "stdout",
     "output_type": "stream",
     "text": [
      "Tournament('cibbl', '41656')\n",
      "Tournament('cibbl', '41738')\n",
      "Tournament('cibbl', '41739')\n",
      "Tournament('cibbl', '41740')\n",
      "Tournament('cibbl', '41741')\n",
      "Tournament('cibbl', '41892')\n",
      "Tournament('cibbl', '42038')\n",
      "Tournament('cibbl', '42040')\n",
      "Tournament('cibbl', '42041')\n",
      "Tournament('cibbl', '42172')\n",
      "Tournament('cibbl', '42239')\n",
      "Tournament('cibbl', '42425')\n",
      "Tournament('cibbl', '42426')\n",
      "Tournament('cibbl', '42427')\n",
      "Tournament('cibbl', '42428')\n",
      "Tournament('cibbl', '42529')\n",
      "Tournament('cibbl', '42660')\n",
      "Tournament('cibbl', '42748')\n",
      "Tournament('cibbl', '42804')\n",
      "Tournament('cibbl', '42805')\n",
      "Tournament('cibbl', '42806')\n",
      "Tournament('cibbl', '42882')\n",
      "Tournament('cibbl', '42883')\n",
      "Tournament('cibbl', '42884')\n",
      "Tournament('cibbl', '42885')\n",
      "Tournament('cibbl', '42886')\n",
      "Tournament('cibbl', '42887')\n",
      "Tournament('cibbl', '42888')\n",
      "Tournament('cibbl', '42889')\n",
      "Tournament('cibbl', '42890')\n",
      "Tournament('cibbl', '42891')\n",
      "Tournament('cibbl', '42892')\n",
      "Tournament('cibbl', '42893')\n",
      "Tournament('cibbl', '43089')\n",
      "Tournament('cibbl', '43149')\n",
      "Tournament('cibbl', '43150')\n",
      "Tournament('cibbl', '43151')\n",
      "Tournament('cibbl', '43152')\n",
      "Tournament('cibbl', '43153')\n",
      "Tournament('cibbl', '43154')\n",
      "Tournament('cibbl', '43560')\n",
      "Tournament('cibbl', '43561')\n",
      "Tournament('cibbl', '43562')\n",
      "Tournament('cibbl', '43563')\n",
      "Tournament('cibbl', '43564')\n",
      "Tournament('cibbl', '43565')\n",
      "Tournament('cibbl', '43566')\n",
      "Tournament('cibbl', '43567')\n",
      "Tournament('cibbl', '43665')\n",
      "Tournament('cibbl', '43821')\n",
      "Tournament('cibbl', '43860')\n",
      "Tournament('cibbl', '43868')\n",
      "Tournament('cibbl', '43883')\n",
      "Tournament('cibbl', '43990')\n",
      "Tournament('cibbl', '43991')\n",
      "Tournament('cibbl', '43992')\n",
      "Tournament('cibbl', '44060')\n",
      "Tournament('cibbl', '44061')\n",
      "Tournament('cibbl', '44062')\n",
      "Tournament('cibbl', '44063')\n",
      "Tournament('cibbl', '44064')\n",
      "Tournament('cibbl', '44065')\n",
      "Tournament('cibbl', '44066')\n",
      "Tournament('cibbl', '44067')\n",
      "Tournament('cibbl', '44068')\n",
      "Tournament('cibbl', '44069')\n",
      "Tournament('cibbl', '44070')\n",
      "Tournament('cibbl', '44071')\n",
      "Tournament('cibbl', '44072')\n",
      "Tournament('cibbl', '44073')\n",
      "Tournament('cibbl', '44074')\n",
      "Tournament('cibbl', '44172')\n",
      "Tournament('cibbl', '44207')\n",
      "Tournament('cibbl', '44232')\n",
      "Tournament('cibbl', '44269')\n",
      "Tournament('cibbl', '44270')\n",
      "Tournament('cibbl', '44378')\n",
      "Tournament('cibbl', '44379')\n",
      "HighestR5QualifierTournament('cibbl', '44380')\n",
      "HighestR5QualifierTournament('cibbl', '44381')\n",
      "HighestR5Tournament('cibbl', '44382')\n",
      "Tournament('cibbl', '44383')\n",
      "HighestR5QualifierTournament('cibbl', '44384')\n",
      "HighestR5QualifierTournament('cibbl', '44385')\n",
      "HighestR5Tournament('cibbl', '44386')\n",
      "Tournament('cibbl', '44387')\n",
      "Tournament('cibbl', '44388')\n",
      "Tournament('cibbl', '44389')\n",
      "Tournament('cibbl', '44390')\n",
      "Tournament('cibbl', '44462')\n",
      "Tournament('cibbl', '44560')\n",
      "Tournament('cibbl', '44743')\n",
      "Tournament('cibbl', '44744')\n",
      "Tournament('cibbl', '44745')\n",
      "Tournament('cibbl', '44746')\n",
      "Tournament('cibbl', '44747')\n",
      "Tournament('cibbl', '44748')\n",
      "Tournament('cibbl', '44749')\n",
      "Tournament('cibbl', '44750')\n",
      "Tournament('cibbl', '44751')\n",
      "Tournament('cibbl', '44752')\n",
      "Tournament('cibbl', '44753')\n",
      "Tournament('cibbl', '44910')\n",
      "Tournament('cibbl', '45173')\n",
      "Tournament('cibbl', '45174')\n",
      "Tournament('cibbl', '45175')\n",
      "Tournament('cibbl', '45192')\n",
      "Tournament('cibbl', '45193')\n",
      "Tournament('cibbl', '45194')\n",
      "Tournament('cibbl', '45195')\n",
      "Tournament('cibbl', '45218')\n",
      "Tournament('cibbl', '45219')\n",
      "Tournament('cibbl', '45220')\n",
      "Tournament('cibbl', '45221')\n",
      "Tournament('cibbl', '45232')\n",
      "Tournament('cibbl', '45233')\n",
      "Tournament('cibbl', '45234')\n",
      "Tournament('cibbl', '45235')\n",
      "Tournament('cibbl', '45236')\n",
      "Tournament('cibbl', '45237')\n",
      "Tournament('cibbl', '45238')\n",
      "Tournament('cibbl', '45239')\n",
      "Tournament('cibbl', '45240')\n",
      "Tournament('cibbl', '45241')\n",
      "Tournament('cibbl', '45242')\n",
      "Tournament('cibbl', '45568')\n",
      "Tournament('cibbl', '45569')\n",
      "Tournament('cibbl', '45570')\n",
      "Tournament('cibbl', '45571')\n",
      "Tournament('cibbl', '45572')\n",
      "Tournament('cibbl', '45573')\n",
      "Tournament('cibbl', '45574')\n",
      "Tournament('cibbl', '45575')\n",
      "Tournament('cibbl', '45577')\n",
      "Tournament('cibbl', '45586')\n",
      "Tournament('cibbl', '45662')\n",
      "Tournament('cibbl', '45878')\n",
      "Tournament('cibbl', '45879')\n",
      "Tournament('cibbl', '45880')\n",
      "Tournament('cibbl', '45881')\n",
      "Tournament('cibbl', '45882')\n",
      "Tournament('cibbl', '45883')\n",
      "Tournament('cibbl', '45884')\n",
      "Tournament('cibbl', '45885')\n",
      "Tournament('cibbl', '45886')\n",
      "Tournament('cibbl', '45887')\n",
      "Tournament('cibbl', '45888')\n",
      "Tournament('cibbl', '46022')\n",
      "Tournament('cibbl', '46047')\n",
      "Tournament('cibbl', '46299')\n",
      "Tournament('cibbl', '46300')\n",
      "Tournament('cibbl', '46301')\n",
      "Tournament('cibbl', '46389')\n",
      "Tournament('cibbl', '46390')\n",
      "Tournament('cibbl', '46391')\n",
      "Tournament('cibbl', '46392')\n",
      "Tournament('cibbl', '46393')\n",
      "Tournament('cibbl', '46394')\n",
      "Tournament('cibbl', '46395')\n",
      "Tournament('cibbl', '46396')\n",
      "Tournament('cibbl', '46397')\n",
      "Tournament('cibbl', '46398')\n",
      "Tournament('cibbl', '46399')\n",
      "Tournament('cibbl', '46400')\n",
      "Tournament('cibbl', '46401')\n",
      "Tournament('cibbl', '46402')\n",
      "Tournament('cibbl', '46403')\n",
      "Tournament('cibbl', '46404')\n",
      "Tournament('cibbl', '46405')\n",
      "Tournament('cibbl', '46406')\n",
      "Tournament('cibbl', '46407')\n",
      "Tournament('cibbl', '46408')\n",
      "Tournament('cibbl', '46409')\n",
      "Tournament('cibbl', '46410')\n",
      "Tournament('cibbl', '46411')\n",
      "Tournament('cibbl', '46505')\n",
      "Tournament('cibbl', '46687')\n",
      "Tournament('cibbl', '46688')\n",
      "Tournament('cibbl', '46705')\n",
      "Tournament('cibbl', '46706')\n",
      "Tournament('cibbl', '46707')\n",
      "Tournament('cibbl', '46708')\n",
      "Tournament('cibbl', '46709')\n",
      "Tournament('cibbl', '46710')\n",
      "Tournament('cibbl', '46711')\n",
      "Tournament('cibbl', '47062')\n",
      "CBETournament('cibbl', 'cbe01')\n"
     ]
    },
    {
     "ename": "AttributeError",
     "evalue": "'CBETournament' object has no attribute 'playerachievementvalues'",
     "output_type": "error",
     "traceback": [
      "\u001b[0;31m---------------------------------------------------------------------------\u001b[0m",
      "\u001b[0;31mAttributeError\u001b[0m                            Traceback (most recent call last)",
      "\u001b[0;32m<ipython-input-17-0fc21188f0eb>\u001b[0m in \u001b[0;36m<module>\u001b[0;34m\u001b[0m\n\u001b[1;32m      1\u001b[0m \u001b[0;32mfor\u001b[0m \u001b[0mT\u001b[0m \u001b[0;32min\u001b[0m \u001b[0mG\u001b[0m\u001b[0;34m.\u001b[0m\u001b[0mtournaments\u001b[0m\u001b[0;34m.\u001b[0m\u001b[0mvalues\u001b[0m\u001b[0;34m(\u001b[0m\u001b[0;34m)\u001b[0m\u001b[0;34m:\u001b[0m\u001b[0;34m\u001b[0m\u001b[0;34m\u001b[0m\u001b[0m\n\u001b[1;32m      2\u001b[0m     \u001b[0mprint\u001b[0m\u001b[0;34m(\u001b[0m\u001b[0mT\u001b[0m\u001b[0;34m)\u001b[0m\u001b[0;34m\u001b[0m\u001b[0;34m\u001b[0m\u001b[0m\n\u001b[0;32m----> 3\u001b[0;31m     \u001b[0mT\u001b[0m\u001b[0;34m.\u001b[0m\u001b[0mplayerachievementvalues\u001b[0m\u001b[0;34m(\u001b[0m\u001b[0;34m)\u001b[0m\u001b[0;34m\u001b[0m\u001b[0;34m\u001b[0m\u001b[0m\n\u001b[0m",
      "\u001b[0;31mAttributeError\u001b[0m: 'CBETournament' object has no attribute 'playerachievementvalues'"
     ]
    }
   ],
   "source": [
    "for T in G.tournaments.values():\n",
    "    print(T)\n",
    "    T.playerachievementvalues()"
   ]
  },
  {
   "cell_type": "code",
   "execution_count": 6,
   "metadata": {},
   "outputs": [
    {
     "data": {
      "text/plain": [
       "{Team(874317): Match(3960801),\n",
       " Team(869156): Match(3963959),\n",
       " Team(867030): Match(3960801),\n",
       " Team(872475): Match(3963959),\n",
       " Team(865063): None}"
      ]
     },
     "execution_count": 6,
     "metadata": {},
     "output_type": "execute_result"
    }
   ],
   "source": [
    "T.firstteammatches()"
   ]
  },
  {
   "cell_type": "code",
   "execution_count": 7,
   "metadata": {},
   "outputs": [
    {
     "data": {
      "text/plain": [
       "{Team(874317): Match(3967647),\n",
       " Team(869156): Match(3967647),\n",
       " Team(867030): Match(3968654),\n",
       " Team(872475): Match(3968654),\n",
       " Team(865063): None}"
      ]
     },
     "execution_count": 7,
     "metadata": {},
     "output_type": "execute_result"
    }
   ],
   "source": [
    "T.lastteammatches()"
   ]
  },
  {
   "cell_type": "code",
   "execution_count": 2,
   "metadata": {},
   "outputs": [
    {
     "ename": "NameError",
     "evalue": "name 'T' is not defined",
     "output_type": "error",
     "traceback": [
      "\u001b[0;31m---------------------------------------------------------------------------\u001b[0m",
      "\u001b[0;31mNameError\u001b[0m                                 Traceback (most recent call last)",
      "\u001b[0;32m<ipython-input-2-24e42b472c2c>\u001b[0m in \u001b[0;36m<module>\u001b[0;34m\u001b[0m\n\u001b[1;32m      1\u001b[0m {\n\u001b[1;32m      2\u001b[0m     \u001b[0mTe\u001b[0m\u001b[0;34m\u001b[0m\u001b[0;34m\u001b[0m\u001b[0m\n\u001b[0;32m----> 3\u001b[0;31m     \u001b[0;32mfor\u001b[0m \u001b[0mMu\u001b[0m \u001b[0;32min\u001b[0m \u001b[0mT\u001b[0m\u001b[0;34m.\u001b[0m\u001b[0mmatchups\u001b[0m\u001b[0;34m\u001b[0m\u001b[0;34m\u001b[0m\u001b[0m\n\u001b[0m\u001b[1;32m      4\u001b[0m     \u001b[0;32mfor\u001b[0m \u001b[0mTe\u001b[0m \u001b[0;32min\u001b[0m \u001b[0mMu\u001b[0m\u001b[0;34m.\u001b[0m\u001b[0mteams\u001b[0m\u001b[0;34m\u001b[0m\u001b[0;34m\u001b[0m\u001b[0m\n\u001b[1;32m      5\u001b[0m }\n",
      "\u001b[0;31mNameError\u001b[0m: name 'T' is not defined"
     ]
    }
   ],
   "source": [
    "{\n",
    "    Te\n",
    "    for Mu in T.matchups\n",
    "    for Te in Mu.teams\n",
    "}"
   ]
  },
  {
   "cell_type": "code",
   "execution_count": 10,
   "metadata": {},
   "outputs": [
    {
     "data": {
      "text/plain": [
       "[Tournament('cibbl', '41656'),\n",
       " Tournament('cibbl', '41738'),\n",
       " Tournament('cibbl', '41739'),\n",
       " Tournament('cibbl', '41740'),\n",
       " Tournament('cibbl', '41741'),\n",
       " Tournament('cibbl', '41892'),\n",
       " Tournament('cibbl', '42038'),\n",
       " Tournament('cibbl', '42040'),\n",
       " Tournament('cibbl', '42041'),\n",
       " Tournament('cibbl', '42172'),\n",
       " Tournament('cibbl', '42239'),\n",
       " Tournament('cibbl', '42425'),\n",
       " Tournament('cibbl', '42426'),\n",
       " Tournament('cibbl', '42427'),\n",
       " Tournament('cibbl', '42428'),\n",
       " Tournament('cibbl', '42529'),\n",
       " Tournament('cibbl', '42660'),\n",
       " Tournament('cibbl', '42748'),\n",
       " Tournament('cibbl', '42804'),\n",
       " Tournament('cibbl', '42805'),\n",
       " Tournament('cibbl', '42806'),\n",
       " Tournament('cibbl', '42882'),\n",
       " Tournament('cibbl', '42883'),\n",
       " Tournament('cibbl', '42884'),\n",
       " Tournament('cibbl', '42885'),\n",
       " Tournament('cibbl', '42886'),\n",
       " Tournament('cibbl', '42887'),\n",
       " Tournament('cibbl', '42888'),\n",
       " Tournament('cibbl', '42889'),\n",
       " Tournament('cibbl', '42890'),\n",
       " Tournament('cibbl', '42891'),\n",
       " Tournament('cibbl', '42892'),\n",
       " Tournament('cibbl', '42893'),\n",
       " Tournament('cibbl', '43089'),\n",
       " Tournament('cibbl', '43149'),\n",
       " Tournament('cibbl', '43150'),\n",
       " Tournament('cibbl', '43151'),\n",
       " Tournament('cibbl', '43152'),\n",
       " CBETournament('cibbl', 'cbe01'),\n",
       " Tournament('cibbl', '43153'),\n",
       " Tournament('cibbl', '43154'),\n",
       " Tournament('cibbl', '43560'),\n",
       " Tournament('cibbl', '43561'),\n",
       " Tournament('cibbl', '43562'),\n",
       " Tournament('cibbl', '43563'),\n",
       " Tournament('cibbl', '43564'),\n",
       " Tournament('cibbl', '43565'),\n",
       " Tournament('cibbl', '43566'),\n",
       " Tournament('cibbl', '43567'),\n",
       " Tournament('cibbl', '43665'),\n",
       " Tournament('cibbl', '43821'),\n",
       " Tournament('cibbl', '43860'),\n",
       " Tournament('cibbl', '43868'),\n",
       " Tournament('cibbl', '43883'),\n",
       " Tournament('cibbl', '43990'),\n",
       " Tournament('cibbl', '43991'),\n",
       " Tournament('cibbl', '43992'),\n",
       " Tournament('cibbl', '44060'),\n",
       " Tournament('cibbl', '44061'),\n",
       " Tournament('cibbl', '44062'),\n",
       " Tournament('cibbl', '44063'),\n",
       " Tournament('cibbl', '44064'),\n",
       " Tournament('cibbl', '44065'),\n",
       " Tournament('cibbl', '44066'),\n",
       " Tournament('cibbl', '44067'),\n",
       " Tournament('cibbl', '44068'),\n",
       " Tournament('cibbl', '44069'),\n",
       " Tournament('cibbl', '44070'),\n",
       " Tournament('cibbl', '44071'),\n",
       " Tournament('cibbl', '44072'),\n",
       " Tournament('cibbl', '44073'),\n",
       " Tournament('cibbl', '44074'),\n",
       " Tournament('cibbl', '44172'),\n",
       " Tournament('cibbl', '44207'),\n",
       " Tournament('cibbl', '44232'),\n",
       " Tournament('cibbl', '44269'),\n",
       " Tournament('cibbl', '44270'),\n",
       " Tournament('cibbl', '44378'),\n",
       " Tournament('cibbl', '44379'),\n",
       " HighestR5QualifierTournament('cibbl', '44380'),\n",
       " HighestR5QualifierTournament('cibbl', '44381'),\n",
       " HighestR5Tournament('cibbl', '44382'),\n",
       " Tournament('cibbl', '44383'),\n",
       " HighestR5QualifierTournament('cibbl', '44384'),\n",
       " HighestR5QualifierTournament('cibbl', '44385'),\n",
       " HighestR5Tournament('cibbl', '44386'),\n",
       " Tournament('cibbl', '44387'),\n",
       " Tournament('cibbl', '44388'),\n",
       " Tournament('cibbl', '44389'),\n",
       " Tournament('cibbl', '44390'),\n",
       " Tournament('cibbl', '44462'),\n",
       " Tournament('cibbl', '44560'),\n",
       " Tournament('cibbl', '44743'),\n",
       " Tournament('cibbl', '44744'),\n",
       " Tournament('cibbl', '44745'),\n",
       " Tournament('cibbl', '44746'),\n",
       " Tournament('cibbl', '44747'),\n",
       " Tournament('cibbl', '44748'),\n",
       " Tournament('cibbl', '44749'),\n",
       " Tournament('cibbl', '44750'),\n",
       " Tournament('cibbl', '44751'),\n",
       " Tournament('cibbl', '44752'),\n",
       " Tournament('cibbl', '44753'),\n",
       " Tournament('cibbl', '44910'),\n",
       " Tournament('cibbl', '45173'),\n",
       " Tournament('cibbl', '45174'),\n",
       " Tournament('cibbl', '45175'),\n",
       " Tournament('cibbl', '45192'),\n",
       " Tournament('cibbl', '45193'),\n",
       " Tournament('cibbl', '45194'),\n",
       " Tournament('cibbl', '45195'),\n",
       " Tournament('cibbl', '45218'),\n",
       " Tournament('cibbl', '45219'),\n",
       " Tournament('cibbl', '45220'),\n",
       " Tournament('cibbl', '45221'),\n",
       " Tournament('cibbl', '45232'),\n",
       " Tournament('cibbl', '45233'),\n",
       " Tournament('cibbl', '45234'),\n",
       " Tournament('cibbl', '45235'),\n",
       " Tournament('cibbl', '45236'),\n",
       " Tournament('cibbl', '45237'),\n",
       " Tournament('cibbl', '45238'),\n",
       " Tournament('cibbl', '45239'),\n",
       " Tournament('cibbl', '45240'),\n",
       " Tournament('cibbl', '45241'),\n",
       " Tournament('cibbl', '45242'),\n",
       " Tournament('cibbl', '45568'),\n",
       " Tournament('cibbl', '45569'),\n",
       " Tournament('cibbl', '45570'),\n",
       " Tournament('cibbl', '45571'),\n",
       " Tournament('cibbl', '45572'),\n",
       " Tournament('cibbl', '45573'),\n",
       " Tournament('cibbl', '45574'),\n",
       " Tournament('cibbl', '45575'),\n",
       " Tournament('cibbl', '45577'),\n",
       " Tournament('cibbl', '45586'),\n",
       " Tournament('cibbl', '45662'),\n",
       " Tournament('cibbl', '45878'),\n",
       " Tournament('cibbl', '45879'),\n",
       " Tournament('cibbl', '45880'),\n",
       " Tournament('cibbl', '45881'),\n",
       " Tournament('cibbl', '45882'),\n",
       " Tournament('cibbl', '45883'),\n",
       " Tournament('cibbl', '45884'),\n",
       " Tournament('cibbl', '45885'),\n",
       " Tournament('cibbl', '45886'),\n",
       " Tournament('cibbl', '45887'),\n",
       " Tournament('cibbl', '45888'),\n",
       " Tournament('cibbl', '46022'),\n",
       " Tournament('cibbl', '46047'),\n",
       " Tournament('cibbl', '46299'),\n",
       " Tournament('cibbl', '46300'),\n",
       " Tournament('cibbl', '46301'),\n",
       " Tournament('cibbl', '46389'),\n",
       " Tournament('cibbl', '46390'),\n",
       " Tournament('cibbl', '46391'),\n",
       " Tournament('cibbl', '46392'),\n",
       " Tournament('cibbl', '46393'),\n",
       " Tournament('cibbl', '46394'),\n",
       " Tournament('cibbl', '46395'),\n",
       " Tournament('cibbl', '46396'),\n",
       " Tournament('cibbl', '46397'),\n",
       " Tournament('cibbl', '46398'),\n",
       " Tournament('cibbl', '46399'),\n",
       " Tournament('cibbl', '46400'),\n",
       " Tournament('cibbl', '46401'),\n",
       " Tournament('cibbl', '46402'),\n",
       " Tournament('cibbl', '46403'),\n",
       " Tournament('cibbl', '46404'),\n",
       " Tournament('cibbl', '46405'),\n",
       " Tournament('cibbl', '46406'),\n",
       " Tournament('cibbl', '46407'),\n",
       " Tournament('cibbl', '46408'),\n",
       " Tournament('cibbl', '46409'),\n",
       " Tournament('cibbl', '46410'),\n",
       " Tournament('cibbl', '46411'),\n",
       " Tournament('cibbl', '46505'),\n",
       " Tournament('cibbl', '46687'),\n",
       " Tournament('cibbl', '46688'),\n",
       " Tournament('cibbl', '46705'),\n",
       " Tournament('cibbl', '46706'),\n",
       " Tournament('cibbl', '46707'),\n",
       " Tournament('cibbl', '46708'),\n",
       " Tournament('cibbl', '46709'),\n",
       " Tournament('cibbl', '46710'),\n",
       " Tournament('cibbl', '46711'),\n",
       " Tournament('cibbl', '47062')]"
      ]
     },
     "execution_count": 10,
     "metadata": {},
     "output_type": "execute_result"
    }
   ],
   "source": [
    "sorted(G.tournaments.values())"
   ]
  },
  {
   "cell_type": "code",
   "execution_count": null,
   "metadata": {},
   "outputs": [],
   "source": [
    "d = {}\n",
    "lastteammatches = self.lastteammatches()\n",
    "firstteammatches = self.firstteammatches()\n",
    "for Te, lastMa in lastteammatches.items():\n",
    "    firstMa = firstteammatches[Te]\n",
    "    Mu = firstMa.matchup\n",
    "    preMa = None\n",
    "    while not preMa:\n",
    "        Mu = Mu.teamprevmatchup(Te)\n",
    "        preMa = Mu.match\n",
    "    with preMa.replay as Re:\n",
    "        prePls0 = {Pl for Pl in Re.aliveplayers[Te] if Pl.permanent}\n",
    "        prePls = set(filter(lambda Pl: Pl.permanent, Re.aliveplayers[Te]))\n",
    "        assert prePls0 == prePls\n",
    "    with firstMa.replay as Re:\n",
    "        firstPls = {Pl for Pl in Re.players[Te] if Pl.permanent}\n",
    "    with lastMa.replay as Re:\n",
    "        lastPls = {Pl for Pl in Re.aliveplayers[Te] if Pl.permanent}\n",
    "    firstAs = {\n",
    "        A\n",
    "        for Pl in prePls | firstPls\n",
    "        for A in Pl.achievements\n",
    "        if A.tournament < self\n",
    "    }\n",
    "    lastAs = {\n",
    "        A\n",
    "        for Pl in lastPls\n",
    "        for A in Pl.achievements\n",
    "        if A.tournament <= self\n",
    "    }\n",
    "    d[Te] = [firstAs, lastAs]"
   ]
  },
  {
   "cell_type": "code",
   "execution_count": 13,
   "metadata": {},
   "outputs": [
    {
     "data": {
      "text/plain": [
       "{Team(903654): [{PA_BPR_Sylvania(Tournament('cibbl', '45240'), NormalPlayer('12219673'))},\n",
       "  {PA_BPR_Sylvania(Tournament('cibbl', '45240'), NormalPlayer('12219673')),\n",
       "   PA_BPS_Climax(Tournament('cibbl', '45575'), NormalPlayer('12219673')),\n",
       "   PA_BPS_Climax(Tournament('cibbl', '45575'), NormalPlayer('12367633')),\n",
       "   PA_StarPlayer(Tournament('cibbl', '45575'), NormalPlayer('12219671'))}],\n",
       " Team(898574): [{PA_BPA_Granite(Tournament('cibbl', '44746'), NormalPlayer('12140313'))},\n",
       "  {PA_BPA_Granite(Tournament('cibbl', '44746'), NormalPlayer('12140313'))}],\n",
       " Team(905606): [{PA_BPR_LandsOfTheDead(Tournament('cibbl', '45235'), NormalPlayer('12250183'))},\n",
       "  {PA_BPR_LandsOfTheDead(Tournament('cibbl', '45235'), NormalPlayer('12250183')),\n",
       "   PA_BPS_Climax(Tournament('cibbl', '45575'), NormalPlayer('12359397'))}],\n",
       " Team(906259): [{PA_TargetEliminated(Tournament('cibbl', '45233'), NormalPlayer('12266336'))},\n",
       "  {PA_BPS_Climax(Tournament('cibbl', '45575'), NormalPlayer('12271318')),\n",
       "   PA_TargetEliminated(Tournament('cibbl', '45233'), NormalPlayer('12266336'))}],\n",
       " Team(908615): [{PA_BPR_WorldEdgeMountains(Tournament('cibbl', '45242'), NormalPlayer('12296810'))},\n",
       "  {PA_BPR_WorldEdgeMountains(Tournament('cibbl', '45242'), NormalPlayer('12296810'))}],\n",
       " Team(907246): [set(), set()],\n",
       " Team(907959): [{PA_BPR_ChaosWastelands(Tournament('cibbl', '45195'), NormalPlayer('12285928')),\n",
       "   PA_BPR_ChaosWastelands(Tournament('cibbl', '45195'), NormalPlayer('12285959')),\n",
       "   PA_BPR_ChaosWastelands(Tournament('cibbl', '45195'), NormalPlayer('12285975'))},\n",
       "  {PA_BPR_ChaosWastelands(Tournament('cibbl', '45195'), NormalPlayer('12285928')),\n",
       "   PA_BPR_ChaosWastelands(Tournament('cibbl', '45195'), NormalPlayer('12285959')),\n",
       "   PA_BPR_ChaosWastelands(Tournament('cibbl', '45195'), NormalPlayer('12285975')),\n",
       "   PA_BPS_Climax(Tournament('cibbl', '45575'), NormalPlayer('12285975'))}],\n",
       " Team(900708): [{PA_BPR_EasternSteppes_MountainsOfMourn(Tournament('cibbl', '45218'), NormalPlayer('12172324'))},\n",
       "  {PA_BPR_EasternSteppes_MountainsOfMourn(Tournament('cibbl', '45218'), NormalPlayer('12172324'))}]}"
      ]
     },
     "execution_count": 13,
     "metadata": {},
     "output_type": "execute_result"
    }
   ],
   "source": [
    "d"
   ]
  },
  {
   "cell_type": "code",
   "execution_count": 15,
   "metadata": {},
   "outputs": [],
   "source": [
    "d1 = {}\n",
    "season = self.season\n",
    "for Te, firstlastAs in d.items():\n",
    "    prestiges = [\n",
    "        (sum(A.prestige(season) for A in As) if As else 0)\n",
    "        for As in firstlastAs\n",
    "    ]\n",
    "    d1[Te] = prestiges"
   ]
  },
  {
   "cell_type": "code",
   "execution_count": 16,
   "metadata": {},
   "outputs": [
    {
     "data": {
      "text/plain": [
       "{Team(903654): [10, 50],\n",
       " Team(898574): [10, 10],\n",
       " Team(905606): [10, 25],\n",
       " Team(906259): [10, 25],\n",
       " Team(908615): [10, 10],\n",
       " Team(907246): [0, 0],\n",
       " Team(907959): [30, 45],\n",
       " Team(900708): [10, 10]}"
      ]
     },
     "execution_count": 16,
     "metadata": {},
     "output_type": "execute_result"
    }
   ],
   "source": [
    "d1"
   ]
  },
  {
   "cell_type": "code",
   "execution_count": 19,
   "metadata": {},
   "outputs": [],
   "source": [
    "Te = Team(903654)\n",
    "firstMa = Match(4010804)\n",
    "lastMa = Match(4019624)\n",
    "season = lastMa.matchup.season"
   ]
  },
  {
   "cell_type": "code",
   "execution_count": 20,
   "metadata": {},
   "outputs": [],
   "source": [
    "Mu = firstMa.matchup\n",
    "preMa = None\n",
    "while not preMa:\n",
    "    Mu = Mu.teamprevmatchup(Te)\n",
    "    preMa = Mu.match"
   ]
  },
  {
   "cell_type": "code",
   "execution_count": 16,
   "metadata": {},
   "outputs": [
    {
     "data": {
      "text/plain": [
       "Matchup('cibbl', '45240', 5, 903654, 910344)"
      ]
     },
     "execution_count": 16,
     "metadata": {},
     "output_type": "execute_result"
    }
   ],
   "source": [
    "firstMa.matchup.teamprevmatchup(Te)"
   ]
  },
  {
   "cell_type": "code",
   "execution_count": 22,
   "metadata": {},
   "outputs": [
    {
     "name": "stdout",
     "output_type": "stream",
     "text": [
      "{'12219681', '12319538', '12367633', '12346893', '12318457', '12219683', '12219677', '12219676', '12227199', '12219673', '12219684', '12219678', '12219671'}\n",
      "{'12219676', '12227199', '12443530', '12219681', '12319538', '12219684', '12219678', '12219673', '12346893', '12318457', '12367633', '12219683', '12219671', '12219677'}\n"
     ]
    }
   ],
   "source": [
    "with preMa.replay as Re:\n",
    "    prePls = Re.aliveplayers[Te]\n",
    "with firstMa.replay as Re:\n",
    "    firstPls = Re.players[Te]\n",
    "with lastMa.replay as Re:\n",
    "    lastPls = Re.aliveplayers[Te]\n",
    "print(pre | first)\n",
    "print(last)"
   ]
  },
  {
   "cell_type": "code",
   "execution_count": 23,
   "metadata": {},
   "outputs": [
    {
     "data": {
      "text/plain": [
       "{NormalPlayer('12219671'),\n",
       " NormalPlayer('12219673'),\n",
       " NormalPlayer('12219676'),\n",
       " NormalPlayer('12219677'),\n",
       " NormalPlayer('12219678'),\n",
       " NormalPlayer('12219681'),\n",
       " NormalPlayer('12219683'),\n",
       " NormalPlayer('12219684'),\n",
       " NormalPlayer('12227199'),\n",
       " NormalPlayer('12318457'),\n",
       " NormalPlayer('12319538'),\n",
       " NormalPlayer('12346893'),\n",
       " NormalPlayer('12367633'),\n",
       " NormalPlayer('12443530')}"
      ]
     },
     "execution_count": 23,
     "metadata": {},
     "output_type": "execute_result"
    }
   ],
   "source": [
    "lastPlayers = {player(playerId) for playerId in last}\n",
    "lastPlayers"
   ]
  },
  {
   "cell_type": "code",
   "execution_count": 24,
   "metadata": {},
   "outputs": [
    {
     "data": {
      "text/plain": [
       "{PA_BPR_Sylvania(Tournament('cibbl', '45240'), NormalPlayer('12219673')),\n",
       " PA_BPS_Climax(Tournament('cibbl', '45575'), NormalPlayer('12219673')),\n",
       " PA_BPS_Climax(Tournament('cibbl', '45575'), NormalPlayer('12367633')),\n",
       " PA_StarPlayer(Tournament('cibbl', '45575'), NormalPlayer('12219671'))}"
      ]
     },
     "execution_count": 24,
     "metadata": {},
     "output_type": "execute_result"
    }
   ],
   "source": [
    "lastAs = {\n",
    "    A\n",
    "    for Pl in lastPlayers\n",
    "    for A in Pl.achievements\n",
    "    if A.tournament <= T\n",
    "}\n",
    "lastAs"
   ]
  },
  {
   "cell_type": "code",
   "execution_count": 25,
   "metadata": {},
   "outputs": [
    {
     "data": {
      "text/plain": [
       "Season('cibbl', 4, 3)"
      ]
     },
     "execution_count": 25,
     "metadata": {},
     "output_type": "execute_result"
    }
   ],
   "source": [
    "season"
   ]
  },
  {
   "cell_type": "code",
   "execution_count": 26,
   "metadata": {},
   "outputs": [
    {
     "data": {
      "text/plain": [
       "50"
      ]
     },
     "execution_count": 26,
     "metadata": {},
     "output_type": "execute_result"
    }
   ],
   "source": [
    "sum(A.prestige(season) for A in lastAs)"
   ]
  },
  {
   "cell_type": "code",
   "execution_count": 27,
   "metadata": {},
   "outputs": [
    {
     "name": "stdout",
     "output_type": "stream",
     "text": [
      "PA_BPR_Sylvania(Tournament('cibbl', '45240'), NormalPlayer('12219673')) 10 10\n",
      "PA_BPS_Climax(Tournament('cibbl', '45575'), NormalPlayer('12367633')) 15 15\n",
      "PA_BPS_Climax(Tournament('cibbl', '45575'), NormalPlayer('12219673')) 15 15\n",
      "PA_StarPlayer(Tournament('cibbl', '45575'), NormalPlayer('12219671')) 10 10\n"
     ]
    }
   ],
   "source": [
    "for A in lastAs:\n",
    "    print(A, A.baseprestige, A.prestige(season))"
   ]
  },
  {
   "cell_type": "code",
   "execution_count": 28,
   "metadata": {},
   "outputs": [],
   "source": [
    "firstPlayers = {player(playerId) for playerId in pre | first}"
   ]
  },
  {
   "cell_type": "code",
   "execution_count": 29,
   "metadata": {},
   "outputs": [
    {
     "data": {
      "text/plain": [
       "{PA_BPR_Sylvania(Tournament('cibbl', '45240'), NormalPlayer('12219673'))}"
      ]
     },
     "execution_count": 29,
     "metadata": {},
     "output_type": "execute_result"
    }
   ],
   "source": [
    "firstAs = {\n",
    "    A\n",
    "    for Pl in firstPlayers\n",
    "    for A in Pl.achievements\n",
    "    if A.tournament < T\n",
    "}\n",
    "firstAs"
   ]
  },
  {
   "cell_type": "code",
   "execution_count": 30,
   "metadata": {},
   "outputs": [
    {
     "data": {
      "text/plain": [
       "10"
      ]
     },
     "execution_count": 30,
     "metadata": {},
     "output_type": "execute_result"
    }
   ],
   "source": [
    "sum(A.prestige(season) for A in firstAs)"
   ]
  },
  {
   "cell_type": "code",
   "execution_count": 31,
   "metadata": {},
   "outputs": [
    {
     "name": "stdout",
     "output_type": "stream",
     "text": [
      "PA_BPR_Sylvania(Tournament('cibbl', '45240'), NormalPlayer('12219673')) 10 10\n"
     ]
    }
   ],
   "source": [
    "for A in firstAs:\n",
    "    print(A, A.baseprestige, A.prestige(season))"
   ]
  },
  {
   "cell_type": "code",
   "execution_count": null,
   "metadata": {},
   "outputs": [],
   "source": []
  }
 ],
 "metadata": {
  "kernelspec": {
   "display_name": "Python 3",
   "language": "python",
   "name": "python3"
  },
  "language_info": {
   "codemirror_mode": {
    "name": "ipython",
    "version": 3
   },
   "file_extension": ".py",
   "mimetype": "text/x-python",
   "name": "python",
   "nbconvert_exporter": "python",
   "pygments_lexer": "ipython3",
   "version": "3.7.4"
  }
 },
 "nbformat": 4,
 "nbformat_minor": 2
}
