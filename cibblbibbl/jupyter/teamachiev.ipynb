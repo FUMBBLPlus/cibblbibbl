{
 "cells": [
  {
   "cell_type": "code",
   "execution_count": 1,
   "metadata": {},
   "outputs": [],
   "source": [
    "import collections\n",
    "import copy\n",
    "import datetime\n",
    "import itertools\n",
    "\n",
    "import json\n",
    "import pathlib\n",
    "import re\n",
    "from pprint import pprint\n",
    "\n",
    "import nest_asyncio\n",
    "nest_asyncio.apply()\n",
    "import texttable\n",
    "\n",
    "import pytourney\n",
    "import pyfumbbl\n",
    "import cibblbibbl"
   ]
  },
  {
   "cell_type": "code",
   "execution_count": 2,
   "metadata": {},
   "outputs": [],
   "source": [
    "G = cibblbibbl.CIBBL\n",
    "Achievement = cibblbibbl.achievement.Achievement\n",
    "Team = cibblbibbl.team.Team\n",
    "player = cibblbibbl.player.player\n",
    "Match = cibblbibbl.match.Match\n",
    "Matchup = cibblbibbl.matchup.Matchup\n",
    "Replay = cibblbibbl.replay.Replay"
   ]
  },
  {
   "cell_type": "code",
   "execution_count": 3,
   "metadata": {},
   "outputs": [],
   "source": [
    "G.init()"
   ]
  },
  {
   "cell_type": "code",
   "execution_count": 4,
   "metadata": {},
   "outputs": [],
   "source": [
    "Te=Team(882382)"
   ]
  },
  {
   "cell_type": "code",
   "execution_count": 5,
   "metadata": {},
   "outputs": [],
   "source": [
    "As = sorted(G.achievements)"
   ]
  },
  {
   "cell_type": "code",
   "execution_count": 6,
   "metadata": {},
   "outputs": [
    {
     "name": "stdout",
     "output_type": "stream",
     "text": [
      "[47978] CIBBL - Y6, Spring - Land of the Dead\n"
     ]
    }
   ],
   "source": [
    "T1 = G.tournaments[\"47978\"]\n",
    "T = T1\n",
    "print(T1)"
   ]
  },
  {
   "cell_type": "code",
   "execution_count": 7,
   "metadata": {},
   "outputs": [
    {
     "data": {
      "text/plain": [
       "0"
      ]
     },
     "execution_count": 7,
     "metadata": {},
     "output_type": "execute_result"
    }
   ],
   "source": [
    "dTAv1 = T.teamachievementvalues(False, False, False, False)[Te]\n",
    "dTAv1"
   ]
  },
  {
   "cell_type": "code",
   "execution_count": 8,
   "metadata": {},
   "outputs": [
    {
     "data": {
      "text/plain": [
       "90"
      ]
     },
     "execution_count": 8,
     "metadata": {},
     "output_type": "execute_result"
    }
   ],
   "source": [
    "dPAv1 = T.playerachievementvalues()[Te]\n",
    "dPAv1"
   ]
  },
  {
   "cell_type": "code",
   "execution_count": 9,
   "metadata": {},
   "outputs": [
    {
     "name": "stdout",
     "output_type": "stream",
     "text": [
      "10 Solid Foundation([43860] CIBBL - Year Two, Autumn - Granite Division II, [11881490] Shan Yu)\n",
      "10 Timeless Display([44172] CIBBL - Year Three, Spring - Lands of the Dead II, [11881490] Shan Yu)\n",
      "10 Not With A Whimper, But With A Bang([44387] CIBBL - Y3, Summer - Explosion's Edge, [11881490] Shan Yu)\n",
      "10 Star Player([46401] CIBBL - Y5, Spring - Lands of the Dead, [12220671] Aladain, Match(4049075))\n",
      "10 Target Eliminated([46709] CIBBL - Y5, Summer - Sleeper's Gate, [11881490] Shan Yu, Match(4064918), 2, 3, [12314474] Helewise)\n",
      "10 Terrific Might of Tin([47502] CIBBL - Y5, Autumn - Tin Division, [12529796] Gud)\n",
      "10 Mean Scoring Machine([47502] CIBBL - Y5, Autumn - Tin Division, [12547681] El Maeiz, Match(4103804))\n",
      "10 Timeless Display([47978] CIBBL - Y6, Spring - Land of the Dead, [12547681] El Maeiz)\n",
      "10 Star Player([47978] CIBBL - Y6, Spring - Land of the Dead, [12325284] Genie, Match(4126570))\n"
     ]
    }
   ],
   "source": [
    "PAs=sorted(T.playerachievements()[Te])\n",
    "for A in sorted(PAs):\n",
    "    v=A.prestige(season=T.season)\n",
    "    print(f'{v} {A}')"
   ]
  },
  {
   "cell_type": "code",
   "execution_count": 10,
   "metadata": {},
   "outputs": [
    {
     "name": "stdout",
     "output_type": "stream",
     "text": [
      "***New Achievements***\n",
      "10 Timeless Display([47978] CIBBL - Y6, Spring - Land of the Dead, [12547681] El Maeiz)\n",
      "10 Star Player([47978] CIBBL - Y6, Spring - Land of the Dead, [12325284] Genie, Match(4126570))\n",
      "=== TOTAL=20\n"
     ]
    }
   ],
   "source": [
    "print(\"***New Achievements***\")\n",
    "V = 0\n",
    "for A in As:\n",
    "    if A[\"typename\"]==\"Prestige\":\n",
    "        continue\n",
    "    if A.tournament!=T:\n",
    "        continue\n",
    "    if A.subject==Te or A.subject_typename==\"Player\" and A.subject.team==Te:\n",
    "        v=A.prestige(season=T.season)\n",
    "        V+=v\n",
    "        print(f'{v} {A}')\n",
    "print(f'=== TOTAL={V}')"
   ]
  },
  {
   "cell_type": "code",
   "execution_count": 11,
   "metadata": {},
   "outputs": [
    {
     "name": "stdout",
     "output_type": "stream",
     "text": [
      "***Active Achievements***\n",
      "10 Solid Foundation([43860] CIBBL - Year Two, Autumn - Granite Division II, [11881471] Gaudi)\n",
      "10 Solid Foundation([43860] CIBBL - Year Two, Autumn - Granite Division II, [11881490] Shan Yu)\n",
      "10 Timeless Display([44172] CIBBL - Year Three, Spring - Lands of the Dead II, [11881471] Gaudi)\n",
      "10 Timeless Display([44172] CIBBL - Year Three, Spring - Lands of the Dead II, [11881490] Shan Yu)\n",
      "0 Crushing Victory([44387] CIBBL - Y3, Summer - Explosion's Edge, [882382] Ali's Anarchists, Match(3962003))\n",
      "10 Not With A Whimper, But With A Bang([44387] CIBBL - Y3, Summer - Explosion's Edge, [11942620] Ka Viku)\n",
      "10 Not With A Whimper, But With A Bang([44387] CIBBL - Y3, Summer - Explosion's Edge, [11881490] Shan Yu)\n",
      "10 Solid Foundation([44387] CIBBL - Y3, Summer - Explosion's Edge, [12138861] Gaudi)\n",
      "10 Timeless Display([44387] CIBBL - Y3, Summer - Explosion's Edge, [12138861] Gaudi)\n",
      "10 Mean Scoring Machine([44387] CIBBL - Y3, Summer - Explosion's Edge, [11942620] Ka Viku, Match(3962003))\n",
      "10 Bronze Excellence([44751] CIBBL - Y3, Autumn - Bronze Division, [11881492] Te Ka)\n",
      "10 Star Player([44751] CIBBL - Y3, Autumn - Bronze Division, [12138861] Gaudi, Match(3983749))\n",
      "10 Star Player([44751] CIBBL - Y3, Autumn - Bronze Division, [11942620] Ka Viku, Match(3977204))\n",
      "0 Super Star Player([45174] CIBBL - Y4, Winter - Friendlies (Mid) , [11942620] Ka Viku, Match(3996221))\n",
      "10 Timeless Display([45235] CIBBL - Y4, Spring - Land of the Dead, [11942620] Ka Viku)\n",
      "10 Super Star Player([45235] CIBBL - Y4, Spring - Land of the Dead, [11942620] Ka Viku, Match(3996221))\n",
      "5 Crushing Victory([45571] CIBBL - Y4, Summer - SCRIBBL Climax Qualifier IV, [882382] Ali's Anarchists, Match(4018855))\n",
      "15 SCRIBBL’s Outstanding Performance Achievement([45571] CIBBL - Y4, Summer - SCRIBBL Climax Qualifier IV, [11942620] Ka Viku)\n",
      "10 Super Star Player([45571] CIBBL - Y4, Summer - SCRIBBL Climax Qualifier IV, [12138861] Gaudi, Match(4014391))\n",
      "10 Not With A Whimper, But With A Bang([46401] CIBBL - Y5, Spring - Lands of the Dead, [12636777] Ka Viku)\n",
      "15 SCRIBBL’s Outstanding Performance Achievement([46401] CIBBL - Y5, Spring - Lands of the Dead, [12636777] Ka Viku)\n",
      "10 Timeless Display([46401] CIBBL - Y5, Spring - Lands of the Dead, [12636777] Ka Viku)\n",
      "10 Super Star Player([46401] CIBBL - Y5, Spring - Lands of the Dead, [12636777] Ka Viku, Match(3996221))\n",
      "10 Star Player([46401] CIBBL - Y5, Spring - Lands of the Dead, [12220671] Aladain, Match(4049075))\n",
      "10 Star Player([46401] CIBBL - Y5, Spring - Lands of the Dead, [12636777] Ka Viku, Match(3977204))\n",
      "10 Mean Scoring Machine([46401] CIBBL - Y5, Spring - Lands of the Dead, [12636777] Ka Viku, Match(3962003))\n",
      "10 Mega Star Player([46709] CIBBL - Y5, Summer - Sleeper's Gate, [12636777] Ka Viku, Match(4070495))\n",
      "10 Mean Scoring Machine([46709] CIBBL - Y5, Summer - Sleeper's Gate, [12640386] Sinbad, Match(4072475))\n",
      "10 Target Eliminated([46709] CIBBL - Y5, Summer - Sleeper's Gate, [11881490] Shan Yu, Match(4064918), 2, 3, [12314474] Helewise)\n",
      "10 Terrific Might of Tin([47502] CIBBL - Y5, Autumn - Tin Division, [12529796] Gud)\n",
      "10 Mean Scoring Machine([47502] CIBBL - Y5, Autumn - Tin Division, [12547681] El Maeiz, Match(4103804))\n",
      "10 Triple X([47502] CIBBL - Y5, Autumn - Tin Division, [12636777] Ka Viku, Match(4103804))\n",
      "10 Target Eliminated([47502] CIBBL - Y5, Autumn - Tin Division, [12636777] Ka Viku, Match(4103804), 2, 1, [12139099] Blu Ash)\n",
      "0 CabalVision Silver Partner([47899] CIBBL - Y6, Winter - Friendlies (Mid), [882382] Ali's Anarchists)\n",
      "=== TOTAL=315\n"
     ]
    }
   ],
   "source": [
    "print(\"***Active Achievements***\")\n",
    "V = 0\n",
    "for A in As:\n",
    "    if A[\"typename\"]==\"Prestige\":\n",
    "        continue\n",
    "    if A.subject==Te or A.subject_typename==\"Player\" and A.subject.team==Te:\n",
    "        if not A.active(T):\n",
    "            continue\n",
    "        v=A.prestige(season=T.season)\n",
    "        V+=v\n",
    "        print(f'{v} {A}')\n",
    "print(f'=== TOTAL={V}')"
   ]
  },
  {
   "cell_type": "code",
   "execution_count": 12,
   "metadata": {},
   "outputs": [
    {
     "name": "stdout",
     "output_type": "stream",
     "text": [
      "[47502] CIBBL - Y5, Autumn - Tin Division\n"
     ]
    }
   ],
   "source": [
    "T2 = Te.prev_tournament(T1)\n",
    "T=T2\n",
    "print(T2)"
   ]
  },
  {
   "cell_type": "code",
   "execution_count": 13,
   "metadata": {},
   "outputs": [
    {
     "data": {
      "text/plain": [
       "0"
      ]
     },
     "execution_count": 13,
     "metadata": {},
     "output_type": "execute_result"
    }
   ],
   "source": [
    "dTAv1 = T.teamachievementvalues(False, False, False, False)[Te]\n",
    "dTAv1"
   ]
  },
  {
   "cell_type": "code",
   "execution_count": 14,
   "metadata": {},
   "outputs": [
    {
     "data": {
      "text/plain": [
       "165"
      ]
     },
     "execution_count": 14,
     "metadata": {},
     "output_type": "execute_result"
    }
   ],
   "source": [
    "dPAv1 = T.playerachievementvalues()[Te]\n",
    "dPAv1"
   ]
  },
  {
   "cell_type": "code",
   "execution_count": 15,
   "metadata": {},
   "outputs": [
    {
     "name": "stdout",
     "output_type": "stream",
     "text": [
      "10 Solid Foundation([43860] CIBBL - Year Two, Autumn - Granite Division II, [11881490] Shan Yu)\n",
      "10 Timeless Display([44172] CIBBL - Year Three, Spring - Lands of the Dead II, [11881490] Shan Yu)\n",
      "10 Not With A Whimper, But With A Bang([44387] CIBBL - Y3, Summer - Explosion's Edge, [11881490] Shan Yu)\n",
      "10 Not With A Whimper, But With A Bang([46401] CIBBL - Y5, Spring - Lands of the Dead, [12636777] Ka Viku)\n",
      "15 SCRIBBL’s Outstanding Performance Achievement([46401] CIBBL - Y5, Spring - Lands of the Dead, [12636777] Ka Viku)\n",
      "10 Timeless Display([46401] CIBBL - Y5, Spring - Lands of the Dead, [12636777] Ka Viku)\n",
      "10 Super Star Player([46401] CIBBL - Y5, Spring - Lands of the Dead, [12636777] Ka Viku, Match(3996221))\n",
      "10 Star Player([46401] CIBBL - Y5, Spring - Lands of the Dead, [12220671] Aladain, Match(4049075))\n",
      "10 Star Player([46401] CIBBL - Y5, Spring - Lands of the Dead, [12636777] Ka Viku, Match(3977204))\n",
      "10 Mean Scoring Machine([46401] CIBBL - Y5, Spring - Lands of the Dead, [12636777] Ka Viku, Match(3962003))\n",
      "10 Mega Star Player([46709] CIBBL - Y5, Summer - Sleeper's Gate, [12636777] Ka Viku, Match(4070495))\n",
      "10 Target Eliminated([46709] CIBBL - Y5, Summer - Sleeper's Gate, [11881490] Shan Yu, Match(4064918), 2, 3, [12314474] Helewise)\n",
      "10 Terrific Might of Tin([47502] CIBBL - Y5, Autumn - Tin Division, [12529796] Gud)\n",
      "10 Mean Scoring Machine([47502] CIBBL - Y5, Autumn - Tin Division, [12547681] El Maeiz, Match(4103804))\n",
      "10 Triple X([47502] CIBBL - Y5, Autumn - Tin Division, [12636777] Ka Viku, Match(4103804))\n",
      "10 Target Eliminated([47502] CIBBL - Y5, Autumn - Tin Division, [12636777] Ka Viku, Match(4103804), 2, 1, [12139099] Blu Ash)\n"
     ]
    }
   ],
   "source": [
    "PAs=sorted(T.playerachievements()[Te])\n",
    "for A in sorted(PAs):\n",
    "    v=A.prestige(season=T.season)\n",
    "    print(f'{v} {A}')"
   ]
  },
  {
   "cell_type": "code",
   "execution_count": 16,
   "metadata": {},
   "outputs": [
    {
     "name": "stdout",
     "output_type": "stream",
     "text": [
      "***New Achievements***\n",
      "10 Terrific Might of Tin([47502] CIBBL - Y5, Autumn - Tin Division, [12529796] Gud)\n",
      "10 Mean Scoring Machine([47502] CIBBL - Y5, Autumn - Tin Division, [12547681] El Maeiz, Match(4103804))\n",
      "10 Triple X([47502] CIBBL - Y5, Autumn - Tin Division, [12636777] Ka Viku, Match(4103804))\n",
      "10 Target Eliminated([47502] CIBBL - Y5, Autumn - Tin Division, [12636777] Ka Viku, Match(4103804), 2, 1, [12139099] Blu Ash)\n",
      "=== TOTAL=40\n"
     ]
    }
   ],
   "source": [
    "print(\"***New Achievements***\")\n",
    "V = 0\n",
    "for A in As:\n",
    "    if A[\"typename\"]==\"Prestige\":\n",
    "        continue\n",
    "    if A.tournament!=T:\n",
    "        continue\n",
    "    if A.subject==Te or A.subject_typename==\"Player\" and A.subject.team==Te:\n",
    "        v=A.prestige(season=T.season)\n",
    "        V+=v\n",
    "        print(f'{v} {A}')\n",
    "print(f'=== TOTAL={V}')"
   ]
  },
  {
   "cell_type": "code",
   "execution_count": 17,
   "metadata": {},
   "outputs": [
    {
     "name": "stdout",
     "output_type": "stream",
     "text": [
      "***Active Achievements***\n",
      "10 Solid Foundation([43860] CIBBL - Year Two, Autumn - Granite Division II, [11881471] Gaudi)\n",
      "10 Solid Foundation([43860] CIBBL - Year Two, Autumn - Granite Division II, [11881490] Shan Yu)\n",
      "10 Timeless Display([44172] CIBBL - Year Three, Spring - Lands of the Dead II, [11881471] Gaudi)\n",
      "10 Timeless Display([44172] CIBBL - Year Three, Spring - Lands of the Dead II, [11881490] Shan Yu)\n",
      "0 Crushing Victory([44387] CIBBL - Y3, Summer - Explosion's Edge, [882382] Ali's Anarchists, Match(3962003))\n",
      "10 Not With A Whimper, But With A Bang([44387] CIBBL - Y3, Summer - Explosion's Edge, [11942620] Ka Viku)\n",
      "10 Not With A Whimper, But With A Bang([44387] CIBBL - Y3, Summer - Explosion's Edge, [11881490] Shan Yu)\n",
      "10 Solid Foundation([44387] CIBBL - Y3, Summer - Explosion's Edge, [12138861] Gaudi)\n",
      "10 Timeless Display([44387] CIBBL - Y3, Summer - Explosion's Edge, [12138861] Gaudi)\n",
      "10 Mean Scoring Machine([44387] CIBBL - Y3, Summer - Explosion's Edge, [11942620] Ka Viku, Match(3962003))\n",
      "10 Bronze Excellence([44751] CIBBL - Y3, Autumn - Bronze Division, [11881492] Te Ka)\n",
      "10 Star Player([44751] CIBBL - Y3, Autumn - Bronze Division, [12138861] Gaudi, Match(3983749))\n",
      "10 Star Player([44751] CIBBL - Y3, Autumn - Bronze Division, [11942620] Ka Viku, Match(3977204))\n",
      "0 Super Star Player([45174] CIBBL - Y4, Winter - Friendlies (Mid) , [11942620] Ka Viku, Match(3996221))\n",
      "10 Timeless Display([45235] CIBBL - Y4, Spring - Land of the Dead, [11942620] Ka Viku)\n",
      "10 Super Star Player([45235] CIBBL - Y4, Spring - Land of the Dead, [11942620] Ka Viku, Match(3996221))\n",
      "5 Crushing Victory([45571] CIBBL - Y4, Summer - SCRIBBL Climax Qualifier IV, [882382] Ali's Anarchists, Match(4018855))\n",
      "15 SCRIBBL’s Outstanding Performance Achievement([45571] CIBBL - Y4, Summer - SCRIBBL Climax Qualifier IV, [11942620] Ka Viku)\n",
      "10 Super Star Player([45571] CIBBL - Y4, Summer - SCRIBBL Climax Qualifier IV, [12138861] Gaudi, Match(4014391))\n",
      "10 Not With A Whimper, But With A Bang([46401] CIBBL - Y5, Spring - Lands of the Dead, [12636777] Ka Viku)\n",
      "15 SCRIBBL’s Outstanding Performance Achievement([46401] CIBBL - Y5, Spring - Lands of the Dead, [12636777] Ka Viku)\n",
      "10 Timeless Display([46401] CIBBL - Y5, Spring - Lands of the Dead, [12636777] Ka Viku)\n",
      "10 Super Star Player([46401] CIBBL - Y5, Spring - Lands of the Dead, [12636777] Ka Viku, Match(3996221))\n",
      "10 Star Player([46401] CIBBL - Y5, Spring - Lands of the Dead, [12220671] Aladain, Match(4049075))\n",
      "10 Star Player([46401] CIBBL - Y5, Spring - Lands of the Dead, [12636777] Ka Viku, Match(3977204))\n",
      "10 Mean Scoring Machine([46401] CIBBL - Y5, Spring - Lands of the Dead, [12636777] Ka Viku, Match(3962003))\n",
      "0 CabalVision Silver Partner([46709] CIBBL - Y5, Summer - Sleeper's Gate, [882382] Ali's Anarchists)\n",
      "10 Mega Star Player([46709] CIBBL - Y5, Summer - Sleeper's Gate, [12636777] Ka Viku, Match(4070495))\n",
      "10 Mean Scoring Machine([46709] CIBBL - Y5, Summer - Sleeper's Gate, [12640386] Sinbad, Match(4072475))\n",
      "10 Target Eliminated([46709] CIBBL - Y5, Summer - Sleeper's Gate, [11881490] Shan Yu, Match(4064918), 2, 3, [12314474] Helewise)\n",
      "=== TOTAL=275\n"
     ]
    }
   ],
   "source": [
    "print(\"***Active Achievements***\")\n",
    "V = 0\n",
    "for A in As:\n",
    "    if A[\"typename\"]==\"Prestige\":\n",
    "        continue\n",
    "    if A.subject==Te or A.subject_typename==\"Player\" and A.subject.team==Te:\n",
    "        if not A.active(T):\n",
    "            continue\n",
    "        v=A.prestige(season=T.season)\n",
    "        V+=v\n",
    "        print(f'{v} {A}')\n",
    "print(f'=== TOTAL={V}')"
   ]
  },
  {
   "cell_type": "code",
   "execution_count": 18,
   "metadata": {},
   "outputs": [
    {
     "name": "stdout",
     "output_type": "stream",
     "text": [
      "[896228] Gardeners of Nurgle vs. [874302] Grasparossa B.B.C\n",
      "[897353] Court of Shu vs. [906026] Karak Azog Outlaws\n",
      "[899682] K'r'shh Sl'ppr'ss vs. [896564] Thoughts of Thoth\n",
      "[882382] Ali's Anarchists vs. [904411] Ynys Morion Mabsantwyr\n",
      "[896228] Gardeners of Nurgle vs. [896564] Thoughts of Thoth\n",
      "[899682] K'r'shh Sl'ppr'ss vs. [874302] Grasparossa B.B.C\n",
      "[906026] Karak Azog Outlaws vs. [904411] Ynys Morion Mabsantwyr\n",
      "[904411] Ynys Morion Mabsantwyr vs. [899682] K'r'shh Sl'ppr'ss\n",
      "[906026] Karak Azog Outlaws vs. [874302] Grasparossa B.B.C\n",
      "[897353] Court of Shu vs. [882382] Ali's Anarchists\n",
      "[897353] Court of Shu vs. [896228] Gardeners of Nurgle\n",
      "[906026] Karak Azog Outlaws vs. [896228] Gardeners of Nurgle\n",
      "[882382] Ali's Anarchists vs. [896564] Thoughts of Thoth\n",
      "[897353] Court of Shu vs. [874302] Grasparossa B.B.C\n",
      "[904411] Ynys Morion Mabsantwyr vs. [896564] Thoughts of Thoth\n",
      "[904411] Ynys Morion Mabsantwyr vs. [896228] Gardeners of Nurgle\n",
      "[906026] Karak Azog Outlaws vs. [896564] Thoughts of Thoth\n",
      "[899682] K'r'shh Sl'ppr'ss vs. [882382] Ali's Anarchists\n",
      "[899682] K'r'shh Sl'ppr'ss vs. [897353] Court of Shu\n",
      "[874302] Grasparossa B.B.C vs. [882382] Ali's Anarchists\n",
      "[896564] Thoughts of Thoth vs. [874302] Grasparossa B.B.C\n",
      "[897353] Court of Shu vs. [904411] Ynys Morion Mabsantwyr\n",
      "[882382] Ali's Anarchists vs. [906026] Karak Azog Outlaws\n",
      "[897353] Court of Shu vs. [896564] Thoughts of Thoth\n",
      "[896228] Gardeners of Nurgle vs. [899682] K'r'shh Sl'ppr'ss\n",
      "[904411] Ynys Morion Mabsantwyr vs. [874302] Grasparossa B.B.C\n",
      "[882382] Ali's Anarchists vs. [896228] Gardeners of Nurgle\n",
      "[906026] Karak Azog Outlaws vs. [899682] K'r'shh Sl'ppr'ss\n"
     ]
    }
   ],
   "source": [
    "for Ma in T2.matches:\n",
    "    print(\" vs. \".join(str(Te) for Te in Ma.teams))"
   ]
  },
  {
   "cell_type": "code",
   "execution_count": 19,
   "metadata": {},
   "outputs": [
    {
     "data": {
      "text/plain": [
       "{Team(874302),\n",
       " Team(882382),\n",
       " Team(896228),\n",
       " Team(896564),\n",
       " Team(897353),\n",
       " Team(899682),\n",
       " Team(904411),\n",
       " Team(906026)}"
      ]
     },
     "execution_count": 19,
     "metadata": {},
     "output_type": "execute_result"
    }
   ],
   "source": [
    "{Te for Ma in T2.matches for Te in Ma.teams}"
   ]
  },
  {
   "cell_type": "code",
   "execution_count": 20,
   "metadata": {},
   "outputs": [
    {
     "data": {
      "text/plain": [
       "{}"
      ]
     },
     "execution_count": 20,
     "metadata": {},
     "output_type": "execute_result"
    }
   ],
   "source": [
    "T1.transferredplayers()"
   ]
  },
  {
   "cell_type": "code",
   "execution_count": 21,
   "metadata": {},
   "outputs": [
    {
     "data": {
      "text/plain": [
       "{NormalPlayer('12710182'): [4098581, 2, 4, 'blocked', '12114193'],\n",
       " NormalPlayer('12677192'): [4113688, 1, 2, 'fouled', '12465025'],\n",
       " NormalPlayer('12640386'): [4114822, 2, 2, 'blocked', '12494315']}"
      ]
     },
     "execution_count": 21,
     "metadata": {},
     "output_type": "execute_result"
    }
   ],
   "source": [
    "T2.transferredplayers()"
   ]
  },
  {
   "cell_type": "code",
   "execution_count": 29,
   "metadata": {},
   "outputs": [],
   "source": [
    "Pl = player(\"12640386\")"
   ]
  },
  {
   "cell_type": "code",
   "execution_count": 21,
   "metadata": {},
   "outputs": [],
   "source": [
    "Pl = player(\"13013185\")"
   ]
  },
  {
   "cell_type": "code",
   "execution_count": 26,
   "metadata": {},
   "outputs": [],
   "source": [
    "Pl.config.get(\"name\")"
   ]
  },
  {
   "cell_type": "code",
   "execution_count": 32,
   "metadata": {},
   "outputs": [
    {
     "data": {
      "text/plain": [
       "{PA_MeanScoringMachine('pa_meanscoringmachine', Tournament('cibbl', '46709'), NormalPlayer('12640386'), Match(4072475))}"
      ]
     },
     "execution_count": 32,
     "metadata": {},
     "output_type": "execute_result"
    }
   ],
   "source": [
    "Pl.achievements"
   ]
  },
  {
   "cell_type": "code",
   "execution_count": 96,
   "metadata": {},
   "outputs": [
    {
     "data": {
      "text/plain": [
       "['Id',\n",
       " '_KEY',\n",
       " '__class__',\n",
       " '__copy__',\n",
       " '__deepcopy__',\n",
       " '__delattr__',\n",
       " '__dict__',\n",
       " '__dir__',\n",
       " '__doc__',\n",
       " '__eq__',\n",
       " '__format__',\n",
       " '__ge__',\n",
       " '__getattribute__',\n",
       " '__gt__',\n",
       " '__hash__',\n",
       " '__init__',\n",
       " '__init_subclass__',\n",
       " '__le__',\n",
       " '__lt__',\n",
       " '__members__',\n",
       " '__module__',\n",
       " '__ne__',\n",
       " '__new__',\n",
       " '__reduce__',\n",
       " '__reduce_ex__',\n",
       " '__repr__',\n",
       " '__setattr__',\n",
       " '__sizeof__',\n",
       " '__str__',\n",
       " '__subclasshook__',\n",
       " '__weakref__',\n",
       " '_config',\n",
       " '_matchups',\n",
       " '_name',\n",
       " '_nextIds',\n",
       " '_team',\n",
       " '_typechar',\n",
       " 'achievements',\n",
       " 'adminspp',\n",
       " 'apiget',\n",
       " 'config',\n",
       " 'configfilename',\n",
       " 'configfilepath',\n",
       " 'configfilepathroot',\n",
       " 'dummy',\n",
       " 'get_prevId',\n",
       " 'getname',\n",
       " 'matches',\n",
       " 'matchups',\n",
       " 'name',\n",
       " 'nexts',\n",
       " 'permanent',\n",
       " 'position',\n",
       " 'positionId',\n",
       " 'prespp',\n",
       " 'prev',\n",
       " 'prevId',\n",
       " 'prevachievmul',\n",
       " 'prevdeadmatchId',\n",
       " 'prevreason',\n",
       " 'prevsppmul',\n",
       " 'replays',\n",
       " 'sort_key',\n",
       " 'status',\n",
       " 'team',\n",
       " 'typechar']"
      ]
     },
     "execution_count": 96,
     "metadata": {},
     "output_type": "execute_result"
    }
   ],
   "source": [
    "dir(Pl)"
   ]
  },
  {
   "cell_type": "code",
   "execution_count": 97,
   "metadata": {},
   "outputs": [
    {
     "data": {
      "text/plain": [
       "'Retired'"
      ]
     },
     "execution_count": 97,
     "metadata": {},
     "output_type": "execute_result"
    }
   ],
   "source": [
    "Pl.status"
   ]
  },
  {
   "cell_type": "code",
   "execution_count": null,
   "metadata": {},
   "outputs": [],
   "source": []
  }
 ],
 "metadata": {
  "kernelspec": {
   "display_name": "Python 3",
   "language": "python",
   "name": "python3"
  },
  "language_info": {
   "codemirror_mode": {
    "name": "ipython",
    "version": 3
   },
   "file_extension": ".py",
   "mimetype": "text/x-python",
   "name": "python",
   "nbconvert_exporter": "python",
   "pygments_lexer": "ipython3",
   "version": "3.8.2"
  }
 },
 "nbformat": 4,
 "nbformat_minor": 2
}
