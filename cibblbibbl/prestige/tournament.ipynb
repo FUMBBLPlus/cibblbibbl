{
 "cells": [
  {
   "cell_type": "code",
   "execution_count": 1,
   "metadata": {},
   "outputs": [],
   "source": [
    "%load_ext autoreload\n",
    "%autoreload"
   ]
  },
  {
   "cell_type": "code",
   "execution_count": 2,
   "metadata": {},
   "outputs": [],
   "source": [
    "%reload_ext autoreload"
   ]
  },
  {
   "cell_type": "code",
   "execution_count": 3,
   "metadata": {},
   "outputs": [],
   "source": [
    "import itertools\n",
    "import json\n",
    "import pathlib\n",
    "import re"
   ]
  },
  {
   "cell_type": "code",
   "execution_count": 4,
   "metadata": {},
   "outputs": [],
   "source": [
    "import pyfumbbl\n",
    "import cibblbibbl"
   ]
  },
  {
   "cell_type": "code",
   "execution_count": 5,
   "metadata": {},
   "outputs": [],
   "source": [
    "cibblbibbl.tournament.init(\"cibbl\")\n",
    "li = cibblbibbl.tournament.tournament[\"cibbl\"]"
   ]
  },
  {
   "cell_type": "code",
   "execution_count": 6,
   "metadata": {},
   "outputs": [],
   "source": [
    "T = li[-10]"
   ]
  },
  {
   "cell_type": "code",
   "execution_count": 7,
   "metadata": {},
   "outputs": [
    {
     "name": "stdout",
     "output_type": "stream",
     "text": [
      "(871787, 'Malignant Curators', 'L', -2, -3)\n",
      "(854678, 'Lords of the Silent Death', 'W', 2, 3)\n",
      "(886114, 'Eye and Arrow', 'L', -1, -1)\n",
      "(903654, 'Scions of Neferata', 'W', 1, 1)\n",
      "(874966, \"Modryn's Midnight Meddlers\", 'W', 2, -3)\n",
      "(908529, 'ICBM Warpspawns', 'L', -2, 3)\n",
      "(878945, 'Eternal Ecstasy', 'W', 1, -1)\n",
      "(895929, \"Fangsnapper's Clawpack\", 'L', -1, 1)\n",
      "(874545, \"Stone Prince's Men\", 'D', 0, -4)\n",
      "(889232, 'Lost Golems of Grungni', 'D', 0, 4)\n",
      "(854678, 'Lords of the Silent Death', 'D', 0, -1)\n",
      "(903654, 'Scions of Neferata', 'D', 0, 1)\n",
      "(878945, 'Eternal Ecstasy', 'W', 1, 1)\n",
      "(874966, \"Modryn's Midnight Meddlers\", 'L', -1, -1)\n",
      "(889232, 'Lost Golems of Grungni', 'L', -1, 2)\n",
      "(908529, 'ICBM Warpspawns', 'W', 1, -2)\n",
      "(874545, \"Stone Prince's Men\", 'W', 1, 0)\n",
      "(895929, \"Fangsnapper's Clawpack\", 'L', -1, 0)\n",
      "(886114, 'Eye and Arrow', 'D', 0, -4)\n",
      "(871787, 'Malignant Curators', 'D', 0, 4)\n",
      "(878945, 'Eternal Ecstasy', 'L', -1, 6)\n",
      "(854678, 'Lords of the Silent Death', 'W', 1, -6)\n",
      "(903654, 'Scions of Neferata', 'D', 0, 3)\n",
      "(874545, \"Stone Prince's Men\", 'D', 0, -3)\n",
      "(908529, 'ICBM Warpspawns', 'W', 2, 0)\n",
      "(871787, 'Malignant Curators', 'L', -2, 0)\n",
      "(874966, \"Modryn's Midnight Meddlers\", 'W', 1, 1)\n",
      "(889232, 'Lost Golems of Grungni', 'L', -1, -1)\n",
      "(886114, 'Eye and Arrow', 'L', -2, 1)\n",
      "(895929, \"Fangsnapper's Clawpack\", 'W', 2, -1)\n",
      "(854678, 'Lords of the Silent Death', 'W', 2, 1)\n",
      "(908529, 'ICBM Warpspawns', 'L', -2, -1)\n",
      "(878945, 'Eternal Ecstasy', 'W', 2, 0)\n",
      "(903654, 'Scions of Neferata', 'L', -2, 0)\n",
      "(874966, \"Modryn's Midnight Meddlers\", 'D', 0, -1)\n",
      "(874545, \"Stone Prince's Men\", 'D', 0, 1)\n",
      "(895929, \"Fangsnapper's Clawpack\", 'D', 0, -2)\n",
      "(889232, 'Lost Golems of Grungni', 'D', 0, 2)\n",
      "(871787, 'Malignant Curators', 'W', 1, 7)\n",
      "(886114, 'Eye and Arrow', 'L', -1, -7)\n",
      "(854678, 'Lords of the Silent Death', 'L', -1, 0)\n",
      "(874966, \"Modryn's Midnight Meddlers\", 'W', 1, 0)\n",
      "(878945, 'Eternal Ecstasy', 'L', -1, 2)\n",
      "(874545, \"Stone Prince's Men\", 'W', 1, -2)\n",
      "(903654, 'Scions of Neferata', 'W', 2, -1)\n",
      "(908529, 'ICBM Warpspawns', 'L', -2, 1)\n",
      "(871787, 'Malignant Curators', 'D', 0, 0)\n",
      "(895929, \"Fangsnapper's Clawpack\", 'D', 0, 0)\n",
      "(889232, 'Lost Golems of Grungni', 'L', -1, 0)\n",
      "(886114, 'Eye and Arrow', 'W', 1, 0)\n"
     ]
    }
   ],
   "source": [
    "for r in cibblbibbl.tournament.tools.iter_raw_results(T):\n",
    "    print(r)"
   ]
  },
  {
   "cell_type": "code",
   "execution_count": 10,
   "metadata": {},
   "outputs": [
    {
     "name": "stdout",
     "output_type": "stream",
     "text": [
      "{'id': 854678, 'name': 'Lords of the Silent Death', 'perf': 'WDWWL', 'tdd': 4, 'casd': -3, 'pts': 10}\n",
      "{'id': 874966, 'name': \"Modryn's Midnight Meddlers\", 'perf': 'WLWDW', 'tdd': 3, 'casd': -4, 'pts': 10}\n",
      "{'id': 878945, 'name': 'Eternal Ecstasy', 'perf': 'WWLWL', 'tdd': 2, 'casd': 8, 'pts': 9}\n",
      "{'id': 874545, 'name': \"Stone Prince's Men\", 'perf': 'DWDDW', 'tdd': 2, 'casd': -8, 'pts': 9}\n",
      "{'id': 903654, 'name': 'Scions of Neferata', 'perf': 'WDDLW', 'tdd': 1, 'casd': 4, 'pts': 8}\n",
      "{'id': 908529, 'name': 'ICBM Warpspawns', 'perf': 'LWWLL', 'tdd': -3, 'casd': 1, 'pts': 6}\n",
      "{'id': 895929, 'name': \"Fangsnapper's Clawpack\", 'perf': 'LLWDD', 'tdd': 0, 'casd': -2, 'pts': 5}\n",
      "{'id': 871787, 'name': 'Malignant Curators', 'perf': 'LDLWD', 'tdd': -3, 'casd': 8, 'pts': 5}\n",
      "{'id': 886114, 'name': 'Eye and Arrow', 'perf': 'LDLLW', 'tdd': -3, 'casd': -11, 'pts': 4}\n",
      "{'id': 889232, 'name': 'Lost Golems of Grungni', 'perf': 'DLLDL', 'tdd': -3, 'casd': 7, 'pts': 2}\n"
     ]
    }
   ],
   "source": [
    "for r in cibblbibbl.tournament.tools.first_pass_standings(T):\n",
    "    print(r)"
   ]
  },
  {
   "cell_type": "code",
   "execution_count": 9,
   "metadata": {},
   "outputs": [
    {
     "data": {
      "text/plain": [
       "'CIBBL - Y5, Summer - SCRIBBL Climax - West'"
      ]
     },
     "execution_count": 9,
     "metadata": {},
     "output_type": "execute_result"
    }
   ],
   "source": [
    "T.name"
   ]
  },
  {
   "cell_type": "code",
   "execution_count": 10,
   "metadata": {},
   "outputs": [],
   "source": [
    "M = T.matches()[0]"
   ]
  },
  {
   "cell_type": "code",
   "execution_count": 9,
   "metadata": {},
   "outputs": [
    {
     "data": {
      "text/plain": [
       "{'conceded': 'None',\n",
       " 'date': '2016-10-24',\n",
       " 'gate': 12000,\n",
       " 'hasComments': 'false',\n",
       " 'id': 3844774,\n",
       " 'replayId': 901540,\n",
       " 'team1': {'casualties': {'bh': 1, 'rip': 0, 'si': 0},\n",
       "  'coach': {'id': 239684, 'name': 'SunBro'},\n",
       "  'fanfactor': 0,\n",
       "  'gate': 7000,\n",
       "  'id': 856372,\n",
       "  'name': 'Teotiqua Oracles',\n",
       "  'roster': {'id': 922, 'name': 'Skink (CIBBL)'},\n",
       "  'score': 1,\n",
       "  'teamValue': '1010k',\n",
       "  'tournamentWeight': '1150k',\n",
       "  'winnings': 30000},\n",
       " 'team2': {'casualties': {'bh': 1, 'rip': 0, 'si': 0},\n",
       "  'coach': {'id': 239726, 'name': 'CrudeDoodle'},\n",
       "  'fanfactor': 1,\n",
       "  'gate': 5000,\n",
       "  'id': 856203,\n",
       "  'name': 'Southland Scuttlers',\n",
       "  'roster': {'id': 921, 'name': 'Forest Goblin (CIBBL)'},\n",
       "  'score': 2,\n",
       "  'teamValue': '980k',\n",
       "  'tournamentWeight': '1430k',\n",
       "  'winnings': 60000},\n",
       " 'time': '09:08:31',\n",
       " 'tournamentId': 41656}"
      ]
     },
     "execution_count": 9,
     "metadata": {},
     "output_type": "execute_result"
    }
   ],
   "source": [
    "M.get_api_data()"
   ]
  },
  {
   "cell_type": "code",
   "execution_count": 10,
   "metadata": {},
   "outputs": [],
   "source": [
    "S = T.get_api_schedule_data()[0]"
   ]
  },
  {
   "cell_type": "code",
   "execution_count": 11,
   "metadata": {},
   "outputs": [
    {
     "data": {
      "text/plain": [
       "{'created': '2016-10-10 09:49:20',\n",
       " 'modified': '2016-10-24 09:08:31',\n",
       " 'position': 0,\n",
       " 'result': {'id': 3844774,\n",
       "  'replayId': 901540,\n",
       "  'teams': [{'id': 856203, 'score': 2}, {'id': 856372, 'score': 1}],\n",
       "  'winner': '856203'},\n",
       " 'round': 0,\n",
       " 'teams': [{'id': 856203, 'name': 'Southland Scuttlers'},\n",
       "  {'id': 856372, 'name': 'Teotiqua Oracles'}]}"
      ]
     },
     "execution_count": 11,
     "metadata": {},
     "output_type": "execute_result"
    }
   ],
   "source": [
    "S"
   ]
  },
  {
   "cell_type": "code",
   "execution_count": 12,
   "metadata": {},
   "outputs": [
    {
     "data": {
      "text/plain": [
       "{856203: 'Southland Scuttlers', 856372: 'Teotiqua Oracles'}"
      ]
     },
     "execution_count": 12,
     "metadata": {},
     "output_type": "execute_result"
    }
   ],
   "source": [
    "{d[\"id\"]: d[\"name\"] for d in S[\"teams\"]}"
   ]
  },
  {
   "cell_type": "code",
   "execution_count": 13,
   "metadata": {},
   "outputs": [],
   "source": [
    "TD_diff = S[\"result\"][\"teams\"][0][\"score\"] - S[\"result\"][\"teams\"][1][\"score\"]"
   ]
  },
  {
   "cell_type": "code",
   "execution_count": 14,
   "metadata": {},
   "outputs": [
    {
     "data": {
      "text/plain": [
       "1"
      ]
     },
     "execution_count": 14,
     "metadata": {},
     "output_type": "execute_result"
    }
   ],
   "source": [
    "TD_diff"
   ]
  },
  {
   "cell_type": "code",
   "execution_count": 15,
   "metadata": {},
   "outputs": [],
   "source": [
    "for T in li:\n",
    "    for M in T.matches():\n",
    "        if M.conceded():\n",
    "            break\n",
    "    else:\n",
    "        continue\n",
    "    break"
   ]
  },
  {
   "cell_type": "code",
   "execution_count": 16,
   "metadata": {},
   "outputs": [
    {
     "data": {
      "text/plain": [
       "{'id': 871123, 'name': 'Knights of the Black Grail'}"
      ]
     },
     "execution_count": 16,
     "metadata": {},
     "output_type": "execute_result"
    }
   ],
   "source": [
    "M.conceded()"
   ]
  },
  {
   "cell_type": "code",
   "execution_count": 17,
   "metadata": {},
   "outputs": [
    {
     "data": {
      "text/plain": [
       "{872804: 1, 871123: 0}"
      ]
     },
     "execution_count": 17,
     "metadata": {},
     "output_type": "execute_result"
    }
   ],
   "source": [
    "M.casualties()"
   ]
  },
  {
   "cell_type": "code",
   "execution_count": 18,
   "metadata": {},
   "outputs": [
    {
     "data": {
      "text/plain": [
       "{'conceded': 'Team2',\n",
       " 'date': '2017-04-13',\n",
       " 'gate': 13000,\n",
       " 'hasComments': 'false',\n",
       " 'id': 3894859,\n",
       " 'replayId': 959223,\n",
       " 'team1': {'casualties': {'bh': 1, 'rip': 0, 'si': 0},\n",
       "  'coach': {'id': 21251, 'name': 'wallenstein'},\n",
       "  'fanfactor': 1,\n",
       "  'gate': 7000,\n",
       "  'id': 872804,\n",
       "  'name': 'Zutzendorf Stallions',\n",
       "  'roster': {'id': 1288, 'name': 'Half-Elf (BIBBL)'},\n",
       "  'score': 1,\n",
       "  'teamValue': '1180k',\n",
       "  'tournamentWeight': '2010k',\n",
       "  'winnings': 120000},\n",
       " 'team2': {'casualties': {'bh': 0, 'rip': 0, 'si': 0},\n",
       "  'coach': {'id': 34352, 'name': 'Mr_Fantastic'},\n",
       "  'fanfactor': -1,\n",
       "  'gate': 6000,\n",
       "  'id': 871123,\n",
       "  'name': 'Knights of the Black Grail',\n",
       "  'roster': {'id': 928, 'name': 'Blood Dragon (CIBBL)'},\n",
       "  'score': 0,\n",
       "  'teamValue': '1110k',\n",
       "  'tournamentWeight': '1100k',\n",
       "  'winnings': 0},\n",
       " 'time': '18:59:19',\n",
       " 'tournamentId': 42806}"
      ]
     },
     "execution_count": 18,
     "metadata": {},
     "output_type": "execute_result"
    }
   ],
   "source": [
    "M.get_api_data()"
   ]
  },
  {
   "cell_type": "code",
   "execution_count": 19,
   "metadata": {},
   "outputs": [],
   "source": [
    "d2 = _[\"team1\"]"
   ]
  },
  {
   "cell_type": "code",
   "execution_count": 22,
   "metadata": {},
   "outputs": [
    {
     "data": {
      "text/plain": [
       "1"
      ]
     },
     "execution_count": 22,
     "metadata": {},
     "output_type": "execute_result"
    }
   ],
   "source": [
    "sum(d2[\"casualties\"].values())"
   ]
  },
  {
   "cell_type": "code",
   "execution_count": null,
   "metadata": {},
   "outputs": [],
   "source": []
  }
 ],
 "metadata": {
  "kernelspec": {
   "display_name": "Python 3",
   "language": "python",
   "name": "python3"
  },
  "language_info": {
   "codemirror_mode": {
    "name": "ipython",
    "version": 3
   },
   "file_extension": ".py",
   "mimetype": "text/x-python",
   "name": "python",
   "nbconvert_exporter": "python",
   "pygments_lexer": "ipython3",
   "version": "3.7.3"
  }
 },
 "nbformat": 4,
 "nbformat_minor": 2
}
