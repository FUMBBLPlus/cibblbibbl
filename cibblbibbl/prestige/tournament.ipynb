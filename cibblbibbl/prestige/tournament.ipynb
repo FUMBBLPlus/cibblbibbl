{
 "cells": [
  {
   "cell_type": "code",
   "execution_count": 175,
   "metadata": {},
   "outputs": [
    {
     "name": "stdout",
     "output_type": "stream",
     "text": [
      "The autoreload extension is already loaded. To reload it, use:\n",
      "  %reload_ext autoreload\n"
     ]
    }
   ],
   "source": [
    "%load_ext autoreload\n",
    "%autoreload"
   ]
  },
  {
   "cell_type": "code",
   "execution_count": 177,
   "metadata": {},
   "outputs": [],
   "source": [
    "%reload_ext autoreload"
   ]
  },
  {
   "cell_type": "code",
   "execution_count": 178,
   "metadata": {},
   "outputs": [],
   "source": [
    "import json\n",
    "import pathlib\n",
    "import re"
   ]
  },
  {
   "cell_type": "code",
   "execution_count": 179,
   "metadata": {},
   "outputs": [],
   "source": [
    "import pyfumbbl\n",
    "import cibblbibbl"
   ]
  },
  {
   "cell_type": "code",
   "execution_count": 180,
   "metadata": {},
   "outputs": [],
   "source": [
    "cibblbibbl.tournament.init(\"cibbl\")\n",
    "li = cibblbibbl.tournament.tournament[\"cibbl\"]"
   ]
  },
  {
   "cell_type": "code",
   "execution_count": 183,
   "metadata": {},
   "outputs": [],
   "source": [
    "T = li[0]"
   ]
  },
  {
   "cell_type": "code",
   "execution_count": 184,
   "metadata": {},
   "outputs": [
    {
     "data": {
      "text/plain": [
       "(Match(3844774),\n",
       " Match(3844104),\n",
       " Match(3844469),\n",
       " Match(3843361),\n",
       " Match(3843313),\n",
       " Match(3843346),\n",
       " Match(3842059),\n",
       " Match(3842113),\n",
       " Match(3842906),\n",
       " Match(3840949),\n",
       " Match(3840849),\n",
       " Match(3841702),\n",
       " Match(3841518),\n",
       " Match(3840872),\n",
       " Match(3841497),\n",
       " Match(3840950),\n",
       " Match(3841323),\n",
       " Match(3840909),\n",
       " Match(3841197),\n",
       " Match(3841579),\n",
       " Match(3840982))"
      ]
     },
     "execution_count": 184,
     "metadata": {},
     "output_type": "execute_result"
    }
   ],
   "source": [
    "T.matches()"
   ]
  },
  {
   "cell_type": "code",
   "execution_count": 185,
   "metadata": {},
   "outputs": [],
   "source": [
    "M = T.matches()[0]"
   ]
  },
  {
   "cell_type": "code",
   "execution_count": 186,
   "metadata": {},
   "outputs": [
    {
     "data": {
      "text/plain": [
       "{'conceded': 'None',\n",
       " 'date': '2016-10-24',\n",
       " 'gate': 12000,\n",
       " 'hasComments': 'false',\n",
       " 'id': 3844774,\n",
       " 'replayId': 901540,\n",
       " 'team1': {'casualties': {'bh': 1, 'rip': 0, 'si': 0},\n",
       "  'coach': {'id': 239684, 'name': 'SunBro'},\n",
       "  'fanfactor': 0,\n",
       "  'gate': 7000,\n",
       "  'id': 856372,\n",
       "  'name': 'Teotiqua Oracles',\n",
       "  'roster': {'id': 922, 'name': 'Skink (CIBBL)'},\n",
       "  'score': 1,\n",
       "  'teamValue': '1010k',\n",
       "  'tournamentWeight': '1150k',\n",
       "  'winnings': 30000},\n",
       " 'team2': {'casualties': {'bh': 1, 'rip': 0, 'si': 0},\n",
       "  'coach': {'id': 239726, 'name': 'CrudeDoodle'},\n",
       "  'fanfactor': 1,\n",
       "  'gate': 5000,\n",
       "  'id': 856203,\n",
       "  'name': 'Southland Scuttlers',\n",
       "  'roster': {'id': 921, 'name': 'Forest Goblin (CIBBL)'},\n",
       "  'score': 2,\n",
       "  'teamValue': '980k',\n",
       "  'tournamentWeight': '1430k',\n",
       "  'winnings': 60000},\n",
       " 'time': '09:08:31',\n",
       " 'tournamentId': 41656}"
      ]
     },
     "execution_count": 186,
     "metadata": {},
     "output_type": "execute_result"
    }
   ],
   "source": [
    "M.get_api_data()"
   ]
  },
  {
   "cell_type": "code",
   "execution_count": null,
   "metadata": {},
   "outputs": [],
   "source": []
  }
 ],
 "metadata": {
  "kernelspec": {
   "display_name": "Python 3",
   "language": "python",
   "name": "python3"
  },
  "language_info": {
   "codemirror_mode": {
    "name": "ipython",
    "version": 3
   },
   "file_extension": ".py",
   "mimetype": "text/x-python",
   "name": "python",
   "nbconvert_exporter": "python",
   "pygments_lexer": "ipython3",
   "version": "3.7.3"
  }
 },
 "nbformat": 4,
 "nbformat_minor": 2
}
