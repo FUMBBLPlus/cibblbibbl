{
 "cells": [
  {
   "cell_type": "code",
   "execution_count": 1,
   "metadata": {},
   "outputs": [],
   "source": [
    "%load_ext autoreload\n",
    "%autoreload"
   ]
  },
  {
   "cell_type": "code",
   "execution_count": 85,
   "metadata": {},
   "outputs": [],
   "source": [
    "import configparser\n",
    "import json\n",
    "import pathlib\n",
    "import re"
   ]
  },
  {
   "cell_type": "code",
   "execution_count": 2,
   "metadata": {},
   "outputs": [],
   "source": [
    "import pyfumbbl\n",
    "import cibblbibbl"
   ]
  },
  {
   "cell_type": "code",
   "execution_count": 5,
   "metadata": {},
   "outputs": [],
   "source": [
    "group_id = cibblbibbl.settings[\"cibbl.groupId\"]"
   ]
  },
  {
   "cell_type": "code",
   "execution_count": 153,
   "metadata": {},
   "outputs": [],
   "source": [
    "class Tournament:\n",
    "    \n",
    "    def __init__(self, ID):\n",
    "        self._ID = ID\n",
    "        self._config = None\n",
    "    \n",
    "    @property\n",
    "    def ID(self):\n",
    "        return self._ID\n",
    "\n",
    "    @property\n",
    "    def name(self):\n",
    "        return self.get_api_data()[\"name\"]\n",
    "    \n",
    "    @property\n",
    "    def status(self):\n",
    "        return self.get_api_data()[\"status\"]\n",
    "\n",
    "    @property\n",
    "    def season(self):\n",
    "        seasons = tuple(cibblbibbl.settings[\"cibblbibbl.seasons\"])\n",
    "        for s in seasons:\n",
    "            if s in self.name:\n",
    "                return s\n",
    "        return \"\"\n",
    "\n",
    "    @property\n",
    "    def season_nr(self):\n",
    "        seasons = tuple(cibblbibbl.settings[\"cibblbibbl.seasons\"])\n",
    "        season = self.season\n",
    "        if season:\n",
    "            return seasons.index(season) + 1\n",
    "    \n",
    "    @property\n",
    "    def style(self):\n",
    "        return pyfumbbl.tournament.styles[int(self.get_api_data()[\"type\"]) - 1]\n",
    "\n",
    "    @property\n",
    "    def year(self):\n",
    "        return int(self.get_api_data()[\"season\"])\n",
    "    \n",
    "    def get_api_data(self):\n",
    "        filename = f'{self.ID:0>8}.json'\n",
    "        p = pathlib.Path(cibblbibbl.settings[\"cibblbibbl-data.path\"]) / f'cache/api-tournament/{filename}'\n",
    "        if p.is_file() and p.stat().st_size:\n",
    "            with p.open(encoding=\"utf8\") as f:\n",
    "                o = json.load(f)\n",
    "        else:\n",
    "            o = pyfumbbl.tournament.get(self.ID)\n",
    "            if p.parent.is_dir():\n",
    "                with p.open(\"w\", encoding=\"utf8\") as f:\n",
    "                    json.dump(\n",
    "                        o,\n",
    "                        f,\n",
    "                        ensure_ascii = False,\n",
    "                        indent = \"\\t\",\n",
    "                        sort_keys = True,\n",
    "                    )\n",
    "        return o\n",
    "\n",
    "    @property\n",
    "    def configfile(self):\n",
    "        filename = f'y{T.year:0>2}s{T.season_nr}.cfg'\n",
    "        return pathlib.Path(cibblbibbl.settings[\"cibblbibbl-data.path\"]) / f'tournaments/{filename}'\n",
    "    \n",
    "    def config_init(self):\n",
    "        if self._config is not None:\n",
    "            return\n",
    "        c = self._config = configparser.ConfigParser()\n",
    "        configfile = self.configfile\n",
    "        data_exists = (configfile.is_file() and configfile.stat().st_size)\n",
    "        if data_exists:\n",
    "            with configfile.open(encoding=\"utf8\") as f:\n",
    "                c.read_file(f)\n",
    "        section = str(self.ID)\n",
    "        if not c.has_section(section):\n",
    "            c.add_section(section)\n",
    "        if not c.has_option(section, \"name\"):\n",
    "            c.set(section, \"name\", self.name)\n",
    "        self.config_save()\n",
    "        \n",
    "\n",
    "        \n",
    "    def config_save(self, c):\n",
    "        configfile = self.configfile\n",
    "        with configfile.open(\"w\", encoding=\"utf8\") as f:\n",
    "                self._config.write(f)\n",
    "\n",
    "    @property\n",
    "    def prestiges(self):\n",
    "        if self._config is None:\n",
    "            self.config_init()\n",
    "        c = self._config\n",
    "        pattern = \"^prestige\\.(\\d+)$\"\n",
    "        prestige_array = []\n",
    "        section = str(self.ID)\n",
    "        if c.has_section(section):\n",
    "            nr = 1\n",
    "            while c.has_option(section, f'prestige.{nr}'):\n",
    "                prestige_array.append(int(c.get(section, f'prestige.{nr}')))\n",
    "                nr += 1\n",
    "        return tuple(prestige_array)\n",
    "    \n",
    "    @prestiges.setter\n",
    "    def prestiges(self, prestige_array):\n",
    "        if self._config is None:\n",
    "            self.config_init()\n",
    "        c = self._config\n",
    "        section = str(self.ID)\n",
    "        if not c.has_section(section):\n",
    "            c.add_section(section)\n",
    "        for nr, value in enumerate(prestige_array, 1):\n",
    "            c.set(section, f'prestige.{nr}', str(value))\n",
    "        self.config_save()\n",
    "\n",
    "    @prestiges.deleter\n",
    "    def prestiges(self):\n",
    "        if self._config is None:\n",
    "            self.config_init()\n",
    "        pattern = \"^prestige\\.(\\d+)$\"\n",
    "        c = self._config\n",
    "        section = str(self.ID)\n",
    "        if c.has_section(section):\n",
    "            nr = 1\n",
    "            while c.has_option(section, f'prestige.{nr}'):\n",
    "                c.remove_option(section, f'prestige.{nr}')\n",
    "                nr += 1\n",
    "        self.config_save()\n",
    "        "
   ]
  },
  {
   "cell_type": "code",
   "execution_count": 154,
   "metadata": {},
   "outputs": [],
   "source": [
    "li = [(Tournament(T[\"id\"]), T) for T in pyfumbbl.group.tournaments(group_id)]"
   ]
  },
  {
   "cell_type": "code",
   "execution_count": 155,
   "metadata": {},
   "outputs": [
    {
     "data": {
      "text/plain": [
       "{'id': 41656,\n",
       " 'name': 'CIBBL - Year One, Winter',\n",
       " 'type': 'OpenRoundRobin',\n",
       " 'status': 'Completed',\n",
       " 'start': '2016-10-06',\n",
       " 'end': '2016-10-06',\n",
       " 'season': 1,\n",
       " 'winner': {'id': 856372, 'name': 'Teotiqua Oracles'}}"
      ]
     },
     "execution_count": 155,
     "metadata": {},
     "output_type": "execute_result"
    }
   ],
   "source": [
    "T = li[0][0]\n",
    "li[0][1]"
   ]
  },
  {
   "cell_type": "code",
   "execution_count": 156,
   "metadata": {},
   "outputs": [
    {
     "data": {
      "text/plain": [
       "{'end': '2016-10-06',\n",
       " 'group': '10455',\n",
       " 'id': '41656',\n",
       " 'name': 'CIBBL - Year One, Winter',\n",
       " 'progression': 'Standard',\n",
       " 'season': '1',\n",
       " 'start': '2016-10-06',\n",
       " 'status': 'Completed',\n",
       " 'type': '3',\n",
       " 'winner': '856372'}"
      ]
     },
     "execution_count": 156,
     "metadata": {},
     "output_type": "execute_result"
    }
   ],
   "source": [
    "T.get_api_data()"
   ]
  },
  {
   "cell_type": "code",
   "execution_count": 157,
   "metadata": {},
   "outputs": [
    {
     "data": {
      "text/plain": [
       "'Open Round Robin'"
      ]
     },
     "execution_count": 157,
     "metadata": {},
     "output_type": "execute_result"
    }
   ],
   "source": [
    "T.style"
   ]
  },
  {
   "cell_type": "code",
   "execution_count": 158,
   "metadata": {},
   "outputs": [
    {
     "data": {
      "text/plain": [
       "'Completed'"
      ]
     },
     "execution_count": 158,
     "metadata": {},
     "output_type": "execute_result"
    }
   ],
   "source": [
    "T.status"
   ]
  },
  {
   "cell_type": "code",
   "execution_count": 159,
   "metadata": {},
   "outputs": [
    {
     "data": {
      "text/plain": [
       "'CIBBL - Year One, Winter'"
      ]
     },
     "execution_count": 159,
     "metadata": {},
     "output_type": "execute_result"
    }
   ],
   "source": [
    "T.name"
   ]
  },
  {
   "cell_type": "code",
   "execution_count": 160,
   "metadata": {},
   "outputs": [
    {
     "data": {
      "text/plain": [
       "'y01s1.cfg'"
      ]
     },
     "execution_count": 160,
     "metadata": {},
     "output_type": "execute_result"
    }
   ],
   "source": [
    "f'y{T.year:0>2}s{T.season_nr}.cfg'"
   ]
  },
  {
   "cell_type": "code",
   "execution_count": 161,
   "metadata": {},
   "outputs": [
    {
     "data": {
      "text/plain": [
       "'1'"
      ]
     },
     "execution_count": 161,
     "metadata": {},
     "output_type": "execute_result"
    }
   ],
   "source": [
    "re.match(\"^prestige\\.(\\d+)$\", \"prestige.1\").group(1)"
   ]
  },
  {
   "cell_type": "code",
   "execution_count": 164,
   "metadata": {},
   "outputs": [],
   "source": [
    "del T.prestiges"
   ]
  },
  {
   "cell_type": "code",
   "execution_count": 163,
   "metadata": {},
   "outputs": [],
   "source": [
    "T.prestiges = [10, 3, 1]"
   ]
  },
  {
   "cell_type": "code",
   "execution_count": null,
   "metadata": {},
   "outputs": [],
   "source": [
    "for T, t_data in li:\n",
    "    T._config_save"
   ]
  }
 ],
 "metadata": {
  "kernelspec": {
   "display_name": "Python 3",
   "language": "python",
   "name": "python3"
  },
  "language_info": {
   "codemirror_mode": {
    "name": "ipython",
    "version": 3
   },
   "file_extension": ".py",
   "mimetype": "text/x-python",
   "name": "python",
   "nbconvert_exporter": "python",
   "pygments_lexer": "ipython3",
   "version": "3.7.3"
  }
 },
 "nbformat": 4,
 "nbformat_minor": 2
}
