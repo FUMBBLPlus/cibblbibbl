{
 "cells": [
  {
   "cell_type": "code",
   "execution_count": 1,
   "metadata": {},
   "outputs": [],
   "source": [
    "%load_ext autoreload\n",
    "%autoreload"
   ]
  },
  {
   "cell_type": "code",
   "execution_count": 2,
   "metadata": {},
   "outputs": [],
   "source": [
    "%reload_ext autoreload"
   ]
  },
  {
   "cell_type": "code",
   "execution_count": 3,
   "metadata": {},
   "outputs": [],
   "source": [
    "import copy\n",
    "import itertools\n",
    "import json\n",
    "import pathlib\n",
    "import re"
   ]
  },
  {
   "cell_type": "code",
   "execution_count": 4,
   "metadata": {},
   "outputs": [],
   "source": [
    "import pytourney\n",
    "import pyfumbbl\n",
    "import cibblbibbl"
   ]
  },
  {
   "cell_type": "code",
   "execution_count": 5,
   "metadata": {},
   "outputs": [],
   "source": [
    "cibblbibbl.tournament.init(\"cibbl\")\n",
    "li = cibblbibbl.tournament.tournament[\"cibbl\"]"
   ]
  },
  {
   "cell_type": "code",
   "execution_count": 6,
   "metadata": {},
   "outputs": [],
   "source": [
    "T = li[-10]\n",
    "T"
   ]
  },
  {
   "cell_type": "code",
   "execution_count": null,
   "metadata": {},
   "outputs": [],
   "source": []
  },
  {
   "cell_type": "code",
   "execution_count": 9,
   "metadata": {},
   "outputs": [],
   "source": [
    "S = T.calculate_standings()"
   ]
  },
  {
   "cell_type": "code",
   "execution_count": 10,
   "metadata": {},
   "outputs": [
    {
     "data": {
      "text/plain": [
       "[]"
      ]
     },
     "execution_count": 10,
     "metadata": {},
     "output_type": "execute_result"
    }
   ],
   "source": [
    "T._coin_toss_missing(S)"
   ]
  },
  {
   "cell_type": "code",
   "execution_count": 7,
   "metadata": {},
   "outputs": [
    {
     "name": "stdout",
     "output_type": "stream",
     "text": [
      "{'assistantCoaches': 0, 'cheerleaders': 0, 'coach': {'id': 239488, 'name': 'Kzarik'}, 'fanFactor': 5, 'id': 889232, 'league': 10455, 'name': 'Lost Golems of Grungni', 'players': [{'id': 12701391, 'injuries': '', 'name': '?Masterwork? Slade Warhammer', 'number': 1, 'position': 'Incarnate Elemental of Earth', 'positionId': 7427, 'skills': []}, {'id': 12279033, 'injuries': '', 'name': 'Naiad Tori', 'number': 2, 'position': 'Water Elemental', 'positionId': 7424, 'skills': ['Block', 'Dodge', 'Diving Tackle']}, {'id': 12531045, 'injuries': '', 'name': 'Chthonic Microcline', 'number': 3, 'position': 'Earth Elemental', 'positionId': 7423, 'skills': []}, {'id': 11989952, 'injuries': '-av', 'name': 'Chthonic Cobaltite', 'number': 4, 'position': 'Earth Elemental', 'positionId': 7423, 'skills': ['Block', 'Guard']}, {'id': 12685626, 'injuries': '', 'name': 'Chthonic Saltspar', 'number': 5, 'position': 'Earth Elemental', 'positionId': 7423, 'skills': []}, {'id': 12187033, 'injuries': 'm', 'name': 'Chthonic Cinnabar', 'number': 6, 'position': 'Earth Elemental', 'positionId': 7423, 'skills': ['Dirty Player']}, {'id': 12519946, 'injuries': '', 'name': 'Chthonic Puddingstone', 'number': 7, 'position': 'Earth Elemental', 'positionId': 7423, 'skills': ['Block']}, {'id': 12600678, 'injuries': '', 'name': 'Lucius Magma', 'number': 8, 'position': 'Fire Elemental', 'positionId': 7425, 'skills': ['Block']}, {'id': 12694204, 'injuries': '', 'name': 'Hieronymous Sylph', 'number': 9, 'position': 'Air Elemental', 'positionId': 7426, 'skills': []}, {'id': 12399766, 'injuries': '', 'name': 'Chthonic Muscovite', 'number': 10, 'position': 'Earth Elemental', 'positionId': 7423, 'skills': []}, {'id': 12145447, 'injuries': '', 'name': 'Magma Flow', 'number': 11, 'position': 'Fire Elemental', 'positionId': 7425, 'skills': ['+AG', 'Block', 'Mighty Blow', 'Tackle']}, {'id': 12718451, 'injuries': '', 'name': 'Katerina Sylph', 'number': 12, 'position': 'Air Elemental', 'positionId': 7426, 'skills': []}, {'id': 11989980, 'injuries': '', 'name': 'Chthonic Kaolinite', 'number': 14, 'position': 'Earth Elemental', 'positionId': 7423, 'skills': ['Block', 'Guard', 'Dodge']}, {'id': 12502199, 'injuries': '', 'name': 'Chthonic Cassiterite', 'number': 15, 'position': 'Earth Elemental', 'positionId': 7423, 'skills': []}, {'id': 12332036, 'injuries': '', 'name': 'Naiad Chloe', 'number': 16, 'position': 'Water Elemental', 'positionId': 7424, 'skills': ['Dodge', 'Block']}], 'rerolls': 4, 'roster': {'id': 941, 'name': 'Elemental - Earth (CIBBL)'}, 'ruleset': 432, 'status': 'Active', 'teamValue': 1580000, 'treasury': 60000}\n"
     ]
    },
    {
     "ename": "TypeError",
     "evalue": "string indices must be integers",
     "output_type": "error",
     "traceback": [
      "\u001b[0;31m---------------------------------------------------------------------------\u001b[0m",
      "\u001b[0;31mTypeError\u001b[0m                                 Traceback (most recent call last)",
      "\u001b[0;32m<ipython-input-7-e856bad61d66>\u001b[0m in \u001b[0;36m<module>\u001b[0;34m\u001b[0m\n\u001b[0;32m----> 1\u001b[0;31m \u001b[0mT\u001b[0m\u001b[0;34m.\u001b[0m\u001b[0mstandings\u001b[0m\u001b[0;34m(\u001b[0m\u001b[0;34m)\u001b[0m\u001b[0;34m\u001b[0m\u001b[0;34m\u001b[0m\u001b[0m\n\u001b[0m",
      "\u001b[0;32m/usr/lib/python3.7/site-packages/cibblbibbl/tournament/handler/default.py\u001b[0m in \u001b[0;36mstandings\u001b[0;34m(self, check_for_coin_toss)\u001b[0m\n\u001b[1;32m    144\u001b[0m     \u001b[0mprint\u001b[0m\u001b[0;34m(\u001b[0m\u001b[0mS\u001b[0m\u001b[0;34m)\u001b[0m\u001b[0;34m\u001b[0m\u001b[0;34m\u001b[0m\u001b[0m\n\u001b[1;32m    145\u001b[0m     \u001b[0;32mif\u001b[0m \u001b[0mcheck_for_coin_toss\u001b[0m\u001b[0;34m:\u001b[0m\u001b[0;34m\u001b[0m\u001b[0;34m\u001b[0m\u001b[0m\n\u001b[0;32m--> 146\u001b[0;31m       \u001b[0mli\u001b[0m \u001b[0;34m=\u001b[0m \u001b[0mself\u001b[0m\u001b[0;34m.\u001b[0m\u001b[0m_coin_toss_missing\u001b[0m\u001b[0;34m(\u001b[0m\u001b[0mS\u001b[0m\u001b[0;34m)\u001b[0m\u001b[0;34m\u001b[0m\u001b[0;34m\u001b[0m\u001b[0m\n\u001b[0m\u001b[1;32m    147\u001b[0m       \u001b[0;32mfor\u001b[0m \u001b[0mteams\u001b[0m \u001b[0;32min\u001b[0m \u001b[0mli\u001b[0m\u001b[0;34m:\u001b[0m\u001b[0;34m\u001b[0m\u001b[0;34m\u001b[0m\u001b[0m\n\u001b[1;32m    148\u001b[0m         \u001b[0ms\u001b[0m \u001b[0;34m=\u001b[0m \u001b[0;34m\"Coin toss missing for \"\u001b[0m\u001b[0;34m\u001b[0m\u001b[0;34m\u001b[0m\u001b[0m\n",
      "\u001b[0;32m/usr/lib/python3.7/site-packages/cibblbibbl/tournament/handler/default.py\u001b[0m in \u001b[0;36m_coin_toss_missing\u001b[0;34m(self, S)\u001b[0m\n\u001b[1;32m    167\u001b[0m     \u001b[0mkey_rows\u001b[0m \u001b[0;34m=\u001b[0m \u001b[0;34m{\u001b[0m\u001b[0;34m}\u001b[0m\u001b[0;34m\u001b[0m\u001b[0;34m\u001b[0m\u001b[0m\n\u001b[1;32m    168\u001b[0m     \u001b[0;32mfor\u001b[0m \u001b[0md\u001b[0m \u001b[0;32min\u001b[0m \u001b[0mS\u001b[0m\u001b[0;34m:\u001b[0m\u001b[0;34m\u001b[0m\u001b[0;34m\u001b[0m\u001b[0m\n\u001b[0;32m--> 169\u001b[0;31m       \u001b[0mkey_rows\u001b[0m\u001b[0;34m.\u001b[0m\u001b[0msetdefault\u001b[0m\u001b[0;34m(\u001b[0m\u001b[0mself\u001b[0m\u001b[0;34m.\u001b[0m\u001b[0mstandings_keyf\u001b[0m\u001b[0;34m(\u001b[0m\u001b[0md\u001b[0m\u001b[0;34m)\u001b[0m\u001b[0;34m,\u001b[0m \u001b[0;34m[\u001b[0m\u001b[0;34m]\u001b[0m\u001b[0;34m)\u001b[0m\u001b[0;34m.\u001b[0m\u001b[0mappend\u001b[0m\u001b[0;34m(\u001b[0m\u001b[0md\u001b[0m\u001b[0;34m)\u001b[0m\u001b[0;34m\u001b[0m\u001b[0;34m\u001b[0m\u001b[0m\n\u001b[0m\u001b[1;32m    170\u001b[0m     \u001b[0;32mfor\u001b[0m \u001b[0mli2\u001b[0m \u001b[0;32min\u001b[0m \u001b[0mkey_rows\u001b[0m\u001b[0;34m.\u001b[0m\u001b[0mvalues\u001b[0m\u001b[0;34m(\u001b[0m\u001b[0;34m)\u001b[0m\u001b[0;34m:\u001b[0m\u001b[0;34m\u001b[0m\u001b[0;34m\u001b[0m\u001b[0m\n\u001b[1;32m    171\u001b[0m       \u001b[0;32mif\u001b[0m \u001b[0;36m1\u001b[0m \u001b[0;34m<\u001b[0m \u001b[0mlen\u001b[0m\u001b[0;34m(\u001b[0m\u001b[0mli2\u001b[0m\u001b[0;34m)\u001b[0m\u001b[0;34m:\u001b[0m\u001b[0;34m\u001b[0m\u001b[0;34m\u001b[0m\u001b[0m\n",
      "\u001b[0;32m/usr/lib/python3.7/site-packages/cibblbibbl/tournament/handler/default.py\u001b[0m in \u001b[0;36mstandings_keyf\u001b[0;34m(row)\u001b[0m\n\u001b[1;32m    201\u001b[0m     \u001b[0md\u001b[0m \u001b[0;34m=\u001b[0m \u001b[0mrow\u001b[0m\u001b[0;34m\u001b[0m\u001b[0;34m\u001b[0m\u001b[0m\n\u001b[1;32m    202\u001b[0m     return (\n\u001b[0;32m--> 203\u001b[0;31m       \u001b[0;34m-\u001b[0m\u001b[0md\u001b[0m\u001b[0;34m[\u001b[0m\u001b[0;34m\"pts\"\u001b[0m\u001b[0;34m]\u001b[0m\u001b[0;34m,\u001b[0m \u001b[0md\u001b[0m\u001b[0;34m[\u001b[0m\u001b[0;34m\"hth\"\u001b[0m\u001b[0;34m]\u001b[0m\u001b[0;34m,\u001b[0m \u001b[0;34m-\u001b[0m\u001b[0md\u001b[0m\u001b[0;34m[\u001b[0m\u001b[0;34m\"tdd\"\u001b[0m\u001b[0;34m]\u001b[0m\u001b[0;34m,\u001b[0m \u001b[0;34m-\u001b[0m\u001b[0md\u001b[0m\u001b[0;34m[\u001b[0m\u001b[0;34m\"casd\"\u001b[0m\u001b[0;34m]\u001b[0m\u001b[0;34m,\u001b[0m \u001b[0;34m-\u001b[0m\u001b[0md\u001b[0m\u001b[0;34m[\u001b[0m\u001b[0;34m\"coin\"\u001b[0m\u001b[0;34m]\u001b[0m\u001b[0;34m\u001b[0m\u001b[0;34m\u001b[0m\u001b[0m\n\u001b[0m\u001b[1;32m    204\u001b[0m   )\n\u001b[1;32m    205\u001b[0m \u001b[0;34m\u001b[0m\u001b[0m\n",
      "\u001b[0;31mTypeError\u001b[0m: string indices must be integers"
     ]
    }
   ],
   "source": [
    "T.standings()"
   ]
  },
  {
   "cell_type": "code",
   "execution_count": 8,
   "metadata": {},
   "outputs": [],
   "source": [
    "Te = cibblbibbl.team.Team(889232)"
   ]
  },
  {
   "cell_type": "code",
   "execution_count": 16,
   "metadata": {},
   "outputs": [
    {
     "data": {
      "text/plain": [
       "'Elemental - Earth'"
      ]
     },
     "execution_count": 16,
     "metadata": {},
     "output_type": "execute_result"
    }
   ],
   "source": [
    "Te.roster_name"
   ]
  },
  {
   "cell_type": "code",
   "execution_count": 10,
   "metadata": {},
   "outputs": [],
   "source": [
    "T.set_standings_data(_)"
   ]
  },
  {
   "cell_type": "code",
   "execution_count": 9,
   "metadata": {},
   "outputs": [
    {
     "name": "stdout",
     "output_type": "stream",
     "text": [
      "41656 CIBBL - Year One, Winter\n",
      "41738 CIBBL - Year One, Spring - Cathay and Nippon\n",
      "41739 CIBBL - Year One, Spring - The Chaos Wastelands\n",
      "41740 CIBBL - Year One, Spring - The Old World\n",
      "41741 CIBBL - Year One, Spring - Southlands and Araby\n",
      "41892 CIBBL - Year One, Spring - Ind, Lumbria & Khuresh\n",
      "42038 CIBBL - Year One, Summer - Heart of Glory\n",
      "42040 CIBBL - Year One, Summer - Obsidian Chalice\n",
      "42041 CIBBL - Year One, Summer - Pearl Chalice\n",
      "42172 CIBBL - Year One, Spring/Summer - The Great Ocean\n",
      "42239 CIBBL - Year One, Spring/Summer - The Great Ocean\n",
      "42425 CIBBL - Year One, Autumn - Copper Division\n",
      "42426 CIBBL - Year One, Autumn - Bronze Division\n",
      "42427 CIBBL - Year One, Autumn - Silver Division\n",
      "42428 CIBBL - Year One, Autumn - Gold Division\n",
      "42529 CIBBL - Year One, Autumn - Youngbloods I\n",
      "42660 CIBBL - Year One, Autumn - Youngbloods II\n",
      "42748 CIBBL - Year One, Autumn - Youngbloods III\n",
      "42804 CIBBL - Year Two, Winter - Friendlies (High TW)\n",
      "42805 CIBBL - Year Two, Winter - Friendlies (Mid TW)\n",
      "42806 CIBBL - Year Two, Winter - Friendlies (Low TW)\n",
      "42882 CIBBL - Year Two, Spring - Albion and Norsca\n",
      "42883 CIBBL - Year Two, Spring - Athel Loren\n",
      "42884 CIBBL - Year Two, Spring - Cathay and Nippon\n",
      "42885 CIBBL - Year Two, Spring - The Chaos Wastelands\n",
      "42886 CIBBL - Year Two, Spring - The Deep Caverns\n",
      "42887 CIBBL - Year Two, Spring - The Empire\n",
      "42888 CIBBL - Year Two, Spring - The Great Ocean\n",
      "42889 CIBBL - Year Two, Spring - Ind, Lumbria & Khuresh\n",
      "42890 CIBBL - Year Two, Spring - Lands of the Dead\n",
      "42891 CIBBL - Year Two, Spring - The Old World\n",
      "42892 CIBBL - Year Two, Spring - Southlands and Araby\n",
      "42893 CIBBL - Year Two, Spring - Sylvania\n",
      "43089 CIBBL - Year Two, Spring - The Great Ocean B\n",
      "43149 CIBBL - Year Two, Summer - The Little Cup\n",
      "43150 CIBBL - Year Two, Summer - Bloodskull Chalice\n",
      "43151 CIBBL - Year Two, Summer - Conjoined Blue Eagle I\n",
      "43152 CIBBL - Year Two, Summer - Conjoined Blue Eagle II\n",
      "43153 CIBBL - Year Two, Summer - Altdorf College Cup\n",
      "43154 CIBBL - Year Two, Summer - CabalVision Invit.\n",
      "43560 CIBBL - Year Two, Autumn - Granite Division\n",
      "43561 CIBBL - Year Two, Autumn - Marble Division\n",
      "43562 CIBBL - Year Two, Autumn - Iron Division\n",
      "43563 CIBBL - Year Two, Autumn - Tin Division\n",
      "43564 CIBBL - Year Two, Autumn - Copper Division\n",
      "43565 CIBBL - Year Two, Autumn - Bronze Division\n",
      "43566 CIBBL - Year Two, Autumn - Silver Division\n",
      "43567 CIBBL - Year Two, Autumn - Gold Division\n",
      "43665 CIBBL - Year Two, Autumn - Youngbloods IV\n",
      "43821 CIBBL - Year Two, Autumn - Youngbloods V\n",
      "43860 CIBBL - Year Two, Autumn - Granite Division II\n",
      "43868 CIBBL - Year Two, Autumn - Youngbloods VI\n",
      "43883 CIBBL - Year Two, Autumn - Youngbloods VII\n",
      "43990 CIBBL - Year Three, Winter - Friendlies (High TW)\n",
      "43991 CIBBL - Year Two, Winter - Friendlies (Mid TW)\n",
      "43992 CIBBL - Year Three, Winter - Friendlies (Low TW)\n",
      "44060 CIBBL - Year Three, Spring - Albion and Norsca\n",
      "44061 CIBBL - Year Three, Spring - Athel Loren\n",
      "44062 CIBBL - Year Three, Spring - Cathay and Nippon\n",
      "44063 CIBBL - Year Three, Spring - The Chaos Wastelands\n",
      "44064 CIBBL - Year Three, Spring - The Deep Caverns\n",
      "44065 CIBBL - Year Three, Spring - The Elemental Planes\n",
      "44066 CIBBL - Year Three, Spring - The Empire\n",
      "44067 CIBBL - Year Three, Spring - The Great Ocean\n",
      "44068 CIBBL - Year Three, Spring - Ind, Lumbria, Khuresh\n",
      "44069 CIBBL - Year Three, Spring - Lands of the Dead\n",
      "44070 CIBBL - Year Three, Spring - The Old World\n",
      "44071 CIBBL - Year Three, Spring - The Realms of Chaos\n",
      "44072 CIBBL - Year Three, Spring - Southlands & Araby\n",
      "44073 CIBBL - Year Three, Spring - Sylvania\n",
      "44074 CIBBL - Year Three, Spring - Ulthuan & Naggaroth\n",
      "44172 CIBBL - Year Three, Spring - Lands of the Dead II\n",
      "44207 CIBBL - Year Three, Spring - Elemental Planes II\n",
      "44232 CIBBL - Year Three, Spring - Youngbloods VIII\n",
      "44269 CIBBL - Year Three, Spring - Youngbloods IX\n",
      "44270 CIBBL - Year Three, Spring - Youngbloods X\n",
      "44378 CIBBL - Y3, Summer - Greater Dragon Grapple\n",
      "44379 CIBBL - Y3, Summer - Lesser Dragon Grapple\n",
      "44380 CIBBL - Y3, Summer - Exotic Creature Challenge (A)\n",
      "44381 CIBBL - Y3, Summer - Exotic Creature Challenge (B)\n",
      "44382 CIBBL - Y3, Summer - Exotic Creature Challenge R5\n",
      "44383 CIBBL - Y3, Summer - Vile Cauldron\n",
      "44384 CIBBL - Y3, Summer - Styles Clash (A)\n",
      "44385 CIBBL - Y3, Summer - Styles Clash (B)\n",
      "44386 CIBBL - Y3, Summer - Styles Clash R5\n",
      "44387 CIBBL - Y3, Summer - Explosion's Edge\n",
      "44388 CIBBL - Y3, Summer - Cup of Ancient Knowledge\n",
      "44389 CIBBL - Y3, Summer - Mushroom Scramble\n",
      "44390 CIBBL - Y3, Summer - Youngblood Scramble\n",
      "44462 CIBBL - Y3, Summer - Youngbloods XI\n",
      "44560 CIBBL - Y3, Summer - Youngbloods XII\n",
      "44743 CIBBL - Y3, Autumn - Cloth Division\n",
      "44744 CIBBL - Y3, Autumn - Wood Division\n",
      "44745 CIBBL - Y3, Autumn - Clay Division\n",
      "44746 CIBBL - Y3, Autumn - Granite Division\n",
      "44747 CIBBL - Y3, Autumn - Marble Division\n",
      "44748 CIBBL - Y3, Autumn - Iron Division\n",
      "44749 CIBBL - Y3, Autumn - Tin Division\n",
      "44750 CIBBL - Y3, Autumn - Copper Division\n",
      "44751 CIBBL - Y3, Autumn - Bronze Division\n",
      "44752 CIBBL - Y3, Autumn - Silver Division\n",
      "44753 CIBBL - Y3, Autumn - Gold Division\n",
      "44910 CIBBL - Y3, Summer - Youngbloods XIII\n",
      "45173 CIBBL - Y4, Winter - Friendlies (High)\n",
      "45174 CIBBL - Y4, Winter - Friendlies (Mid) \n",
      "45175 CIBBL - Y4, Winter - Friendlies (Low)\n",
      "45192 CIBBL - Y4, Spring - Albion and Norsca\n",
      "45193 CIBBL - Y4, Spring - Athel Loren\n",
      "45194 CIBBL - Y4, Spring - Cathay and Nippon\n",
      "45195 CIBBL - Y4, Spring - The Chaos Wastelands\n",
      "45218 CIBBL - Y4, Spring - Eastern Steppes and Mountains\n",
      "45219 CIBBL - Y4, Spring - Elemental Planes\n",
      "45220 CIBBL - Y4, Spring - Empire\n",
      "45221 CIBBL - Y4, Spring - Great Ocean (A)\n",
      "45232 CIBBL - Y4, Spring - Great Ocean (B)\n",
      "45233 CIBBL - Y4, Spring - Haunted Hills\n",
      "45234 CIBBL - Y4, Spring - Ind, Lumbria, Khuresh\n",
      "45235 CIBBL - Y4, Spring - Land of the Dead\n",
      "45236 CIBBL - Y4, Spring - Old World\n",
      "45237 CIBBL - Y4, Spring - Realms of Chaos\n",
      "45238 CIBBL - Y4, Spring - Skavenblight\n",
      "45239 CIBBL - Y4, Spring - Southlands and Araby\n",
      "45240 CIBBL - Y4, Spring - Sylvania\n",
      "45241 CIBBL - Y4, Spring - Ulthuan & Naggaroth\n",
      "45242 CIBBL - Y4, Spring - World Edge Caverns\n",
      "45568 CIBBL - Y4, Summer - SCRIBBL Climax Qualifier I\n",
      "45569 CIBBL - Y4, Summer - SCRIBBL Climax Qualifier II\n",
      "45570 CIBBL - Y4, Summer - SCRIBBL Climax Qualifier III\n",
      "45571 CIBBL - Y4, Summer - SCRIBBL Climax Qualifier IV\n",
      "45572 CIBBL - Y4, Summer - SCRIBBL Climax Qualifier V\n",
      "45573 CIBBL - Y4, Summer - SCRIBBL Climax Qualifier VI\n",
      "45574 CIBBL - Y4, Summer - SCRIBBL Climax Qualifier VII\n",
      "45575 CIBBL - Y4, Summer - SCRIBBL Climax Qualifier VIII\n",
      "45577 CIBBL - Y4, Summer - SCRIBBL Climax Qualifier IX\n",
      "45586 CIBBL - Y4, Summer - SCRIBBL Climax Qualifier X\n",
      "45662 CIBBL - Y4, Summer - Youngbloods XIV\n",
      "45878 CIBBL - Y4, Autumn - Cloth Division\n",
      "45879 CIBBL - Y4, Autumn - Wood Division\n",
      "45880 CIBBL - Y4, Autumn - Clay Division\n",
      "45881 CIBBL - Y4, Autumn - Granite Division\n",
      "45882 CIBBL - Y4, Autumn - Marble Division\n",
      "45883 CIBBL - Y4, Autumn - Iron Division\n",
      "45884 CIBBL - Y4, Autumn - Tin Division\n",
      "45885 CIBBL - Y4, Autumn - Copper Division\n",
      "45886 CIBBL - Y4, Autumn - Bronze Division\n",
      "45887 CIBBL - Y4, Autumn - Silver Division\n",
      "45888 CIBBL - Y4, Autumn - Gold Division\n",
      "46022 CIBBL - Y4, Autumn - Youngbloods XV\n",
      "46047 CIBBL - Y4, Autumn - Youngbloods XVI\n",
      "46299 CIBBL - Y5, Winter - Friendlies (High)\n",
      "46300 CIBBL - Y5, Winter - Friendlies (Mid)\n",
      "46301 CIBBL - Y5, Winter - Friendlies (Low)\n",
      "46389 CIBBL - Y5, Spring - Albion and Norsca\n",
      "46390 CIBBL - Y5, Spring - Athel Loren\n",
      "46391 CIBBL - Y5, Spring - Cathay and Nippon\n",
      "46392 CIBBL - Y5, Spring - The Chaos Wastelands\n",
      "46393 CIBBL - Y5, Spring - The Dark Lands\n",
      "46394 CIBBL - Y5, Spring - The Deep Caverns\n",
      "46395 CIBBL - Y5, Spring - Eastern Steppes and Mountains\n",
      "46396 CIBBL - Y5, Spring - Elemental Planes\n",
      "46397 CIBBL - Y5, Spring - The Empire\n",
      "46398 CIBBL - Y5, Spring - The Great Ocean\n",
      "46399 CIBBL - Y5, Spring - The Haunted Hills\n",
      "46400 CIBBL - Y5, Spring - Ind, Lumbria & Khuresh\n",
      "46401 CIBBL - Y5, Spring - Lands of the Dead\n",
      "46402 CIBBL - Y5, Spring - Lustria [A]\n",
      "46403 CIBBL - Y5, Spring - Lustria [B]\n",
      "46404 CIBBL - Y5, Spring - The Old World\n",
      "46405 CIBBL - Y5, Spring - The Realms of Chaos\n",
      "46406 CIBBL - Y5, Spring - Skavenblight\n",
      "46407 CIBBL - Y5, Spring - The Southlands and Araby\n",
      "46408 CIBBL - Y5, Spring - Sylvania\n",
      "46409 CIBBL - Y5, Spring - Ulthuan and Naggaroth\n",
      "46410 CIBBL - Y5, Spring - World Edge Mountains [A]\n",
      "46411 CIBBL - Y5, Spring - World Edge Mountains [B]\n",
      "46505 CIBBL - Y5, Spring - Youngbloods XVII\n",
      "46687 CIBBL - Y5, Summer - SCRIBBL Climax - West\n",
      "46688 CIBBL - Y5, Summer - SCRIBBL Climax - East\n",
      "46705 CIBBL - Y5, Summer - Mammoth Gate\n",
      "46706 CIBBL - Y5, Summer - Twin Gates [Black]\n",
      "46707 CIBBL - Y5, Summer - Twin Gates [White]\n",
      "46708 CIBBL - Y5, Summer - Feather's Gate\n",
      "46709 CIBBL - Y5, Summer - Sleeper's Gate\n"
     ]
    },
    {
     "name": "stdout",
     "output_type": "stream",
     "text": [
      "46710 CIBBL - Y5, Summer - Lost Gate\n",
      "46711 CIBBL - Y5, Summer - Mushroom Gate\n",
      "47062 CIBBL - Y5, Summer - SCRIBBL Climax - Final\n"
     ]
    }
   ],
   "source": [
    "for T in li:\n",
    "    print(T.ID, T.name)\n",
    "    S = T.calculate_standings()\n",
    "    T.set_standings_data(S)"
   ]
  },
  {
   "cell_type": "code",
   "execution_count": 10,
   "metadata": {},
   "outputs": [
    {
     "name": "stdout",
     "output_type": "stream",
     "text": [
      "(854507, 'Coven of the Mirrored Hall', 'L', -1, 5)\n",
      "(867862, 'Everlasting Vultures of Settra', 'W', 1, -5)\n",
      "(854507, 'Coven of the Mirrored Hall', 'W', 1, -1)\n",
      "(859111, 'Dandaka Devas', 'L', -1, 1)\n",
      "(873759, 'Knightly Virtues', 'W', 1, 0)\n",
      "(865063, 'Oyxl Great Pyramid Heroes', 'L', -1, 0)\n",
      "(873759, 'Knightly Virtues', 'L', -2, 1)\n",
      "(867862, 'Everlasting Vultures of Settra', 'W', 2, -1)\n",
      "(864209, 'Gnarly Surf Mob', 'L', -3, -4)\n",
      "(871172, 'Nachthafen Nightlords', 'W', 3, 4)\n",
      "(866253, \"Queen Khalida's Killers\", 'D', 0, -1)\n",
      "(870410, \"Settra's Goats\", 'D', 0, 1)\n",
      "(866253, \"Queen Khalida's Killers\", 'L', -1, 0)\n",
      "(872475, 'True Roots of Khaine', 'W', 1, 0)\n",
      "(867030, 'Sport Spawning Zlatlan', 'L', -1, -2)\n",
      "(868977, 'Athel Loren Red Saplings', 'W', 1, 2)\n",
      "(867030, 'Sport Spawning Zlatlan', 'W', 2, 0)\n",
      "(872475, 'True Roots of Khaine', 'L', -2, 0)\n",
      "(868977, 'Athel Loren Red Saplings', 'L', -2, -2)\n",
      "(871312, 'Tower of the Necromancer', 'W', 2, 2)\n",
      "(871172, 'Nachthafen Nightlords', 'W', 4, -1)\n",
      "(859111, 'Dandaka Devas', 'L', -4, 1)\n"
     ]
    }
   ],
   "source": [
    "for r in cibblbibbl.tournament.tools.individual(T):\n",
    "    print(r)"
   ]
  },
  {
   "cell_type": "code",
   "execution_count": 11,
   "metadata": {},
   "outputs": [
    {
     "name": "stdout",
     "output_type": "stream",
     "text": [
      "{'id': 854678, 'name': 'Lords of the Silent Death', 'perf': 'WDWWL', 'tdd': 4, 'casd': -3, 'pts': 10, 'hth': -1, 'coin': -1}\n",
      "{'id': 874966, 'name': \"Modryn's Midnight Meddlers\", 'perf': 'WLWDW', 'tdd': 3, 'casd': -4, 'pts': 10, 'hth': -1, 'coin': -1}\n",
      "{'id': 878945, 'name': 'Eternal Ecstasy', 'perf': 'WWLWL', 'tdd': 2, 'casd': 8, 'pts': 9, 'hth': -1, 'coin': -1}\n",
      "{'id': 874545, 'name': \"Stone Prince's Men\", 'perf': 'DWDDW', 'tdd': 2, 'casd': -8, 'pts': 9, 'hth': -1, 'coin': -1}\n",
      "{'id': 903654, 'name': 'Scions of Neferata', 'perf': 'WDDLW', 'tdd': 1, 'casd': 4, 'pts': 8, 'hth': -1, 'coin': -1}\n",
      "{'id': 908529, 'name': 'ICBM Warpspawns', 'perf': 'LWWLL', 'tdd': -3, 'casd': 1, 'pts': 6, 'hth': -1, 'coin': -1}\n",
      "{'id': 895929, 'name': \"Fangsnapper's Clawpack\", 'perf': 'LLWDD', 'tdd': 0, 'casd': -2, 'pts': 5, 'hth': -1, 'coin': -1}\n",
      "{'id': 871787, 'name': 'Malignant Curators', 'perf': 'LDLWD', 'tdd': -3, 'casd': 8, 'pts': 5, 'hth': -1, 'coin': -1}\n",
      "{'id': 886114, 'name': 'Eye and Arrow', 'perf': 'LDLLW', 'tdd': -3, 'casd': -11, 'pts': 4, 'hth': -1, 'coin': -1}\n",
      "{'id': 889232, 'name': 'Lost Golems of Grungni', 'perf': 'DLLDL', 'tdd': -3, 'casd': 7, 'pts': 2, 'hth': -1, 'coin': -1}\n"
     ]
    }
   ],
   "source": [
    "for r in cibblbibbl.tournament.tools.base(T):\n",
    "    print(r)"
   ]
  },
  {
   "cell_type": "code",
   "execution_count": 12,
   "metadata": {},
   "outputs": [
    {
     "name": "stdout",
     "output_type": "stream",
     "text": [
      "{'id': 874966, 'name': \"Modryn's Midnight Meddlers\", 'perf': 'WLWDW', 'tdd': 3, 'casd': -4, 'pts': 10, 'hth': 1, 'coin': -1}\n",
      "{'id': 854678, 'name': 'Lords of the Silent Death', 'perf': 'WDWWL', 'tdd': 4, 'casd': -3, 'pts': 10, 'hth': 2, 'coin': -1}\n",
      "{'id': 874545, 'name': \"Stone Prince's Men\", 'perf': 'DWDDW', 'tdd': 2, 'casd': -8, 'pts': 9, 'hth': 1, 'coin': -1}\n",
      "{'id': 878945, 'name': 'Eternal Ecstasy', 'perf': 'WWLWL', 'tdd': 2, 'casd': 8, 'pts': 9, 'hth': 2, 'coin': -1}\n",
      "{'id': 903654, 'name': 'Scions of Neferata', 'perf': 'WDDLW', 'tdd': 1, 'casd': 4, 'pts': 8, 'hth': 0, 'coin': -1}\n",
      "{'id': 908529, 'name': 'ICBM Warpspawns', 'perf': 'LWWLL', 'tdd': -3, 'casd': 1, 'pts': 6, 'hth': 0, 'coin': -1}\n",
      "{'id': 895929, 'name': \"Fangsnapper's Clawpack\", 'perf': 'LLWDD', 'tdd': 0, 'casd': -2, 'pts': 5, 'hth': 1, 'coin': -1}\n",
      "{'id': 871787, 'name': 'Malignant Curators', 'perf': 'LDLWD', 'tdd': -3, 'casd': 8, 'pts': 5, 'hth': 1, 'coin': -1}\n",
      "{'id': 886114, 'name': 'Eye and Arrow', 'perf': 'LDLLW', 'tdd': -3, 'casd': -11, 'pts': 4, 'hth': 0, 'coin': -1}\n",
      "{'id': 889232, 'name': 'Lost Golems of Grungni', 'perf': 'DLLDL', 'tdd': -3, 'casd': 7, 'pts': 2, 'hth': 0, 'coin': -1}\n"
     ]
    }
   ],
   "source": [
    "for r in cibblbibbl.tournament.tools.standings_tieb(T):\n",
    "    print(r)"
   ]
  },
  {
   "cell_type": "code",
   "execution_count": 13,
   "metadata": {},
   "outputs": [],
   "source": [
    "def hth_all(T):\n",
    "  li = []\n",
    "  for S in T.get_api_data_schedule_data():\n",
    "    r_teams = S[\"result\"][\"teams\"]\n",
    "    if S[\"result\"].get(\"id\"):\n",
    "      ID1 = int(r_teams[0][\"id\"])\n",
    "      ID2 = int(r_teams[1][\"id\"])\n",
    "      score1 = r_teams[0][\"score\"]\n",
    "      score2 = r_teams[1][\"score\"]\n",
    "      li.append({ID1: score1, ID2: score2})\n",
    "  return li"
   ]
  },
  {
   "cell_type": "code",
   "execution_count": 13,
   "metadata": {},
   "outputs": [
    {
     "data": {
      "text/plain": [
       "[{871787: 0, 854678: 2},\n",
       " {886114: 2, 903654: 3},\n",
       " {874966: 3, 908529: 1},\n",
       " {878945: 1, 895929: 0},\n",
       " {874545: 1, 889232: 1},\n",
       " {854678: 1, 903654: 1},\n",
       " {878945: 3, 874966: 2},\n",
       " {889232: 0, 908529: 1},\n",
       " {874545: 2, 895929: 1},\n",
       " {886114: 0, 871787: 0},\n",
       " {878945: 2, 854678: 3},\n",
       " {903654: 1, 874545: 1},\n",
       " {908529: 3, 871787: 1},\n",
       " {874966: 2, 889232: 1},\n",
       " {886114: 0, 895929: 2},\n",
       " {854678: 3, 908529: 1},\n",
       " {878945: 2, 903654: 0},\n",
       " {874966: 1, 874545: 1},\n",
       " {895929: 1, 889232: 1},\n",
       " {871787: 2, 886114: 1},\n",
       " {854678: 2, 874966: 3},\n",
       " {878945: 0, 874545: 1},\n",
       " {903654: 4, 908529: 2},\n",
       " {871787: 1, 895929: 1},\n",
       " {889232: 0, 886114: 1}]"
      ]
     },
     "execution_count": 13,
     "metadata": {},
     "output_type": "execute_result"
    }
   ],
   "source": [
    "r_hth=hth_all(T)\n",
    "r_hth"
   ]
  },
  {
   "cell_type": "code",
   "execution_count": 16,
   "metadata": {},
   "outputs": [],
   "source": [
    "def hth_group(hth_all, *team_IDs):\n",
    "    team_IDs = set(team_IDs)\n",
    "    li = [{str(ID): 0} for ID in team_IDs]  # ensure nodes\n",
    "    for r0 in hth_all:\n",
    "        r1 = {str(ID): score for ID, score in r0.items() if ID in team_IDs}\n",
    "        if 1 < len(r1.keys()):\n",
    "            li.append(r1)\n",
    "    return li"
   ]
  },
  {
   "cell_type": "code",
   "execution_count": 16,
   "metadata": {},
   "outputs": [
    {
     "data": {
      "text/plain": [
       "[{'878945': 0}, {'874545': 0}, {'878945': 0, '874545': 1}]"
      ]
     },
     "execution_count": 16,
     "metadata": {},
     "output_type": "execute_result"
    }
   ],
   "source": [
    "r1_hth = hth_group(r_hth, 878945, 874545)\n",
    "r1_hth"
   ]
  },
  {
   "cell_type": "code",
   "execution_count": 17,
   "metadata": {},
   "outputs": [
    {
     "data": {
      "text/plain": [
       "{'874545': 1, '878945': 2}"
      ]
     },
     "execution_count": 17,
     "metadata": {},
     "output_type": "execute_result"
    }
   ],
   "source": [
    "pytourney.tie.hth.calculate(r1_hth)"
   ]
  },
  {
   "cell_type": "code",
   "execution_count": 17,
   "metadata": {},
   "outputs": [],
   "source": [
    "def standings_tieb(T):\n",
    "  r0_hth = hth_all(T)\n",
    "  B = cibblbibbl.tournament.tools.base(T)\n",
    "  B = copy.copy(B)\n",
    "  if not B:\n",
    "    return B\n",
    "  rows = {d[\"id\"]: d for d in B}\n",
    "  hth = {}\n",
    "  curr_hth_teams = set()\n",
    "  pts0 = B[0][\"pts\"]\n",
    "  def apply_hth():\n",
    "    r1_hth = hth_group(r0_hth, *curr_hth_teams)\n",
    "    print(\"*\", r1_hth)\n",
    "    hth = pytourney.tie.hth.calculate(r1_hth)\n",
    "    print(\"**\", hth)\n",
    "    for ID, hth_val in hth.items():\n",
    "        rows[int(ID)][\"hth\"] = hth_val\n",
    "  for r in B:\n",
    "    pts1 = r[\"pts\"]\n",
    "    print(curr_hth_teams, pts0, pts1)\n",
    "    if pts1 == pts0:\n",
    "      curr_hth_teams.add(r[\"id\"])\n",
    "    else:\n",
    "      apply_hth()\n",
    "      curr_hth_teams = {r[\"id\"]}\n",
    "      pts0 = pts1\n",
    "  else:\n",
    "    apply_hth()\n",
    "  return sorted(B, key=T.standings_keyf)"
   ]
  },
  {
   "cell_type": "code",
   "execution_count": 18,
   "metadata": {},
   "outputs": [
    {
     "name": "stdout",
     "output_type": "stream",
     "text": [
      "set() 10 10\n",
      "{854678} 10 10\n",
      "{874966, 854678} 10 9\n",
      "* [{'854678': 0}, {'874966': 0}, {'854678': 2, '874966': 3}]\n",
      "** {'874966': 1, '854678': 2}\n",
      "{878945} 9 9\n",
      "{878945, 874545} 9 8\n",
      "* [{'878945': 0}, {'874545': 0}, {'878945': 0, '874545': 1}]\n",
      "** {'874545': 1, '878945': 2}\n",
      "{903654} 8 6\n",
      "* [{'903654': 0}]\n",
      "** {'903654': 0}\n",
      "{908529} 6 5\n",
      "* [{'908529': 0}]\n",
      "** {'908529': 0}\n",
      "{895929} 5 5\n",
      "{895929, 871787} 5 4\n",
      "* [{'895929': 0}, {'871787': 0}, {'871787': 1, '895929': 1}]\n",
      "** {'895929': 1, '871787': 1}\n",
      "{886114} 4 2\n",
      "* [{'886114': 0}]\n",
      "** {'886114': 0}\n",
      "* [{'889232': 0}]\n",
      "** {'889232': 0}\n"
     ]
    }
   ],
   "source": [
    "a = standings_tieb(T)"
   ]
  },
  {
   "cell_type": "code",
   "execution_count": 9,
   "metadata": {},
   "outputs": [
    {
     "data": {
      "text/plain": [
       "'CIBBL - Y5, Summer - SCRIBBL Climax - West'"
      ]
     },
     "execution_count": 9,
     "metadata": {},
     "output_type": "execute_result"
    }
   ],
   "source": [
    "T.name"
   ]
  },
  {
   "cell_type": "code",
   "execution_count": 10,
   "metadata": {},
   "outputs": [],
   "source": [
    "M = T.matches()[0]"
   ]
  },
  {
   "cell_type": "code",
   "execution_count": 9,
   "metadata": {},
   "outputs": [
    {
     "data": {
      "text/plain": [
       "{'conceded': 'None',\n",
       " 'date': '2016-10-24',\n",
       " 'gate': 12000,\n",
       " 'hasComments': 'false',\n",
       " 'id': 3844774,\n",
       " 'replayId': 901540,\n",
       " 'team1': {'casualties': {'bh': 1, 'rip': 0, 'si': 0},\n",
       "  'coach': {'id': 239684, 'name': 'SunBro'},\n",
       "  'fanfactor': 0,\n",
       "  'gate': 7000,\n",
       "  'id': 856372,\n",
       "  'name': 'Teotiqua Oracles',\n",
       "  'roster': {'id': 922, 'name': 'Skink (CIBBL)'},\n",
       "  'score': 1,\n",
       "  'teamValue': '1010k',\n",
       "  'tournamentWeight': '1150k',\n",
       "  'winnings': 30000},\n",
       " 'team2': {'casualties': {'bh': 1, 'rip': 0, 'si': 0},\n",
       "  'coach': {'id': 239726, 'name': 'CrudeDoodle'},\n",
       "  'fanfactor': 1,\n",
       "  'gate': 5000,\n",
       "  'id': 856203,\n",
       "  'name': 'Southland Scuttlers',\n",
       "  'roster': {'id': 921, 'name': 'Forest Goblin (CIBBL)'},\n",
       "  'score': 2,\n",
       "  'teamValue': '980k',\n",
       "  'tournamentWeight': '1430k',\n",
       "  'winnings': 60000},\n",
       " 'time': '09:08:31',\n",
       " 'tournamentId': 41656}"
      ]
     },
     "execution_count": 9,
     "metadata": {},
     "output_type": "execute_result"
    }
   ],
   "source": [
    "M.get_api_data_data()"
   ]
  },
  {
   "cell_type": "code",
   "execution_count": 10,
   "metadata": {},
   "outputs": [],
   "source": [
    "S = T.get_api_data_schedule_data()[0]"
   ]
  },
  {
   "cell_type": "code",
   "execution_count": 11,
   "metadata": {},
   "outputs": [
    {
     "data": {
      "text/plain": [
       "{'created': '2016-10-10 09:49:20',\n",
       " 'modified': '2016-10-24 09:08:31',\n",
       " 'position': 0,\n",
       " 'result': {'id': 3844774,\n",
       "  'replayId': 901540,\n",
       "  'teams': [{'id': 856203, 'score': 2}, {'id': 856372, 'score': 1}],\n",
       "  'winner': '856203'},\n",
       " 'round': 0,\n",
       " 'teams': [{'id': 856203, 'name': 'Southland Scuttlers'},\n",
       "  {'id': 856372, 'name': 'Teotiqua Oracles'}]}"
      ]
     },
     "execution_count": 11,
     "metadata": {},
     "output_type": "execute_result"
    }
   ],
   "source": [
    "S"
   ]
  },
  {
   "cell_type": "code",
   "execution_count": 12,
   "metadata": {},
   "outputs": [
    {
     "data": {
      "text/plain": [
       "{856203: 'Southland Scuttlers', 856372: 'Teotiqua Oracles'}"
      ]
     },
     "execution_count": 12,
     "metadata": {},
     "output_type": "execute_result"
    }
   ],
   "source": [
    "{d[\"id\"]: d[\"name\"] for d in S[\"teams\"]}"
   ]
  },
  {
   "cell_type": "code",
   "execution_count": 13,
   "metadata": {},
   "outputs": [],
   "source": [
    "TD_diff = S[\"result\"][\"teams\"][0][\"score\"] - S[\"result\"][\"teams\"][1][\"score\"]"
   ]
  },
  {
   "cell_type": "code",
   "execution_count": 14,
   "metadata": {},
   "outputs": [
    {
     "data": {
      "text/plain": [
       "1"
      ]
     },
     "execution_count": 14,
     "metadata": {},
     "output_type": "execute_result"
    }
   ],
   "source": [
    "TD_diff"
   ]
  },
  {
   "cell_type": "code",
   "execution_count": 15,
   "metadata": {},
   "outputs": [],
   "source": [
    "for T in li:\n",
    "    for M in T.matches():\n",
    "        if M.conceded():\n",
    "            break\n",
    "    else:\n",
    "        continue\n",
    "    break"
   ]
  },
  {
   "cell_type": "code",
   "execution_count": 16,
   "metadata": {},
   "outputs": [
    {
     "data": {
      "text/plain": [
       "{'id': 871123, 'name': 'Knights of the Black Grail'}"
      ]
     },
     "execution_count": 16,
     "metadata": {},
     "output_type": "execute_result"
    }
   ],
   "source": [
    "M.conceded()"
   ]
  },
  {
   "cell_type": "code",
   "execution_count": 17,
   "metadata": {},
   "outputs": [
    {
     "data": {
      "text/plain": [
       "{872804: 1, 871123: 0}"
      ]
     },
     "execution_count": 17,
     "metadata": {},
     "output_type": "execute_result"
    }
   ],
   "source": [
    "M.casualties()"
   ]
  },
  {
   "cell_type": "code",
   "execution_count": 18,
   "metadata": {},
   "outputs": [
    {
     "data": {
      "text/plain": [
       "{'conceded': 'Team2',\n",
       " 'date': '2017-04-13',\n",
       " 'gate': 13000,\n",
       " 'hasComments': 'false',\n",
       " 'id': 3894859,\n",
       " 'replayId': 959223,\n",
       " 'team1': {'casualties': {'bh': 1, 'rip': 0, 'si': 0},\n",
       "  'coach': {'id': 21251, 'name': 'wallenstein'},\n",
       "  'fanfactor': 1,\n",
       "  'gate': 7000,\n",
       "  'id': 872804,\n",
       "  'name': 'Zutzendorf Stallions',\n",
       "  'roster': {'id': 1288, 'name': 'Half-Elf (BIBBL)'},\n",
       "  'score': 1,\n",
       "  'teamValue': '1180k',\n",
       "  'tournamentWeight': '2010k',\n",
       "  'winnings': 120000},\n",
       " 'team2': {'casualties': {'bh': 0, 'rip': 0, 'si': 0},\n",
       "  'coach': {'id': 34352, 'name': 'Mr_Fantastic'},\n",
       "  'fanfactor': -1,\n",
       "  'gate': 6000,\n",
       "  'id': 871123,\n",
       "  'name': 'Knights of the Black Grail',\n",
       "  'roster': {'id': 928, 'name': 'Blood Dragon (CIBBL)'},\n",
       "  'score': 0,\n",
       "  'teamValue': '1110k',\n",
       "  'tournamentWeight': '1100k',\n",
       "  'winnings': 0},\n",
       " 'time': '18:59:19',\n",
       " 'tournamentId': 42806}"
      ]
     },
     "execution_count": 18,
     "metadata": {},
     "output_type": "execute_result"
    }
   ],
   "source": [
    "M.get_api_data_data()"
   ]
  },
  {
   "cell_type": "code",
   "execution_count": 19,
   "metadata": {},
   "outputs": [],
   "source": [
    "d2 = _[\"team1\"]"
   ]
  },
  {
   "cell_type": "code",
   "execution_count": 22,
   "metadata": {},
   "outputs": [
    {
     "data": {
      "text/plain": [
       "1"
      ]
     },
     "execution_count": 22,
     "metadata": {},
     "output_type": "execute_result"
    }
   ],
   "source": [
    "sum(d2[\"casualties\"].values())"
   ]
  },
  {
   "cell_type": "code",
   "execution_count": 10,
   "metadata": {},
   "outputs": [],
   "source": [
    "filler = cibblbibbl.settings[\"filler_teams\"]"
   ]
  },
  {
   "cell_type": "code",
   "execution_count": 11,
   "metadata": {},
   "outputs": [
    {
     "data": {
      "text/plain": [
       "[873667, 873668, 873669, 873670, 886092]"
      ]
     },
     "execution_count": 11,
     "metadata": {},
     "output_type": "execute_result"
    }
   ],
   "source": [
    "filler"
   ]
  },
  {
   "cell_type": "code",
   "execution_count": null,
   "metadata": {},
   "outputs": [],
   "source": []
  }
 ],
 "metadata": {
  "kernelspec": {
   "display_name": "Python 3",
   "language": "python",
   "name": "python3"
  },
  "language_info": {
   "codemirror_mode": {
    "name": "ipython",
    "version": 3
   },
   "file_extension": ".py",
   "mimetype": "text/x-python",
   "name": "python",
   "nbconvert_exporter": "python",
   "pygments_lexer": "ipython3",
   "version": "3.7.3"
  }
 },
 "nbformat": 4,
 "nbformat_minor": 2
}
